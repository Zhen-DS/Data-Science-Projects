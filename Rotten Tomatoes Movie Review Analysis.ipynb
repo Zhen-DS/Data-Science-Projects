{
 "cells": [
  {
   "cell_type": "markdown",
   "id": "131049f3",
   "metadata": {},
   "source": [
    "We referenced python scripts provided by the professor and the class to complete this project."
   ]
  },
  {
   "cell_type": "markdown",
   "id": "54cdee82",
   "metadata": {},
   "source": [
    "### Introduction\n",
    "\n",
    "In this project, we will be conducting sentiment analysis on Kaggle's Movie Review Phrase data. The dataset is comprised of tab-separated files with phrases generated from reviews on the Rotten Tomatoes website. We will be only using the train.tsv file provided by Kaggle to perform our analysis and will evaluate the results using 3-fold cross validation.\n",
    "\n",
    "The train data set includes Sentence ID, Phrase ID, Phrase and the Sentiment label associated with each phrase. There are no duplicate phrases in the data set. The sentiment labels were manually anotated using crowd-sourcing, and the values are listed below:\n",
    "\n",
    "0 - negative\n",
    "1 - somewhat negative\n",
    "2 - neutral\n",
    "3 - somewhat positive\n",
    "4 - positive"
   ]
  },
  {
   "cell_type": "code",
   "execution_count": 1,
   "id": "f465a884",
   "metadata": {},
   "outputs": [],
   "source": [
    "#loading libraries\n",
    "import pandas as pd\n",
    "from pandas import Series, DataFrame\n",
    "import numpy as np\n",
    "import re\n",
    "import random\n",
    "import nltk"
   ]
  },
  {
   "cell_type": "code",
   "execution_count": 2,
   "id": "d4c47986",
   "metadata": {},
   "outputs": [],
   "source": [
    "from sklearn.model_selection import cross_val_score\n",
    "from sklearn import preprocessing\n",
    "from sklearn.naive_bayes import MultinomialNB\n",
    "from sklearn.svm import LinearSVC\n",
    "from sklearn.ensemble import RandomForestClassifier\n",
    "from sklearn.linear_model import LogisticRegression\n",
    "from sklearn.model_selection import cross_val_predict\n",
    "from sklearn.metrics import classification_report\n",
    "from sklearn.metrics import confusion_matrix\n",
    "from sklearn.model_selection import train_test_split\n",
    "from sklearn.model_selection import GridSearchCV\n",
    "from sklearn.model_selection import RandomizedSearchCV"
   ]
  },
  {
   "cell_type": "code",
   "execution_count": 6,
   "id": "5717a709",
   "metadata": {},
   "outputs": [],
   "source": [
    "#read Kaggle's train data set\n",
    "#the file address below needs to be updated when accessing by different users\n",
    "train_address = '/Users/zhen/Documents/DS@Syracuse/Q3/IST 664/Project/train.tsv'\n",
    "\n",
    "train = pd.read_csv(train_address, sep='\\t')"
   ]
  },
  {
   "cell_type": "code",
   "execution_count": 7,
   "id": "c78592ba",
   "metadata": {},
   "outputs": [
    {
     "data": {
      "text/html": [
       "<div>\n",
       "<style scoped>\n",
       "    .dataframe tbody tr th:only-of-type {\n",
       "        vertical-align: middle;\n",
       "    }\n",
       "\n",
       "    .dataframe tbody tr th {\n",
       "        vertical-align: top;\n",
       "    }\n",
       "\n",
       "    .dataframe thead th {\n",
       "        text-align: right;\n",
       "    }\n",
       "</style>\n",
       "<table border=\"1\" class=\"dataframe\">\n",
       "  <thead>\n",
       "    <tr style=\"text-align: right;\">\n",
       "      <th></th>\n",
       "      <th>PhraseId</th>\n",
       "      <th>SentenceId</th>\n",
       "      <th>Phrase</th>\n",
       "      <th>Sentiment</th>\n",
       "    </tr>\n",
       "  </thead>\n",
       "  <tbody>\n",
       "    <tr>\n",
       "      <th>0</th>\n",
       "      <td>1</td>\n",
       "      <td>1</td>\n",
       "      <td>A series of escapades demonstrating the adage ...</td>\n",
       "      <td>1</td>\n",
       "    </tr>\n",
       "    <tr>\n",
       "      <th>1</th>\n",
       "      <td>2</td>\n",
       "      <td>1</td>\n",
       "      <td>A series of escapades demonstrating the adage ...</td>\n",
       "      <td>2</td>\n",
       "    </tr>\n",
       "    <tr>\n",
       "      <th>2</th>\n",
       "      <td>3</td>\n",
       "      <td>1</td>\n",
       "      <td>A series</td>\n",
       "      <td>2</td>\n",
       "    </tr>\n",
       "    <tr>\n",
       "      <th>3</th>\n",
       "      <td>4</td>\n",
       "      <td>1</td>\n",
       "      <td>A</td>\n",
       "      <td>2</td>\n",
       "    </tr>\n",
       "    <tr>\n",
       "      <th>4</th>\n",
       "      <td>5</td>\n",
       "      <td>1</td>\n",
       "      <td>series</td>\n",
       "      <td>2</td>\n",
       "    </tr>\n",
       "    <tr>\n",
       "      <th>...</th>\n",
       "      <td>...</td>\n",
       "      <td>...</td>\n",
       "      <td>...</td>\n",
       "      <td>...</td>\n",
       "    </tr>\n",
       "    <tr>\n",
       "      <th>156055</th>\n",
       "      <td>156056</td>\n",
       "      <td>8544</td>\n",
       "      <td>Hearst 's</td>\n",
       "      <td>2</td>\n",
       "    </tr>\n",
       "    <tr>\n",
       "      <th>156056</th>\n",
       "      <td>156057</td>\n",
       "      <td>8544</td>\n",
       "      <td>forced avuncular chortles</td>\n",
       "      <td>1</td>\n",
       "    </tr>\n",
       "    <tr>\n",
       "      <th>156057</th>\n",
       "      <td>156058</td>\n",
       "      <td>8544</td>\n",
       "      <td>avuncular chortles</td>\n",
       "      <td>3</td>\n",
       "    </tr>\n",
       "    <tr>\n",
       "      <th>156058</th>\n",
       "      <td>156059</td>\n",
       "      <td>8544</td>\n",
       "      <td>avuncular</td>\n",
       "      <td>2</td>\n",
       "    </tr>\n",
       "    <tr>\n",
       "      <th>156059</th>\n",
       "      <td>156060</td>\n",
       "      <td>8544</td>\n",
       "      <td>chortles</td>\n",
       "      <td>2</td>\n",
       "    </tr>\n",
       "  </tbody>\n",
       "</table>\n",
       "<p>156060 rows × 4 columns</p>\n",
       "</div>"
      ],
      "text/plain": [
       "        PhraseId  SentenceId  \\\n",
       "0              1           1   \n",
       "1              2           1   \n",
       "2              3           1   \n",
       "3              4           1   \n",
       "4              5           1   \n",
       "...          ...         ...   \n",
       "156055    156056        8544   \n",
       "156056    156057        8544   \n",
       "156057    156058        8544   \n",
       "156058    156059        8544   \n",
       "156059    156060        8544   \n",
       "\n",
       "                                                   Phrase  Sentiment  \n",
       "0       A series of escapades demonstrating the adage ...          1  \n",
       "1       A series of escapades demonstrating the adage ...          2  \n",
       "2                                                A series          2  \n",
       "3                                                       A          2  \n",
       "4                                                  series          2  \n",
       "...                                                   ...        ...  \n",
       "156055                                          Hearst 's          2  \n",
       "156056                          forced avuncular chortles          1  \n",
       "156057                                 avuncular chortles          3  \n",
       "156058                                          avuncular          2  \n",
       "156059                                           chortles          2  \n",
       "\n",
       "[156060 rows x 4 columns]"
      ]
     },
     "execution_count": 7,
     "metadata": {},
     "output_type": "execute_result"
    }
   ],
   "source": [
    "#examine the train set\n",
    "train"
   ]
  },
  {
   "cell_type": "code",
   "execution_count": 8,
   "id": "9f13c2dc",
   "metadata": {},
   "outputs": [
    {
     "data": {
      "text/plain": [
       "array([0, 1, 2, 3, 4])"
      ]
     },
     "execution_count": 8,
     "metadata": {},
     "output_type": "execute_result"
    }
   ],
   "source": [
    "#check the values in Sentiment variable\n",
    "np.unique(train.Sentiment)"
   ]
  },
  {
   "cell_type": "markdown",
   "id": "a5c9e3f6",
   "metadata": {},
   "source": [
    "As shown above, the data set includes 156,060 observations, and 4 variables PhraseID, SentenceID, Phrase and Sentiment. The Sentiment variable includes five classes from 0 to 4."
   ]
  },
  {
   "cell_type": "code",
   "execution_count": 9,
   "id": "4ca1e21b",
   "metadata": {},
   "outputs": [
    {
     "data": {
      "text/plain": [
       "PhraseId      0\n",
       "SentenceId    0\n",
       "Phrase        0\n",
       "Sentiment     0\n",
       "dtype: int64"
      ]
     },
     "execution_count": 9,
     "metadata": {},
     "output_type": "execute_result"
    }
   ],
   "source": [
    "#check if there are null values in train set\n",
    "train.isnull().sum() #results below indicate there are no null values"
   ]
  },
  {
   "cell_type": "code",
   "execution_count": 10,
   "id": "fd0809e7",
   "metadata": {},
   "outputs": [
    {
     "name": "stdout",
     "output_type": "stream",
     "text": [
      "A series of escapades demonstrating the adage that what is good for the goose is also good for the gander , some of which occasionally amuses but none of which amounts to much of a story .\n"
     ]
    }
   ],
   "source": [
    "#review the first phrase\n",
    "print(train.Phrase[0])"
   ]
  },
  {
   "cell_type": "code",
   "execution_count": 11,
   "id": "165e83b2",
   "metadata": {},
   "outputs": [
    {
     "data": {
      "text/plain": [
       "2    79582\n",
       "3    32927\n",
       "1    27273\n",
       "4     9206\n",
       "0     7072\n",
       "Name: Sentiment, dtype: int64"
      ]
     },
     "execution_count": 11,
     "metadata": {},
     "output_type": "execute_result"
    }
   ],
   "source": [
    "#review how many observations are in each Sentiment class\n",
    "train['Sentiment'].value_counts()"
   ]
  },
  {
   "cell_type": "code",
   "execution_count": 12,
   "id": "50907234",
   "metadata": {},
   "outputs": [
    {
     "data": {
      "text/plain": [
       "2    0.509945\n",
       "3    0.210989\n",
       "1    0.174760\n",
       "4    0.058990\n",
       "0    0.045316\n",
       "Name: Sentiment, dtype: float64"
      ]
     },
     "execution_count": 12,
     "metadata": {},
     "output_type": "execute_result"
    }
   ],
   "source": [
    "#review the normalized results\n",
    "train['Sentiment'].value_counts(normalize = True)"
   ]
  },
  {
   "cell_type": "markdown",
   "id": "9cbf6c87",
   "metadata": {},
   "source": [
    "As shown above, the dataset is imbalanced where around 50% of the observations belong to class 2, and only around 5% of the observations belong to class 4 and 0."
   ]
  },
  {
   "cell_type": "markdown",
   "id": "9f6c1c2d",
   "metadata": {},
   "source": [
    "### Visualizations"
   ]
  },
  {
   "cell_type": "markdown",
   "id": "74c29605",
   "metadata": {},
   "source": [
    "We then created some visualizations."
   ]
  },
  {
   "cell_type": "code",
   "execution_count": 13,
   "id": "7b8dd8e0",
   "metadata": {},
   "outputs": [],
   "source": [
    "import seaborn as sb\n",
    "import matplotlib.pylab as plt\n",
    "sb.set_style('whitegrid')"
   ]
  },
  {
   "cell_type": "code",
   "execution_count": 14,
   "id": "f621b452",
   "metadata": {},
   "outputs": [
    {
     "data": {
      "text/plain": [
       "<AxesSubplot:xlabel='Sentiment Value', ylabel='Frequency'>"
      ]
     },
     "execution_count": 14,
     "metadata": {},
     "output_type": "execute_result"
    },
    {
     "data": {
      "image/png": "[encoded data removed]",
      "text/plain": [
       "<Figure size 432x288 with 1 Axes>"
      ]
     },
     "metadata": {},
     "output_type": "display_data"
    }
   ],
   "source": [
    "#create a bar plot to visualize how many observations/phrases are in each sentiment class\n",
    "senplot = train['Sentiment'].value_counts()\n",
    "senplot.plot(kind='bar', xlabel='Sentiment Value', ylabel='Frequency')"
   ]
  },
  {
   "cell_type": "markdown",
   "id": "25ceeba8",
   "metadata": {},
   "source": [
    "We added a phrase length conlumn based for regular Phrase column, and created visualizations to show some basic statistics."
   ]
  },
  {
   "cell_type": "code",
   "execution_count": 15,
   "id": "e82aa078",
   "metadata": {},
   "outputs": [],
   "source": [
    "#add Phrase_len column that saves the length of each phrase\n",
    "train['Phrase_len'] = train.Phrase.apply(len)"
   ]
  },
  {
   "cell_type": "code",
   "execution_count": 16,
   "id": "ef39de12",
   "metadata": {},
   "outputs": [
    {
     "data": {
      "text/plain": [
       "<AxesSubplot:ylabel='Frequency'>"
      ]
     },
     "execution_count": 16,
     "metadata": {},
     "output_type": "execute_result"
    },
    {
     "data": {
      "image/png": "[encoded data removed]",
      "text/plain": [
       "<Figure size 432x288 with 1 Axes>"
      ]
     },
     "metadata": {},
     "output_type": "display_data"
    }
   ],
   "source": [
    "#create a histogram for phrase length\n",
    "train['Phrase_len'].plot(kind='hist')"
   ]
  },
  {
   "cell_type": "code",
   "execution_count": 17,
   "id": "c95de966",
   "metadata": {},
   "outputs": [
    {
     "data": {
      "text/plain": [
       "<AxesSubplot:xlabel='Sentiment', ylabel='Phrase_len'>"
      ]
     },
     "execution_count": 17,
     "metadata": {},
     "output_type": "execute_result"
    },
    {
     "data": {
      "image/png": "[encoded data removed]",
      "text/plain": [
       "<Figure size 432x288 with 1 Axes>"
      ]
     },
     "metadata": {},
     "output_type": "display_data"
    }
   ],
   "source": [
    "#create a boxplot to show distribution of phrase length in each sentiment class\n",
    "sb.boxplot(x='Sentiment',y='Phrase_len', data = train, palette='hls')"
   ]
  },
  {
   "cell_type": "markdown",
   "id": "796747ed",
   "metadata": {},
   "source": [
    "#### Preprocessing"
   ]
  },
  {
   "cell_type": "markdown",
   "id": "34a0111e",
   "metadata": {},
   "source": [
    "First, we would like to remove punctuation from each phrase"
   ]
  },
  {
   "cell_type": "code",
   "execution_count": 18,
   "id": "f3413ff2",
   "metadata": {},
   "outputs": [],
   "source": [
    "#create punctuation list that we wanted to remove from the text\n",
    "punctuation = [\",\",\".\",\"?\",\"!\",\":\",\";\",'--',\"''\",'``','&',\"(\",\")\",'...','\\\\','//','*',\"'\",'`','$','-']"
   ]
  },
  {
   "cell_type": "code",
   "execution_count": 19,
   "id": "165a1d0f",
   "metadata": {},
   "outputs": [],
   "source": [
    "#create function that can simplify text by removing any punctuation in the list we creatd above\n",
    "def simplify_text(text):\n",
    "    \n",
    "    remove_punct = [c for c in text.split() if c not in punctuation]\n",
    "    no_punc = ' '.join(remove_punct)\n",
    "    \n",
    "    return no_punc"
   ]
  },
  {
   "cell_type": "code",
   "execution_count": 20,
   "id": "30e45240",
   "metadata": {},
   "outputs": [],
   "source": [
    "#apply the function to Phrase column\n",
    "train['Phrase'] = train.Phrase.apply(simplify_text)"
   ]
  },
  {
   "cell_type": "code",
   "execution_count": 18,
   "id": "4060f8de",
   "metadata": {},
   "outputs": [
    {
     "name": "stdout",
     "output_type": "stream",
     "text": [
      "A series of escapades demonstrating the adage that what is good for the goose is also good for the gander some of which occasionally amuses but none of which amounts to much of a story\n"
     ]
    }
   ],
   "source": [
    "#check the first phrase again\n",
    "print(train.Phrase[0])"
   ]
  },
  {
   "cell_type": "markdown",
   "id": "fcea1b84",
   "metadata": {},
   "source": [
    "Then, we created a new column for stemmed Phrases"
   ]
  },
  {
   "cell_type": "code",
   "execution_count": 19,
   "id": "ccac1243",
   "metadata": {},
   "outputs": [],
   "source": [
    "#create a fucntion that performs text stemming using the Porter Stemmer\n",
    "def text_stemming(text):\n",
    "    \n",
    "    porter = nltk.PorterStemmer()\n",
    "    \n",
    "    Stem = [porter.stem(t) for t in text.split()] \n",
    "    \n",
    "    return ' '.join(Stem)"
   ]
  },
  {
   "cell_type": "code",
   "execution_count": 20,
   "id": "96b6f14d",
   "metadata": {},
   "outputs": [],
   "source": [
    "#apply the function to Phrase column and add results to a new column\n",
    "train['Stemmed_Phrase'] = train.Phrase.apply(text_stemming)"
   ]
  },
  {
   "cell_type": "code",
   "execution_count": 21,
   "id": "9ef66ddc",
   "metadata": {},
   "outputs": [],
   "source": [
    "#we would like to drop rows that no longer have text in Phrase columns \n",
    "train = train.replace(r'^s*$','NaN',regex=True)\n",
    "train = train[train['Phrase']!= 'NaN']\n",
    "train = train[train['Stemmed_Phrase']!= 'NaN']"
   ]
  },
  {
   "cell_type": "code",
   "execution_count": 22,
   "id": "ac87cf97",
   "metadata": {},
   "outputs": [
    {
     "data": {
      "text/html": [
       "<div>\n",
       "<style scoped>\n",
       "    .dataframe tbody tr th:only-of-type {\n",
       "        vertical-align: middle;\n",
       "    }\n",
       "\n",
       "    .dataframe tbody tr th {\n",
       "        vertical-align: top;\n",
       "    }\n",
       "\n",
       "    .dataframe thead th {\n",
       "        text-align: right;\n",
       "    }\n",
       "</style>\n",
       "<table border=\"1\" class=\"dataframe\">\n",
       "  <thead>\n",
       "    <tr style=\"text-align: right;\">\n",
       "      <th></th>\n",
       "      <th>PhraseId</th>\n",
       "      <th>SentenceId</th>\n",
       "      <th>Phrase</th>\n",
       "      <th>Sentiment</th>\n",
       "      <th>Phrase_len</th>\n",
       "      <th>Stemmed_Phrase</th>\n",
       "    </tr>\n",
       "  </thead>\n",
       "  <tbody>\n",
       "    <tr>\n",
       "      <th>0</th>\n",
       "      <td>1</td>\n",
       "      <td>1</td>\n",
       "      <td>A series of escapades demonstrating the adage ...</td>\n",
       "      <td>1</td>\n",
       "      <td>188</td>\n",
       "      <td>a seri of escapad demonstr the adag that what ...</td>\n",
       "    </tr>\n",
       "    <tr>\n",
       "      <th>1</th>\n",
       "      <td>2</td>\n",
       "      <td>1</td>\n",
       "      <td>A series of escapades demonstrating the adage ...</td>\n",
       "      <td>2</td>\n",
       "      <td>77</td>\n",
       "      <td>a seri of escapad demonstr the adag that what ...</td>\n",
       "    </tr>\n",
       "    <tr>\n",
       "      <th>2</th>\n",
       "      <td>3</td>\n",
       "      <td>1</td>\n",
       "      <td>A series</td>\n",
       "      <td>2</td>\n",
       "      <td>8</td>\n",
       "      <td>a seri</td>\n",
       "    </tr>\n",
       "    <tr>\n",
       "      <th>3</th>\n",
       "      <td>4</td>\n",
       "      <td>1</td>\n",
       "      <td>A</td>\n",
       "      <td>2</td>\n",
       "      <td>1</td>\n",
       "      <td>a</td>\n",
       "    </tr>\n",
       "    <tr>\n",
       "      <th>4</th>\n",
       "      <td>5</td>\n",
       "      <td>1</td>\n",
       "      <td>series</td>\n",
       "      <td>2</td>\n",
       "      <td>6</td>\n",
       "      <td>seri</td>\n",
       "    </tr>\n",
       "    <tr>\n",
       "      <th>...</th>\n",
       "      <td>...</td>\n",
       "      <td>...</td>\n",
       "      <td>...</td>\n",
       "      <td>...</td>\n",
       "      <td>...</td>\n",
       "      <td>...</td>\n",
       "    </tr>\n",
       "    <tr>\n",
       "      <th>156055</th>\n",
       "      <td>156056</td>\n",
       "      <td>8544</td>\n",
       "      <td>Hearst 's</td>\n",
       "      <td>2</td>\n",
       "      <td>9</td>\n",
       "      <td>hearst 's</td>\n",
       "    </tr>\n",
       "    <tr>\n",
       "      <th>156056</th>\n",
       "      <td>156057</td>\n",
       "      <td>8544</td>\n",
       "      <td>forced avuncular chortles</td>\n",
       "      <td>1</td>\n",
       "      <td>25</td>\n",
       "      <td>forc avuncular chortl</td>\n",
       "    </tr>\n",
       "    <tr>\n",
       "      <th>156057</th>\n",
       "      <td>156058</td>\n",
       "      <td>8544</td>\n",
       "      <td>avuncular chortles</td>\n",
       "      <td>3</td>\n",
       "      <td>18</td>\n",
       "      <td>avuncular chortl</td>\n",
       "    </tr>\n",
       "    <tr>\n",
       "      <th>156058</th>\n",
       "      <td>156059</td>\n",
       "      <td>8544</td>\n",
       "      <td>avuncular</td>\n",
       "      <td>2</td>\n",
       "      <td>9</td>\n",
       "      <td>avuncular</td>\n",
       "    </tr>\n",
       "    <tr>\n",
       "      <th>156059</th>\n",
       "      <td>156060</td>\n",
       "      <td>8544</td>\n",
       "      <td>chortles</td>\n",
       "      <td>2</td>\n",
       "      <td>8</td>\n",
       "      <td>chortl</td>\n",
       "    </tr>\n",
       "  </tbody>\n",
       "</table>\n",
       "<p>156043 rows × 6 columns</p>\n",
       "</div>"
      ],
      "text/plain": [
       "        PhraseId  SentenceId  \\\n",
       "0              1           1   \n",
       "1              2           1   \n",
       "2              3           1   \n",
       "3              4           1   \n",
       "4              5           1   \n",
       "...          ...         ...   \n",
       "156055    156056        8544   \n",
       "156056    156057        8544   \n",
       "156057    156058        8544   \n",
       "156058    156059        8544   \n",
       "156059    156060        8544   \n",
       "\n",
       "                                                   Phrase  Sentiment  \\\n",
       "0       A series of escapades demonstrating the adage ...          1   \n",
       "1       A series of escapades demonstrating the adage ...          2   \n",
       "2                                                A series          2   \n",
       "3                                                       A          2   \n",
       "4                                                  series          2   \n",
       "...                                                   ...        ...   \n",
       "156055                                          Hearst 's          2   \n",
       "156056                          forced avuncular chortles          1   \n",
       "156057                                 avuncular chortles          3   \n",
       "156058                                          avuncular          2   \n",
       "156059                                           chortles          2   \n",
       "\n",
       "        Phrase_len                                     Stemmed_Phrase  \n",
       "0              188  a seri of escapad demonstr the adag that what ...  \n",
       "1               77  a seri of escapad demonstr the adag that what ...  \n",
       "2                8                                             a seri  \n",
       "3                1                                                  a  \n",
       "4                6                                               seri  \n",
       "...            ...                                                ...  \n",
       "156055           9                                          hearst 's  \n",
       "156056          25                              forc avuncular chortl  \n",
       "156057          18                                   avuncular chortl  \n",
       "156058           9                                          avuncular  \n",
       "156059           8                                             chortl  \n",
       "\n",
       "[156043 rows x 6 columns]"
      ]
     },
     "execution_count": 22,
     "metadata": {},
     "output_type": "execute_result"
    }
   ],
   "source": [
    "#review the final train set\n",
    "train"
   ]
  },
  {
   "cell_type": "code",
   "execution_count": 23,
   "id": "b0895de8",
   "metadata": {},
   "outputs": [
    {
     "data": {
      "text/plain": [
       "2    79566\n",
       "3    32927\n",
       "1    27272\n",
       "4     9206\n",
       "0     7072\n",
       "Name: Sentiment, dtype: int64"
      ]
     },
     "execution_count": 23,
     "metadata": {},
     "output_type": "execute_result"
    }
   ],
   "source": [
    "#check the observations in each sentiment class\n",
    "train['Sentiment'].value_counts() "
   ]
  },
  {
   "cell_type": "code",
   "execution_count": 24,
   "id": "686b310d",
   "metadata": {
    "scrolled": true
   },
   "outputs": [
    {
     "data": {
      "text/html": [
       "<div>\n",
       "<style scoped>\n",
       "    .dataframe tbody tr th:only-of-type {\n",
       "        vertical-align: middle;\n",
       "    }\n",
       "\n",
       "    .dataframe tbody tr th {\n",
       "        vertical-align: top;\n",
       "    }\n",
       "\n",
       "    .dataframe thead th {\n",
       "        text-align: right;\n",
       "    }\n",
       "</style>\n",
       "<table border=\"1\" class=\"dataframe\">\n",
       "  <thead>\n",
       "    <tr style=\"text-align: right;\">\n",
       "      <th></th>\n",
       "      <th>PhraseId</th>\n",
       "      <th>SentenceId</th>\n",
       "      <th>Phrase</th>\n",
       "      <th>Sentiment</th>\n",
       "      <th>Phrase_len</th>\n",
       "      <th>Stemmed_Phrase</th>\n",
       "    </tr>\n",
       "  </thead>\n",
       "  <tbody>\n",
       "    <tr>\n",
       "      <th>0</th>\n",
       "      <td>1</td>\n",
       "      <td>1</td>\n",
       "      <td>A series of escapades demonstrating the adage ...</td>\n",
       "      <td>1</td>\n",
       "      <td>188</td>\n",
       "      <td>a seri of escapad demonstr the adag that what ...</td>\n",
       "    </tr>\n",
       "    <tr>\n",
       "      <th>1</th>\n",
       "      <td>2</td>\n",
       "      <td>1</td>\n",
       "      <td>A series of escapades demonstrating the adage ...</td>\n",
       "      <td>2</td>\n",
       "      <td>77</td>\n",
       "      <td>a seri of escapad demonstr the adag that what ...</td>\n",
       "    </tr>\n",
       "    <tr>\n",
       "      <th>2</th>\n",
       "      <td>3</td>\n",
       "      <td>1</td>\n",
       "      <td>A series</td>\n",
       "      <td>2</td>\n",
       "      <td>8</td>\n",
       "      <td>a seri</td>\n",
       "    </tr>\n",
       "    <tr>\n",
       "      <th>3</th>\n",
       "      <td>4</td>\n",
       "      <td>1</td>\n",
       "      <td>A</td>\n",
       "      <td>2</td>\n",
       "      <td>1</td>\n",
       "      <td>a</td>\n",
       "    </tr>\n",
       "    <tr>\n",
       "      <th>4</th>\n",
       "      <td>5</td>\n",
       "      <td>1</td>\n",
       "      <td>series</td>\n",
       "      <td>2</td>\n",
       "      <td>6</td>\n",
       "      <td>seri</td>\n",
       "    </tr>\n",
       "    <tr>\n",
       "      <th>...</th>\n",
       "      <td>...</td>\n",
       "      <td>...</td>\n",
       "      <td>...</td>\n",
       "      <td>...</td>\n",
       "      <td>...</td>\n",
       "      <td>...</td>\n",
       "    </tr>\n",
       "    <tr>\n",
       "      <th>156055</th>\n",
       "      <td>156056</td>\n",
       "      <td>8544</td>\n",
       "      <td>Hearst 's</td>\n",
       "      <td>2</td>\n",
       "      <td>9</td>\n",
       "      <td>hearst 's</td>\n",
       "    </tr>\n",
       "    <tr>\n",
       "      <th>156056</th>\n",
       "      <td>156057</td>\n",
       "      <td>8544</td>\n",
       "      <td>forced avuncular chortles</td>\n",
       "      <td>1</td>\n",
       "      <td>25</td>\n",
       "      <td>forc avuncular chortl</td>\n",
       "    </tr>\n",
       "    <tr>\n",
       "      <th>156057</th>\n",
       "      <td>156058</td>\n",
       "      <td>8544</td>\n",
       "      <td>avuncular chortles</td>\n",
       "      <td>3</td>\n",
       "      <td>18</td>\n",
       "      <td>avuncular chortl</td>\n",
       "    </tr>\n",
       "    <tr>\n",
       "      <th>156058</th>\n",
       "      <td>156059</td>\n",
       "      <td>8544</td>\n",
       "      <td>avuncular</td>\n",
       "      <td>2</td>\n",
       "      <td>9</td>\n",
       "      <td>avuncular</td>\n",
       "    </tr>\n",
       "    <tr>\n",
       "      <th>156059</th>\n",
       "      <td>156060</td>\n",
       "      <td>8544</td>\n",
       "      <td>chortles</td>\n",
       "      <td>2</td>\n",
       "      <td>8</td>\n",
       "      <td>chortl</td>\n",
       "    </tr>\n",
       "  </tbody>\n",
       "</table>\n",
       "<p>133097 rows × 6 columns</p>\n",
       "</div>"
      ],
      "text/plain": [
       "        PhraseId  SentenceId  \\\n",
       "0              1           1   \n",
       "1              2           1   \n",
       "2              3           1   \n",
       "3              4           1   \n",
       "4              5           1   \n",
       "...          ...         ...   \n",
       "156055    156056        8544   \n",
       "156056    156057        8544   \n",
       "156057    156058        8544   \n",
       "156058    156059        8544   \n",
       "156059    156060        8544   \n",
       "\n",
       "                                                   Phrase  Sentiment  \\\n",
       "0       A series of escapades demonstrating the adage ...          1   \n",
       "1       A series of escapades demonstrating the adage ...          2   \n",
       "2                                                A series          2   \n",
       "3                                                       A          2   \n",
       "4                                                  series          2   \n",
       "...                                                   ...        ...   \n",
       "156055                                          Hearst 's          2   \n",
       "156056                          forced avuncular chortles          1   \n",
       "156057                                 avuncular chortles          3   \n",
       "156058                                          avuncular          2   \n",
       "156059                                           chortles          2   \n",
       "\n",
       "        Phrase_len                                     Stemmed_Phrase  \n",
       "0              188  a seri of escapad demonstr the adag that what ...  \n",
       "1               77  a seri of escapad demonstr the adag that what ...  \n",
       "2                8                                             a seri  \n",
       "3                1                                                  a  \n",
       "4                6                                               seri  \n",
       "...            ...                                                ...  \n",
       "156055           9                                          hearst 's  \n",
       "156056          25                              forc avuncular chortl  \n",
       "156057          18                                   avuncular chortl  \n",
       "156058           9                                          avuncular  \n",
       "156059           8                                             chortl  \n",
       "\n",
       "[133097 rows x 6 columns]"
      ]
     },
     "execution_count": 24,
     "metadata": {},
     "output_type": "execute_result"
    }
   ],
   "source": [
    "#remove duplicates in the Stemmed_Phrase\n",
    "train1 = train.drop_duplicates(subset='Stemmed_Phrase')\n",
    "train1"
   ]
  },
  {
   "cell_type": "code",
   "execution_count": 25,
   "id": "539c953c",
   "metadata": {},
   "outputs": [
    {
     "data": {
      "text/plain": [
       "2    69194\n",
       "3    27766\n",
       "1    22954\n",
       "4     7499\n",
       "0     5684\n",
       "Name: Sentiment, dtype: int64"
      ]
     },
     "execution_count": 25,
     "metadata": {},
     "output_type": "execute_result"
    }
   ],
   "source": [
    "#Check the observations in each Sentiment class again.\n",
    "train1['Sentiment'].value_counts() #for train data without duplicate Stemmed_Phrase"
   ]
  },
  {
   "cell_type": "markdown",
   "id": "b3f2329a",
   "metadata": {},
   "source": [
    "### Model Comparison"
   ]
  },
  {
   "cell_type": "markdown",
   "id": "fafc2339",
   "metadata": {},
   "source": [
    "#### Vectorization"
   ]
  },
  {
   "cell_type": "code",
   "execution_count": 26,
   "id": "aa92c002",
   "metadata": {},
   "outputs": [],
   "source": [
    "#save the values in the regular phrase and sentiment columns to new variables\n",
    "train_x = train['Phrase'].values\n",
    "train_y = train['Sentiment'].values"
   ]
  },
  {
   "cell_type": "code",
   "execution_count": 27,
   "id": "6483746e",
   "metadata": {},
   "outputs": [],
   "source": [
    "#split data into train and validation sets\n",
    "new_train_x, new_test_x, new_train_y, new_test_y = train_test_split(train_x,train_y,test_size = 0.30,\n",
    "                                                                                            random_state=11)"
   ]
  },
  {
   "cell_type": "code",
   "execution_count": 28,
   "id": "8621f58e",
   "metadata": {},
   "outputs": [],
   "source": [
    "#save the values in the stemmed phrase and sentiment columns to new variables\n",
    "train_x2 = train1['Stemmed_Phrase'].values\n",
    "train_y2 = train1['Sentiment'].values"
   ]
  },
  {
   "cell_type": "code",
   "execution_count": 29,
   "id": "7f5ce0f8",
   "metadata": {},
   "outputs": [],
   "source": [
    "#split data into train and validation sets\n",
    "new_train_x2, new_test_x2, new_train_y2, new_test_y2 = train_test_split(train_x2,train_y2,test_size = 0.30,\n",
    "                                                                                            random_state=11)"
   ]
  },
  {
   "cell_type": "markdown",
   "id": "f3a865af",
   "metadata": {},
   "source": [
    "Next, we performed tf-idf transformation using unigram feature only"
   ]
  },
  {
   "cell_type": "code",
   "execution_count": 30,
   "id": "adcc608e",
   "metadata": {},
   "outputs": [],
   "source": [
    "from sklearn.feature_extraction.text import TfidfVectorizer\n",
    "tfidf = TfidfVectorizer(encoding='latin-1', min_df=5)\n",
    "\n",
    "#transform regular phrase vectors\n",
    "tfidf_x_vectors_all = tfidf.fit_transform(train_x)\n",
    "tfidf_x_vectors = tfidf.fit_transform(new_train_x)\n",
    "\n",
    "#transform stemmed phrase vectors\n",
    "tfidf_x_vectors2_all = tfidf.fit_transform(train_x2)\n",
    "tfidf_x_vectors2 = tfidf.fit_transform(new_train_x2) "
   ]
  },
  {
   "cell_type": "markdown",
   "id": "a8b0e9ac",
   "metadata": {},
   "source": [
    "Lastly, we performed tf-idf transformation and use N-gram feature"
   ]
  },
  {
   "cell_type": "code",
   "execution_count": 31,
   "id": "83d83537",
   "metadata": {},
   "outputs": [],
   "source": [
    "#we also create vectors that include unigram, bigram and trigrams\n",
    "ntfidf = TfidfVectorizer(encoding='latin-1', min_df=5,ngram_range = (1,3))\n",
    "\n",
    "#transform regular phrase vectors\n",
    "ntfidf_x_vectors_all = ntfidf.fit_transform(train_x)\n",
    "ntfidf_x_vectors = ntfidf.fit_transform(new_train_x)\n",
    "\n",
    "#transform stemmed phrase vectors\n",
    "ntfidf_x_vectors2_all = ntfidf.fit_transform(train_x2)\n",
    "ntfidf_x_vectors2 = ntfidf.fit_transform(new_train_x2) "
   ]
  },
  {
   "cell_type": "code",
   "execution_count": 32,
   "id": "8a4d2e09",
   "metadata": {},
   "outputs": [
    {
     "data": {
      "text/plain": [
       "scipy.sparse.csr.csr_matrix"
      ]
     },
     "execution_count": 32,
     "metadata": {},
     "output_type": "execute_result"
    }
   ],
   "source": [
    "type(tfidf_x_vectors)"
   ]
  },
  {
   "cell_type": "markdown",
   "id": "a61e42e7",
   "metadata": {},
   "source": [
    "#### Multinomial Naive Bayes"
   ]
  },
  {
   "cell_type": "markdown",
   "id": "85f12dc2",
   "metadata": {},
   "source": [
    "First, we used the Multinomial Naive Bayes classifier and performed parameter tuning using RandomizedSearchCV."
   ]
  },
  {
   "cell_type": "code",
   "execution_count": 53,
   "id": "b87d5f96",
   "metadata": {},
   "outputs": [
    {
     "data": {
      "text/plain": [
       "{'alpha': 0.1}"
      ]
     },
     "execution_count": 53,
     "metadata": {},
     "output_type": "execute_result"
    }
   ],
   "source": [
    "#find the best parameters when using unigram and 70% of the original phrases\n",
    "kFolds = 3\n",
    "MNB = MultinomialNB()\n",
    "distributions = dict(alpha=list(np.arange(0.05,3.0,0.05)))\n",
    "tfidf_nb = RandomizedSearchCV(MNB, distributions, cv=kFolds)\n",
    "search = tfidf_nb.fit(tfidf_x_vectors, new_train_y)\n",
    "search.best_params_"
   ]
  },
  {
   "cell_type": "markdown",
   "id": "567d3e9d",
   "metadata": {},
   "source": [
    "We noticed the result above varies every time we run the code. We found better results when alpha equals to 0.1."
   ]
  },
  {
   "cell_type": "code",
   "execution_count": 56,
   "id": "be441672",
   "metadata": {},
   "outputs": [
    {
     "name": "stdout",
     "output_type": "stream",
     "text": [
      "              precision    recall  f1-score   support\n",
      "\n",
      "           0       0.47      0.15      0.23      4889\n",
      "           1       0.49      0.32      0.39     19113\n",
      "           2       0.63      0.84      0.72     55784\n",
      "           3       0.52      0.42      0.46     23060\n",
      "           4       0.51      0.17      0.25      6384\n",
      "\n",
      "    accuracy                           0.59    109230\n",
      "   macro avg       0.52      0.38      0.41    109230\n",
      "weighted avg       0.57      0.59      0.56    109230\n",
      "\n"
     ]
    }
   ],
   "source": [
    "kFolds = 3\n",
    "tfidf_nb = MultinomialNB(alpha=0.1)\n",
    "y_pred_MNB = cross_val_predict(tfidf_nb, tfidf_x_vectors, new_train_y, cv=kFolds)\n",
    "\n",
    "# classification report compares predictions from the k fold test sets with the gold\n",
    "print(classification_report(new_train_y, y_pred_MNB))"
   ]
  },
  {
   "cell_type": "markdown",
   "id": "ae825a8f",
   "metadata": {},
   "source": [
    "Accuracy was lower when using default parameters. "
   ]
  },
  {
   "cell_type": "code",
   "execution_count": 57,
   "id": "46e155e2",
   "metadata": {},
   "outputs": [
    {
     "name": "stdout",
     "output_type": "stream",
     "text": [
      "\n",
      "\n",
      "Predicted     0      1      2      3     4     All\n",
      "Actual                                            \n",
      "0           750   2062   1981     93     3    4889\n",
      "1           598   6167  11605    712    31   19113\n",
      "2           216   3852  46596   4885   235   55784\n",
      "3            22    536  12006   9742   754   23060\n",
      "4             2     52   1817   3445  1068    6384\n",
      "All        1588  12669  74005  18877  2091  109230\n"
     ]
    }
   ],
   "source": [
    "# confusion matrix\n",
    "cm_MNB = confusion_matrix(new_train_y, y_pred_MNB)\n",
    "print('\\n')\n",
    "print(pd.crosstab(new_train_y, y_pred_MNB, rownames=['Actual'], colnames=['Predicted'], margins=True))"
   ]
  },
  {
   "cell_type": "markdown",
   "id": "8cb49e3d",
   "metadata": {},
   "source": [
    "Around 3.5% negative phrases (class 0 and 1) were misclassified as positive (class 3 and 4), and around 2.1% positive phrases were misclassified as negative."
   ]
  },
  {
   "cell_type": "code",
   "execution_count": 91,
   "id": "4a9502fa",
   "metadata": {},
   "outputs": [
    {
     "data": {
      "text/plain": [
       "{'alpha': 0.05}"
      ]
     },
     "execution_count": 91,
     "metadata": {},
     "output_type": "execute_result"
    }
   ],
   "source": [
    "#then we used unigram and 70% of the stemmed phrase\n",
    "kFolds = 3\n",
    "MNB = MultinomialNB()\n",
    "distributions = dict(alpha=list(np.arange(0.05,3.0,0.05)))\n",
    "tfidf_nb = RandomizedSearchCV(MNB, distributions, cv=kFolds)\n",
    "search = tfidf_nb.fit(tfidf_x_vectors2, new_train_y2)\n",
    "search.best_params_"
   ]
  },
  {
   "cell_type": "code",
   "execution_count": 92,
   "id": "90fc1021",
   "metadata": {},
   "outputs": [
    {
     "name": "stdout",
     "output_type": "stream",
     "text": [
      "              precision    recall  f1-score   support\n",
      "\n",
      "           0       0.46      0.13      0.20      4023\n",
      "           1       0.50      0.29      0.37     16173\n",
      "           2       0.62      0.86      0.72     48442\n",
      "           3       0.51      0.36      0.42     19277\n",
      "           4       0.51      0.14      0.21      5252\n",
      "\n",
      "    accuracy                           0.59     93167\n",
      "   macro avg       0.52      0.36      0.39     93167\n",
      "weighted avg       0.56      0.59      0.55     93167\n",
      "\n"
     ]
    }
   ],
   "source": [
    "#calculate 3-fold cv evaluation metrics for stemmed phrases.\n",
    "kFolds = 3\n",
    "tfidf_nb = MultinomialNB(alpha=0.05)\n",
    "y_pred_nb2 = cross_val_predict(tfidf_nb, tfidf_x_vectors2, new_train_y2, cv=kFolds)\n",
    "\n",
    "# classification report compares predictions from the k fold test sets with the gold\n",
    "print(classification_report(new_train_y2, y_pred_nb2))"
   ]
  },
  {
   "cell_type": "code",
   "execution_count": 93,
   "id": "908b57fc",
   "metadata": {},
   "outputs": [
    {
     "name": "stdout",
     "output_type": "stream",
     "text": [
      "\n",
      "\n",
      "Predicted     0     1      2      3     4    All\n",
      "Actual                                          \n",
      "0           525  1587   1846     65     0   4023\n",
      "1           427  4695  10565    468    18  16173\n",
      "2           171  2766  41879   3451   175  48442\n",
      "3            18   361  11392   6999   507  19277\n",
      "4             2    41   1799   2694   716   5252\n",
      "All        1143  9450  67481  13677  1416  93167\n"
     ]
    }
   ],
   "source": [
    "# confusion matrix\n",
    "cm_MNB2 = confusion_matrix(new_train_y2, y_pred_nb2)\n",
    "#print_cm(cm, labels)\n",
    "print('\\n')\n",
    "print(pd.crosstab(new_train_y2, y_pred_nb2, rownames=['Actual'], colnames=['Predicted'], margins=True))"
   ]
  },
  {
   "cell_type": "markdown",
   "id": "45b7f827",
   "metadata": {},
   "source": [
    "Around 2.7% negative phrases (class 0 and 1) were misclassified as positive (class 3 and 4), and around 1.7% positive phrases were misclassified as negative."
   ]
  },
  {
   "cell_type": "markdown",
   "id": "f0596301",
   "metadata": {},
   "source": [
    "Based on our experiments, when using 70% of data, original phrases produced better results with higher overall F1-Score."
   ]
  },
  {
   "cell_type": "code",
   "execution_count": 123,
   "id": "dbfefabe",
   "metadata": {},
   "outputs": [
    {
     "data": {
      "text/plain": [
       "{'alpha': 0.9500000000000001}"
      ]
     },
     "execution_count": 123,
     "metadata": {},
     "output_type": "execute_result"
    }
   ],
   "source": [
    "#using unigram and 100% original phrases\n",
    "kFolds = 3\n",
    "MNB = MultinomialNB()\n",
    "distributions = dict(alpha=list(np.arange(0.05,3.0,0.05)))\n",
    "tfidf_nb = RandomizedSearchCV(MNB, distributions, cv=kFolds)\n",
    "search = tfidf_nb.fit(tfidf_x_vectors_all, train_y)\n",
    "search.best_params_"
   ]
  },
  {
   "cell_type": "code",
   "execution_count": 124,
   "id": "2084506c",
   "metadata": {},
   "outputs": [
    {
     "name": "stdout",
     "output_type": "stream",
     "text": [
      "              precision    recall  f1-score   support\n",
      "\n",
      "           0       0.40      0.01      0.03      7072\n",
      "           1       0.43      0.18      0.25     27272\n",
      "           2       0.58      0.89      0.70     79566\n",
      "           3       0.48      0.33      0.39     32927\n",
      "           4       0.36      0.03      0.05      9206\n",
      "\n",
      "    accuracy                           0.55    156043\n",
      "   macro avg       0.45      0.29      0.28    156043\n",
      "weighted avg       0.51      0.55      0.49    156043\n",
      "\n"
     ]
    }
   ],
   "source": [
    "#calculate 3-fold cv evaluation metrics\n",
    "kFolds = 3\n",
    "tfidf_nb = MultinomialNB(alpha=0.95)\n",
    "y_pred_nb_final = cross_val_predict(tfidf_nb, tfidf_x_vectors_all, train_y, cv=kFolds)\n",
    "\n",
    "# classification report compares predictions from the k fold test sets with the gold\n",
    "print(classification_report(train_y, y_pred_nb_final))"
   ]
  },
  {
   "cell_type": "code",
   "execution_count": 125,
   "id": "ee2c878d",
   "metadata": {},
   "outputs": [
    {
     "name": "stdout",
     "output_type": "stream",
     "text": [
      "\n",
      "\n",
      "Predicted    0      1       2      3    4     All\n",
      "Actual                                           \n",
      "0           93   2338    4431    202    8    7072\n",
      "1           80   4857   21134   1172   29   27272\n",
      "2           51   3450   70507   5387  171   79566\n",
      "3            9    597   21213  10877  231   32927\n",
      "4            0     68    3889   5003  246    9206\n",
      "All        233  11310  121174  22641  685  156043\n"
     ]
    }
   ],
   "source": [
    "# confusion matrix\n",
    "cm_MNB = confusion_matrix(train_y, y_pred_nb_final)\n",
    "#print_cm(cm, labels)\n",
    "print('\\n')\n",
    "print(pd.crosstab(train_y, y_pred_nb_final, rownames=['Actual'], colnames=['Predicted'], margins=True))"
   ]
  },
  {
   "cell_type": "code",
   "execution_count": 106,
   "id": "1fb27971",
   "metadata": {},
   "outputs": [
    {
     "data": {
      "text/plain": [
       "{'alpha': 0.7500000000000001}"
      ]
     },
     "execution_count": 106,
     "metadata": {},
     "output_type": "execute_result"
    }
   ],
   "source": [
    "#using unigram and 100% stemmed phrases\n",
    "kFolds = 3\n",
    "MNB = MultinomialNB()\n",
    "distributions = dict(alpha=list(np.arange(0.05,3.0,0.05)))\n",
    "tfidf_nb = RandomizedSearchCV(MNB, distributions, cv=kFolds)\n",
    "search = tfidf_nb.fit(tfidf_x_vectors2_all, train_y2)\n",
    "search.best_params_"
   ]
  },
  {
   "cell_type": "code",
   "execution_count": 127,
   "id": "dbf856f7",
   "metadata": {},
   "outputs": [
    {
     "name": "stdout",
     "output_type": "stream",
     "text": [
      "              precision    recall  f1-score   support\n",
      "\n",
      "           0       0.32      0.01      0.03      5684\n",
      "           1       0.44      0.18      0.25     22954\n",
      "           2       0.59      0.89      0.71     69194\n",
      "           3       0.48      0.31      0.38     27766\n",
      "           4       0.37      0.03      0.06      7499\n",
      "\n",
      "    accuracy                           0.56    133097\n",
      "   macro avg       0.44      0.29      0.28    133097\n",
      "weighted avg       0.52      0.56      0.50    133097\n",
      "\n"
     ]
    }
   ],
   "source": [
    "#calculate 3-fold cv evaluation metrics\n",
    "kFolds = 3\n",
    "tfidf_nb = MultinomialNB(alpha=0.75)\n",
    "y_pred_nb_final2 = cross_val_predict(tfidf_nb, tfidf_x_vectors2_all, train_y2, cv=kFolds)\n",
    "\n",
    "# classification report compares predictions from the k fold test sets with the gold\n",
    "print(classification_report(train_y2, y_pred_nb_final2))"
   ]
  },
  {
   "cell_type": "code",
   "execution_count": 128,
   "id": "36aae13a",
   "metadata": {},
   "outputs": [
    {
     "name": "stdout",
     "output_type": "stream",
     "text": [
      "\n",
      "\n",
      "Predicted    0     1       2      3    4     All\n",
      "Actual                                          \n",
      "0           83  1886    3603    106    6    5684\n",
      "1           89  4083   17943    814   25   22954\n",
      "2           80  2835   61684   4412  183   69194\n",
      "3            9   441   18507   8620  189   27766\n",
      "4            0    35    3330   3899  235    7499\n",
      "All        261  9280  105067  17851  638  133097\n"
     ]
    }
   ],
   "source": [
    "# confusion matrix\n",
    "cm_MNB = confusion_matrix(train_y2, y_pred_nb_final2)\n",
    "#print_cm(cm, labels)\n",
    "print('\\n')\n",
    "print(pd.crosstab(train_y2, y_pred_nb_final2, rownames=['Actual'], colnames=['Predicted'], margins=True))"
   ]
  },
  {
   "cell_type": "markdown",
   "id": "f96dd5f2",
   "metadata": {},
   "source": [
    "The overall accuracy, precision, recall and f1-score were lower when using the entire data set. Using stemmed phrases generated better results."
   ]
  },
  {
   "cell_type": "code",
   "execution_count": 117,
   "id": "fb65f197",
   "metadata": {},
   "outputs": [
    {
     "data": {
      "text/plain": [
       "{'alpha': 0.45}"
      ]
     },
     "execution_count": 117,
     "metadata": {},
     "output_type": "execute_result"
    }
   ],
   "source": [
    "#lastly we tried using ngram vectors and 100% stemmed phrase\n",
    "kFolds = 3\n",
    "MNB = MultinomialNB()\n",
    "distributions = dict(alpha=list(np.arange(0.05,3.0,0.05)))\n",
    "ntfidf_nb = RandomizedSearchCV(MNB, distributions, cv=kFolds)\n",
    "search = ntfidf_nb.fit(ntfidf_x_vectors2_all, train_y2)\n",
    "search.best_params_"
   ]
  },
  {
   "cell_type": "code",
   "execution_count": 118,
   "id": "27d85c8f",
   "metadata": {},
   "outputs": [
    {
     "name": "stdout",
     "output_type": "stream",
     "text": [
      "              precision    recall  f1-score   support\n",
      "\n",
      "           0       0.22      0.02      0.04      5684\n",
      "           1       0.40      0.29      0.34     22954\n",
      "           2       0.63      0.81      0.71     69194\n",
      "           3       0.45      0.40      0.42     27766\n",
      "           4       0.28      0.07      0.11      7499\n",
      "\n",
      "    accuracy                           0.56    133097\n",
      "   macro avg       0.40      0.32      0.32    133097\n",
      "weighted avg       0.51      0.56      0.52    133097\n",
      "\n"
     ]
    }
   ],
   "source": [
    "#calculate 3-fold cv evaluation metrics\n",
    "kFolds = 3\n",
    "ntfidf_nb = MultinomialNB(alpha=0.45)\n",
    "y_pred_nb_final2 = cross_val_predict(ntfidf_nb, ntfidf_x_vectors2_all, train_y2, cv=kFolds)\n",
    "\n",
    "# classification report compares predictions from the k fold test sets with the gold\n",
    "print(classification_report(train_y2, y_pred_nb_final2))"
   ]
  },
  {
   "cell_type": "code",
   "execution_count": 119,
   "id": "9519147f",
   "metadata": {},
   "outputs": [
    {
     "name": "stdout",
     "output_type": "stream",
     "text": [
      "\n",
      "\n",
      "Predicted    0      1      2      3     4     All\n",
      "Actual                                           \n",
      "0          125   2813   2383    314    49    5684\n",
      "1          243   6645  14204   1716   146   22954\n",
      "2          154   5572  56218   6733   517   69194\n",
      "3           36   1324  14792  10990   624   27766\n",
      "4            3    149   2201   4624   522    7499\n",
      "All        561  16503  89798  24377  1858  133097\n"
     ]
    }
   ],
   "source": [
    "# confusion matrix\n",
    "cm_MNB = confusion_matrix(train_y2, y_pred_nb_final2)\n",
    "#print_cm(cm, labels)\n",
    "print('\\n')\n",
    "print(pd.crosstab(train_y2, y_pred_nb_final2, rownames=['Actual'], colnames=['Predicted'], margins=True))"
   ]
  },
  {
   "cell_type": "markdown",
   "id": "a701dfe3",
   "metadata": {},
   "source": [
    "Around 7.8% negative phrases (class 0 and 1) were misclassified as positive (class 3 and 4), and around 4.3% positive phrases were misclassified as negative."
   ]
  },
  {
   "cell_type": "markdown",
   "id": "b2338433",
   "metadata": {},
   "source": [
    "Based on results above, using stemmed phrases and ngrams had better overall accuracy and precision."
   ]
  },
  {
   "cell_type": "markdown",
   "id": "309f6bd2",
   "metadata": {},
   "source": [
    "#### Support Vector Machines"
   ]
  },
  {
   "cell_type": "markdown",
   "id": "0c2c928f",
   "metadata": {},
   "source": [
    "We then used the Linear Support Vector Classification model. We chose this classifier because it works better on very large data set."
   ]
  },
  {
   "cell_type": "code",
   "execution_count": 48,
   "id": "ac847bac",
   "metadata": {},
   "outputs": [
    {
     "data": {
      "text/plain": [
       "{'C': 0.30000000000000004}"
      ]
     },
     "execution_count": 48,
     "metadata": {},
     "output_type": "execute_result"
    }
   ],
   "source": [
    "#find the best parameters when using unigram and 70% of the original phrases\n",
    "kFolds = 3\n",
    "SVM = LinearSVC(class_weight='balanced')\n",
    "distributions = dict(C=list(np.arange(0.1,3.0,0.1)))\n",
    "tfidf_svm = RandomizedSearchCV(SVM, distributions, cv=kFolds)\n",
    "search = tfidf_svm.fit(tfidf_x_vectors, new_train_y)\n",
    "search.best_params_"
   ]
  },
  {
   "cell_type": "code",
   "execution_count": 49,
   "id": "1f47baa4",
   "metadata": {},
   "outputs": [
    {
     "name": "stdout",
     "output_type": "stream",
     "text": [
      "              precision    recall  f1-score   support\n",
      "\n",
      "           0       0.32      0.52      0.40      4889\n",
      "           1       0.49      0.44      0.46     19113\n",
      "           2       0.74      0.73      0.74     55784\n",
      "           3       0.53      0.45      0.49     23060\n",
      "           4       0.38      0.55      0.45      6384\n",
      "\n",
      "    accuracy                           0.60    109230\n",
      "   macro avg       0.49      0.54      0.51    109230\n",
      "weighted avg       0.61      0.60      0.61    109230\n",
      "\n"
     ]
    }
   ],
   "source": [
    "#using unigram and 70% of original phrases\n",
    "kFolds = 3\n",
    "tfidf_svm = LinearSVC(C=0.3,class_weight='balanced')\n",
    "y_pred_svm = cross_val_predict(tfidf_svm, tfidf_x_vectors, new_train_y, cv=kFolds)\n",
    "\n",
    "# classification report compares predictions from the k fold test sets with the gold\n",
    "print(classification_report(new_train_y, y_pred_svm))"
   ]
  },
  {
   "cell_type": "code",
   "execution_count": 50,
   "id": "ab485f30",
   "metadata": {},
   "outputs": [
    {
     "name": "stdout",
     "output_type": "stream",
     "text": [
      "\n",
      "\n",
      "Predicted     0      1      2      3     4     All\n",
      "Actual                                            \n",
      "0          2561   1753    436     83    56    4889\n",
      "1          3406   8483   6024    899   301   19113\n",
      "2          1581   6088  40958   5971  1186   55784\n",
      "3           347   1029   7173  10346  4165   23060\n",
      "4            45    101    436   2302  3500    6384\n",
      "All        7940  17454  55027  19601  9208  109230\n"
     ]
    }
   ],
   "source": [
    "# confusion matrix\n",
    "cm_SVM = confusion_matrix(new_train_y, y_pred_svm)\n",
    "#print_cm(cm, labels)\n",
    "print('\\n')\n",
    "print(pd.crosstab(new_train_y, y_pred_svm, rownames=['Actual'], colnames=['Predicted'], margins=True))"
   ]
  },
  {
   "cell_type": "markdown",
   "id": "a7e90bd8",
   "metadata": {},
   "source": [
    "Around 5.6% negative phrases (class 0 and 1) were misclassified as positive (class 3 and 4), and around 5.2% positive phrases were misclassified as negative."
   ]
  },
  {
   "cell_type": "code",
   "execution_count": 51,
   "id": "091fe840",
   "metadata": {},
   "outputs": [
    {
     "data": {
      "text/plain": [
       "{'C': 0.4}"
      ]
     },
     "execution_count": 51,
     "metadata": {},
     "output_type": "execute_result"
    }
   ],
   "source": [
    "#using unigram and 70% of stemmed phrases\n",
    "kFolds = 3\n",
    "SVM = LinearSVC(class_weight='balanced')\n",
    "distributions = dict(C=list(np.arange(0.1,3.0,0.1)))\n",
    "tfidf_svm = RandomizedSearchCV(SVM, distributions, cv=kFolds)\n",
    "search = tfidf_svm.fit(tfidf_x_vectors2, new_train_y2)\n",
    "search.best_params_"
   ]
  },
  {
   "cell_type": "code",
   "execution_count": 52,
   "id": "cd0d2194",
   "metadata": {},
   "outputs": [
    {
     "name": "stdout",
     "output_type": "stream",
     "text": [
      "              precision    recall  f1-score   support\n",
      "\n",
      "           0       0.30      0.49      0.38      4023\n",
      "           1       0.48      0.44      0.46     16173\n",
      "           2       0.75      0.73      0.74     48442\n",
      "           3       0.51      0.44      0.47     19277\n",
      "           4       0.36      0.55      0.44      5252\n",
      "\n",
      "    accuracy                           0.60     93167\n",
      "   macro avg       0.48      0.53      0.50     93167\n",
      "weighted avg       0.61      0.60      0.60     93167\n",
      "\n"
     ]
    }
   ],
   "source": [
    "kFolds = 3\n",
    "tfidf_svm = LinearSVC(C=0.4, class_weight='balanced')\n",
    "y_pred_svm2 = cross_val_predict(tfidf_svm, tfidf_x_vectors2, new_train_y2, cv=kFolds)\n",
    "\n",
    "# classification report compares predictions from the k fold test sets with the gold\n",
    "print(classification_report(new_train_y2, y_pred_svm2))"
   ]
  },
  {
   "cell_type": "code",
   "execution_count": 53,
   "id": "3c3b8fbc",
   "metadata": {},
   "outputs": [
    {
     "name": "stdout",
     "output_type": "stream",
     "text": [
      "\n",
      "\n",
      "Predicted     0      1      2      3     4    All\n",
      "Actual                                           \n",
      "0          1982   1501    381     93    66   4023\n",
      "1          2792   7161   5018    920   282  16173\n",
      "2          1374   5285  35198   5384  1201  48442\n",
      "3           334    957   5926   8565  3495  19277\n",
      "4            46    104    369   1851  2882   5252\n",
      "All        6528  15008  46892  16813  7926  93167\n"
     ]
    }
   ],
   "source": [
    "# confusion matrix\n",
    "cm_SVM2 = confusion_matrix(new_train_y2, y_pred_svm2)\n",
    "#print_cm(cm, labels)\n",
    "print('\\n')\n",
    "print(pd.crosstab(new_train_y2, y_pred_svm2, rownames=['Actual'], colnames=['Predicted'], margins=True))"
   ]
  },
  {
   "cell_type": "markdown",
   "id": "ffb9ff6e",
   "metadata": {},
   "source": [
    "Around 6.7% negative phrases (class 0 and 1) were misclassified as positive (class 3 and 4), and around 5.9% positive phrases were misclassified as negative."
   ]
  },
  {
   "cell_type": "markdown",
   "id": "e85ba3be",
   "metadata": {},
   "source": [
    "Comparing results above, using original phrases produced better results since it had higher weighted avg F1-Score."
   ]
  },
  {
   "cell_type": "code",
   "execution_count": 63,
   "id": "0e623474",
   "metadata": {},
   "outputs": [
    {
     "data": {
      "text/plain": [
       "{'C': 0.21000000000000002}"
      ]
     },
     "execution_count": 63,
     "metadata": {},
     "output_type": "execute_result"
    }
   ],
   "source": [
    "#then we used unigram and the 100% of original phrase data to train the classifier\n",
    "kFolds = 3\n",
    "SVM = LinearSVC(class_weight='balanced')\n",
    "distributions = dict(C=list(np.arange(0.01,3.0,0.05)))\n",
    "tfidf_svm = RandomizedSearchCV(SVM, distributions, cv=kFolds)\n",
    "search = tfidf_svm.fit(tfidf_x_vectors_all, train_y)\n",
    "search.best_params_"
   ]
  },
  {
   "cell_type": "code",
   "execution_count": 64,
   "id": "428bf9d9",
   "metadata": {},
   "outputs": [
    {
     "name": "stdout",
     "output_type": "stream",
     "text": [
      "              precision    recall  f1-score   support\n",
      "\n",
      "           0       0.28      0.37      0.32      7072\n",
      "           1       0.43      0.32      0.36     27272\n",
      "           2       0.69      0.76      0.72     79566\n",
      "           3       0.49      0.38      0.42     32927\n",
      "           4       0.33      0.45      0.38      9206\n",
      "\n",
      "    accuracy                           0.57    156043\n",
      "   macro avg       0.44      0.45      0.44    156043\n",
      "weighted avg       0.56      0.57      0.56    156043\n",
      "\n"
     ]
    }
   ],
   "source": [
    "kFolds = 3\n",
    "tfidf_svm = LinearSVC(C=0.21, class_weight='balanced')\n",
    "y_pred_svm_all = cross_val_predict(tfidf_svm, tfidf_x_vectors_all, train_y, cv=kFolds)\n",
    "\n",
    "# classification report compares predictions from the k fold test sets with the gold\n",
    "print(classification_report(train_y, y_pred_svm_all))"
   ]
  },
  {
   "cell_type": "code",
   "execution_count": 65,
   "id": "5c2e20e6",
   "metadata": {},
   "outputs": [
    {
     "name": "stdout",
     "output_type": "stream",
     "text": [
      "\n",
      "\n",
      "Predicted     0      1      2      3      4     All\n",
      "Actual                                             \n",
      "0          2600   2400   1559    309    204    7072\n",
      "1          3679   8701  12240   1933    719   27272\n",
      "2          2194   7179  60838   7414   1941   79566\n",
      "3           739   1893  12594  12372   5329   32927\n",
      "4           131    295   1195   3464   4121    9206\n",
      "All        9343  20468  88426  25492  12314  156043\n"
     ]
    }
   ],
   "source": [
    "# confusion matrix\n",
    "cm_SVM = confusion_matrix(train_y, y_pred_svm_all)\n",
    "#print_cm(cm, labels)\n",
    "print('\\n')\n",
    "print(pd.crosstab(train_y, y_pred_svm_all, rownames=['Actual'], colnames=['Predicted'], margins=True))"
   ]
  },
  {
   "cell_type": "code",
   "execution_count": 33,
   "id": "bfa72717",
   "metadata": {},
   "outputs": [
    {
     "data": {
      "text/plain": [
       "{'C': 0.66}"
      ]
     },
     "execution_count": 33,
     "metadata": {},
     "output_type": "execute_result"
    }
   ],
   "source": [
    "#then we used unigram and the 100% of the stemmed phrase\n",
    "kFolds = 3\n",
    "SVM = LinearSVC(class_weight='balanced')\n",
    "distributions = dict(C=list(np.arange(0.01,3.0,0.05)))\n",
    "tfidf_svm = RandomizedSearchCV(SVM, distributions, cv=kFolds)\n",
    "search = tfidf_svm.fit(tfidf_x_vectors2_all, train_y2)\n",
    "search.best_params_"
   ]
  },
  {
   "cell_type": "code",
   "execution_count": 34,
   "id": "8793b078",
   "metadata": {},
   "outputs": [
    {
     "name": "stdout",
     "output_type": "stream",
     "text": [
      "              precision    recall  f1-score   support\n",
      "\n",
      "           0       0.25      0.35      0.29      5684\n",
      "           1       0.42      0.35      0.38     22954\n",
      "           2       0.71      0.74      0.72     69194\n",
      "           3       0.47      0.39      0.43     27766\n",
      "           4       0.33      0.47      0.39      7499\n",
      "\n",
      "    accuracy                           0.57    133097\n",
      "   macro avg       0.44      0.46      0.44    133097\n",
      "weighted avg       0.57      0.57      0.56    133097\n",
      "\n"
     ]
    }
   ],
   "source": [
    "kFolds = 3\n",
    "tfidf_svm = LinearSVC(C=0.66, class_weight='balanced')\n",
    "y_pred_svm_all2 = cross_val_predict(tfidf_svm, tfidf_x_vectors2_all, train_y2, cv=kFolds)\n",
    "\n",
    "# classification report compares predictions from the k fold test sets with the gold\n",
    "print(classification_report(train_y2, y_pred_svm_all2))"
   ]
  },
  {
   "cell_type": "code",
   "execution_count": 35,
   "id": "b0901233",
   "metadata": {},
   "outputs": [
    {
     "name": "stdout",
     "output_type": "stream",
     "text": [
      "\n",
      "\n",
      "Predicted     0      1      2      3      4     All\n",
      "Actual                                             \n",
      "0          1981   2169   1110    266    158    5684\n",
      "1          3196   8026   9338   1772    622   22954\n",
      "2          1897   7000  51040   7379   1878   69194\n",
      "3           682   1659  10028  10899   4498   27766\n",
      "4           144    213    821   2804   3517    7499\n",
      "All        7900  19067  72337  23120  10673  133097\n"
     ]
    }
   ],
   "source": [
    "# confusion matrix\n",
    "cm_SVM = confusion_matrix(train_y2, y_pred_svm_all2)\n",
    "#print_cm(cm, labels)\n",
    "print('\\n')\n",
    "print(pd.crosstab(train_y2, y_pred_svm_all2, rownames=['Actual'], colnames=['Predicted'], margins=True))"
   ]
  },
  {
   "cell_type": "markdown",
   "id": "c0bdc1f1",
   "metadata": {},
   "source": [
    "Per results above, using original and stemmed phrases had same overall accuracy, but using original phrases produced higher weighted average f1-score."
   ]
  },
  {
   "cell_type": "code",
   "execution_count": 110,
   "id": "407b8d29",
   "metadata": {},
   "outputs": [
    {
     "data": {
      "text/plain": [
       "{'C': 0.16000000000000003}"
      ]
     },
     "execution_count": 110,
     "metadata": {},
     "output_type": "execute_result"
    }
   ],
   "source": [
    "#lastly, we also tried using ngram and 100% original phrases\n",
    "kFolds = 3\n",
    "SVM = LinearSVC(class_weight='balanced')\n",
    "distributions = dict(C=list(np.arange(0.01,3.0,0.05)))\n",
    "ntfidf_svm = RandomizedSearchCV(SVM, distributions, cv=kFolds)\n",
    "search = ntfidf_svm.fit(ntfidf_x_vectors_all, train_y)\n",
    "search.best_params_"
   ]
  },
  {
   "cell_type": "code",
   "execution_count": 111,
   "id": "7f019c1c",
   "metadata": {},
   "outputs": [
    {
     "name": "stdout",
     "output_type": "stream",
     "text": [
      "              precision    recall  f1-score   support\n",
      "\n",
      "           0       0.33      0.24      0.28      7072\n",
      "           1       0.42      0.25      0.32     27272\n",
      "           2       0.63      0.84      0.72     79566\n",
      "           3       0.50      0.32      0.39     32927\n",
      "           4       0.38      0.33      0.36      9206\n",
      "\n",
      "    accuracy                           0.57    156043\n",
      "   macro avg       0.45      0.40      0.41    156043\n",
      "weighted avg       0.54      0.57      0.54    156043\n",
      "\n"
     ]
    }
   ],
   "source": [
    "kFolds = 3\n",
    "ntfidf_svm = LinearSVC(C=0.16, class_weight='balanced')\n",
    "y_pred_svm_all3 = cross_val_predict(ntfidf_svm, ntfidf_x_vectors_all, train_y, cv=kFolds)\n",
    "\n",
    "# classification report compares predictions from the k fold test sets with the gold\n",
    "print(classification_report(train_y, y_pred_svm_all3))"
   ]
  },
  {
   "cell_type": "code",
   "execution_count": 112,
   "id": "fdf1a5c1",
   "metadata": {},
   "outputs": [
    {
     "name": "stdout",
     "output_type": "stream",
     "text": [
      "\n",
      "\n",
      "Predicted     0      1       2      3     4     All\n",
      "Actual                                             \n",
      "0          1694   2292    2711    268   107    7072\n",
      "1          2001   6874   16678   1358   361   27272\n",
      "2          1087   5508   66643   5190  1138   79566\n",
      "3           309   1329   17360  10554  3375   32927\n",
      "4            64    214    2196   3666  3066    9206\n",
      "All        5155  16217  105588  21036  8047  156043\n"
     ]
    }
   ],
   "source": [
    "# confusion matrix\n",
    "cm_SVM = confusion_matrix(train_y, y_pred_svm_all3)\n",
    "#print_cm(cm, labels)\n",
    "print('\\n')\n",
    "print(pd.crosstab(train_y, y_pred_svm_all3, rownames=['Actual'], colnames=['Predicted'], margins=True))"
   ]
  },
  {
   "cell_type": "markdown",
   "id": "d16226fe",
   "metadata": {},
   "source": [
    "Around 6.1% negative phrases (class 0 and 1) were misclassified as postive (class 3 and 4), and around 4.5% positive phrases were misclassified as negative."
   ]
  },
  {
   "cell_type": "code",
   "execution_count": 36,
   "id": "54f3a35f",
   "metadata": {},
   "outputs": [
    {
     "data": {
      "text/plain": [
       "{'C': 0.21000000000000002}"
      ]
     },
     "execution_count": 36,
     "metadata": {},
     "output_type": "execute_result"
    }
   ],
   "source": [
    "#we also tried using ngram and 100% stemmed phrases\n",
    "kFolds = 3\n",
    "SVM = LinearSVC(class_weight='balanced')\n",
    "distributions = dict(C=list(np.arange(0.01,3.0,0.05)))\n",
    "ntfidf_svm = RandomizedSearchCV(SVM, distributions, cv=kFolds)\n",
    "search = ntfidf_svm.fit(ntfidf_x_vectors2_all, train_y2)\n",
    "search.best_params_"
   ]
  },
  {
   "cell_type": "code",
   "execution_count": 39,
   "id": "2508e979",
   "metadata": {},
   "outputs": [
    {
     "name": "stdout",
     "output_type": "stream",
     "text": [
      "              precision    recall  f1-score   support\n",
      "\n",
      "           0       0.30      0.25      0.28      5684\n",
      "           1       0.43      0.27      0.33     22954\n",
      "           2       0.65      0.82      0.73     69194\n",
      "           3       0.50      0.35      0.41     27766\n",
      "           4       0.37      0.34      0.36      7499\n",
      "\n",
      "    accuracy                           0.58    133097\n",
      "   macro avg       0.45      0.41      0.42    133097\n",
      "weighted avg       0.55      0.58      0.55    133097\n",
      "\n"
     ]
    }
   ],
   "source": [
    "kFolds = 3\n",
    "ntfidf_svm = LinearSVC(C=0.21, class_weight='balanced')\n",
    "y_pred_svm_all4 = cross_val_predict(ntfidf_svm, ntfidf_x_vectors2_all, train_y2, cv=kFolds)\n",
    "\n",
    "# classification report compares predictions from the k fold test sets with the gold\n",
    "print(classification_report(train_y2, y_pred_svm_all4))"
   ]
  },
  {
   "cell_type": "code",
   "execution_count": 40,
   "id": "8a538c8c",
   "metadata": {},
   "outputs": [
    {
     "name": "stdout",
     "output_type": "stream",
     "text": [
      "\n",
      "\n",
      "Predicted     0      1      2      3     4     All\n",
      "Actual                                            \n",
      "0          1445   1986   1942    220    91    5684\n",
      "1          1942   6142  13373   1194   303   22954\n",
      "2          1019   4914  57023   5187  1051   69194\n",
      "3           293   1102  13901   9586  2884   27766\n",
      "4            65    165   1510   3173  2586    7499\n",
      "All        4764  14309  87749  19360  6915  133097\n"
     ]
    }
   ],
   "source": [
    "# confusion matrix\n",
    "cm_SVM = confusion_matrix(train_y2, y_pred_svm_all4)\n",
    "#print_cm(cm, labels)\n",
    "print('\\n')\n",
    "print(pd.crosstab(train_y2, y_pred_svm_all4, rownames=['Actual'], colnames=['Predicted'], margins=True))"
   ]
  },
  {
   "cell_type": "markdown",
   "id": "0dd5465c",
   "metadata": {},
   "source": [
    "Around 6.3% negative phrases (class 0 and 1) were misclassified as positive (class 3 and 4), and around 4.6% positive phrases were misclassified as negative."
   ]
  },
  {
   "cell_type": "markdown",
   "id": "43424482",
   "metadata": {},
   "source": [
    "Overall, ngram vectors had better accuracy when using stemmed phrases, and unigram feature using original phrases had slightly lower accuracy but higher F1-score."
   ]
  },
  {
   "cell_type": "markdown",
   "id": "eaac496e",
   "metadata": {},
   "source": [
    "#### Random Forest"
   ]
  },
  {
   "cell_type": "code",
   "execution_count": 27,
   "id": "2c71ddb7",
   "metadata": {},
   "outputs": [
    {
     "data": {
      "text/plain": [
       "{'min_samples_leaf': 3, 'n_estimators': 100}"
      ]
     },
     "execution_count": 27,
     "metadata": {},
     "output_type": "execute_result"
    }
   ],
   "source": [
    "#find the best parameters when using unigram and 70% of the original phrases\n",
    "kFolds = 3\n",
    "rf = RandomForestClassifier()\n",
    "distributions = dict(n_estimators =[10,50,100],min_samples_leaf=[3,5,10])\n",
    "tfidf_rf = GridSearchCV(rf, distributions, cv=kFolds)\n",
    "search = tfidf_rf.fit(tfidf_x_vectors, new_train_y)\n",
    "search.best_params_"
   ]
  },
  {
   "cell_type": "markdown",
   "id": "d5574a5c",
   "metadata": {},
   "source": [
    "We only included min_samples_leaf values of 3,5 and 10, and only included n_estimators of 10, 50 and 100 in the search grid to save model train time due to the size of our data."
   ]
  },
  {
   "cell_type": "code",
   "execution_count": 28,
   "id": "341ef997",
   "metadata": {},
   "outputs": [
    {
     "name": "stdout",
     "output_type": "stream",
     "text": [
      "              precision    recall  f1-score   support\n",
      "\n",
      "           0       0.60      0.06      0.11      4889\n",
      "           1       0.54      0.18      0.27     19113\n",
      "           2       0.59      0.93      0.72     55784\n",
      "           3       0.53      0.32      0.40     23060\n",
      "           4       0.60      0.07      0.12      6384\n",
      "\n",
      "    accuracy                           0.58    109230\n",
      "   macro avg       0.57      0.31      0.33    109230\n",
      "weighted avg       0.57      0.58      0.51    109230\n",
      "\n"
     ]
    }
   ],
   "source": [
    "#creating a RF classifier\n",
    "tfidf_rf = RandomForestClassifier(n_estimators = 100,min_samples_leaf=3) \n",
    "\n",
    "kFolds = 3\n",
    "y_pred_rf = cross_val_predict(tfidf_rf, tfidf_x_vectors, new_train_y, cv=kFolds)\n",
    "\n",
    "# classification report compares predictions from the k fold test sets with the gold\n",
    "print(classification_report(new_train_y, y_pred_rf))"
   ]
  },
  {
   "cell_type": "code",
   "execution_count": 29,
   "id": "d0bce148",
   "metadata": {},
   "outputs": [
    {
     "name": "stdout",
     "output_type": "stream",
     "text": [
      "\n",
      "\n",
      "Predicted    0     1      2      3    4     All\n",
      "Actual                                         \n",
      "0          303  1389   3025    170    2    4889\n",
      "1          166  3514  14799    629    5   19113\n",
      "2           32  1425  51928   2350   49   55784\n",
      "3            1   162  15221   7453  223   23060\n",
      "4            0    21   2603   3342  418    6384\n",
      "All        502  6511  87576  13944  697  109230\n"
     ]
    }
   ],
   "source": [
    "# confusion matrix\n",
    "cm_rf = confusion_matrix(new_train_y, y_pred_rf)\n",
    "#print_cm(cm, labels)\n",
    "print('\\n')\n",
    "print(pd.crosstab(new_train_y, y_pred_rf, rownames=['Actual'], colnames=['Predicted'], margins=True))"
   ]
  },
  {
   "cell_type": "markdown",
   "id": "8322f58e",
   "metadata": {},
   "source": [
    "Around 3.4% negative phrases (class 0 and 1) were misclassified as postive (class 3 and 4), and around 0.6% positive phrases were misclassified as negative."
   ]
  },
  {
   "cell_type": "code",
   "execution_count": 30,
   "id": "a534436c",
   "metadata": {},
   "outputs": [
    {
     "data": {
      "text/plain": [
       "{'min_samples_leaf': 3, 'n_estimators': 100}"
      ]
     },
     "execution_count": 30,
     "metadata": {},
     "output_type": "execute_result"
    }
   ],
   "source": [
    "#find the best parameters when using unigram and 70% of stemmed phrase vector\n",
    "kFolds = 3\n",
    "rf = RandomForestClassifier()\n",
    "distributions = dict(n_estimators =[10,50,100],min_samples_leaf=[3,5,10])\n",
    "tfidf_rf = GridSearchCV(rf, distributions, cv=kFolds)\n",
    "search = tfidf_rf.fit(tfidf_x_vectors2, new_train_y2)\n",
    "search.best_params_"
   ]
  },
  {
   "cell_type": "code",
   "execution_count": 31,
   "id": "97efb20f",
   "metadata": {},
   "outputs": [
    {
     "name": "stdout",
     "output_type": "stream",
     "text": [
      "              precision    recall  f1-score   support\n",
      "\n",
      "           0       0.62      0.05      0.09      4023\n",
      "           1       0.53      0.18      0.27     16173\n",
      "           2       0.60      0.93      0.73     48442\n",
      "           3       0.52      0.32      0.40     19277\n",
      "           4       0.65      0.05      0.09      5252\n",
      "\n",
      "    accuracy                           0.58     93167\n",
      "   macro avg       0.58      0.31      0.31     93167\n",
      "weighted avg       0.57      0.58      0.52     93167\n",
      "\n"
     ]
    }
   ],
   "source": [
    "#creating a RF classifier\n",
    "tfidf_rf2 = RandomForestClassifier(n_estimators = 100,min_samples_leaf=3) \n",
    "\n",
    "kFolds = 3\n",
    "y_pred_rf2 = cross_val_predict(tfidf_rf2, tfidf_x_vectors2, new_train_y2, cv=kFolds)\n",
    "\n",
    "# classification report compares predictions from the k fold test sets with the gold\n",
    "print(classification_report(new_train_y2, y_pred_rf2))"
   ]
  },
  {
   "cell_type": "code",
   "execution_count": 32,
   "id": "9f4b2123",
   "metadata": {},
   "outputs": [
    {
     "name": "stdout",
     "output_type": "stream",
     "text": [
      "\n",
      "\n",
      "Predicted    0     1      2      3    4    All\n",
      "Actual                                        \n",
      "0          203  1121   2553    146    0   4023\n",
      "1          105  2924  12533    609    2  16173\n",
      "2           21  1257  44897   2243   24  48442\n",
      "3            1   217  12769   6183  107  19277\n",
      "4            0    30   2199   2776  247   5252\n",
      "All        330  5549  74951  11957  380  93167\n"
     ]
    }
   ],
   "source": [
    "# confusion matrix\n",
    "cm_rf = confusion_matrix(new_train_y2, y_pred_rf2)\n",
    "#print_cm(cm, labels)\n",
    "print('\\n')\n",
    "print(pd.crosstab(new_train_y2, y_pred_rf2, rownames=['Actual'], colnames=['Predicted'], margins=True))"
   ]
  },
  {
   "cell_type": "markdown",
   "id": "f3ba7ce6",
   "metadata": {},
   "source": [
    "Around 3.7% negative phrases (class 0 and 1) were misclassified as positive (class 3 and 4), and around 1.0% positive phrases were misclassified as negative."
   ]
  },
  {
   "cell_type": "markdown",
   "id": "a47a089b",
   "metadata": {},
   "source": [
    "Comparing results above, using stemmed phrases produced better results since it had higher weighted avg F1-Score."
   ]
  },
  {
   "cell_type": "code",
   "execution_count": 41,
   "id": "d0f40276",
   "metadata": {},
   "outputs": [
    {
     "data": {
      "text/plain": [
       "{'min_samples_leaf': 3, 'n_estimators': 100}"
      ]
     },
     "execution_count": 41,
     "metadata": {},
     "output_type": "execute_result"
    }
   ],
   "source": [
    "#we then use the entire data set\n",
    "#find the best parameters when using unigram and 100% of the original phrases\n",
    "kFolds = 3\n",
    "rf = RandomForestClassifier()\n",
    "distributions = dict(n_estimators =[10,50,100],min_samples_leaf=[3,5,10])\n",
    "tfidf_rf = GridSearchCV(rf, distributions, cv=kFolds)\n",
    "search = tfidf_rf.fit(tfidf_x_vectors_all, train_y)\n",
    "search.best_params_"
   ]
  },
  {
   "cell_type": "code",
   "execution_count": 42,
   "id": "505e0b98",
   "metadata": {},
   "outputs": [
    {
     "name": "stdout",
     "output_type": "stream",
     "text": [
      "              precision    recall  f1-score   support\n",
      "\n",
      "           0       0.46      0.02      0.04      7072\n",
      "           1       0.46      0.12      0.19     27272\n",
      "           2       0.57      0.94      0.71     79566\n",
      "           3       0.48      0.26      0.34     32927\n",
      "           4       0.53      0.04      0.07      9206\n",
      "\n",
      "    accuracy                           0.56    156043\n",
      "   macro avg       0.50      0.27      0.27    156043\n",
      "weighted avg       0.53      0.56      0.47    156043\n",
      "\n"
     ]
    }
   ],
   "source": [
    "#creating a RF classifier\n",
    "tfidf_rf_all = RandomForestClassifier(n_estimators = 100,min_samples_leaf=3) \n",
    "\n",
    "kFolds = 3\n",
    "y_pred_rf_all = cross_val_predict(tfidf_rf_all, tfidf_x_vectors_all, train_y, cv=kFolds)\n",
    "\n",
    "# classification report compares predictions from the k fold test sets with the gold\n",
    "print(classification_report(train_y, y_pred_rf_all))"
   ]
  },
  {
   "cell_type": "code",
   "execution_count": 43,
   "id": "24175aec",
   "metadata": {},
   "outputs": [
    {
     "name": "stdout",
     "output_type": "stream",
     "text": [
      "\n",
      "\n",
      "Predicted    0     1       2      3    4     All\n",
      "Actual                                          \n",
      "0          133  1410    5122    404    3    7072\n",
      "1          122  3200   22613   1327   10   27272\n",
      "2           34  1788   74425   3264   55   79566\n",
      "3            1   429   23636   8610  251   32927\n",
      "4            0    84    4496   4266  360    9206\n",
      "All        290  6911  130292  17871  679  156043\n"
     ]
    }
   ],
   "source": [
    "# confusion matrix\n",
    "cm_rf = confusion_matrix(train_y, y_pred_rf_all)\n",
    "#print_cm(cm, labels)\n",
    "print('\\n')\n",
    "print(pd.crosstab(train_y, y_pred_rf_all, rownames=['Actual'], colnames=['Predicted'], margins=True))"
   ]
  },
  {
   "cell_type": "code",
   "execution_count": 33,
   "id": "38e340ac",
   "metadata": {},
   "outputs": [
    {
     "data": {
      "text/plain": [
       "{'min_samples_leaf': 3, 'n_estimators': 50}"
      ]
     },
     "execution_count": 33,
     "metadata": {},
     "output_type": "execute_result"
    }
   ],
   "source": [
    "#find the best parameters when using unigram and 100% of the stemmed phrases\n",
    "kFolds = 3\n",
    "rf = RandomForestClassifier()\n",
    "distributions = dict(n_estimators =[10,50,100],min_samples_leaf=[3,5,10])\n",
    "tfidf_rf = GridSearchCV(rf, distributions, cv=kFolds)\n",
    "search = tfidf_rf.fit(tfidf_x_vectors2_all, train_y2)\n",
    "search.best_params_"
   ]
  },
  {
   "cell_type": "code",
   "execution_count": 34,
   "id": "9eb1f3cd",
   "metadata": {},
   "outputs": [
    {
     "name": "stdout",
     "output_type": "stream",
     "text": [
      "              precision    recall  f1-score   support\n",
      "\n",
      "           0       0.43      0.02      0.03      5684\n",
      "           1       0.48      0.14      0.21     22954\n",
      "           2       0.58      0.93      0.72     69194\n",
      "           3       0.48      0.28      0.35     27766\n",
      "           4       0.53      0.03      0.05      7499\n",
      "\n",
      "    accuracy                           0.57    133097\n",
      "   macro avg       0.50      0.28      0.27    133097\n",
      "weighted avg       0.54      0.57      0.49    133097\n",
      "\n"
     ]
    }
   ],
   "source": [
    "#creating a RF classifier\n",
    "tfidf_rf2_all = RandomForestClassifier(n_estimators = 50,min_samples_leaf=3) \n",
    "\n",
    "kFolds = 3\n",
    "y_pred_rf2_all = cross_val_predict(tfidf_rf2_all, tfidf_x_vectors2_all, train_y2, cv=kFolds)\n",
    "\n",
    "# classification report compares predictions from the k fold test sets with the gold\n",
    "print(classification_report(train_y2, y_pred_rf2_all))"
   ]
  },
  {
   "cell_type": "code",
   "execution_count": 35,
   "id": "35e6178f",
   "metadata": {},
   "outputs": [
    {
     "name": "stdout",
     "output_type": "stream",
     "text": [
      "\n",
      "\n",
      "Predicted    0     1       2      3    4     All\n",
      "Actual                                          \n",
      "0           91  1260    3992    340    1    5684\n",
      "1           84  3109   18626   1131    4   22954\n",
      "2           28  1678   64241   3209   38   69194\n",
      "3            6   368   19481   7770  141   27766\n",
      "4            1    70    3578   3642  208    7499\n",
      "All        210  6485  109918  16092  392  133097\n"
     ]
    }
   ],
   "source": [
    "# confusion matrix\n",
    "cm_rf = confusion_matrix(train_y2, y_pred_rf2_all)\n",
    "#print_cm(cm, labels)\n",
    "print('\\n')\n",
    "print(pd.crosstab(train_y2, y_pred_rf2_all, rownames=['Actual'], colnames=['Predicted'], margins=True))"
   ]
  },
  {
   "cell_type": "markdown",
   "id": "b2c0e706",
   "metadata": {},
   "source": [
    "Based on results above, using stemmed phrases had higher overall accuracy and weighed average f1-score."
   ]
  },
  {
   "cell_type": "code",
   "execution_count": 36,
   "id": "ffbe7afa",
   "metadata": {},
   "outputs": [
    {
     "data": {
      "text/plain": [
       "{'min_samples_leaf': 3, 'n_estimators': 100}"
      ]
     },
     "execution_count": 36,
     "metadata": {},
     "output_type": "execute_result"
    }
   ],
   "source": [
    "#find the best parameters when using 100% of the original phrases and ngram\n",
    "kFolds = 3\n",
    "rf = RandomForestClassifier()\n",
    "distributions = dict(n_estimators =[10,50,100],min_samples_leaf=[3,5,10])\n",
    "ntfidf_rf = GridSearchCV(rf, distributions, cv=kFolds)\n",
    "search = ntfidf_rf.fit(ntfidf_x_vectors2, new_train_y2)\n",
    "search.best_params_"
   ]
  },
  {
   "cell_type": "code",
   "execution_count": 37,
   "id": "3fe8decb",
   "metadata": {},
   "outputs": [
    {
     "name": "stdout",
     "output_type": "stream",
     "text": [
      "              precision    recall  f1-score   support\n",
      "\n",
      "           0       0.54      0.02      0.03      5684\n",
      "           1       0.51      0.10      0.16     22954\n",
      "           2       0.57      0.95      0.71     69194\n",
      "           3       0.51      0.23      0.32     27766\n",
      "           4       0.60      0.04      0.07      7499\n",
      "\n",
      "    accuracy                           0.56    133097\n",
      "   macro avg       0.54      0.27      0.26    133097\n",
      "weighted avg       0.55      0.56      0.47    133097\n",
      "\n"
     ]
    }
   ],
   "source": [
    "#creating a RF classifier\n",
    "tfidf_rf2_all = RandomForestClassifier(n_estimators = 100,min_samples_leaf=3) \n",
    "\n",
    "kFolds = 3\n",
    "y_pred_rf2_all2 = cross_val_predict(tfidf_rf2_all, ntfidf_x_vectors2_all, train_y2, cv=kFolds)\n",
    "\n",
    "# classification report compares predictions from the k fold test sets with the gold\n",
    "print(classification_report(train_y2, y_pred_rf2_all2))"
   ]
  },
  {
   "cell_type": "code",
   "execution_count": 38,
   "id": "bcbffad2",
   "metadata": {},
   "outputs": [
    {
     "name": "stdout",
     "output_type": "stream",
     "text": [
      "\n",
      "\n",
      "Predicted    0     1       2      3    4     All\n",
      "Actual                                          \n",
      "0           94   898    4529    155    8    5684\n",
      "1           59  2203   20104    579    9   22954\n",
      "2           19  1105   65719   2320   31   69194\n",
      "3            2   137   21073   6417  137   27766\n",
      "4            0    18    4032   3175  274    7499\n",
      "All        174  4361  115457  12646  459  133097\n"
     ]
    }
   ],
   "source": [
    "# confusion matrix\n",
    "cm_rf = confusion_matrix(train_y2, y_pred_rf2_all2)\n",
    "#print_cm(cm, labels)\n",
    "print('\\n')\n",
    "print(pd.crosstab(train_y2, y_pred_rf2_all2, rownames=['Actual'], colnames=['Predicted'], margins=True))"
   ]
  },
  {
   "cell_type": "markdown",
   "id": "e2599f0a",
   "metadata": {},
   "source": [
    "Around 2.6% negative phrases (class 0 and 1) were misclassified as positive (class 3 and 4), and around 0.4% positive phrases were misclassified as negative."
   ]
  },
  {
   "cell_type": "markdown",
   "id": "b4deb738",
   "metadata": {},
   "source": [
    "Overall, when using the random forest classifier, we obtained better results using unigram feature and stemmed phrases."
   ]
  },
  {
   "cell_type": "markdown",
   "id": "ebc2ee0d",
   "metadata": {},
   "source": [
    "In the end, based on results obtained from all experiments we conducted for each model, linearSVC classifier produced the best 3-fold cross-validation results."
   ]
  },
  {
   "cell_type": "markdown",
   "id": "7d168b8e",
   "metadata": {},
   "source": [
    "### Feature engineering using NLTK"
   ]
  },
  {
   "cell_type": "markdown",
   "id": "4a857223",
   "metadata": {},
   "source": [
    "We then started using nltk package to generate and compare different features to perform classification analysis."
   ]
  },
  {
   "cell_type": "code",
   "execution_count": 21,
   "id": "8ca5b940",
   "metadata": {},
   "outputs": [],
   "source": [
    "# read train data again and save it in a list that can be processed by nltk \n",
    "f = open('/Users/zhen/Documents/DS@Syracuse/Q3/IST 664/Project/train.tsv', 'r')\n",
    "# loop over lines in the file and use the first limit of them\n",
    "phrasedata = []\n",
    "for line in f:\n",
    "    # ignore the first line starting with Phrase and read all lines\n",
    "    if (not line.startswith('Phrase')):\n",
    "    # remove final end of line character\n",
    "        line = line.strip()\n",
    "    # each line has 4 items separated by tabs\n",
    "    # ignore the phrase and sentence ids, and keep the phrase and sentiment\n",
    "    phrasedata.append(line.split('\\t')[2:4])"
   ]
  },
  {
   "cell_type": "code",
   "execution_count": 22,
   "id": "1320ae0f",
   "metadata": {},
   "outputs": [
    {
     "data": {
      "text/plain": [
       "[['Phrase', 'Sentiment\\n'],\n",
       " ['A series of escapades demonstrating the adage that what is good for the goose is also good for the gander , some of which occasionally amuses but none of which amounts to much of a story .',\n",
       "  '1'],\n",
       " ['A series of escapades demonstrating the adage that what is good for the goose',\n",
       "  '2'],\n",
       " ['A series', '2'],\n",
       " ['A', '2']]"
      ]
     },
     "execution_count": 22,
     "metadata": {},
     "output_type": "execute_result"
    }
   ],
   "source": [
    "#check the first five items in the list\n",
    "phrasedata[0:5]"
   ]
  },
  {
   "cell_type": "code",
   "execution_count": 23,
   "id": "5ededf05",
   "metadata": {},
   "outputs": [],
   "source": [
    "#delete the column names\n",
    "del phrasedata[0]"
   ]
  },
  {
   "cell_type": "code",
   "execution_count": 24,
   "id": "1ac57bb4",
   "metadata": {},
   "outputs": [
    {
     "data": {
      "text/plain": [
       "[['A series of escapades demonstrating the adage that what is good for the goose is also good for the gander , some of which occasionally amuses but none of which amounts to much of a story .',\n",
       "  '1'],\n",
       " ['A series of escapades demonstrating the adage that what is good for the goose',\n",
       "  '2'],\n",
       " ['A series', '2'],\n",
       " ['A', '2'],\n",
       " ['series', '2']]"
      ]
     },
     "execution_count": 24,
     "metadata": {},
     "output_type": "execute_result"
    }
   ],
   "source": [
    "#review first five phrases and their labels\n",
    "phrasedata[0:5]"
   ]
  },
  {
   "cell_type": "code",
   "execution_count": 25,
   "id": "b01ac6df",
   "metadata": {},
   "outputs": [
    {
     "data": {
      "text/plain": [
       "156060"
      ]
     },
     "execution_count": 25,
     "metadata": {},
     "output_type": "execute_result"
    }
   ],
   "source": [
    "#check how many observations are in the data set\n",
    "len(phrasedata)"
   ]
  },
  {
   "cell_type": "code",
   "execution_count": 26,
   "id": "db6bce3d",
   "metadata": {},
   "outputs": [],
   "source": [
    "#shuffle all phrasedata\n",
    "random.seed(11)\n",
    "random.shuffle(phrasedata)"
   ]
  },
  {
   "cell_type": "code",
   "execution_count": 27,
   "id": "f0398636",
   "metadata": {},
   "outputs": [
    {
     "name": "stdout",
     "output_type": "stream",
     "text": [
      "['like Pearl Harbor', '2']\n",
      "['acts', '2']\n",
      "[\"by a weak script that ca n't support the epic treatment\", '1']\n",
      "['delicate coming-of-age tale', '3']\n",
      "['the life out of whatever idealism American moviemaking ever had', '1']\n"
     ]
    }
   ],
   "source": [
    "#check the updated first five phrases\n",
    "for phrase in phrasedata[:5]:\n",
    "    print (phrase)"
   ]
  },
  {
   "cell_type": "code",
   "execution_count": 28,
   "id": "e1e2d255",
   "metadata": {},
   "outputs": [],
   "source": [
    "# create list of phrase documents as (list of words, label)\n",
    "phrasedocs = []\n",
    "# add all the phrases\n",
    "for phrase in phrasedata:\n",
    "    tokens = nltk.word_tokenize(phrase[0])\n",
    "    #convert every tokens to lowercase\n",
    "    words = [w.lower() for w in tokens]\n",
    "    # remove the punctuation\n",
    "    punctuation = [\",\",\".\",\"?\",\"!\",\":\",\";\",'--',\"''\",'``','&',\"(\",\")\",'...','\\\\','//','*',\"'\",'`','$','-']\n",
    "    words_nopunct = [w for w in words if not w in punctuation]\n",
    "    phrasedocs.append((words_nopunct, int(phrase[1])))"
   ]
  },
  {
   "cell_type": "markdown",
   "id": "df5b8609",
   "metadata": {},
   "source": [
    "We chose not to remove stop words because some phrases only include stop words."
   ]
  },
  {
   "cell_type": "code",
   "execution_count": 50,
   "id": "41223a2f",
   "metadata": {},
   "outputs": [
    {
     "data": {
      "text/plain": [
       "(['like', 'pearl', 'harbor'], 2)"
      ]
     },
     "execution_count": 50,
     "metadata": {},
     "output_type": "execute_result"
    }
   ],
   "source": [
    "#check the current first element in the phrasedocs\n",
    "phrasedocs[0]"
   ]
  },
  {
   "cell_type": "code",
   "execution_count": 30,
   "id": "a9f8ed06",
   "metadata": {},
   "outputs": [],
   "source": [
    "# get all words and put them into a frequency distribution\n",
    "phrase_words_list = [word for (sent,cat) in phrasedocs for word in sent]\n",
    "phrase_words = nltk.FreqDist(phrase_words_list)"
   ]
  },
  {
   "cell_type": "code",
   "execution_count": 31,
   "id": "2eb59ee2",
   "metadata": {},
   "outputs": [],
   "source": [
    "# get the 2000 most frequently appearing keywords\n",
    "word_items = phrase_words.most_common(2000)\n",
    "\n",
    "# create a word_features list that include tuples of word and its count\n",
    "word_features = [word for (word,count) in word_items]"
   ]
  },
  {
   "cell_type": "code",
   "execution_count": 32,
   "id": "862be067",
   "metadata": {},
   "outputs": [
    {
     "data": {
      "text/plain": [
       "2000"
      ]
     },
     "execution_count": 32,
     "metadata": {},
     "output_type": "execute_result"
    }
   ],
   "source": [
    "len(word_features)"
   ]
  },
  {
   "cell_type": "code",
   "execution_count": 33,
   "id": "07d01860",
   "metadata": {},
   "outputs": [
    {
     "name": "stdout",
     "output_type": "stream",
     "text": [
      "the 4.89 %;\n",
      "\n",
      "a 3.45 %;\n",
      "\n",
      "of 3.08 %;\n",
      "\n",
      "and 3.03 %;\n",
      "\n",
      "to 2.14 %;\n",
      "\n",
      "'s 1.62 %;\n",
      "\n",
      "in 1.31 %;\n",
      "\n",
      "is 1.28 %;\n",
      "\n",
      "that 1.18 %;\n",
      "\n",
      "it 1.11 %;\n",
      "\n",
      "as 0.82 %;\n",
      "\n",
      "with 0.74 %;\n",
      "\n",
      "for 0.71 %;\n",
      "\n",
      "its 0.67 %;\n",
      "\n",
      "film 0.64 %;\n",
      "\n",
      "an 0.62 %;\n",
      "\n",
      "movie 0.56 %;\n",
      "\n",
      "this 0.54 %;\n",
      "\n",
      "but 0.49 %;\n",
      "\n",
      "be 0.47 %;\n",
      "\n",
      "you 0.46 %;\n",
      "\n",
      "on 0.45 %;\n",
      "\n",
      "n't 0.38 %;\n",
      "\n",
      "by 0.37 %;\n",
      "\n",
      "more 0.37 %;\n",
      "\n",
      "his 0.37 %;\n",
      "\n",
      "about 0.35 %;\n",
      "\n",
      "one 0.34 %;\n",
      "\n",
      "not 0.34 %;\n",
      "\n",
      "at 0.34 %;\n",
      "\n"
     ]
    }
   ],
   "source": [
    "#print the top 30 most frequent words, the individual word count was normalized \n",
    "for items in word_items[0:30]:\n",
    "    print(items[0], round(items[1]/len(phrase_words_list)*100,2),'%;\\n')"
   ]
  },
  {
   "cell_type": "markdown",
   "id": "9de3e3f4",
   "metadata": {},
   "source": [
    "We also tried using the top 1000 and 3000 most frequently appearing words to build our word features. However, we found that as accuracy increases with using more words, so does computing time. Therefore, we determined to use the top 2000 most frequent words for future analysis. "
   ]
  },
  {
   "cell_type": "markdown",
   "id": "d03a546b",
   "metadata": {},
   "source": [
    "In addition, we wanted to compare results using regular phrases to results using stemmed phrases. Therefore, we created word features for the stemmed phrases as well."
   ]
  },
  {
   "cell_type": "code",
   "execution_count": 34,
   "id": "ee5975d1",
   "metadata": {},
   "outputs": [],
   "source": [
    "# create list of stemmed phrase documents as (list of words, label)\n",
    "# the porter stemmer converts every token to lowercase\n",
    "stemmed_phrasedocs = []\n",
    "porter = nltk.PorterStemmer()\n",
    "# add all the phrases\n",
    "for phrase in phrasedata:\n",
    "    tokens = nltk.word_tokenize(phrase[0])\n",
    "    # remove the punctuations\n",
    "    punctuations = [\",\",\".\",\"?\",\"!\",\":\",\";\",'--',\"''\",'``','&',\"(\",\")\",'...','\\\\','//','*',\"'\",'`','$','-']\n",
    "    words_nopunct = [w for w in tokens if not w in punctuations]\n",
    "    # perform stemming\n",
    "    words_stem = [porter.stem(w) for w in words_nopunct]\n",
    "    stemmed_phrasedocs.append((words_stem, int(phrase[1])))"
   ]
  },
  {
   "cell_type": "code",
   "execution_count": 51,
   "id": "ce426745",
   "metadata": {},
   "outputs": [
    {
     "data": {
      "text/plain": [
       "(['like', 'pearl', 'harbor'], 2)"
      ]
     },
     "execution_count": 51,
     "metadata": {},
     "output_type": "execute_result"
    }
   ],
   "source": [
    "# check the first element in the list\n",
    "stemmed_phrasedocs[0]"
   ]
  },
  {
   "cell_type": "code",
   "execution_count": 36,
   "id": "aae0892f",
   "metadata": {},
   "outputs": [],
   "source": [
    "# get all words and put them into a frequency distribution\n",
    "stemmed_phrase_words_list = [word for (sent,cat) in stemmed_phrasedocs for word in sent]\n",
    "stemmed_phrase_words = nltk.FreqDist(stemmed_phrase_words_list)"
   ]
  },
  {
   "cell_type": "code",
   "execution_count": 37,
   "id": "46f461d4",
   "metadata": {},
   "outputs": [
    {
     "data": {
      "text/plain": [
       "2000"
      ]
     },
     "execution_count": 37,
     "metadata": {},
     "output_type": "execute_result"
    }
   ],
   "source": [
    "# get the 2000 most frequently appearing keywords\n",
    "stemmed_word_items = stemmed_phrase_words.most_common(2000)\n",
    "\n",
    "# create word_features list for stemmed words\n",
    "stemmed_word_features = [word for (word,count) in stemmed_word_items]\n",
    "len(stemmed_word_features)"
   ]
  },
  {
   "cell_type": "code",
   "execution_count": 38,
   "id": "461eac02",
   "metadata": {},
   "outputs": [
    {
     "name": "stdout",
     "output_type": "stream",
     "text": [
      "the 4.89 %;\n",
      "\n",
      "a 3.45 %;\n",
      "\n",
      "of 3.08 %;\n",
      "\n",
      "and 3.03 %;\n",
      "\n",
      "to 2.14 %;\n",
      "\n",
      "it 1.79 %;\n",
      "\n",
      "'s 1.62 %;\n",
      "\n",
      "in 1.31 %;\n",
      "\n",
      "is 1.28 %;\n",
      "\n",
      "that 1.18 %;\n",
      "\n",
      "as 0.82 %;\n",
      "\n",
      "film 0.74 %;\n",
      "\n",
      "with 0.74 %;\n",
      "\n",
      "for 0.71 %;\n",
      "\n",
      "movi 0.69 %;\n",
      "\n",
      "an 0.62 %;\n",
      "\n",
      "be 0.57 %;\n",
      "\n",
      "thi 0.54 %;\n",
      "\n",
      "but 0.49 %;\n",
      "\n",
      "you 0.46 %;\n",
      "\n",
      "on 0.45 %;\n",
      "\n",
      "n't 0.38 %;\n",
      "\n",
      "by 0.37 %;\n",
      "\n",
      "more 0.37 %;\n",
      "\n",
      "hi 0.37 %;\n",
      "\n",
      "one 0.36 %;\n",
      "\n",
      "about 0.35 %;\n",
      "\n",
      "not 0.34 %;\n",
      "\n",
      "at 0.34 %;\n",
      "\n",
      "like 0.33 %;\n",
      "\n"
     ]
    }
   ],
   "source": [
    "#print the top 30 most frequent words\n",
    "for items in stemmed_word_items[0:30]:\n",
    "    print(items[0], round(items[1]/len(stemmed_phrase_words_list)*100,2),'%;\\n')"
   ]
  },
  {
   "cell_type": "code",
   "execution_count": 39,
   "id": "58715c79",
   "metadata": {},
   "outputs": [],
   "source": [
    "#extract sentiment class labels and save the results to a list, this will be used to evaluate model predictions\n",
    "label_list = [c for (d,c) in phrasedocs]\n",
    "labels = list(set(label_list)) "
   ]
  },
  {
   "cell_type": "markdown",
   "id": "1b0abbb7",
   "metadata": {},
   "source": [
    "#### Create functions"
   ]
  },
  {
   "cell_type": "markdown",
   "id": "f76b23d8",
   "metadata": {},
   "source": [
    "In this section, we will create several functions to be used for model evaluation. In addition, we will create a function that can save features to a csv file. "
   ]
  },
  {
   "cell_type": "code",
   "execution_count": 40,
   "id": "9b7926da",
   "metadata": {},
   "outputs": [],
   "source": [
    "### Function to compute precision, recall and F1 for each label ###\n",
    "# Input: list of provided labels, list of predicted labels (in same order)\n",
    "# Output: returns lists of precision, recall and F1 for each label\n",
    "def eval_measures(gold, predicted, labels):\n",
    "    \n",
    "    # these lists have values for each label \n",
    "    recall_list = []\n",
    "    precision_list = []\n",
    "    F1_list = []\n",
    "\n",
    "    for lab in labels:\n",
    "        # for each label, compare gold and predicted lists and compute values\n",
    "        TP = FP = FN = TN = 0\n",
    "        for i, val in enumerate(gold):\n",
    "            if val == lab and predicted[i] == lab:  TP += 1\n",
    "            if val == lab and predicted[i] != lab:  FN += 1\n",
    "            if val != lab and predicted[i] == lab:  FP += 1\n",
    "            if val != lab and predicted[i] != lab:  TN += 1\n",
    "        # use these to compute recall, precision, F1\n",
    "        # for small numbers, guard against dividing by zero in computing measures\n",
    "        if (TP == 0) or (FP == 0) or (FN == 0):\n",
    "          recall_list.append (0)\n",
    "          precision_list.append (0)\n",
    "          F1_list.append(0)\n",
    "        else:\n",
    "          recall = TP / (TP + FP)\n",
    "          precision = TP / (TP + FN)\n",
    "          recall_list.append(recall)\n",
    "          precision_list.append(precision)\n",
    "          F1_list.append( 2 * (recall * precision) / (recall + precision))\n",
    "\n",
    "    # the evaluation measures in a table with one row per label\n",
    "    return (precision_list, recall_list, F1_list)"
   ]
  },
  {
   "cell_type": "code",
   "execution_count": 41,
   "id": "6ecf8d05",
   "metadata": {},
   "outputs": [],
   "source": [
    "### cross-validation using nltk NaiveBayesClassifier ###\n",
    "# this function takes the number of folds, the feature sets and the labels\n",
    "# it iterates over the folds, using different sections for training and testing in turn\n",
    "# it prints the performance for each fold and the average performance at the end\n",
    "def cross_validation_PRF(num_folds, featuresets, labels):\n",
    "    subset_size = int(len(featuresets)/num_folds)\n",
    "    print('Each fold size:', subset_size)\n",
    "    # for the number of labels - start the totals lists with zeroes\n",
    "    num_labels = len(labels)\n",
    "    total_precision_list = [0] * num_labels\n",
    "    total_recall_list = [0] * num_labels\n",
    "    total_F1_list = [0] * num_labels\n",
    "    accuracy_list = []\n",
    "\n",
    "    # iterate over the folds\n",
    "    for i in range(num_folds):\n",
    "        test_this_round = featuresets[(i*subset_size):][:subset_size]\n",
    "        train_this_round = featuresets[:(i*subset_size)] + featuresets[((i+1)*subset_size):]\n",
    "        # train using train_this_round\n",
    "        classifier = nltk.NaiveBayesClassifier.train(train_this_round)\n",
    "        # evaluate against test_this_round to produce the gold and predicted labels\n",
    "        goldlist = []\n",
    "        predictedlist = []\n",
    "        for (features, label) in test_this_round:\n",
    "            goldlist.append(label)\n",
    "            predictedlist.append(classifier.classify(features))\n",
    "\n",
    "        # computes evaluation measures for this fold and\n",
    "        #   returns list of measures for each label\n",
    "        print('Fold', i)\n",
    "        (precision_list, recall_list, F1_list) \\\n",
    "                  = eval_measures(goldlist, predictedlist, labels)\n",
    "        \n",
    "        # evaluate against test_this_round and save accuracy\n",
    "        accuracy_this_round = nltk.classify.accuracy(classifier, test_this_round)\n",
    "        accuracy_list.append(accuracy_this_round)\n",
    "        \n",
    "        # take off triple string to print precision, recall and F1 for each fold\n",
    "        '''\n",
    "        print('\\tPrecision\\tRecall\\t\\tF1')\n",
    "        # print measures for each label\n",
    "        for i, lab in enumerate(labels):\n",
    "            print(lab, '\\t', \"{:10.3f}\".format(precision_list[i]), \\\n",
    "              \"{:10.3f}\".format(recall_list[i]), \"{:10.3f}\".format(F1_list[i]))\n",
    "        '''\n",
    "        # for each label add to the sums in the total lists\n",
    "        for i in range(num_labels):\n",
    "            # for each label, add the 3 measures to the 3 lists of totals\n",
    "            total_precision_list[i] += precision_list[i]\n",
    "            total_recall_list[i] += recall_list[i]\n",
    "            total_F1_list[i] += F1_list[i]\n",
    "\n",
    "    # find precision, recall and F measure averaged over all rounds for all labels\n",
    "    # compute averages from the totals lists\n",
    "    precision_list = [tot/num_folds for tot in total_precision_list]\n",
    "    recall_list = [tot/num_folds for tot in total_recall_list]\n",
    "    F1_list = [tot/num_folds for tot in total_F1_list]\n",
    "    # the evaluation measures in a table with one row per label\n",
    "    print('\\nAverage Precision\\tRecall\\t\\tF1 \\tPer Label')\n",
    "    # print measures for each label\n",
    "    for i, lab in enumerate(labels):\n",
    "        print(lab, '\\t', \"{:10.3f}\".format(precision_list[i]), \\\n",
    "          \"{:10.3f}\".format(recall_list[i]), \"{:10.3f}\".format(F1_list[i]))\n",
    "    \n",
    "    # find mean accuracy over all rounds\n",
    "    print ('\\nMean accuracy', sum(accuracy_list) / num_folds)\n",
    "    \n",
    "    # print macro average over all labels - treats each label equally\n",
    "    print('\\nMacro Average Precision\\tRecall\\t\\tF1 \\tOver All Labels')\n",
    "    print('\\t', \"{:10.3f}\".format(sum(precision_list)/num_labels), \\\n",
    "          \"{:10.3f}\".format(sum(recall_list)/num_labels), \\\n",
    "          \"{:10.3f}\".format(sum(F1_list)/num_labels))\n",
    "\n",
    "    # for micro averaging, weight the scores for each label by the number of items\n",
    "    #    this is better for labels with imbalance\n",
    "    # first intialize a dictionary for label counts and then count them\n",
    "    label_counts = {}\n",
    "    for lab in labels:\n",
    "      label_counts[lab] = 0 \n",
    "    # count the labels\n",
    "    for (doc, lab) in featuresets:\n",
    "      label_counts[lab] += 1\n",
    "    # make weights compared to the number of documents in featuresets\n",
    "    num_docs = len(featuresets)\n",
    "    label_weights = [(label_counts[lab] / num_docs) for lab in labels]\n",
    "    print('\\nLabel Counts', label_counts)\n",
    "    #print('Label weights', label_weights)\n",
    "    # print macro average over all labels\n",
    "    print('Micro Average Precision\\tRecall\\t\\tF1 \\tOver All Labels')\n",
    "    precision = sum([a * b for a,b in zip(precision_list, label_weights)])\n",
    "    recall = sum([a * b for a,b in zip(recall_list, label_weights)])\n",
    "    F1 = sum([a * b for a,b in zip(F1_list, label_weights)])\n",
    "    print( '\\t', \"{:10.3f}\".format(precision), \\\n",
    "      \"{:10.3f}\".format(recall), \"{:10.3f}\".format(F1))"
   ]
  },
  {
   "cell_type": "code",
   "execution_count": 42,
   "id": "b3e3ee88",
   "metadata": {},
   "outputs": [],
   "source": [
    "import sys\n",
    "### Function writeFeatureSets: ###\n",
    "# takes featuresets defined in the nltk and convert them to csv file\n",
    "# any feature value in the featuresets should not contain \",\", \"'\" or \" itself\n",
    "# and write the file to the outpath location\n",
    "def writeFeatureSets(featuresets, outpath):\n",
    "    # open outpath for writing\n",
    "    f = open(outpath, 'w')\n",
    "    # get the feature names from the feature dictionary in the first featureset\n",
    "    featurenames = featuresets[0][0].keys()\n",
    "    # create the first line of the file as comma separated feature names\n",
    "    #    with the word class as the last feature name\n",
    "    featurenameline = ''\n",
    "    for featurename in featurenames:\n",
    "        # replace forbidden characters with text abbreviations\n",
    "        featurename = featurename.replace(',','CM')\n",
    "        featurename = featurename.replace(\"'\",\"DQ\")\n",
    "        featurename = featurename.replace('\"','QU')\n",
    "        featurenameline += featurename + ','\n",
    "    featurenameline += 'class'\n",
    "    # write this as the first line in the csv file\n",
    "    f.write(featurenameline)\n",
    "    f.write('\\n')\n",
    "    # convert each feature set to a line in the file with comma separated feature values,\n",
    "    # each feature value is converted to a string \n",
    "    #   for booleans this is the words true and false\n",
    "    #   for numbers, this is the string with the number\n",
    "    for featureset in featuresets:\n",
    "        featureline = ''\n",
    "        for key in featurenames:\n",
    "            featureline += str(featureset[0][key]) + ','\n",
    "        featureline += str(featureset[1])\n",
    "        # write each feature set values to the file\n",
    "        f.write(featureline)\n",
    "        f.write('\\n')\n",
    "    f.close()"
   ]
  },
  {
   "cell_type": "markdown",
   "id": "b7d73410",
   "metadata": {},
   "source": [
    "### Feature sets development and comparison"
   ]
  },
  {
   "cell_type": "markdown",
   "id": "ccd25ff9",
   "metadata": {},
   "source": [
    "#### Unigram feature"
   ]
  },
  {
   "cell_type": "code",
   "execution_count": 24,
   "id": "0a1f7836",
   "metadata": {},
   "outputs": [],
   "source": [
    "#### Create features for a BOW/unigram baseline ####\n",
    "# each feature is 'V_keyword' and is true or false depending on whether that keyword is in the document\n",
    "def unigram_features(document, word_features):\n",
    "    document_words = set(document)\n",
    "    features = {}\n",
    "    for word in word_features:\n",
    "        features['V_{}'.format(word)] = (word in document_words)\n",
    "    return features"
   ]
  },
  {
   "cell_type": "code",
   "execution_count": 25,
   "id": "ee65aa55",
   "metadata": {},
   "outputs": [],
   "source": [
    "# get features sets for a phrase, including keyword features and sentiment class feature\n",
    "unigram_featuresets = [(unigram_features(d, word_features), c) for (d, c) in phrasedocs]"
   ]
  },
  {
   "cell_type": "code",
   "execution_count": 26,
   "id": "40b3dfdc",
   "metadata": {},
   "outputs": [
    {
     "data": {
      "text/plain": [
       "({'V_the': False,\n",
       "  'V_a': False,\n",
       "  'V_of': False,\n",
       "  'V_and': False,\n",
       "  'V_to': False,\n",
       "  \"V_'s\": False,\n",
       "  'V_in': False,\n",
       "  'V_is': False,\n",
       "  'V_that': False,\n",
       "  'V_it': False,\n",
       "  'V_as': False,\n",
       "  'V_with': False,\n",
       "  'V_for': False,\n",
       "  'V_its': False,\n",
       "  'V_film': False,\n",
       "  'V_an': False,\n",
       "  'V_movie': False,\n",
       "  'V_this': False,\n",
       "  'V_but': False,\n",
       "  'V_be': False,\n",
       "  'V_you': False,\n",
       "  'V_on': False,\n",
       "  \"V_n't\": False,\n",
       "  'V_by': False,\n",
       "  'V_more': False,\n",
       "  'V_his': False,\n",
       "  'V_about': False,\n",
       "  'V_one': False,\n",
       "  'V_not': False,\n",
       "  'V_at': False,\n",
       "  'V_or': False,\n",
       "  'V_from': False,\n",
       "  'V_than': False,\n",
       "  'V_all': False,\n",
       "  'V_have': False,\n",
       "  'V_like': False,\n",
       "  'V_are': False,\n",
       "  'V_has': False,\n",
       "  'V_so': False,\n",
       "  'V_story': False,\n",
       "  'V_-rrb-': False,\n",
       "  'V_out': False,\n",
       "  'V_who': False,\n",
       "  'V_most': False,\n",
       "  'V_into': False,\n",
       "  'V_too': False,\n",
       "  'V_up': False,\n",
       "  'V_-lrb-': False,\n",
       "  'V_good': False,\n",
       "  'V_if': False,\n",
       "  'V_what': False,\n",
       "  'V_their': False,\n",
       "  'V_characters': False,\n",
       "  'V_much': False,\n",
       "  'V_no': False,\n",
       "  'V_can': False,\n",
       "  'V_i': False,\n",
       "  'V_your': False,\n",
       "  'V_time': False,\n",
       "  'V_comedy': False,\n",
       "  'V_just': False,\n",
       "  'V_some': False,\n",
       "  'V_does': False,\n",
       "  'V_even': False,\n",
       "  'V_little': False,\n",
       "  'V_will': False,\n",
       "  'V_funny': False,\n",
       "  'V_way': False,\n",
       "  'V_life': False,\n",
       "  'V_any': False,\n",
       "  'V_very': False,\n",
       "  'V_been': False,\n",
       "  'V_make': False,\n",
       "  'V_only': False,\n",
       "  'V_which': False,\n",
       "  'V_he': False,\n",
       "  'V_movies': False,\n",
       "  'V_love': False,\n",
       "  'V_do': False,\n",
       "  'V_new': False,\n",
       "  'V_there': False,\n",
       "  'V_enough': False,\n",
       "  'V_work': False,\n",
       "  'V_her': False,\n",
       "  'V_was': False,\n",
       "  'V_us': False,\n",
       "  'V_bad': False,\n",
       "  'V_own': False,\n",
       "  'V_they': False,\n",
       "  'V_other': False,\n",
       "  'V_something': False,\n",
       "  'V_would': False,\n",
       "  'V_never': False,\n",
       "  'V_we': False,\n",
       "  'V_director': False,\n",
       "  'V_through': False,\n",
       "  'V_many': False,\n",
       "  'V_people': False,\n",
       "  'V_when': False,\n",
       "  'V_made': False,\n",
       "  'V_best': False,\n",
       "  'V_two': False,\n",
       "  'V_makes': False,\n",
       "  'V_them': False,\n",
       "  'V_how': False,\n",
       "  'V_action': False,\n",
       "  'V_may': False,\n",
       "  'V_plot': False,\n",
       "  'V_films': False,\n",
       "  'V_could': False,\n",
       "  'V_character': False,\n",
       "  'V_see': False,\n",
       "  'V_well': False,\n",
       "  'V_being': False,\n",
       "  'V_world': False,\n",
       "  'V_better': False,\n",
       "  'V_audience': False,\n",
       "  'V_drama': False,\n",
       "  'V_look': False,\n",
       "  'V_really': False,\n",
       "  'V_those': False,\n",
       "  'V_without': False,\n",
       "  'V_sense': False,\n",
       "  'V_off': False,\n",
       "  'V_every': False,\n",
       "  'V_great': False,\n",
       "  'V_humor': False,\n",
       "  'V_few': False,\n",
       "  'V_long': False,\n",
       "  'V_first': False,\n",
       "  'V_another': False,\n",
       "  'V_should': False,\n",
       "  'V_over': False,\n",
       "  \"V_'re\": False,\n",
       "  'V_feel': False,\n",
       "  'V_get': False,\n",
       "  'V_minutes': False,\n",
       "  'V_such': False,\n",
       "  'V_big': False,\n",
       "  'V_both': False,\n",
       "  'V_man': False,\n",
       "  'V_performances': False,\n",
       "  'V_cast': False,\n",
       "  'V_real': False,\n",
       "  'V_ever': False,\n",
       "  'V_still': False,\n",
       "  'V_hollywood': False,\n",
       "  'V_while': False,\n",
       "  'V_nothing': False,\n",
       "  'V_human': False,\n",
       "  'V_between': False,\n",
       "  'V_performance': False,\n",
       "  'V_fun': False,\n",
       "  'V_might': False,\n",
       "  'V_old': False,\n",
       "  'V_less': False,\n",
       "  'V_screen': False,\n",
       "  'V_were': False,\n",
       "  'V_things': False,\n",
       "  'V_often': False,\n",
       "  'V_had': False,\n",
       "  'V_these': False,\n",
       "  'V_kind': False,\n",
       "  'V_moments': False,\n",
       "  'V_script': False,\n",
       "  'V_family': False,\n",
       "  'V_seen': False,\n",
       "  'V_down': False,\n",
       "  'V_also': False,\n",
       "  'V_our': False,\n",
       "  'V_before': False,\n",
       "  'V_american': False,\n",
       "  'V_interesting': False,\n",
       "  'V_far': False,\n",
       "  'V_acting': False,\n",
       "  'V_rather': False,\n",
       "  'V_original': False,\n",
       "  'V_because': False,\n",
       "  'V_watch': False,\n",
       "  'V_heart': False,\n",
       "  'V_almost': False,\n",
       "  'V_back': False,\n",
       "  'V_young': False,\n",
       "  'V_emotional': False,\n",
       "  'V_entertaining': False,\n",
       "  'V_material': False,\n",
       "  'V_end': False,\n",
       "  'V_my': False,\n",
       "  'V_thriller': False,\n",
       "  'V_after': False,\n",
       "  'V_actors': False,\n",
       "  'V_here': False,\n",
       "  'V_cinema': False,\n",
       "  'V_go': False,\n",
       "  'V_right': False,\n",
       "  'V_dialogue': False,\n",
       "  'V_find': False,\n",
       "  'V_hard': False,\n",
       "  'V_picture': False,\n",
       "  'V_scenes': False,\n",
       "  'V_take': False,\n",
       "  \"V_'ve\": False,\n",
       "  'V_lot': False,\n",
       "  'V_music': False,\n",
       "  'V_full': False,\n",
       "  'V_yet': False,\n",
       "  'V_tale': False,\n",
       "  'V_times': False,\n",
       "  'V_quite': False,\n",
       "  'V_come': False,\n",
       "  'V_watching': False,\n",
       "  'V_itself': False,\n",
       "  'V_romantic': False,\n",
       "  'V_him': False,\n",
       "  'V_me': False,\n",
       "  'V_years': False,\n",
       "  'V_thing': False,\n",
       "  'V_same': False,\n",
       "  'V_comes': False,\n",
       "  'V_documentary': False,\n",
       "  'V_subject': False,\n",
       "  'V_going': False,\n",
       "  'V_worth': False,\n",
       "  'V_seems': False,\n",
       "  'V_year': False,\n",
       "  'V_making': False,\n",
       "  'V_war': False,\n",
       "  'V_ca': False,\n",
       "  'V_women': False,\n",
       "  'V_give': False,\n",
       "  'V_dark': False,\n",
       "  'V_though': False,\n",
       "  \"V_'ll\": False,\n",
       "  'V_history': False,\n",
       "  'V_where': False,\n",
       "  'V_kids': False,\n",
       "  'V_special': False,\n",
       "  'V_feels': False,\n",
       "  'V_seem': False,\n",
       "  'V_comic': False,\n",
       "  'V_anything': False,\n",
       "  'V_did': False,\n",
       "  'V_keep': False,\n",
       "  'V_least': False,\n",
       "  'V_works': False,\n",
       "  'V_compelling': False,\n",
       "  'V_want': False,\n",
       "  'V_visual': False,\n",
       "  'V_bit': False,\n",
       "  'V_last': False,\n",
       "  'V_care': False,\n",
       "  'V_ultimately': False,\n",
       "  'V_style': False,\n",
       "  'V_star': False,\n",
       "  'V_takes': False,\n",
       "  'V_point': False,\n",
       "  'V_think': False,\n",
       "  'V_art': False,\n",
       "  'V_sometimes': False,\n",
       "  'V_show': False,\n",
       "  'V_around': False,\n",
       "  'V_entertainment': False,\n",
       "  'V_actually': False,\n",
       "  'V_say': False,\n",
       "  'V_away': False,\n",
       "  'V_gets': False,\n",
       "  'V_pretty': False,\n",
       "  'V_again': False,\n",
       "  'V_sweet': False,\n",
       "  'V_fans': False,\n",
       "  'V_direction': False,\n",
       "  'V_together': False,\n",
       "  'V_need': False,\n",
       "  'V_piece': False,\n",
       "  'V_place': False,\n",
       "  'V_part': False,\n",
       "  'V_know': False,\n",
       "  'V_why': False,\n",
       "  'V_true': False,\n",
       "  'V_she': False,\n",
       "  'V_familiar': False,\n",
       "  'V_once': False,\n",
       "  'V_then': False,\n",
       "  'V_moving': False,\n",
       "  'V_experience': False,\n",
       "  'V_genre': False,\n",
       "  'V_three': False,\n",
       "  'V_anyone': False,\n",
       "  'V_fascinating': False,\n",
       "  'V_cinematic': False,\n",
       "  'V_under': False,\n",
       "  'V_laughs': False,\n",
       "  'V_lives': False,\n",
       "  'V_dull': False,\n",
       "  'V_clever': False,\n",
       "  'V_children': False,\n",
       "  'V_flick': False,\n",
       "  'V_matter': False,\n",
       "  'V_nearly': False,\n",
       "  'V_theater': False,\n",
       "  'V_short': False,\n",
       "  'V_gives': False,\n",
       "  'V_feature': False,\n",
       "  'V_idea': False,\n",
       "  'V_face': False,\n",
       "  'V_series': False,\n",
       "  'V_set': False,\n",
       "  'V_whose': False,\n",
       "  'V_narrative': False,\n",
       "  'V_screenplay': False,\n",
       "  'V_silly': False,\n",
       "  'V_each': False,\n",
       "  'V_premise': False,\n",
       "  'V_trying': False,\n",
       "  'V_culture': False,\n",
       "  'V_looking': False,\n",
       "  'V_men': False,\n",
       "  'V_since': False,\n",
       "  'V_video': False,\n",
       "  'V_horror': False,\n",
       "  'V_high': False,\n",
       "  'V_book': False,\n",
       "  'V_whole': False,\n",
       "  'V_summer': False,\n",
       "  'V_easy': False,\n",
       "  'V_enjoyable': False,\n",
       "  'V_done': False,\n",
       "  'V_title': False,\n",
       "  'V_day': False,\n",
       "  'V_level': False,\n",
       "  'V_simply': False,\n",
       "  'V_interest': False,\n",
       "  'V_half': False,\n",
       "  'V_energy': False,\n",
       "  'V_especially': False,\n",
       "  'V_tv': False,\n",
       "  'V_study': False,\n",
       "  'V_dramatic': False,\n",
       "  'V_modern': False,\n",
       "  'V_always': False,\n",
       "  'V_effects': False,\n",
       "  'V_amusing': False,\n",
       "  'V_light': False,\n",
       "  'V_everything': False,\n",
       "  'V_filmmakers': False,\n",
       "  'V_himself': False,\n",
       "  'V_beautiful': False,\n",
       "  'V_engaging': False,\n",
       "  'V_powerful': False,\n",
       "  'V_next': False,\n",
       "  'V_strong': False,\n",
       "  'V_power': False,\n",
       "  'V_smart': False,\n",
       "  'V_woman': False,\n",
       "  'V_obvious': False,\n",
       "  'V_worst': False,\n",
       "  'V_stories': False,\n",
       "  'V_goes': False,\n",
       "  'V_tone': False,\n",
       "  'V_predictable': False,\n",
       "  'V_spirit': False,\n",
       "  'V_political': False,\n",
       "  'V_past': False,\n",
       "  'V_social': False,\n",
       "  'V_effort': False,\n",
       "  'V_classic': False,\n",
       "  'V_surprisingly': False,\n",
       "  'V_filmmaking': False,\n",
       "  'V_become': False,\n",
       "  'V_french': False,\n",
       "  'V_romance': False,\n",
       "  'V_john': False,\n",
       "  'V_portrait': False,\n",
       "  'V_wit': False,\n",
       "  'V_instead': False,\n",
       "  'V_hours': False,\n",
       "  'V_probably': False,\n",
       "  \"V_'d\": False,\n",
       "  'V_intelligence': False,\n",
       "  'V_version': False,\n",
       "  'V_hour': False,\n",
       "  'V_feeling': False,\n",
       "  'V_either': False,\n",
       "  'V_exercise': False,\n",
       "  'V_camera': False,\n",
       "  'V_line': False,\n",
       "  'V_manages': False,\n",
       "  'V_intelligent': False,\n",
       "  'V_everyone': False,\n",
       "  'V_melodrama': False,\n",
       "  'V_black': False,\n",
       "  'V_debut': False,\n",
       "  'V_mind': False,\n",
       "  'V_turn': False,\n",
       "  'V_recent': False,\n",
       "  'V_reason': False,\n",
       "  'V_quirky': False,\n",
       "  'V_mr.': False,\n",
       "  'V_offers': False,\n",
       "  'V_charming': False,\n",
       "  'V_ideas': False,\n",
       "  'V_suspense': False,\n",
       "  'V_death': False,\n",
       "  'V_small': False,\n",
       "  'V_stuff': False,\n",
       "  'V_truly': False,\n",
       "  'V_live': False,\n",
       "  'V_charm': False,\n",
       "  'V_actor': False,\n",
       "  'V_head': False,\n",
       "  'V_despite': False,\n",
       "  'V_leave': False,\n",
       "  'V_sort': False,\n",
       "  'V_project': False,\n",
       "  'V_audiences': False,\n",
       "  'V_serious': False,\n",
       "  'V_enjoy': False,\n",
       "  'V_believe': False,\n",
       "  'V_now': False,\n",
       "  'V_else': False,\n",
       "  'V_opera': False,\n",
       "  'V_rich': False,\n",
       "  'V_home': False,\n",
       "  'V_likely': False,\n",
       "  'V_becomes': False,\n",
       "  'V_reality': False,\n",
       "  'V_fresh': False,\n",
       "  'V_side': False,\n",
       "  'V_solid': False,\n",
       "  'V_filmmaker': False,\n",
       "  'V_tragedy': False,\n",
       "  'V_ways': False,\n",
       "  'V_personal': False,\n",
       "  'V_wo': False,\n",
       "  'V_de': False,\n",
       "  'V_storytelling': False,\n",
       "  'V_beyond': False,\n",
       "  'V_fine': False,\n",
       "  'V_left': False,\n",
       "  'V_ending': False,\n",
       "  'V_role': False,\n",
       "  'V_deeply': False,\n",
       "  'V_message': False,\n",
       "  'V_plays': False,\n",
       "  'V_lack': False,\n",
       "  'V_turns': False,\n",
       "  'V_already': False,\n",
       "  'V_different': False,\n",
       "  'V_girl': False,\n",
       "  'V_gags': False,\n",
       "  'V_play': False,\n",
       "  'V_jokes': False,\n",
       "  'V_eyes': False,\n",
       "  'V_themselves': False,\n",
       "  'V_michael': False,\n",
       "  'V_perfect': False,\n",
       "  'V_impossible': False,\n",
       "  'V_complex': False,\n",
       "  'V_rare': False,\n",
       "  'V_cold': False,\n",
       "  'V_otherwise': False,\n",
       "  'V_put': False,\n",
       "  'V_particularly': False,\n",
       "  'V_inside': False,\n",
       "  'V_directed': False,\n",
       "  'V_scene': False,\n",
       "  'V_images': False,\n",
       "  'V_sad': False,\n",
       "  'V_boring': False,\n",
       "  'V_against': False,\n",
       "  'V_flat': False,\n",
       "  'V_moral': False,\n",
       "  'V_boy': False,\n",
       "  'V_ride': False,\n",
       "  'V_imagination': False,\n",
       "  'V_satisfying': False,\n",
       "  'V_sure': False,\n",
       "  'V_animation': False,\n",
       "  'V_running': False,\n",
       "  'V_viewer': False,\n",
       "  'V_shot': False,\n",
       "  'V_adventure': False,\n",
       "  'V_sex': False,\n",
       "  'V_slow': False,\n",
       "  'V_dumb': False,\n",
       "  'V_run': False,\n",
       "  'V_talent': False,\n",
       "  'V_honest': False,\n",
       "  'V_sequences': False,\n",
       "  'V_act': False,\n",
       "  'V_during': False,\n",
       "  'V_viewers': False,\n",
       "  'V_days': False,\n",
       "  'V_looks': False,\n",
       "  'V_along': False,\n",
       "  'V_mystery': False,\n",
       "  'V_violence': False,\n",
       "  'V_completely': False,\n",
       "  'V_seeing': False,\n",
       "  'V_written': False,\n",
       "  'V_historical': False,\n",
       "  'V_beautifully': False,\n",
       "  'V_intriguing': False,\n",
       "  'V_laugh': False,\n",
       "  'V_wrong': False,\n",
       "  'V_hilarious': False,\n",
       "  'V_crime': False,\n",
       "  'V_strange': False,\n",
       "  'V_certainly': False,\n",
       "  'V_passion': False,\n",
       "  'V_shows': False,\n",
       "  'V_easily': False,\n",
       "  'V_beauty': False,\n",
       "  'V_formula': False,\n",
       "  'V_comedies': False,\n",
       "  'V_contrived': False,\n",
       "  'V_pleasure': False,\n",
       "  'V_nature': False,\n",
       "  'V_elements': False,\n",
       "  'V_fairly': False,\n",
       "  'V_memorable': False,\n",
       "  'V_thought': False,\n",
       "  'V_game': False,\n",
       "  'V_difficult': False,\n",
       "  'V_having': False,\n",
       "  'V_fantasy': False,\n",
       "  'V_above': False,\n",
       "  'V_whether': False,\n",
       "  \"V_'m\": False,\n",
       "  'V_emotionally': False,\n",
       "  'V_bland': False,\n",
       "  'V_soap': False,\n",
       "  'V_attempt': False,\n",
       "  'V_cliches': False,\n",
       "  'V_final': False,\n",
       "  'V_york': False,\n",
       "  'V_hero': False,\n",
       "  'V_writing': False,\n",
       "  'V_moment': False,\n",
       "  'V_possible': False,\n",
       "  'V_tell': False,\n",
       "  'V_usual': False,\n",
       "  'V_attention': False,\n",
       "  'V_middle': False,\n",
       "  'V_given': False,\n",
       "  'V_concept': False,\n",
       "  'V_getting': False,\n",
       "  'V_working': False,\n",
       "  'V_fact': False,\n",
       "  'V_period': False,\n",
       "  'V_stand': False,\n",
       "  'V_fails': False,\n",
       "  'V_got': False,\n",
       "  'V_events': False,\n",
       "  'V_found': False,\n",
       "  'V_emotions': False,\n",
       "  'V_pictures': False,\n",
       "  'V_mostly': False,\n",
       "  'V_case': False,\n",
       "  'V_must': False,\n",
       "  'V_novel': False,\n",
       "  'V_call': False,\n",
       "  'V_production': False,\n",
       "  'V_entirely': False,\n",
       "  'V_issues': False,\n",
       "  'V_supposed': False,\n",
       "  'V_mood': False,\n",
       "  'V_artist': False,\n",
       "  'V_lacks': False,\n",
       "  'V_nor': False,\n",
       "  'V_guys': False,\n",
       "  'V_help': False,\n",
       "  'V_lost': False,\n",
       "  'V_teen': False,\n",
       "  'V_ends': False,\n",
       "  'V_earnest': False,\n",
       "  'V_none': False,\n",
       "  'V_touching': False,\n",
       "  'V_view': False,\n",
       "  'V_vision': False,\n",
       "  'V_visually': False,\n",
       "  'V_house': False,\n",
       "  'V_proves': False,\n",
       "  'V_parents': False,\n",
       "  'V_tired': False,\n",
       "  'V_close': False,\n",
       "  'V_perfectly': False,\n",
       "  'V_remarkable': False,\n",
       "  'V_plenty': False,\n",
       "  'V_second': False,\n",
       "  'V_psychological': False,\n",
       "  'V_neither': False,\n",
       "  'V_creepy': False,\n",
       "  'V_try': False,\n",
       "  'V_adults': False,\n",
       "  'V_quality': False,\n",
       "  'V_deep': False,\n",
       "  'V_terrific': False,\n",
       "  'V_gentle': False,\n",
       "  'V_barely': False,\n",
       "  'V_change': False,\n",
       "  'V_remains': False,\n",
       "  'V_relationships': False,\n",
       "  'V_four': False,\n",
       "  'V_single': False,\n",
       "  'V_wonderful': False,\n",
       "  'V_tries': False,\n",
       "  'V_ambitious': False,\n",
       "  'V_mess': False,\n",
       "  'V_simple': False,\n",
       "  'V_cheap': False,\n",
       "  'V_america': False,\n",
       "  'V_taste': False,\n",
       "  'V_occasionally': False,\n",
       "  'V_rock': False,\n",
       "  'V_ii': False,\n",
       "  'V_guy': False,\n",
       "  'V_creative': False,\n",
       "  'V_approach': False,\n",
       "  'V_dead': False,\n",
       "  'V_career': False,\n",
       "  'V_sequel': False,\n",
       "  'V_gorgeous': False,\n",
       "  'V_previous': False,\n",
       "  'V_gone': False,\n",
       "  'V_cut': False,\n",
       "  'V_sentimental': False,\n",
       "  'V_brilliant': False,\n",
       "  'V_talented': False,\n",
       "  'V_convincing': False,\n",
       "  'V_lead': False,\n",
       "  'V_dog': False,\n",
       "  'V_scary': False,\n",
       "  'V_cool': False,\n",
       "  'V_bring': False,\n",
       "  'V_thoughtful': False,\n",
       "  'V_thin': False,\n",
       "  'V_themes': False,\n",
       "  'V_unsettling': False,\n",
       "  'V_disney': False,\n",
       "  'V_expect': False,\n",
       "  'V_odd': False,\n",
       "  'V_satire': False,\n",
       "  'V_sit': False,\n",
       "  'V_certain': False,\n",
       "  'V_job': False,\n",
       "  'V_problem': False,\n",
       "  'V_wild': False,\n",
       "  'V_ones': False,\n",
       "  'V_pace': False,\n",
       "  'V_date': False,\n",
       "  'V_told': False,\n",
       "  'V_success': False,\n",
       "  'V_low': False,\n",
       "  'V_latest': False,\n",
       "  'V_finally': False,\n",
       "  'V_surprising': False,\n",
       "  'V_straight': False,\n",
       "  'V_old-fashioned': False,\n",
       "  'V_appealing': False,\n",
       "  'V_touch': False,\n",
       "  'V_city': False,\n",
       "  'V_robert': False,\n",
       "  'V_air': False,\n",
       "  'V_welcome': False,\n",
       "  'V_pretentious': False,\n",
       "  'V_flawed': False,\n",
       "  'V_cultural': False,\n",
       "  'V_somewhat': False,\n",
       "  'V_used': False,\n",
       "  'V_road': False,\n",
       "  'V_relationship': False,\n",
       "  'V_room': False,\n",
       "  'V_process': False,\n",
       "  'V_knows': False,\n",
       "  'V_playing': False,\n",
       "  'V_decent': False,\n",
       "  'V_school': False,\n",
       "  'V_appeal': False,\n",
       "  'V_spy': False,\n",
       "  'V_important': False,\n",
       "  'V_battle': False,\n",
       "  'V_nice': False,\n",
       "  'V_fully': False,\n",
       "  'V_taking': False,\n",
       "  'V_hand': False,\n",
       "  'V_david': False,\n",
       "  'V_epic': False,\n",
       "  'V_future': False,\n",
       "  'V_situation': False,\n",
       "  'V_class': False,\n",
       "  'V_able': False,\n",
       "  'V_thinking': False,\n",
       "  'V_truth': False,\n",
       "  'V_use': False,\n",
       "  'V_contemporary': False,\n",
       "  'V_journey': False,\n",
       "  'V_dry': False,\n",
       "  'V_several': False,\n",
       "  'V_flicks': False,\n",
       "  'V_age': False,\n",
       "  'V_british': False,\n",
       "  'V_insight': False,\n",
       "  'V_sci-fi': False,\n",
       "  'V_saw': False,\n",
       "  'V_stupid': False,\n",
       "  'V_adaptation': False,\n",
       "  'V_painful': False,\n",
       "  'V_hold': False,\n",
       "  'V_couple': False,\n",
       "  'V_company': False,\n",
       "  'V_needs': False,\n",
       "  'V_potential': False,\n",
       "  'V_hit': False,\n",
       "  'V_entire': False,\n",
       "  'V_words': False,\n",
       "  'V_business': False,\n",
       "  'V_urban': False,\n",
       "  'V_doing': False,\n",
       "  'V_genuine': False,\n",
       "  'V_thoroughly': False,\n",
       "  'V_target': False,\n",
       "  'V_episode': False,\n",
       "  'V_across': False,\n",
       "  'V_warm': False,\n",
       "  'V_today': False,\n",
       "  'V_others': False,\n",
       "  'V_female': False,\n",
       "  'V_tension': False,\n",
       "  'V_situations': False,\n",
       "  'V_imagine': False,\n",
       "  'V_country': False,\n",
       "  'V_start': False,\n",
       "  'V_keeps': False,\n",
       "  'V_flaws': False,\n",
       "  'V_monster': False,\n",
       "  'V_throughout': False,\n",
       "  'V_behind': False,\n",
       "  'V_tragic': False,\n",
       "  'V_excellent': False,\n",
       "  'V_quiet': False,\n",
       "  'V_unexpected': False,\n",
       "  'V_manner': False,\n",
       "  'V_kid': False,\n",
       "  'V_mediocre': False,\n",
       "  'V_fire': False,\n",
       "  'V_ugly': False,\n",
       "  'V_sustain': False,\n",
       "  'V_90': False,\n",
       "  'V_felt': False,\n",
       "  'V_night': False,\n",
       "  'V_understand': False,\n",
       "  'V_era': False,\n",
       "  'V_stylish': False,\n",
       "  'V_overall': False,\n",
       "  'V_gay': False,\n",
       "  'V_skin': False,\n",
       "  'V_evil': False,\n",
       "  'V_falls': False,\n",
       "  'V_college': False,\n",
       "  'V_execution': False,\n",
       "  'V_remake': False,\n",
       "  'V_worse': False,\n",
       "  'V_offer': False,\n",
       "  'V_places': False,\n",
       "  'V_taken': False,\n",
       "  'V_magic': False,\n",
       "  'V_problems': False,\n",
       "  'V_girls': False,\n",
       "  'V_exactly': False,\n",
       "  'V_major': False,\n",
       "  'V_impact': False,\n",
       "  'V_awful': False,\n",
       "  'V_sexual': False,\n",
       "  'V_rest': False,\n",
       "  'V_engrossing': False,\n",
       "  'V_coming-of-age': False,\n",
       "  'V_car': False,\n",
       "  'V_crazy': False,\n",
       "  'V_depth': False,\n",
       "  'V_mean': False,\n",
       "  'V_actress': False,\n",
       "  'V_humanity': False,\n",
       "  'V_worthy': False,\n",
       "  'V_word': False,\n",
       "  'V_edge': False,\n",
       "  'V_warmth': False,\n",
       "  'V_living': False,\n",
       "  'V_money': False,\n",
       "  'V_spielberg': False,\n",
       "  'V_name': False,\n",
       "  'V_cartoon': False,\n",
       "  'V_coming': False,\n",
       "  'V_pieces': False,\n",
       "  'V_conclusion': False,\n",
       "  'V_grace': False,\n",
       "  'V_frame': False,\n",
       "  'V_oscar': False,\n",
       "  'V_goofy': False,\n",
       "  'V_plain': False,\n",
       "  'V_master': False,\n",
       "  'V_mildly': False,\n",
       "  'V_loud': False,\n",
       "  'V_form': False,\n",
       "  'V_someone': False,\n",
       "  'V_called': False,\n",
       "  'V_successful': False,\n",
       "  'V_purpose': False,\n",
       "  'V_unique': False,\n",
       "  'V_seat': False,\n",
       "  'V_eye': False,\n",
       "  'V_considerable': False,\n",
       "  'V_justice': False,\n",
       "  'V_leaves': False,\n",
       "  'V_merely': False,\n",
       "  'V_television': False,\n",
       "  'V_shots': False,\n",
       "  'V_george': False,\n",
       "  'V_writer-director': False,\n",
       "  'V_ultimate': False,\n",
       "  'V_clear': False,\n",
       "  'V_white': False,\n",
       "  'V_pure': False,\n",
       "  'V_impressive': False,\n",
       "  'V_sharp': False,\n",
       "  'V_pacing': False,\n",
       "  'V_delightful': False,\n",
       "  'V_core': False,\n",
       "  'V_highly': False,\n",
       "  'V_create': False,\n",
       "  'V_animated': False,\n",
       "  'V_delivers': False,\n",
       "  'V_points': False,\n",
       "  'V_uses': False,\n",
       "  'V_starts': False,\n",
       "  'V_share': False,\n",
       "  'V_memory': False,\n",
       "  'V_winning': False,\n",
       "  'V_let': False,\n",
       "  'V_pop': False,\n",
       "  'V_wants': False,\n",
       "  'V_ensemble': False,\n",
       "  'V_viewing': False,\n",
       "  'V_wanted': False,\n",
       "  'V_examination': False,\n",
       "  'V_red': False,\n",
       "  'V_slightly': False,\n",
       "  'V_pay': False,\n",
       "  'V_perspective': False,\n",
       "  'V_inventive': False,\n",
       "  'V_huge': False,\n",
       "  'V_surprises': False,\n",
       "  'V_colorful': False,\n",
       "  'V_unfunny': False,\n",
       "  'V_tom': False,\n",
       "  'V_interested': False,\n",
       "  'V_maybe': False,\n",
       "  'V_questions': False,\n",
       "  'V_poor': False,\n",
       "  'V_twists': False,\n",
       "  'V_friendship': False,\n",
       "  'V_subtle': False,\n",
       "  'V_wish': False,\n",
       "  'V_equally': False,\n",
       "  'V_intended': False,\n",
       "  'V_sincere': False,\n",
       "  'V_promise': False,\n",
       "  'V_loss': False,\n",
       "  'V_ago': False,\n",
       "  'V_surprise': False,\n",
       "  'V_read': False,\n",
       "  'V_force': False,\n",
       "  'V_forget': False,\n",
       "  'V_upon': False,\n",
       "  'V_writer': False,\n",
       "  'V_dream': False,\n",
       "  'V_bizarre': False,\n",
       "  'V_fit': False,\n",
       "  'V_believable': False,\n",
       "  'V_substance': False,\n",
       "  'V_damned': False,\n",
       "  'V_sophisticated': False,\n",
       "  'V_five': False,\n",
       "  'V_crowd': False,\n",
       "  'V_grant': False,\n",
       "  'V_slight': False,\n",
       "  'V_deal': False,\n",
       "  'V_happen': False,\n",
       "  'V_wife': False,\n",
       "  'V_spiritual': False,\n",
       "  'V_typical': False,\n",
       "  'V_slapstick': False,\n",
       "  'V_weird': False,\n",
       "  'V_means': False,\n",
       "  'V_sensitive': False,\n",
       "  'V_funnier': False,\n",
       "  'V_alone': False,\n",
       "  'V_queen': False,\n",
       "  'V_franchise': False,\n",
       "  'V_among': False,\n",
       "  'V_ability': False,\n",
       "  'V_festival': False,\n",
       "  'V_steven': False,\n",
       "  'V_treatment': False,\n",
       "  'V_utterly': False,\n",
       "  'V_chan': False,\n",
       "  'V_watchable': False,\n",
       "  'V_intrigue': False,\n",
       "  'V_average': False,\n",
       "  'V_stars': False,\n",
       "  'V_brain': False,\n",
       "  'V_twisted': False,\n",
       "  'V_popcorn': False,\n",
       "  'V_murder': False,\n",
       "  'V_tedious': False,\n",
       "  'V_meditation': False,\n",
       "  'V_provocative': False,\n",
       "  'V_waste': False,\n",
       "  'V_killer': False,\n",
       "  'V_conventional': False,\n",
       "  'V_cute': False,\n",
       "  'V_manipulative': False,\n",
       "  'V_cause': False,\n",
       "  'V_hell': False,\n",
       "  'V_party': False,\n",
       "  'V_boys': False,\n",
       "  'V_ms.': False,\n",
       "  'V_acted': False,\n",
       "  'V_until': False,\n",
       "  'V_masterpiece': False,\n",
       "  'V_south': False,\n",
       "  'V_effective': False,\n",
       "  'V_release': False,\n",
       "  'V_lacking': False,\n",
       "  'V_figure': False,\n",
       "  'V_sandler': False,\n",
       "  'V_endearing': False,\n",
       "  'V_break': False,\n",
       "  'V_trouble': False,\n",
       "  'V_chemistry': False,\n",
       "  'V_usually': False,\n",
       "  'V_deserves': False,\n",
       "  'V_soul': False,\n",
       "  'V_drag': False,\n",
       "  'V_terms': False,\n",
       "  'V_central': False,\n",
       "  'V_gross-out': False,\n",
       "  'V_society': False,\n",
       "  'V_trip': False,\n",
       "  'V_artistic': False,\n",
       "  'V_amount': False,\n",
       "  'V_heavy': False,\n",
       "  'V_dreams': False,\n",
       "  'V_2002': False,\n",
       "  'V_universal': False,\n",
       "  'V_shallow': False,\n",
       "  'V_greatest': False,\n",
       "  'V_intimate': False,\n",
       "  'V_inspired': False,\n",
       "  'V_telling': False,\n",
       "  'V_rarely': False,\n",
       "  'V_happy': False,\n",
       "  'V_lovely': False,\n",
       "  'V_attempts': False,\n",
       "  'V_forced': False,\n",
       "  'V_main': False,\n",
       "  'V_green': False,\n",
       "  'V_allows': False,\n",
       "  'V_routine': False,\n",
       "  'V_win': False,\n",
       "  'V_challenging': False,\n",
       "  'V_mother': False,\n",
       "  'V_delivery': False,\n",
       "  'V_hope': False,\n",
       "  'V_politics': False,\n",
       "  'V_sets': False,\n",
       "  'V_particular': False,\n",
       "  'V_twice': False,\n",
       "  'V_conflict': False,\n",
       "  'V_extreme': False,\n",
       "  'V_setting': False,\n",
       "  'V_captures': False,\n",
       "  'V_product': False,\n",
       "  'V_faith': False,\n",
       "  'V_melodramatic': False,\n",
       "  'V_intense': False,\n",
       "  'V_standard': False,\n",
       "  'V_king': False,\n",
       "  'V_witty': False,\n",
       "  'V_martin': False,\n",
       "  'V_sexy': False,\n",
       "  'V_exciting': False,\n",
       "  'V_sound': False,\n",
       "  'V_storyline': False,\n",
       "  'V_waiting': False,\n",
       "  'V_directors': False,\n",
       "  'V_imax': False,\n",
       "  'V_overcome': False,\n",
       "  'V_score': False,\n",
       "  'V_involved': False,\n",
       "  ...},\n",
       " 2)"
      ]
     },
     "execution_count": 26,
     "metadata": {},
     "output_type": "execute_result"
    }
   ],
   "source": [
    "unigram_featuresets[1]"
   ]
  },
  {
   "cell_type": "code",
   "execution_count": 101,
   "id": "b84aad07",
   "metadata": {},
   "outputs": [
    {
     "data": {
      "text/plain": [
       "156060"
      ]
     },
     "execution_count": 101,
     "metadata": {},
     "output_type": "execute_result"
    }
   ],
   "source": [
    "len(unigram_featuresets)"
   ]
  },
  {
   "cell_type": "code",
   "execution_count": 102,
   "id": "07529262",
   "metadata": {},
   "outputs": [
    {
     "name": "stdout",
     "output_type": "stream",
     "text": [
      "Each fold size: 52020\n",
      "Fold 0\n",
      "Fold 1\n",
      "Fold 2\n",
      "\n",
      "Average Precision\tRecall\t\tF1 \tPer Label\n",
      "0 \t      0.304      0.275      0.289\n",
      "1 \t      0.288      0.415      0.340\n",
      "2 \t      0.823      0.642      0.722\n",
      "3 \t      0.306      0.485      0.375\n",
      "4 \t      0.292      0.411      0.341\n",
      "\n",
      "Mean accuracy 0.5657695758041777\n",
      "\n",
      "Macro Average Precision\tRecall\t\tF1 \tOver All Labels\n",
      "\t      0.403      0.446      0.413\n",
      "\n",
      "Label Counts {0: 7072, 1: 27273, 2: 79582, 3: 32927, 4: 9206}\n",
      "Micro Average Precision\tRecall\t\tF1 \tOver All Labels\n",
      "\t      0.566      0.539      0.540\n"
     ]
    }
   ],
   "source": [
    "#calculate 3-fold CV accuracy, precision, recall and F1-score using nltk naive Bayes classifier\n",
    "num_folds = 3\n",
    "cross_validation_PRF(num_folds, unigram_featuresets, labels)"
   ]
  },
  {
   "cell_type": "code",
   "execution_count": 104,
   "id": "683636e8",
   "metadata": {},
   "outputs": [],
   "source": [
    "# get features sets for stemmed phrases, including keyword features and sentiment class feature\n",
    "unigram_featuresets_stemmed = [(unigram_features(d, stemmed_word_features), c) for (d, c) in phrasedocs]"
   ]
  },
  {
   "cell_type": "code",
   "execution_count": 105,
   "id": "82547bf0",
   "metadata": {},
   "outputs": [
    {
     "name": "stdout",
     "output_type": "stream",
     "text": [
      "Each fold size: 52020\n",
      "Fold 0\n",
      "Fold 1\n",
      "Fold 2\n",
      "\n",
      "Average Precision\tRecall\t\tF1 \tPer Label\n",
      "0 \t      0.239      0.241      0.240\n",
      "1 \t      0.250      0.383      0.303\n",
      "2 \t      0.828      0.610      0.703\n",
      "3 \t      0.237      0.431      0.306\n",
      "4 \t      0.195      0.346      0.250\n",
      "\n",
      "Mean accuracy 0.5381968473663975\n",
      "\n",
      "Macro Average Precision\tRecall\t\tF1 \tOver All Labels\n",
      "\t      0.350      0.402      0.360\n",
      "\n",
      "Label Counts {0: 7072, 1: 27273, 2: 79582, 3: 32927, 4: 9206}\n",
      "Micro Average Precision\tRecall\t\tF1 \tOver All Labels\n",
      "\t      0.538      0.501      0.501\n"
     ]
    }
   ],
   "source": [
    "#calculate 3-fold CV accuracy, precision, recall and F1-score using nltk naive Bayes classifier\n",
    "num_folds = 3\n",
    "cross_validation_PRF(num_folds, unigram_featuresets_stemmed, labels)"
   ]
  },
  {
   "cell_type": "markdown",
   "id": "ab0d9d5c",
   "metadata": {},
   "source": [
    "When using unigram feature, 3-fold CV accuracy was higher without stemming."
   ]
  },
  {
   "cell_type": "markdown",
   "id": "0ee176e5",
   "metadata": {},
   "source": [
    "#### Bigram"
   ]
  },
  {
   "cell_type": "code",
   "execution_count": 23,
   "id": "24fdeb5c",
   "metadata": {},
   "outputs": [],
   "source": [
    "#### Create Bigram features ####\n",
    "from nltk.collocations import *\n",
    "bigram_measures = nltk.collocations.BigramAssocMeasures()"
   ]
  },
  {
   "cell_type": "code",
   "execution_count": 24,
   "id": "22796e31",
   "metadata": {},
   "outputs": [
    {
     "name": "stdout",
     "output_type": "stream",
     "text": [
      "['like', 'pearl', 'harbor', 'acts', 'by', 'a', 'weak', 'script', 'that', 'ca', \"n't\", 'support', 'the', 'epic', 'treatment', 'delicate', 'coming-of-age', 'tale', 'the', 'life', 'out', 'of', 'whatever', 'idealism', 'american', 'moviemaking', 'ever', 'had', 'when', 'it', 'does', 'will', 'undoubtedly', 'provide', 'its', 'keenest', 'pleasures', 'to', 'those', 'familiar', 'with', 'bombay', 'musicals', 'floats', 'beyond', 'reality', 'with', 'a', 'certain', 'degree']\n"
     ]
    }
   ],
   "source": [
    "# create the bigram finder on all the words in sequence\n",
    "print(phrase_words_list[:50])\n",
    "finder = BigramCollocationFinder.from_words(phrase_words_list)"
   ]
  },
  {
   "cell_type": "code",
   "execution_count": 25,
   "id": "f51c6a73",
   "metadata": {},
   "outputs": [
    {
     "name": "stdout",
     "output_type": "stream",
     "text": [
      "[('r.', 'nebrida'), ('w.', 'bush'), ('q.', 'archibald'), ('22-year-old', 'girlfriend'), ('ellen', 'pompeo'), ('18-year-old', 'mistress'), ('pearl', 'harbor'), ('deja', 'vu'), ('disloyal', 'satyr'), ('h.g', 'wells'), ('pootie', 'tang'), ('dover', 'kosashvili'), ('cheese-laced', 'spectacles'), ('smallest', 'sensitivities'), ('cletis', 'tout'), ('calculating', 'fiend'), ('cherry', 'orchard'), ('probation', 'officer'), ('toilet-humor', 'codswallop'), ('septic', 'tank'), ('smeared', 'windshield'), ('supermarket', 'tabloids'), ('swan', 'dive'), ('hong', 'kong'), ('d.w.', 'griffith'), ('pencil', 'sharpener'), ('punny', '6'), ('surveillance', 'technologies'), ('morvern', 'callar'), ('cogent', 'defense'), ('fanatical', 'adherents'), ('legally', 'blonde'), ('pasty', 'lumpen'), ('protective', 'cocoon'), ('sharpie', 'pen'), ('sideshow', 'geeks'), ('travis', 'bickle'), ('10-year', 'delay'), ('channel-style', 'anthology'), ('enforced', 'hiatus'), ('hossein', 'amini'), ('laurice', 'guillen'), ('pauly', 'shore'), ('runyon', 'crooks'), ('tropic', 'pageant'), ('violently', 'gang-raped'), ('acidic', 'all-male'), ('advises', 'denlopp'), ('american-russian', 'armageddon'), ('ash', 'wednesday')]\n"
     ]
    }
   ],
   "source": [
    "# define the top 1000 bigrams using the chi squared measure\n",
    "bigram_features = finder.nbest(bigram_measures.chi_sq, 1000)\n",
    "print(bigram_features[:50])"
   ]
  },
  {
   "cell_type": "markdown",
   "id": "8ef931a6",
   "metadata": {},
   "source": [
    "We also tried using different number of bigrams to build the feature set, but that did not change our results."
   ]
  },
  {
   "cell_type": "code",
   "execution_count": 27,
   "id": "744135b2",
   "metadata": {},
   "outputs": [],
   "source": [
    "# define features that include the most frequent bigrams\n",
    "def bigram_document_features(document, word_features, bigram_features):\n",
    "    document_words = set(document)\n",
    "    document_bigrams = nltk.bigrams(document)\n",
    "    features = {}\n",
    "    for word in word_features:\n",
    "        features['V_{}'.format(word)] = (word in document_words)\n",
    "    for bigram in bigram_features:\n",
    "        features['B_{}_{}'.format(bigram[0], bigram[1])] = (bigram in document_bigrams)\n",
    "    return features"
   ]
  },
  {
   "cell_type": "code",
   "execution_count": null,
   "id": "54eff60e",
   "metadata": {},
   "outputs": [],
   "source": [
    "# use this function to create feature sets for all phrases\n",
    "bigram_featuresets = [(bigram_document_features(d, word_features, bigram_features), c) for (d, c) in phrasedocs]"
   ]
  },
  {
   "cell_type": "code",
   "execution_count": 64,
   "id": "17be0e7c",
   "metadata": {},
   "outputs": [
    {
     "data": {
      "text/plain": [
       "156060"
      ]
     },
     "execution_count": 64,
     "metadata": {},
     "output_type": "execute_result"
    }
   ],
   "source": [
    "len(bigram_featuresets)"
   ]
  },
  {
   "cell_type": "code",
   "execution_count": 65,
   "id": "9ae04b12",
   "metadata": {},
   "outputs": [
    {
     "name": "stdout",
     "output_type": "stream",
     "text": [
      "Each fold size: 52020\n",
      "Fold 0\n",
      "Fold 1\n",
      "Fold 2\n",
      "\n",
      "Average Precision\tRecall\t\tF1 \tPer Label\n",
      "0 \t      0.304      0.275      0.289\n",
      "1 \t      0.288      0.415      0.340\n",
      "2 \t      0.823      0.642      0.722\n",
      "3 \t      0.306      0.485      0.375\n",
      "4 \t      0.292      0.411      0.341\n",
      "\n",
      "Mean accuracy 0.565756760220428\n",
      "\n",
      "Macro Average Precision\tRecall\t\tF1 \tOver All Labels\n",
      "\t      0.403      0.446      0.413\n",
      "\n",
      "Label Counts {0: 7072, 1: 27273, 2: 79582, 3: 32927, 4: 9206}\n",
      "Micro Average Precision\tRecall\t\tF1 \tOver All Labels\n",
      "\t      0.566      0.539      0.540\n"
     ]
    }
   ],
   "source": [
    "#calculate 3-fold CV accuracy, precision, recall and F1-score using nltk naive Bayes classifier\n",
    "num_folds = 3\n",
    "cross_validation_PRF(num_folds, bigram_featuresets, labels)"
   ]
  },
  {
   "cell_type": "code",
   "execution_count": 28,
   "id": "108aca10",
   "metadata": {},
   "outputs": [],
   "source": [
    "# use this function to create feature sets for all phrases\n",
    "bigram_featuresets_stemmed = [(bigram_document_features(d, stemmed_word_features, bigram_features), c) for (d, c) in phrasedocs]"
   ]
  },
  {
   "cell_type": "code",
   "execution_count": 29,
   "id": "277d19d4",
   "metadata": {},
   "outputs": [
    {
     "name": "stdout",
     "output_type": "stream",
     "text": [
      "Each fold size: 52020\n",
      "Fold 0\n",
      "Fold 1\n",
      "Fold 2\n",
      "\n",
      "Average Precision\tRecall\t\tF1 \tPer Label\n",
      "0 \t      0.239      0.241      0.240\n",
      "1 \t      0.250      0.383      0.303\n",
      "2 \t      0.828      0.610      0.703\n",
      "3 \t      0.237      0.431      0.306\n",
      "4 \t      0.195      0.346      0.250\n",
      "\n",
      "Mean accuracy 0.5382160707420223\n",
      "\n",
      "Macro Average Precision\tRecall\t\tF1 \tOver All Labels\n",
      "\t      0.350      0.403      0.360\n",
      "\n",
      "Label Counts {0: 7072, 1: 27273, 2: 79582, 3: 32927, 4: 9206}\n",
      "Micro Average Precision\tRecall\t\tF1 \tOver All Labels\n",
      "\t      0.538      0.501      0.501\n"
     ]
    }
   ],
   "source": [
    "#calculate 3-fold CV accuracy, precision, recall and F1-score using nltk naive Bayes classifier\n",
    "num_folds = 3\n",
    "cross_validation_PRF(num_folds, bigram_featuresets, labels)"
   ]
  },
  {
   "cell_type": "markdown",
   "id": "648ad494",
   "metadata": {},
   "source": [
    "The results above were the same as the results we obtained when using only unigram feature. 3-fold CV accuracy was higher without stemming."
   ]
  },
  {
   "cell_type": "markdown",
   "id": "6709afa5",
   "metadata": {},
   "source": [
    "#### POS Tagging"
   ]
  },
  {
   "cell_type": "code",
   "execution_count": 26,
   "id": "d162e06b",
   "metadata": {},
   "outputs": [],
   "source": [
    "#### Create POS tagging feature ####\n",
    "# Use default pos tagger (the Stanford tagger) on each phrase and count 4 types of pos tags to use as features\n",
    "def POS_features(document, word_features):\n",
    "    document_words = set(document)\n",
    "    tagged_words = nltk.pos_tag(document)\n",
    "    features = {}\n",
    "    for word in word_features:\n",
    "        features['contains({})'.format(word)] = (word in document_words)\n",
    "    numNoun = 0\n",
    "    numVerb = 0\n",
    "    numAdj = 0\n",
    "    numAdverb = 0\n",
    "    for (word, tag) in tagged_words:\n",
    "        if tag.startswith('N'): numNoun += 1\n",
    "        if tag.startswith('V'): numVerb += 1\n",
    "        if tag.startswith('J'): numAdj += 1\n",
    "        if tag.startswith('R'): numAdverb += 1\n",
    "    features['nouns'] = numNoun\n",
    "    features['verbs'] = numVerb\n",
    "    features['adjectives'] = numAdj\n",
    "    features['adverbs'] = numAdverb\n",
    "    return features"
   ]
  },
  {
   "cell_type": "code",
   "execution_count": 31,
   "id": "326be027",
   "metadata": {},
   "outputs": [],
   "source": [
    "# create POS feature set for all original phrases\n",
    "POS_featuresets = [(POS_features(d, word_features), c) for (d, c) in phrasedocs]"
   ]
  },
  {
   "cell_type": "code",
   "execution_count": 32,
   "id": "7ef2187e",
   "metadata": {},
   "outputs": [
    {
     "name": "stdout",
     "output_type": "stream",
     "text": [
      "2004\n"
     ]
    }
   ],
   "source": [
    "# number of features for phrase 0\n",
    "print(len(POS_featuresets[0][0].keys()))"
   ]
  },
  {
   "cell_type": "code",
   "execution_count": 33,
   "id": "ff83637a",
   "metadata": {},
   "outputs": [
    {
     "name": "stdout",
     "output_type": "stream",
     "text": [
      "num nouns 1\n",
      "num verbs 1\n",
      "num adjectives 0\n",
      "num adverbs 0\n"
     ]
    }
   ],
   "source": [
    "# the pos tag features for the first phrase\n",
    "print('num nouns', POS_featuresets[0][0]['nouns'])\n",
    "print('num verbs', POS_featuresets[0][0]['verbs'])\n",
    "print('num adjectives', POS_featuresets[0][0]['adjectives'])\n",
    "print('num adverbs', POS_featuresets[0][0]['adverbs'])"
   ]
  },
  {
   "cell_type": "code",
   "execution_count": 34,
   "id": "fa86f57f",
   "metadata": {},
   "outputs": [
    {
     "name": "stdout",
     "output_type": "stream",
     "text": [
      "Each fold size: 52020\n",
      "Fold 0\n",
      "Fold 1\n",
      "Fold 2\n",
      "\n",
      "Average Precision\tRecall\t\tF1 \tPer Label\n",
      "0 \t      0.341      0.230      0.274\n",
      "1 \t      0.287      0.403      0.335\n",
      "2 \t      0.803      0.646      0.716\n",
      "3 \t      0.274      0.471      0.347\n",
      "4 \t      0.321      0.366      0.342\n",
      "\n",
      "Mean accuracy 0.5519671921056004\n",
      "\n",
      "Macro Average Precision\tRecall\t\tF1 \tOver All Labels\n",
      "\t      0.405      0.423      0.403\n",
      "\n",
      "Label Counts {0: 7072, 1: 27273, 2: 79582, 3: 32927, 4: 9206}\n",
      "Micro Average Precision\tRecall\t\tF1 \tOver All Labels\n",
      "\t      0.552      0.531      0.530\n"
     ]
    }
   ],
   "source": [
    "#calculate 3-fold CV accuracy, precision, recall and F1-score using nltk naive Bayes classifier\n",
    "num_folds = 3\n",
    "cross_validation_PRF(num_folds, POS_featuresets, labels)"
   ]
  },
  {
   "cell_type": "code",
   "execution_count": 27,
   "id": "9aa7bb2c",
   "metadata": {},
   "outputs": [],
   "source": [
    "# get feature set for stemmed phrases\n",
    "POS_featuresets_stemmed = [(POS_features(d, stemmed_word_features), c) for (d, c) in phrasedocs]"
   ]
  },
  {
   "cell_type": "code",
   "execution_count": 28,
   "id": "bedbad38",
   "metadata": {},
   "outputs": [
    {
     "name": "stdout",
     "output_type": "stream",
     "text": [
      "Each fold size: 52020\n",
      "Fold 0\n",
      "Fold 1\n",
      "Fold 2\n",
      "\n",
      "Average Precision\tRecall\t\tF1 \tPer Label\n",
      "0 \t      0.300      0.193      0.235\n",
      "1 \t      0.250      0.370      0.298\n",
      "2 \t      0.802      0.624      0.701\n",
      "3 \t      0.216      0.417      0.285\n",
      "4 \t      0.235      0.301      0.264\n",
      "\n",
      "Mean accuracy 0.5255799051646802\n",
      "\n",
      "Macro Average Precision\tRecall\t\tF1 \tOver All Labels\n",
      "\t      0.361      0.381      0.357\n",
      "\n",
      "Label Counts {0: 7072, 1: 27273, 2: 79582, 3: 32927, 4: 9206}\n",
      "Micro Average Precision\tRecall\t\tF1 \tOver All Labels\n",
      "\t      0.526      0.497      0.496\n"
     ]
    }
   ],
   "source": [
    "#calculate 3-fold CV accuracy, precision, recall and F1-score using nltk naive Bayes classifier\n",
    "num_folds = 3\n",
    "cross_validation_PRF(num_folds, POS_featuresets_stemmed, labels)"
   ]
  },
  {
   "cell_type": "markdown",
   "id": "09f1c482",
   "metadata": {},
   "source": [
    "Using POS feature set with nltk naive Bayes classifier, accuracy was higher without stemming."
   ]
  },
  {
   "cell_type": "markdown",
   "id": "32813463",
   "metadata": {},
   "source": [
    "#### Negation"
   ]
  },
  {
   "cell_type": "markdown",
   "id": "1a156a20",
   "metadata": {},
   "source": [
    "We first used the Negation feature set taught in the class."
   ]
  },
  {
   "cell_type": "code",
   "execution_count": 28,
   "id": "3ebd25fd",
   "metadata": {},
   "outputs": [],
   "source": [
    "#### Create Negation words feature ####\n",
    "# Negate the word following the negation word\n",
    "def NOT_features(document, word_features, negationwords):\n",
    "    features = {}\n",
    "    for word in word_features:\n",
    "        features['V_{}'.format(word)] = False\n",
    "        features['V_NOT{}'.format(word)] = False\n",
    "    # go through document words in order\n",
    "    for i in range(0, len(document)):\n",
    "        word = document[i]\n",
    "        if ((i + 1) < len(document)) and ((word in negationwords) or (word.endswith(\"n't\"))):\n",
    "            i += 1\n",
    "            features['V_NOT{}'.format(document[i])] = (document[i] in word_features)\n",
    "        else:\n",
    "            features['V_{}'.format(word)] = (word in word_features)\n",
    "    return features"
   ]
  },
  {
   "cell_type": "code",
   "execution_count": 43,
   "id": "dee42234",
   "metadata": {},
   "outputs": [],
   "source": [
    "# create the negation words list\n",
    "negationwords = ['no', 'not', 'nor','never', 'none', 'nowhere', 'nothing', 'noone', 'rather', 'hardly', 'scarcely', \n",
    "                 'rarely', 'seldom', 'neither', 'nor','ain', 'aren', 'couldn', 'didn', 'doesn', 'hadn', 'hasn', \n",
    "                 'haven', 'isn', 'ma', 'mightn', 'mustn', 'needn', 'shan', 'shouldn', 'wasn', 'weren', 'won', \n",
    "                 'wouldn',\"aren't\", \"couldn't\",\"didn't\", \"doesn't\", \"hadn't\", \"hasn't\", \"haven't\", \"isn't\", \n",
    "                 \"mightn't\", \"mustn't\", \"needn't\",\"shan't\", \"shouldn't\", \"wasn't\", \"weren't\", \"won't\", \"wouldn't\",\n",
    "                 'don', \"don't\"]"
   ]
  },
  {
   "cell_type": "code",
   "execution_count": 30,
   "id": "25ede94a",
   "metadata": {},
   "outputs": [],
   "source": [
    "# define the feature sets\n",
    "NOT_featuresets = [(NOT_features(d, word_features, negationwords), c) for (d, c) in phrasedocs]"
   ]
  },
  {
   "cell_type": "code",
   "execution_count": 38,
   "id": "6bfd1641",
   "metadata": {},
   "outputs": [
    {
     "name": "stdout",
     "output_type": "stream",
     "text": [
      "4002\n"
     ]
    }
   ],
   "source": [
    "# number of features for phrase 0\n",
    "print(len(NOT_featuresets[0][0].keys()))"
   ]
  },
  {
   "cell_type": "code",
   "execution_count": 37,
   "id": "02d896df",
   "metadata": {},
   "outputs": [
    {
     "name": "stdout",
     "output_type": "stream",
     "text": [
      "[({'V_the': False, 'V_NOTthe': False, 'V_a': False, 'V_NOTa': False, 'V_of': False, 'V_NOTof': False, 'V_and': False, 'V_NOTand': False, 'V_to': False, 'V_NOTto': False, \"V_'s\": False, \"V_NOT's\": False, 'V_in': False, 'V_NOTin': False, 'V_is': False, 'V_NOTis': False, 'V_that': False, 'V_NOTthat': False, 'V_it': False, 'V_NOTit': False, 'V_as': False, 'V_NOTas': False, 'V_with': False, 'V_NOTwith': False, 'V_for': False, 'V_NOTfor': False, 'V_its': False, 'V_NOTits': False, 'V_film': False, 'V_NOTfilm': False, 'V_an': False, 'V_NOTan': False, 'V_movie': False, 'V_NOTmovie': False, 'V_this': False, 'V_NOTthis': False, 'V_but': False, 'V_NOTbut': False, 'V_be': False, 'V_NOTbe': False, 'V_you': False, 'V_NOTyou': False, 'V_on': False, 'V_NOTon': False, \"V_n't\": False, \"V_NOTn't\": False, 'V_by': False, 'V_NOTby': False, 'V_more': False, 'V_NOTmore': False, 'V_his': False, 'V_NOThis': False, 'V_about': False, 'V_NOTabout': False, 'V_one': False, 'V_NOTone': False, 'V_not': False, 'V_NOTnot': False, 'V_at': False, 'V_NOTat': False, 'V_or': False, 'V_NOTor': False, 'V_from': False, 'V_NOTfrom': False, 'V_than': False, 'V_NOTthan': False, 'V_all': False, 'V_NOTall': False, 'V_have': False, 'V_NOThave': False, 'V_like': True, 'V_NOTlike': False, 'V_are': False, 'V_NOTare': False, 'V_has': False, 'V_NOThas': False, 'V_so': False, 'V_NOTso': False, 'V_story': False, 'V_NOTstory': False, 'V_-rrb-': False, 'V_NOT-rrb-': False, 'V_out': False, 'V_NOTout': False, 'V_who': False, 'V_NOTwho': False, 'V_most': False, 'V_NOTmost': False, 'V_into': False, 'V_NOTinto': False, 'V_too': False, 'V_NOTtoo': False, 'V_up': False, 'V_NOTup': False, 'V_-lrb-': False, 'V_NOT-lrb-': False, 'V_good': False, 'V_NOTgood': False, 'V_if': False, 'V_NOTif': False, 'V_what': False, 'V_NOTwhat': False, 'V_their': False, 'V_NOTtheir': False, 'V_characters': False, 'V_NOTcharacters': False, 'V_much': False, 'V_NOTmuch': False, 'V_no': False, 'V_NOTno': False, 'V_can': False, 'V_NOTcan': False, 'V_i': False, 'V_NOTi': False, 'V_your': False, 'V_NOTyour': False, 'V_time': False, 'V_NOTtime': False, 'V_comedy': False, 'V_NOTcomedy': False, 'V_just': False, 'V_NOTjust': False, 'V_some': False, 'V_NOTsome': False, 'V_does': False, 'V_NOTdoes': False, 'V_even': False, 'V_NOTeven': False, 'V_little': False, 'V_NOTlittle': False, 'V_will': False, 'V_NOTwill': False, 'V_funny': False, 'V_NOTfunny': False, 'V_way': False, 'V_NOTway': False, 'V_life': False, 'V_NOTlife': False, 'V_any': False, 'V_NOTany': False, 'V_very': False, 'V_NOTvery': False, 'V_been': False, 'V_NOTbeen': False, 'V_make': False, 'V_NOTmake': False, 'V_only': False, 'V_NOTonly': False, 'V_which': False, 'V_NOTwhich': False, 'V_he': False, 'V_NOThe': False, 'V_movies': False, 'V_NOTmovies': False, 'V_love': False, 'V_NOTlove': False, 'V_do': False, 'V_NOTdo': False, 'V_new': False, 'V_NOTnew': False, 'V_there': False, 'V_NOTthere': False, 'V_enough': False, 'V_NOTenough': False, 'V_work': False, 'V_NOTwork': False, 'V_her': False, 'V_NOTher': False, 'V_was': False, 'V_NOTwas': False, 'V_us': False, 'V_NOTus': False, 'V_bad': False, 'V_NOTbad': False, 'V_own': False, 'V_NOTown': False, 'V_they': False, 'V_NOTthey': False, 'V_other': False, 'V_NOTother': False, 'V_something': False, 'V_NOTsomething': False, 'V_would': False, 'V_NOTwould': False, 'V_never': False, 'V_NOTnever': False, 'V_we': False, 'V_NOTwe': False, 'V_director': False, 'V_NOTdirector': False, 'V_through': False, 'V_NOTthrough': False, 'V_many': False, 'V_NOTmany': False, 'V_people': False, 'V_NOTpeople': False, 'V_when': False, 'V_NOTwhen': False, 'V_made': False, 'V_NOTmade': False, 'V_best': False, 'V_NOTbest': False, 'V_two': False, 'V_NOTtwo': False, 'V_makes': False, 'V_NOTmakes': False, 'V_them': False, 'V_NOTthem': False, 'V_how': False, 'V_NOThow': False, 'V_action': False, 'V_NOTaction': False, 'V_may': False, 'V_NOTmay': False, 'V_plot': False, 'V_NOTplot': False, 'V_films': False, 'V_NOTfilms': False, 'V_could': False, 'V_NOTcould': False, 'V_character': False, 'V_NOTcharacter': False, 'V_see': False, 'V_NOTsee': False, 'V_well': False, 'V_NOTwell': False, 'V_being': False, 'V_NOTbeing': False, 'V_world': False, 'V_NOTworld': False, 'V_better': False, 'V_NOTbetter': False, 'V_audience': False, 'V_NOTaudience': False, 'V_drama': False, 'V_NOTdrama': False, 'V_look': False, 'V_NOTlook': False, 'V_really': False, 'V_NOTreally': False, 'V_those': False, 'V_NOTthose': False, 'V_without': False, 'V_NOTwithout': False, 'V_sense': False, 'V_NOTsense': False, 'V_off': False, 'V_NOToff': False, 'V_every': False, 'V_NOTevery': False, 'V_great': False, 'V_NOTgreat': False, 'V_humor': False, 'V_NOThumor': False, 'V_few': False, 'V_NOTfew': False, 'V_long': False, 'V_NOTlong': False, 'V_first': False, 'V_NOTfirst': False, 'V_another': False, 'V_NOTanother': False, 'V_should': False, 'V_NOTshould': False, 'V_over': False, 'V_NOTover': False, \"V_'re\": False, \"V_NOT're\": False, 'V_feel': False, 'V_NOTfeel': False, 'V_get': False, 'V_NOTget': False, 'V_minutes': False, 'V_NOTminutes': False, 'V_such': False, 'V_NOTsuch': False, 'V_big': False, 'V_NOTbig': False, 'V_both': False, 'V_NOTboth': False, 'V_man': False, 'V_NOTman': False, 'V_performances': False, 'V_NOTperformances': False, 'V_cast': False, 'V_NOTcast': False, 'V_real': False, 'V_NOTreal': False, 'V_ever': False, 'V_NOTever': False, 'V_still': False, 'V_NOTstill': False, 'V_hollywood': False, 'V_NOThollywood': False, 'V_while': False, 'V_NOTwhile': False, 'V_nothing': False, 'V_NOTnothing': False, 'V_human': False, 'V_NOThuman': False, 'V_between': False, 'V_NOTbetween': False, 'V_performance': False, 'V_NOTperformance': False, 'V_fun': False, 'V_NOTfun': False, 'V_might': False, 'V_NOTmight': False, 'V_old': False, 'V_NOTold': False, 'V_less': False, 'V_NOTless': False, 'V_screen': False, 'V_NOTscreen': False, 'V_were': False, 'V_NOTwere': False, 'V_things': False, 'V_NOTthings': False, 'V_often': False, 'V_NOToften': False, 'V_had': False, 'V_NOThad': False, 'V_these': False, 'V_NOTthese': False, 'V_kind': False, 'V_NOTkind': False, 'V_moments': False, 'V_NOTmoments': False, 'V_script': False, 'V_NOTscript': False, 'V_family': False, 'V_NOTfamily': False, 'V_seen': False, 'V_NOTseen': False, 'V_down': False, 'V_NOTdown': False, 'V_also': False, 'V_NOTalso': False, 'V_our': False, 'V_NOTour': False, 'V_before': False, 'V_NOTbefore': False, 'V_american': False, 'V_NOTamerican': False, 'V_interesting': False, 'V_NOTinteresting': False, 'V_far': False, 'V_NOTfar': False, 'V_acting': False, 'V_NOTacting': False, 'V_rather': False, 'V_NOTrather': False, 'V_original': False, 'V_NOToriginal': False, 'V_because': False, 'V_NOTbecause': False, 'V_watch': False, 'V_NOTwatch': False, 'V_heart': False, 'V_NOTheart': False, 'V_almost': False, 'V_NOTalmost': False, 'V_back': False, 'V_NOTback': False, 'V_young': False, 'V_NOTyoung': False, 'V_emotional': False, 'V_NOTemotional': False, 'V_entertaining': False, 'V_NOTentertaining': False, 'V_material': False, 'V_NOTmaterial': False, 'V_end': False, 'V_NOTend': False, 'V_my': False, 'V_NOTmy': False, 'V_thriller': False, 'V_NOTthriller': False, 'V_after': False, 'V_NOTafter': False, 'V_actors': False, 'V_NOTactors': False, 'V_here': False, 'V_NOThere': False, 'V_cinema': False, 'V_NOTcinema': False, 'V_go': False, 'V_NOTgo': False, 'V_right': False, 'V_NOTright': False, 'V_dialogue': False, 'V_NOTdialogue': False, 'V_find': False, 'V_NOTfind': False, 'V_hard': False, 'V_NOThard': False, 'V_picture': False, 'V_NOTpicture': False, 'V_scenes': False, 'V_NOTscenes': False, 'V_take': False, 'V_NOTtake': False, \"V_'ve\": False, \"V_NOT've\": False, 'V_lot': False, 'V_NOTlot': False, 'V_music': False, 'V_NOTmusic': False, 'V_full': False, 'V_NOTfull': False, 'V_yet': False, 'V_NOTyet': False, 'V_tale': False, 'V_NOTtale': False, 'V_times': False, 'V_NOTtimes': False, 'V_quite': False, 'V_NOTquite': False, 'V_come': False, 'V_NOTcome': False, 'V_watching': False, 'V_NOTwatching': False, 'V_itself': False, 'V_NOTitself': False, 'V_romantic': False, 'V_NOTromantic': False, 'V_him': False, 'V_NOThim': False, 'V_me': False, 'V_NOTme': False, 'V_years': False, 'V_NOTyears': False, 'V_thing': False, 'V_NOTthing': False, 'V_same': False, 'V_NOTsame': False, 'V_comes': False, 'V_NOTcomes': False, 'V_documentary': False, 'V_NOTdocumentary': False, 'V_subject': False, 'V_NOTsubject': False, 'V_going': False, 'V_NOTgoing': False, 'V_worth': False, 'V_NOTworth': False, 'V_seems': False, 'V_NOTseems': False, 'V_year': False, 'V_NOTyear': False, 'V_making': False, 'V_NOTmaking': False, 'V_war': False, 'V_NOTwar': False, 'V_ca': False, 'V_NOTca': False, 'V_women': False, 'V_NOTwomen': False, 'V_give': False, 'V_NOTgive': False, 'V_dark': False, 'V_NOTdark': False, 'V_though': False, 'V_NOTthough': False, \"V_'ll\": False, \"V_NOT'll\": False, 'V_history': False, 'V_NOThistory': False, 'V_where': False, 'V_NOTwhere': False, 'V_kids': False, 'V_NOTkids': False, 'V_special': False, 'V_NOTspecial': False, 'V_feels': False, 'V_NOTfeels': False, 'V_seem': False, 'V_NOTseem': False, 'V_comic': False, 'V_NOTcomic': False, 'V_anything': False, 'V_NOTanything': False, 'V_did': False, 'V_NOTdid': False, 'V_keep': False, 'V_NOTkeep': False, 'V_least': False, 'V_NOTleast': False, 'V_works': False, 'V_NOTworks': False, 'V_compelling': False, 'V_NOTcompelling': False, 'V_want': False, 'V_NOTwant': False, 'V_visual': False, 'V_NOTvisual': False, 'V_bit': False, 'V_NOTbit': False, 'V_last': False, 'V_NOTlast': False, 'V_care': False, 'V_NOTcare': False, 'V_ultimately': False, 'V_NOTultimately': False, 'V_style': False, 'V_NOTstyle': False, 'V_star': False, 'V_NOTstar': False, 'V_takes': False, 'V_NOTtakes': False, 'V_point': False, 'V_NOTpoint': False, 'V_think': False, 'V_NOTthink': False, 'V_art': False, 'V_NOTart': False, 'V_sometimes': False, 'V_NOTsometimes': False, 'V_show': False, 'V_NOTshow': False, 'V_around': False, 'V_NOTaround': False, 'V_entertainment': False, 'V_NOTentertainment': False, 'V_actually': False, 'V_NOTactually': False, 'V_say': False, 'V_NOTsay': False, 'V_away': False, 'V_NOTaway': False, 'V_gets': False, 'V_NOTgets': False, 'V_pretty': False, 'V_NOTpretty': False, 'V_again': False, 'V_NOTagain': False, 'V_sweet': False, 'V_NOTsweet': False, 'V_fans': False, 'V_NOTfans': False, 'V_direction': False, 'V_NOTdirection': False, 'V_together': False, 'V_NOTtogether': False, 'V_need': False, 'V_NOTneed': False, 'V_piece': False, 'V_NOTpiece': False, 'V_place': False, 'V_NOTplace': False, 'V_part': False, 'V_NOTpart': False, 'V_know': False, 'V_NOTknow': False, 'V_why': False, 'V_NOTwhy': False, 'V_true': False, 'V_NOTtrue': False, 'V_she': False, 'V_NOTshe': False, 'V_familiar': False, 'V_NOTfamiliar': False, 'V_once': False, 'V_NOTonce': False, 'V_then': False, 'V_NOTthen': False, 'V_moving': False, 'V_NOTmoving': False, 'V_experience': False, 'V_NOTexperience': False, 'V_genre': False, 'V_NOTgenre': False, 'V_three': False, 'V_NOTthree': False, 'V_anyone': False, 'V_NOTanyone': False, 'V_fascinating': False, 'V_NOTfascinating': False, 'V_cinematic': False, 'V_NOTcinematic': False, 'V_under': False, 'V_NOTunder': False, 'V_laughs': False, 'V_NOTlaughs': False, 'V_lives': False, 'V_NOTlives': False, 'V_dull': False, 'V_NOTdull': False, 'V_clever': False, 'V_NOTclever': False, 'V_children': False, 'V_NOTchildren': False, 'V_flick': False, 'V_NOTflick': False, 'V_matter': False, 'V_NOTmatter': False, 'V_nearly': False, 'V_NOTnearly': False, 'V_theater': False, 'V_NOTtheater': False, 'V_short': False, 'V_NOTshort': False, 'V_gives': False, 'V_NOTgives': False, 'V_feature': False, 'V_NOTfeature': False, 'V_idea': False, 'V_NOTidea': False, 'V_face': False, 'V_NOTface': False, 'V_series': False, 'V_NOTseries': False, 'V_set': False, 'V_NOTset': False, 'V_whose': False, 'V_NOTwhose': False, 'V_narrative': False, 'V_NOTnarrative': False, 'V_screenplay': False, 'V_NOTscreenplay': False, 'V_silly': False, 'V_NOTsilly': False, 'V_each': False, 'V_NOTeach': False, 'V_premise': False, 'V_NOTpremise': False, 'V_trying': False, 'V_NOTtrying': False, 'V_culture': False, 'V_NOTculture': False, 'V_looking': False, 'V_NOTlooking': False, 'V_men': False, 'V_NOTmen': False, 'V_since': False, 'V_NOTsince': False, 'V_video': False, 'V_NOTvideo': False, 'V_horror': False, 'V_NOThorror': False, 'V_high': False, 'V_NOThigh': False, 'V_book': False, 'V_NOTbook': False, 'V_whole': False, 'V_NOTwhole': False, 'V_summer': False, 'V_NOTsummer': False, 'V_easy': False, 'V_NOTeasy': False, 'V_enjoyable': False, 'V_NOTenjoyable': False, 'V_done': False, 'V_NOTdone': False, 'V_title': False, 'V_NOTtitle': False, 'V_day': False, 'V_NOTday': False, 'V_level': False, 'V_NOTlevel': False, 'V_simply': False, 'V_NOTsimply': False, 'V_interest': False, 'V_NOTinterest': False, 'V_half': False, 'V_NOThalf': False, 'V_energy': False, 'V_NOTenergy': False, 'V_especially': False, 'V_NOTespecially': False, 'V_tv': False, 'V_NOTtv': False, 'V_study': False, 'V_NOTstudy': False, 'V_dramatic': False, 'V_NOTdramatic': False, 'V_modern': False, 'V_NOTmodern': False, 'V_always': False, 'V_NOTalways': False, 'V_effects': False, 'V_NOTeffects': False, 'V_amusing': False, 'V_NOTamusing': False, 'V_light': False, 'V_NOTlight': False, 'V_everything': False, 'V_NOTeverything': False, 'V_filmmakers': False, 'V_NOTfilmmakers': False, 'V_himself': False, 'V_NOThimself': False, 'V_beautiful': False, 'V_NOTbeautiful': False, 'V_engaging': False, 'V_NOTengaging': False, 'V_powerful': False, 'V_NOTpowerful': False, 'V_next': False, 'V_NOTnext': False, 'V_strong': False, 'V_NOTstrong': False, 'V_power': False, 'V_NOTpower': False, 'V_smart': False, 'V_NOTsmart': False, 'V_woman': False, 'V_NOTwoman': False, 'V_obvious': False, 'V_NOTobvious': False, 'V_worst': False, 'V_NOTworst': False, 'V_stories': False, 'V_NOTstories': False, 'V_goes': False, 'V_NOTgoes': False, 'V_tone': False, 'V_NOTtone': False, 'V_predictable': False, 'V_NOTpredictable': False, 'V_spirit': False, 'V_NOTspirit': False, 'V_political': False, 'V_NOTpolitical': False, 'V_past': False, 'V_NOTpast': False, 'V_social': False, 'V_NOTsocial': False, 'V_effort': False, 'V_NOTeffort': False, 'V_classic': False, 'V_NOTclassic': False, 'V_surprisingly': False, 'V_NOTsurprisingly': False, 'V_filmmaking': False, 'V_NOTfilmmaking': False, 'V_become': False, 'V_NOTbecome': False, 'V_french': False, 'V_NOTfrench': False, 'V_romance': False, 'V_NOTromance': False, 'V_john': False, 'V_NOTjohn': False, 'V_portrait': False, 'V_NOTportrait': False, 'V_wit': False, 'V_NOTwit': False, 'V_instead': False, 'V_NOTinstead': False, 'V_hours': False, 'V_NOThours': False, 'V_probably': False, 'V_NOTprobably': False, \"V_'d\": False, \"V_NOT'd\": False, 'V_intelligence': False, 'V_NOTintelligence': False, 'V_version': False, 'V_NOTversion': False, 'V_hour': False, 'V_NOThour': False, 'V_feeling': False, 'V_NOTfeeling': False, 'V_either': False, 'V_NOTeither': False, 'V_exercise': False, 'V_NOTexercise': False, 'V_camera': False, 'V_NOTcamera': False, 'V_line': False, 'V_NOTline': False, 'V_manages': False, 'V_NOTmanages': False, 'V_intelligent': False, 'V_NOTintelligent': False, 'V_everyone': False, 'V_NOTeveryone': False, 'V_melodrama': False, 'V_NOTmelodrama': False, 'V_black': False, 'V_NOTblack': False, 'V_debut': False, 'V_NOTdebut': False, 'V_mind': False, 'V_NOTmind': False, 'V_turn': False, 'V_NOTturn': False, 'V_recent': False, 'V_NOTrecent': False, 'V_reason': False, 'V_NOTreason': False, 'V_quirky': False, 'V_NOTquirky': False, 'V_mr.': False, 'V_NOTmr.': False, 'V_offers': False, 'V_NOToffers': False, 'V_charming': False, 'V_NOTcharming': False, 'V_ideas': False, 'V_NOTideas': False, 'V_suspense': False, 'V_NOTsuspense': False, 'V_death': False, 'V_NOTdeath': False, 'V_small': False, 'V_NOTsmall': False, 'V_stuff': False, 'V_NOTstuff': False, 'V_truly': False, 'V_NOTtruly': False, 'V_live': False, 'V_NOTlive': False, 'V_charm': False, 'V_NOTcharm': False, 'V_actor': False, 'V_NOTactor': False, 'V_head': False, 'V_NOThead': False, 'V_despite': False, 'V_NOTdespite': False, 'V_leave': False, 'V_NOTleave': False, 'V_sort': False, 'V_NOTsort': False, 'V_project': False, 'V_NOTproject': False, 'V_audiences': False, 'V_NOTaudiences': False, 'V_serious': False, 'V_NOTserious': False, 'V_enjoy': False, 'V_NOTenjoy': False, 'V_believe': False, 'V_NOTbelieve': False, 'V_now': False, 'V_NOTnow': False, 'V_else': False, 'V_NOTelse': False, 'V_opera': False, 'V_NOTopera': False, 'V_rich': False, 'V_NOTrich': False, 'V_home': False, 'V_NOThome': False, 'V_likely': False, 'V_NOTlikely': False, 'V_becomes': False, 'V_NOTbecomes': False, 'V_reality': False, 'V_NOTreality': False, 'V_fresh': False, 'V_NOTfresh': False, 'V_side': False, 'V_NOTside': False, 'V_solid': False, 'V_NOTsolid': False, 'V_filmmaker': False, 'V_NOTfilmmaker': False, 'V_tragedy': False, 'V_NOTtragedy': False, 'V_ways': False, 'V_NOTways': False, 'V_personal': False, 'V_NOTpersonal': False, 'V_wo': False, 'V_NOTwo': False, 'V_de': False, 'V_NOTde': False, 'V_storytelling': False, 'V_NOTstorytelling': False, 'V_beyond': False, 'V_NOTbeyond': False, 'V_fine': False, 'V_NOTfine': False, 'V_left': False, 'V_NOTleft': False, 'V_ending': False, 'V_NOTending': False, 'V_role': False, 'V_NOTrole': False, 'V_deeply': False, 'V_NOTdeeply': False, 'V_message': False, 'V_NOTmessage': False, 'V_plays': False, 'V_NOTplays': False, 'V_lack': False, 'V_NOTlack': False, 'V_turns': False, 'V_NOTturns': False, 'V_already': False, 'V_NOTalready': False, 'V_different': False, 'V_NOTdifferent': False, 'V_girl': False, 'V_NOTgirl': False, 'V_gags': False, 'V_NOTgags': False, 'V_play': False, 'V_NOTplay': False, 'V_jokes': False, 'V_NOTjokes': False, 'V_eyes': False, 'V_NOTeyes': False, 'V_themselves': False, 'V_NOTthemselves': False, 'V_michael': False, 'V_NOTmichael': False, 'V_perfect': False, 'V_NOTperfect': False, 'V_impossible': False, 'V_NOTimpossible': False, 'V_complex': False, 'V_NOTcomplex': False, 'V_rare': False, 'V_NOTrare': False, 'V_cold': False, 'V_NOTcold': False, 'V_otherwise': False, 'V_NOTotherwise': False, 'V_put': False, 'V_NOTput': False, 'V_particularly': False, 'V_NOTparticularly': False, 'V_inside': False, 'V_NOTinside': False, 'V_directed': False, 'V_NOTdirected': False, 'V_scene': False, 'V_NOTscene': False, 'V_images': False, 'V_NOTimages': False, 'V_sad': False, 'V_NOTsad': False, 'V_boring': False, 'V_NOTboring': False, 'V_against': False, 'V_NOTagainst': False, 'V_flat': False, 'V_NOTflat': False, 'V_moral': False, 'V_NOTmoral': False, 'V_boy': False, 'V_NOTboy': False, 'V_ride': False, 'V_NOTride': False, 'V_imagination': False, 'V_NOTimagination': False, 'V_satisfying': False, 'V_NOTsatisfying': False, 'V_sure': False, 'V_NOTsure': False, 'V_animation': False, 'V_NOTanimation': False, 'V_running': False, 'V_NOTrunning': False, 'V_viewer': False, 'V_NOTviewer': False, 'V_shot': False, 'V_NOTshot': False, 'V_adventure': False, 'V_NOTadventure': False, 'V_sex': False, 'V_NOTsex': False, 'V_slow': False, 'V_NOTslow': False, 'V_dumb': False, 'V_NOTdumb': False, 'V_run': False, 'V_NOTrun': False, 'V_talent': False, 'V_NOTtalent': False, 'V_honest': False, 'V_NOThonest': False, 'V_sequences': False, 'V_NOTsequences': False, 'V_act': False, 'V_NOTact': False, 'V_during': False, 'V_NOTduring': False, 'V_viewers': False, 'V_NOTviewers': False, 'V_days': False, 'V_NOTdays': False, 'V_looks': False, 'V_NOTlooks': False, 'V_along': False, 'V_NOTalong': False, 'V_mystery': False, 'V_NOTmystery': False, 'V_violence': False, 'V_NOTviolence': False, 'V_completely': False, 'V_NOTcompletely': False, 'V_seeing': False, 'V_NOTseeing': False, 'V_written': False, 'V_NOTwritten': False, 'V_historical': False, 'V_NOThistorical': False, 'V_beautifully': False, 'V_NOTbeautifully': False, 'V_intriguing': False, 'V_NOTintriguing': False, 'V_laugh': False, 'V_NOTlaugh': False, 'V_wrong': False, 'V_NOTwrong': False, 'V_hilarious': False, 'V_NOThilarious': False, 'V_crime': False, 'V_NOTcrime': False, 'V_strange': False, 'V_NOTstrange': False, 'V_certainly': False, 'V_NOTcertainly': False, 'V_passion': False, 'V_NOTpassion': False, 'V_shows': False, 'V_NOTshows': False, 'V_easily': False, 'V_NOTeasily': False, 'V_beauty': False, 'V_NOTbeauty': False, 'V_formula': False, 'V_NOTformula': False, 'V_comedies': False, 'V_NOTcomedies': False, 'V_contrived': False, 'V_NOTcontrived': False, 'V_pleasure': False, 'V_NOTpleasure': False, 'V_nature': False, 'V_NOTnature': False, 'V_elements': False, 'V_NOTelements': False, 'V_fairly': False, 'V_NOTfairly': False, 'V_memorable': False, 'V_NOTmemorable': False, 'V_thought': False, 'V_NOTthought': False, 'V_game': False, 'V_NOTgame': False, 'V_difficult': False, 'V_NOTdifficult': False, 'V_having': False, 'V_NOThaving': False, 'V_fantasy': False, 'V_NOTfantasy': False, 'V_above': False, 'V_NOTabove': False, 'V_whether': False, 'V_NOTwhether': False, \"V_'m\": False, \"V_NOT'm\": False, 'V_emotionally': False, 'V_NOTemotionally': False, 'V_bland': False, 'V_NOTbland': False, 'V_soap': False, 'V_NOTsoap': False, 'V_attempt': False, 'V_NOTattempt': False, 'V_cliches': False, 'V_NOTcliches': False, 'V_final': False, 'V_NOTfinal': False, 'V_york': False, 'V_NOTyork': False, 'V_hero': False, 'V_NOThero': False, 'V_writing': False, 'V_NOTwriting': False, 'V_moment': False, 'V_NOTmoment': False, 'V_possible': False, 'V_NOTpossible': False, 'V_tell': False, 'V_NOTtell': False, 'V_usual': False, 'V_NOTusual': False, 'V_attention': False, 'V_NOTattention': False, 'V_middle': False, 'V_NOTmiddle': False, 'V_given': False, 'V_NOTgiven': False, 'V_concept': False, 'V_NOTconcept': False, 'V_getting': False, 'V_NOTgetting': False, 'V_working': False, 'V_NOTworking': False, 'V_fact': False, 'V_NOTfact': False, 'V_period': False, 'V_NOTperiod': False, 'V_stand': False, 'V_NOTstand': False, 'V_fails': False, 'V_NOTfails': False, 'V_got': False, 'V_NOTgot': False, 'V_events': False, 'V_NOTevents': False, 'V_found': False, 'V_NOTfound': False, 'V_emotions': False, 'V_NOTemotions': False, 'V_pictures': False, 'V_NOTpictures': False, 'V_mostly': False, 'V_NOTmostly': False, 'V_case': False, 'V_NOTcase': False, 'V_must': False, 'V_NOTmust': False, 'V_novel': False, 'V_NOTnovel': False, 'V_call': False, 'V_NOTcall': False, 'V_production': False, 'V_NOTproduction': False, 'V_entirely': False, 'V_NOTentirely': False, 'V_issues': False, 'V_NOTissues': False, 'V_supposed': False, 'V_NOTsupposed': False, 'V_mood': False, 'V_NOTmood': False, 'V_artist': False, 'V_NOTartist': False, 'V_lacks': False, 'V_NOTlacks': False, 'V_nor': False, 'V_NOTnor': False, 'V_guys': False, 'V_NOTguys': False, 'V_help': False, 'V_NOThelp': False, 'V_lost': False, 'V_NOTlost': False, 'V_teen': False, 'V_NOTteen': False, 'V_ends': False, 'V_NOTends': False, 'V_earnest': False, 'V_NOTearnest': False, 'V_none': False, 'V_NOTnone': False, 'V_touching': False, 'V_NOTtouching': False, 'V_view': False, 'V_NOTview': False, 'V_vision': False, 'V_NOTvision': False, 'V_visually': False, 'V_NOTvisually': False, 'V_house': False, 'V_NOThouse': False, 'V_proves': False, 'V_NOTproves': False, 'V_parents': False, 'V_NOTparents': False, 'V_tired': False, 'V_NOTtired': False, 'V_close': False, 'V_NOTclose': False, 'V_perfectly': False, 'V_NOTperfectly': False, 'V_remarkable': False, 'V_NOTremarkable': False, 'V_plenty': False, 'V_NOTplenty': False, 'V_second': False, 'V_NOTsecond': False, 'V_psychological': False, 'V_NOTpsychological': False, 'V_neither': False, 'V_NOTneither': False, 'V_creepy': False, 'V_NOTcreepy': False, 'V_try': False, 'V_NOTtry': False, 'V_adults': False, 'V_NOTadults': False, 'V_quality': False, 'V_NOTquality': False, 'V_deep': False, 'V_NOTdeep': False, 'V_terrific': False, 'V_NOTterrific': False, 'V_gentle': False, 'V_NOTgentle': False, 'V_barely': False, 'V_NOTbarely': False, 'V_change': False, 'V_NOTchange': False, 'V_remains': False, 'V_NOTremains': False, 'V_relationships': False, 'V_NOTrelationships': False, 'V_four': False, 'V_NOTfour': False, 'V_single': False, 'V_NOTsingle': False, 'V_wonderful': False, 'V_NOTwonderful': False, 'V_tries': False, 'V_NOTtries': False, 'V_ambitious': False, 'V_NOTambitious': False, 'V_mess': False, 'V_NOTmess': False, 'V_simple': False, 'V_NOTsimple': False, 'V_cheap': False, 'V_NOTcheap': False, 'V_america': False, 'V_NOTamerica': False, 'V_taste': False, 'V_NOTtaste': False, 'V_occasionally': False, 'V_NOToccasionally': False, 'V_rock': False, 'V_NOTrock': False, 'V_ii': False, 'V_NOTii': False, 'V_guy': False, 'V_NOTguy': False, 'V_creative': False, 'V_NOTcreative': False, 'V_approach': False, 'V_NOTapproach': False, 'V_dead': False, 'V_NOTdead': False, 'V_career': False, 'V_NOTcareer': False, 'V_sequel': False, 'V_NOTsequel': False, 'V_gorgeous': False, 'V_NOTgorgeous': False, 'V_previous': False, 'V_NOTprevious': False, 'V_gone': False, 'V_NOTgone': False, 'V_cut': False, 'V_NOTcut': False, 'V_sentimental': False, 'V_NOTsentimental': False, 'V_brilliant': False, 'V_NOTbrilliant': False, 'V_talented': False, 'V_NOTtalented': False, 'V_convincing': False, 'V_NOTconvincing': False, 'V_lead': False, 'V_NOTlead': False, 'V_dog': False, 'V_NOTdog': False, 'V_scary': False, 'V_NOTscary': False, 'V_cool': False, 'V_NOTcool': False, 'V_bring': False, 'V_NOTbring': False, 'V_thoughtful': False, 'V_NOTthoughtful': False, 'V_thin': False, 'V_NOTthin': False, 'V_themes': False, 'V_NOTthemes': False, 'V_unsettling': False, 'V_NOTunsettling': False, 'V_disney': False, 'V_NOTdisney': False, 'V_expect': False, 'V_NOTexpect': False, 'V_odd': False, 'V_NOTodd': False, 'V_satire': False, 'V_NOTsatire': False, 'V_sit': False, 'V_NOTsit': False, 'V_certain': False, 'V_NOTcertain': False, 'V_job': False, 'V_NOTjob': False, 'V_problem': False, 'V_NOTproblem': False, 'V_wild': False, 'V_NOTwild': False, 'V_ones': False, 'V_NOTones': False, 'V_pace': False, 'V_NOTpace': False, 'V_date': False, 'V_NOTdate': False, 'V_told': False, 'V_NOTtold': False, 'V_success': False, 'V_NOTsuccess': False, 'V_low': False, 'V_NOTlow': False, 'V_latest': False, 'V_NOTlatest': False, 'V_finally': False, 'V_NOTfinally': False, 'V_surprising': False, 'V_NOTsurprising': False, 'V_straight': False, 'V_NOTstraight': False, 'V_old-fashioned': False, 'V_NOTold-fashioned': False, 'V_appealing': False, 'V_NOTappealing': False, 'V_touch': False, 'V_NOTtouch': False, 'V_city': False, 'V_NOTcity': False, 'V_robert': False, 'V_NOTrobert': False, 'V_air': False, 'V_NOTair': False, 'V_welcome': False, 'V_NOTwelcome': False, 'V_pretentious': False, 'V_NOTpretentious': False, 'V_flawed': False, 'V_NOTflawed': False, 'V_cultural': False, 'V_NOTcultural': False, 'V_somewhat': False, 'V_NOTsomewhat': False, 'V_used': False, 'V_NOTused': False, 'V_road': False, 'V_NOTroad': False, 'V_relationship': False, 'V_NOTrelationship': False, 'V_room': False, 'V_NOTroom': False, 'V_process': False, 'V_NOTprocess': False, 'V_knows': False, 'V_NOTknows': False, 'V_playing': False, 'V_NOTplaying': False, 'V_decent': False, 'V_NOTdecent': False, 'V_school': False, 'V_NOTschool': False, 'V_appeal': False, 'V_NOTappeal': False, 'V_spy': False, 'V_NOTspy': False, 'V_important': False, 'V_NOTimportant': False, 'V_battle': False, 'V_NOTbattle': False, 'V_nice': False, 'V_NOTnice': False, 'V_fully': False, 'V_NOTfully': False, 'V_taking': False, 'V_NOTtaking': False, 'V_hand': False, 'V_NOThand': False, 'V_david': False, 'V_NOTdavid': False, 'V_epic': False, 'V_NOTepic': False, 'V_future': False, 'V_NOTfuture': False, 'V_situation': False, 'V_NOTsituation': False, 'V_class': False, 'V_NOTclass': False, 'V_able': False, 'V_NOTable': False, 'V_thinking': False, 'V_NOTthinking': False, 'V_truth': False, 'V_NOTtruth': False, 'V_use': False, 'V_NOTuse': False, 'V_contemporary': False, 'V_NOTcontemporary': False, 'V_journey': False, 'V_NOTjourney': False, 'V_dry': False, 'V_NOTdry': False, 'V_several': False, 'V_NOTseveral': False, 'V_flicks': False, 'V_NOTflicks': False, 'V_age': False, 'V_NOTage': False, 'V_british': False, 'V_NOTbritish': False, 'V_insight': False, 'V_NOTinsight': False, 'V_sci-fi': False, 'V_NOTsci-fi': False, 'V_saw': False, 'V_NOTsaw': False, 'V_stupid': False, 'V_NOTstupid': False, 'V_adaptation': False, 'V_NOTadaptation': False, 'V_painful': False, 'V_NOTpainful': False, 'V_hold': False, 'V_NOThold': False, 'V_couple': False, 'V_NOTcouple': False, 'V_company': False, 'V_NOTcompany': False, 'V_needs': False, 'V_NOTneeds': False, 'V_potential': False, 'V_NOTpotential': False, 'V_hit': False, 'V_NOThit': False, 'V_entire': False, 'V_NOTentire': False, 'V_words': False, 'V_NOTwords': False, 'V_business': False, 'V_NOTbusiness': False, 'V_urban': False, 'V_NOTurban': False, 'V_doing': False, 'V_NOTdoing': False, 'V_genuine': False, 'V_NOTgenuine': False, 'V_thoroughly': False, 'V_NOTthoroughly': False, 'V_target': False, 'V_NOTtarget': False, 'V_episode': False, 'V_NOTepisode': False, 'V_across': False, 'V_NOTacross': False, 'V_warm': False, 'V_NOTwarm': False, 'V_today': False, 'V_NOTtoday': False, 'V_others': False, 'V_NOTothers': False, 'V_female': False, 'V_NOTfemale': False, 'V_tension': False, 'V_NOTtension': False, 'V_situations': False, 'V_NOTsituations': False, 'V_imagine': False, 'V_NOTimagine': False, 'V_country': False, 'V_NOTcountry': False, 'V_start': False, 'V_NOTstart': False, 'V_keeps': False, 'V_NOTkeeps': False, 'V_flaws': False, 'V_NOTflaws': False, 'V_monster': False, 'V_NOTmonster': False, 'V_throughout': False, 'V_NOTthroughout': False, 'V_behind': False, 'V_NOTbehind': False, 'V_tragic': False, 'V_NOTtragic': False, 'V_excellent': False, 'V_NOTexcellent': False, 'V_quiet': False, 'V_NOTquiet': False, 'V_unexpected': False, 'V_NOTunexpected': False, 'V_manner': False, 'V_NOTmanner': False, 'V_kid': False, 'V_NOTkid': False, 'V_mediocre': False, 'V_NOTmediocre': False, 'V_fire': False, 'V_NOTfire': False, 'V_ugly': False, 'V_NOTugly': False, 'V_sustain': False, 'V_NOTsustain': False, 'V_90': False, 'V_NOT90': False, 'V_felt': False, 'V_NOTfelt': False, 'V_night': False, 'V_NOTnight': False, 'V_understand': False, 'V_NOTunderstand': False, 'V_era': False, 'V_NOTera': False, 'V_stylish': False, 'V_NOTstylish': False, 'V_overall': False, 'V_NOToverall': False, 'V_gay': False, 'V_NOTgay': False, 'V_skin': False, 'V_NOTskin': False, 'V_evil': False, 'V_NOTevil': False, 'V_falls': False, 'V_NOTfalls': False, 'V_college': False, 'V_NOTcollege': False, 'V_execution': False, 'V_NOTexecution': False, 'V_remake': False, 'V_NOTremake': False, 'V_worse': False, 'V_NOTworse': False, 'V_offer': False, 'V_NOToffer': False, 'V_places': False, 'V_NOTplaces': False, 'V_taken': False, 'V_NOTtaken': False, 'V_magic': False, 'V_NOTmagic': False, 'V_problems': False, 'V_NOTproblems': False, 'V_girls': False, 'V_NOTgirls': False, 'V_exactly': False, 'V_NOTexactly': False, 'V_major': False, 'V_NOTmajor': False, 'V_impact': False, 'V_NOTimpact': False, 'V_awful': False, 'V_NOTawful': False, 'V_sexual': False, 'V_NOTsexual': False, 'V_rest': False, 'V_NOTrest': False, 'V_engrossing': False, 'V_NOTengrossing': False, 'V_coming-of-age': False, 'V_NOTcoming-of-age': False, 'V_car': False, 'V_NOTcar': False, 'V_crazy': False, 'V_NOTcrazy': False, 'V_depth': False, 'V_NOTdepth': False, 'V_mean': False, 'V_NOTmean': False, 'V_actress': False, 'V_NOTactress': False, 'V_humanity': False, 'V_NOThumanity': False, 'V_worthy': False, 'V_NOTworthy': False, 'V_word': False, 'V_NOTword': False, 'V_edge': False, 'V_NOTedge': False, 'V_warmth': False, 'V_NOTwarmth': False, 'V_living': False, 'V_NOTliving': False, 'V_money': False, 'V_NOTmoney': False, 'V_spielberg': False, 'V_NOTspielberg': False, 'V_name': False, 'V_NOTname': False, 'V_cartoon': False, 'V_NOTcartoon': False, 'V_coming': False, 'V_NOTcoming': False, 'V_pieces': False, 'V_NOTpieces': False, 'V_conclusion': False, 'V_NOTconclusion': False, 'V_grace': False, 'V_NOTgrace': False, 'V_frame': False, 'V_NOTframe': False, 'V_oscar': False, 'V_NOToscar': False, 'V_goofy': False, 'V_NOTgoofy': False, 'V_plain': False, 'V_NOTplain': False, 'V_master': False, 'V_NOTmaster': False, 'V_mildly': False, 'V_NOTmildly': False, 'V_loud': False, 'V_NOTloud': False, 'V_form': False, 'V_NOTform': False, 'V_someone': False, 'V_NOTsomeone': False, 'V_called': False, 'V_NOTcalled': False, 'V_successful': False, 'V_NOTsuccessful': False, 'V_purpose': False, 'V_NOTpurpose': False, 'V_unique': False, 'V_NOTunique': False, 'V_seat': False, 'V_NOTseat': False, 'V_eye': False, 'V_NOTeye': False, 'V_considerable': False, 'V_NOTconsiderable': False, 'V_justice': False, 'V_NOTjustice': False, 'V_leaves': False, 'V_NOTleaves': False, 'V_merely': False, 'V_NOTmerely': False, 'V_television': False, 'V_NOTtelevision': False, 'V_shots': False, 'V_NOTshots': False, 'V_george': False, 'V_NOTgeorge': False, 'V_writer-director': False, 'V_NOTwriter-director': False, 'V_ultimate': False, 'V_NOTultimate': False, 'V_clear': False, 'V_NOTclear': False, 'V_white': False, 'V_NOTwhite': False, 'V_pure': False, 'V_NOTpure': False, 'V_impressive': False, 'V_NOTimpressive': False, 'V_sharp': False, 'V_NOTsharp': False, 'V_pacing': False, 'V_NOTpacing': False, 'V_delightful': False, 'V_NOTdelightful': False, 'V_core': False, 'V_NOTcore': False, 'V_highly': False, 'V_NOThighly': False, 'V_create': False, 'V_NOTcreate': False, 'V_animated': False, 'V_NOTanimated': False, 'V_delivers': False, 'V_NOTdelivers': False, 'V_points': False, 'V_NOTpoints': False, 'V_uses': False, 'V_NOTuses': False, 'V_starts': False, 'V_NOTstarts': False, 'V_share': False, 'V_NOTshare': False, 'V_memory': False, 'V_NOTmemory': False, 'V_winning': False, 'V_NOTwinning': False, 'V_let': False, 'V_NOTlet': False, 'V_pop': False, 'V_NOTpop': False, 'V_wants': False, 'V_NOTwants': False, 'V_ensemble': False, 'V_NOTensemble': False, 'V_viewing': False, 'V_NOTviewing': False, 'V_wanted': False, 'V_NOTwanted': False, 'V_examination': False, 'V_NOTexamination': False, 'V_red': False, 'V_NOTred': False, 'V_slightly': False, 'V_NOTslightly': False, 'V_pay': False, 'V_NOTpay': False, 'V_perspective': False, 'V_NOTperspective': False, 'V_inventive': False, 'V_NOTinventive': False, 'V_huge': False, 'V_NOThuge': False, 'V_surprises': False, 'V_NOTsurprises': False, 'V_colorful': False, 'V_NOTcolorful': False, 'V_unfunny': False, 'V_NOTunfunny': False, 'V_tom': False, 'V_NOTtom': False, 'V_interested': False, 'V_NOTinterested': False, 'V_maybe': False, 'V_NOTmaybe': False, 'V_questions': False, 'V_NOTquestions': False, 'V_poor': False, 'V_NOTpoor': False, 'V_twists': False, 'V_NOTtwists': False, 'V_friendship': False, 'V_NOTfriendship': False, 'V_subtle': False, 'V_NOTsubtle': False, 'V_wish': False, 'V_NOTwish': False, 'V_equally': False, 'V_NOTequally': False, 'V_intended': False, 'V_NOTintended': False, 'V_sincere': False, 'V_NOTsincere': False, 'V_promise': False, 'V_NOTpromise': False, 'V_loss': False, 'V_NOTloss': False, 'V_ago': False, 'V_NOTago': False, 'V_surprise': False, 'V_NOTsurprise': False, 'V_read': False, 'V_NOTread': False, 'V_force': False, 'V_NOTforce': False, 'V_forget': False, 'V_NOTforget': False, 'V_upon': False, 'V_NOTupon': False, 'V_writer': False, 'V_NOTwriter': False, 'V_dream': False, 'V_NOTdream': False, 'V_bizarre': False, 'V_NOTbizarre': False, 'V_fit': False, 'V_NOTfit': False, 'V_believable': False, 'V_NOTbelievable': False, 'V_substance': False, 'V_NOTsubstance': False, 'V_damned': False, 'V_NOTdamned': False, 'V_sophisticated': False, 'V_NOTsophisticated': False, 'V_five': False, 'V_NOTfive': False, 'V_crowd': False, 'V_NOTcrowd': False, 'V_grant': False, 'V_NOTgrant': False, 'V_slight': False, 'V_NOTslight': False, 'V_deal': False, 'V_NOTdeal': False, 'V_happen': False, 'V_NOThappen': False, 'V_wife': False, 'V_NOTwife': False, 'V_spiritual': False, 'V_NOTspiritual': False, 'V_typical': False, 'V_NOTtypical': False, 'V_slapstick': False, 'V_NOTslapstick': False, 'V_weird': False, 'V_NOTweird': False, 'V_means': False, 'V_NOTmeans': False, 'V_sensitive': False, 'V_NOTsensitive': False, 'V_funnier': False, 'V_NOTfunnier': False, 'V_alone': False, 'V_NOTalone': False, 'V_queen': False, 'V_NOTqueen': False, 'V_franchise': False, 'V_NOTfranchise': False, 'V_among': False, 'V_NOTamong': False, 'V_ability': False, 'V_NOTability': False, 'V_festival': False, 'V_NOTfestival': False, 'V_steven': False, 'V_NOTsteven': False, 'V_treatment': False, 'V_NOTtreatment': False, 'V_utterly': False, 'V_NOTutterly': False, 'V_chan': False, 'V_NOTchan': False, 'V_watchable': False, 'V_NOTwatchable': False, 'V_intrigue': False, 'V_NOTintrigue': False, 'V_average': False, 'V_NOTaverage': False, 'V_stars': False, 'V_NOTstars': False, 'V_brain': False, 'V_NOTbrain': False, 'V_twisted': False, 'V_NOTtwisted': False, 'V_popcorn': False, 'V_NOTpopcorn': False, 'V_murder': False, 'V_NOTmurder': False, 'V_tedious': False, 'V_NOTtedious': False, 'V_meditation': False, 'V_NOTmeditation': False, 'V_provocative': False, 'V_NOTprovocative': False, 'V_waste': False, 'V_NOTwaste': False, 'V_killer': False, 'V_NOTkiller': False, 'V_conventional': False, 'V_NOTconventional': False, 'V_cute': False, 'V_NOTcute': False, 'V_manipulative': False, 'V_NOTmanipulative': False, 'V_cause': False, 'V_NOTcause': False, 'V_hell': False, 'V_NOThell': False, 'V_party': False, 'V_NOTparty': False, 'V_boys': False, 'V_NOTboys': False, 'V_ms.': False, 'V_NOTms.': False, 'V_acted': False, 'V_NOTacted': False, 'V_until': False, 'V_NOTuntil': False, 'V_masterpiece': False, 'V_NOTmasterpiece': False, 'V_south': False, 'V_NOTsouth': False, 'V_effective': False, 'V_NOTeffective': False, 'V_release': False, 'V_NOTrelease': False, 'V_lacking': False, 'V_NOTlacking': False, 'V_figure': False, 'V_NOTfigure': False, 'V_sandler': False, 'V_NOTsandler': False, 'V_endearing': False, 'V_NOTendearing': False, 'V_break': False, 'V_NOTbreak': False, 'V_trouble': False, 'V_NOTtrouble': False, 'V_chemistry': False, 'V_NOTchemistry': False, 'V_usually': False, 'V_NOTusually': False, 'V_deserves': False, 'V_NOTdeserves': False, 'V_soul': False, 'V_NOTsoul': False, 'V_drag': False, 'V_NOTdrag': False, 'V_terms': False, 'V_NOTterms': False, 'V_central': False, 'V_NOTcentral': False, 'V_gross-out': False, 'V_NOTgross-out': False, 'V_society': False, 'V_NOTsociety': False, 'V_trip': False, 'V_NOTtrip': False, 'V_artistic': False, 'V_NOTartistic': False, 'V_amount': False, 'V_NOTamount': False, 'V_heavy': False, 'V_NOTheavy': False, 'V_dreams': False, 'V_NOTdreams': False, 'V_2002': False, 'V_NOT2002': False, 'V_universal': False, 'V_NOTuniversal': False, 'V_shallow': False, 'V_NOTshallow': False, 'V_greatest': False, 'V_NOTgreatest': False, 'V_intimate': False, 'V_NOTintimate': False, 'V_inspired': False, 'V_NOTinspired': False, 'V_telling': False, 'V_NOTtelling': False, 'V_rarely': False, 'V_NOTrarely': False, 'V_happy': False, 'V_NOThappy': False, 'V_lovely': False, 'V_NOTlovely': False, 'V_attempts': False, 'V_NOTattempts': False, 'V_forced': False, 'V_NOTforced': False, 'V_main': False, 'V_NOTmain': False, 'V_green': False, 'V_NOTgreen': False, 'V_allows': False, 'V_NOTallows': False, 'V_routine': False, 'V_NOTroutine': False, 'V_win': False, 'V_NOTwin': False, 'V_challenging': False, 'V_NOTchallenging': False, 'V_mother': False, 'V_NOTmother': False, 'V_delivery': False, 'V_NOTdelivery': False, 'V_hope': False, 'V_NOThope': False, 'V_politics': False, 'V_NOTpolitics': False, 'V_sets': False, 'V_NOTsets': False, 'V_particular': False, 'V_NOTparticular': False, 'V_twice': False, 'V_NOTtwice': False, 'V_conflict': False, 'V_NOTconflict': False, 'V_extreme': False, 'V_NOTextreme': False, 'V_setting': False, 'V_NOTsetting': False, 'V_captures': False, 'V_NOTcaptures': False, 'V_product': False, 'V_NOTproduct': False, 'V_faith': False, 'V_NOTfaith': False, 'V_melodramatic': False, 'V_NOTmelodramatic': False, 'V_intense': False, 'V_NOTintense': False, 'V_standard': False, 'V_NOTstandard': False, 'V_king': False, 'V_NOTking': False, 'V_witty': False, 'V_NOTwitty': False, 'V_martin': False, 'V_NOTmartin': False, 'V_sexy': False, 'V_NOTsexy': False, 'V_exciting': False, 'V_NOTexciting': False, 'V_sound': False, 'V_NOTsound': False, 'V_storyline': False, 'V_NOTstoryline': False, 'V_waiting': False, 'V_NOTwaiting': False, 'V_directors': False, 'V_NOTdirectors': False, 'V_imax': False, 'V_NOTimax': False, 'V_overcome': False, 'V_NOTovercome': False, 'V_score': False, 'V_NOTscore': False, 'V_involved': False, 'V_NOTinvolved': False, 'V_value': False, 'V_NOTvalue': False, 'V_hackneyed': False, 'V_NOThackneyed': False, 'V_apart': False, 'V_NOTapart': False, 'V_poetry': False, 'V_NOTpoetry': False, 'V_except': False, 'V_NOTexcept': False, 'V_depressing': False, 'V_NOTdepressing': False, 'V_generic': False, 'V_NOTgeneric': False, 'V_editing': False, 'V_NOTediting': False, 'V_behavior': False, 'V_NOTbehavior': False, 'V_soundtrack': False, 'V_NOTsoundtrack': False, 'V_allen': False, 'V_NOTallen': False, 'V_brothers': False, 'V_NOTbrothers': False, 'V_mark': False, 'V_NOTmark': False, 'V_puts': False, 'V_NOTputs': False, 'V_mindless': False, 'V_NOTmindless': False, 'V_terrible': False, 'V_NOTterrible': False, 'V_skill': False, 'V_NOTskill': False, 'V_definitely': False, 'V_NOTdefinitely': False, 'V_members': False, 'V_NOTmembers': False, 'V_derivative': False, 'V_NOTderivative': False, 'V_10': False, 'V_NOT10': False, 'V_lots': False, 'V_NOTlots': False, 'V_favor': False, 'V_NOTfavor': False, 'V_based': False, 'V_NOTbased': False, 'V_although': False, 'V_NOTalthough': False, 'V_doubt': False, 'V_NOTdoubt': False, 'V_industry': False, 'V_NOTindustry': False, 'V_complete': False, 'V_NOTcomplete': False, 'V_fiction': False, 'V_NOTfiction': False, 'V_yourself': False, 'V_NOTyourself': False, 'V_giving': False, 'V_NOTgiving': False, 'V_reveals': False, 'V_NOTreveals': False, 'V_brings': False, 'V_NOTbrings': False, 'V_recommend': False, 'V_NOTrecommend': False, 'V_atmosphere': False, 'V_NOTatmosphere': False, 'V_games': False, 'V_NOTgames': False, 'V_motion': False, 'V_NOTmotion': False, 'V_blade': False, 'V_NOTblade': False, 'V_clearly': False, 'V_NOTclearly': False, 'V_james': False, 'V_NOTjames': False, 'V_generation': False, 'V_NOTgeneration': False, 'V_protagonist': False, 'V_NOTprotagonist': False, 'V_extremely': False, 'V_NOTextremely': False, 'V_served': False, 'V_NOTserved': False, 'V_cinematography': False, 'V_NOTcinematography': False, 'V_zone': False, 'V_NOTzone': False, 'V_opportunity': False, 'V_NOTopportunity': False, 'V_remember': False, 'V_NOTremember': False, 'V_sick': False, 'V_NOTsick': False, 'V_match': False, 'V_NOTmatch': False, 'V_seriously': False, 'V_NOTseriously': False, 'V_heaven': False, 'V_NOTheaven': False, 'V_sequence': False, 'V_NOTsequence': False, 'V_peter': False, 'V_NOTpeter': False, 'V_attraction': False, 'V_NOTattraction': False, 'V_casting': False, 'V_NOTcasting': False, 'V_poorly': False, 'V_NOTpoorly': False, 'V_sequels': False, 'V_NOTsequels': False, 'V_foreign': False, 'V_NOTforeign': False, 'V_holiday': False, 'V_NOTholiday': False, 'V_somewhere': False, 'V_NOTsomewhere': False, 'V_step': False, 'V_NOTstep': False, 'V_wildly': False, 'V_NOTwildly': False, 'V_older': False, 'V_NOTolder': False, 'V_balance': False, 'V_NOTbalance': False, 'V_realism': False, 'V_NOTrealism': False, 'V_mainstream': False, 'V_NOTmainstream': False, 'V_budget': False, 'V_NOTbudget': False, 'V_pointless': False, 'V_NOTpointless': False, 'V_bond': False, 'V_NOTbond': False, 'V_brown': False, 'V_NOTbrown': False, 'V_said': False, 'V_NOTsaid': False, 'V_sitting': False, 'V_NOTsitting': False, 'V_ages': False, 'V_NOTages': False, 'V_sea': False, 'V_NOTsea': False, 'V_strength': False, 'V_NOTstrength': False, 'V_begins': False, 'V_NOTbegins': False, 'V_various': False, 'V_NOTvarious': False, 'V_mix': False, 'V_NOTmix': False, 'V_sounds': False, 'V_NOTsounds': False, 'V_finds': False, 'V_NOTfinds': False, 'V_public': False, 'V_NOTpublic': False, 'V_decades': False, 'V_NOTdecades': False, 'V_identity': False, 'V_NOTidentity': False, 'V_20': False, 'V_NOT20': False, 'V_sentimentality': False, 'V_NOTsentimentality': False, 'V_poetic': False, 'V_NOTpoetic': False, 'V_large': False, 'V_NOTlarge': False, 'V_stale': False, 'V_NOTstale': False, 'V_indie': False, 'V_NOTindie': False, 'V_playful': False, 'V_NOTplayful': False, 'V_third': False, 'V_NOTthird': False, 'V_delight': False, 'V_NOTdelight': False, 'V_bullock': False, 'V_NOTbullock': False, 'V_b': False, 'V_NOTb': False, 'V_wonder': False, 'V_NOTwonder': False, 'V_body': False, 'V_NOTbody': False, 'V_details': False, 'V_NOTdetails': False, 'V_empty': False, 'V_NOTempty': False, 'V_fears': False, 'V_NOTfears': False, 'V_simplistic': False, 'V_NOTsimplistic': False, 'V_hardly': False, 'V_NOThardly': False, 'V_question': False, 'V_NOTquestion': False, 'V_fare': False, 'V_NOTfare': False, 'V_voice': False, 'V_NOTvoice': False, 'V_delicate': False, 'V_NOTdelicate': False, 'V_performers': False, 'V_NOTperformers': False, 'V_century': False, 'V_NOTcentury': False, 'V_sight': False, 'V_NOTsight': False, 'V_tribute': False, 'V_NOTtribute': False, 'V_general': False, 'V_NOTgeneral': False, 'V_formulaic': False, 'V_NOTformulaic': False, 'V_quietly': False, 'V_NOTquietly': False, 'V_williams': False, 'V_NOTwilliams': False, 'V_smile': False, 'V_NOTsmile': False, 'V_add': False, 'V_NOTadd': False, 'V_comedic': False, 'V_NOTcomedic': False, 'V_commercial': False, 'V_NOTcommercial': False, 'V_essentially': False, 'V_NOTessentially': False, 'V_growing': False, 'V_NOTgrowing': False, 'V_niro': False, 'V_NOTniro': False, 'V_list': False, 'V_NOTlist': False, 'V_runs': False, 'V_NOTruns': False, 'V_course': False, 'V_NOTcourse': False, 'V_x': False, 'V_NOTx': False, 'V_national': False, 'V_NOTnational': False, 'V_chance': False, 'V_NOTchance': False, 'V_visuals': False, 'V_NOTvisuals': False, 'V_sloppy': False, 'V_NOTsloppy': False, 'V_number': False, 'V_NOTnumber': False, 'V_minor': False, 'V_NOTminor': False, 'V_sides': False, 'V_NOTsides': False, 'V_price': False, 'V_NOTprice': False, 'V_band': False, 'V_NOTband': False, 'V_talking': False, 'V_NOTtalking': False, 'V_deeper': False, 'V_NOTdeeper': False, 'V_fall': False, 'V_NOTfall': False, 'V_footage': False, 'V_NOTfootage': False, 'V_top': False, 'V_NOTtop': False, 'V_liked': False, 'V_NOTliked': False, 'V_2': False, 'V_NOT2': False, 'V_affection': False, 'V_NOTaffection': False, 'V_thrills': False, 'V_NOTthrills': False, 'V_uneven': False, 'V_NOTuneven': False, 'V_murphy': False, 'V_NOTmurphy': False, 'V_sappy': False, 'V_NOTsappy': False, 'V_struggle': False, 'V_NOTstruggle': False, 'V_vehicle': False, 'V_NOTvehicle': False, 'V_creates': False, 'V_NOTcreates': False, 'V_funniest': False, 'V_NOTfunniest': False, 'V_machine': False, 'V_NOTmachine': False, 'V_suffers': False, 'V_NOTsuffers': False, 'V_striking': False, 'V_NOTstriking': False, 'V_virtually': False, 'V_NOTvirtually': False, 'V_philosophical': False, 'V_NOTphilosophical': False, 'V_pleasant': False, 'V_NOTpleasant': False, 'V_personality': False, 'V_NOTpersonality': False, 'V_respect': False, 'V_NOTrespect': False, 'V_jackson': False, 'V_NOTjackson': False, 'V_move': False, 'V_NOTmove': False, 'V_exploration': False, 'V_NOTexploration': False, 'V_frank': False, 'V_NOTfrank': False, 'V_turned': False, 'V_NOTturned': False, 'V_studio': False, 'V_NOTstudio': False, 'V_empathy': False, 'V_NOTempathy': False, 'V_intentions': False, 'V_NOTintentions': False, 'V_worthwhile': False, 'V_NOTworthwhile': False, 'V_sports': False, 'V_NOTsports': False, 'V_forgettable': False, 'V_NOTforgettable': False, 'V_courage': False, 'V_NOTcourage': False, 'V_guilty': False, 'V_NOTguilty': False, 'V_thanks': False, 'V_NOTthanks': False, 'V_onto': False, 'V_NOTonto': False, 'V_emotion': False, 'V_NOTemotion': False, 'V_natural': False, 'V_NOTnatural': False, 'V_person': False, 'V_NOTperson': False, 'V_vampire': False, 'V_NOTvampire': False, 'V_toward': False, 'V_NOTtoward': False, 'V_persona': False, 'V_NOTpersona': False, 'V_badly': False, 'V_NOTbadly': False, 'V_hate': False, 'V_NOThate': False, 'V_fan': False, 'V_NOTfan': False, 'V_beat': False, 'V_NOTbeat': False, 'V_late': False, 'V_NOTlate': False, 'V_grief': False, 'V_NOTgrief': False, 'V_monty': False, 'V_NOTmonty': False, 'V_animal': False, 'V_NOTanimal': False, 'V_glory': False, 'V_NOTglory': False, 'V_excitement': False, 'V_NOTexcitement': False, 'V_wise': False, 'V_NOTwise': False, 'V_strangely': False, 'V_NOTstrangely': False, 'V_escape': False, 'V_NOTescape': False, 'V_failure': False, 'V_NOTfailure': False, 'V_grand': False, 'V_NOTgrand': False, 'V_save': False, 'V_NOTsave': False, 'V_starring': False, 'V_NOTstarring': False, 'V_complicated': False, 'V_NOTcomplicated': False, 'V_offensive': False, 'V_NOToffensive': False, 'V_experiences': False, 'V_NOTexperiences': False, 'V_theme': False, 'V_NOTtheme': False, 'V_subjects': False, 'V_NOTsubjects': False, 'V_heartfelt': False, 'V_NOTheartfelt': False, 'V_stock': False, 'V_NOTstock': False, 'V_answers': False, 'V_NOTanswers': False, 'V_further': False, 'V_NOTfurther': False, 'V_ordinary': False, 'V_NOTordinary': False, 'V_possibly': False, 'V_NOTpossibly': False, 'V_lesson': False, 'V_NOTlesson': False, 'V_noir': False, 'V_NOTnoir': False, 'V_spectacle': False, 'V_NOTspectacle': False, 'V_twist': False, 'V_NOTtwist': False, 'V_avoid': False, 'V_NOTavoid': False, 'V_office': False, 'V_NOToffice': False, 'V_nicely': False, 'V_NOTnicely': False, 'V_however': False, 'V_NOThowever': False, 'V_lines': False, 'V_NOTlines': False, 'V_triumph': False, 'V_NOTtriumph': False, 'V_clarity': False, 'V_NOTclarity': False, 'V_insightful': False, 'V_NOTinsightful': False, 'V_source': False, 'V_NOTsource': False, 'V_news': False, 'V_NOTnews': False, 'V_wedding': False, 'V_NOTwedding': False, 'V_holds': False, 'V_NOTholds': False, 'V_families': False, 'V_NOTfamilies': False, 'V_lived': False, 'V_NOTlived': False, 'V_whom': False, 'V_NOTwhom': False, 'V_giant': False, 'V_NOTgiant': False, 'V_basic': False, 'V_NOTbasic': False, 'V_present': False, 'V_NOTpresent': False, 'V_credits': False, 'V_NOTcredits': False, 'V_lame': False, 'V_NOTlame': False, 'V_fast': False, 'V_NOTfast': False, 'V_water': False, 'V_NOTwater': False, 'V_finding': False, 'V_NOTfinding': False, 'V_ryan': False, 'V_NOTryan': False, 'V_painfully': False, 'V_NOTpainfully': False, 'V_space': False, 'V_NOTspace': False, 'V_bears': False, 'V_NOTbears': False, 'V_free': False, 'V_NOTfree': False, 'V_involving': False, 'V_NOTinvolving': False, 'V_fear': False, 'V_NOTfear': False, 'V_frustrating': False, 'V_NOTfrustrating': False, 'V_joy': False, 'V_NOTjoy': False, 'V_aspects': False, 'V_NOTaspects': False, 'V_front': False, 'V_NOTfront': False, 'V_knowledge': False, 'V_NOTknowledge': False, 'V_leads': False, 'V_NOTleads': False, 'V_credit': False, 'V_NOTcredit': False, 'V_revolution': False, 'V_NOTrevolution': False, 'V_chase': False, 'V_NOTchase': False, 'V_document': False, 'V_NOTdocument': False, 'V_superior': False, 'V_NOTsuperior': False, 'V_community': False, 'V_NOTcommunity': False, 'V_tells': False, 'V_NOTtells': False, 'V_kevin': False, 'V_NOTkevin': False, 'V_conviction': False, 'V_NOTconviction': False, 'V_riveting': False, 'V_NOTriveting': False, 'V_son': False, 'V_NOTson': False, 'V_marks': False, 'V_NOTmarks': False, 'V_theatre': False, 'V_NOTtheatre': False, 'V_diverting': False, 'V_NOTdiverting': False, 'V_gangster': False, 'V_NOTgangster': False, 'V_superficial': False, 'V_NOTsuperficial': False, 'V_annoying': False, 'V_NOTannoying': False, 'V_stay': False, 'V_NOTstay': False, 'V_alive': False, 'V_NOTalive': False, 'V_common': False, 'V_NOTcommon': False, 'V_broken': False, 'V_NOTbroken': False, 'V_concerned': False, 'V_NOTconcerned': False, 'V_hoffman': False, 'V_NOThoffman': False, 'V_channel': False, 'V_NOTchannel': False, 'V_service': False, 'V_NOTservice': False, 'V_wars': False, 'V_NOTwars': False, 'V_b-movie': False, 'V_NOTb-movie': False, 'V_desire': False, 'V_NOTdesire': False, 'V_oddly': False, 'V_NOToddly': False, 'V_crafted': False, 'V_NOTcrafted': False, 'V_seagal': False, 'V_NOTseagal': False, 'V_efforts': False, 'V_NOTefforts': False, 'V_sheer': False, 'V_NOTsheer': False, 'V_pain': False, 'V_NOTpain': False, 'V_missing': False, 'V_NOTmissing': False, 'V_gripping': False, 'V_NOTgripping': False, 'V_condition': False, 'V_NOTcondition': False, 'V_generally': False, 'V_NOTgenerally': False, 'V_adult': False, 'V_NOTadult': False, 'V_ludicrous': False, 'V_NOTludicrous': False, 'V_die': False, 'V_NOTdie': False, 'V_hair': False, 'V_NOThair': False, 'V_devoid': False, 'V_NOTdevoid': False, 'V_longer': False, 'V_NOTlonger': False, 'V_inspiring': False, 'V_NOTinspiring': False, 'V_meaning': False, 'V_NOTmeaning': False, 'V_created': False, 'V_NOTcreated': False, 'V_grow': False, 'V_NOTgrow': False, 'V_bright': False, 'V_NOTbright': False, 'V_revealing': False, 'V_NOTrevealing': False, 'V_worked': False, 'V_NOTworked': False, 'V_holes': False, 'V_NOTholes': False, 'V_pull': False, 'V_NOTpull': False, 'V_season': False, 'V_NOTseason': False, 'V_male': False, 'V_NOTmale': False, 'V_early': False, 'V_NOTearly': False, 'V_potentially': False, 'V_NOTpotentially': False, 'V_provide': False, 'V_NOTprovide': False, 'V_genuinely': False, 'V_NOTgenuinely': False, 'V_affair': False, 'V_NOTaffair': False, 'V_remarkably': False, 'V_NOTremarkably': False, 'V_christmas': False, 'V_NOTchristmas': False, 'V_onscreen': False, 'V_NOTonscreen': False, 'V_frequently': False, 'V_NOTfrequently': False, 'V_signs': False, 'V_NOTsigns': False, 'V_intensity': False, 'V_NOTintensity': False, 'V_please': False, 'V_NOTplease': False, 'V_stunning': False, 'V_NOTstunning': False, 'V_analyze': False, 'V_NOTanalyze': False, 'V_glimpse': False, 'V_NOTglimpse': False, 'V_revenge': False, 'V_NOTrevenge': False, 'V_weak': False, 'V_NOTweak': False, 'V_spark': False, 'V_NOTspark': False, 'V_spent': False, 'V_NOTspent': False, 'V_indian': False, 'V_NOTindian': False, 'V_screenwriter': False, 'V_NOTscreenwriter': False, 'V_chilling': False, 'V_NOTchilling': False, 'V_visceral': False, 'V_NOTvisceral': False, 'V_kissinger': False, 'V_NOTkissinger': False, 'V_snow': False, 'V_NOTsnow': False, 'V_graphic': False, 'V_NOTgraphic': False, 'V_needed': False, 'V_NOTneeded': False, 'V_filled': False, 'V_NOTfilled': False, 'V_park': False, 'V_NOTpark': False, 'V_soderbergh': False, 'V_NOTsoderbergh': False, 'V_apparent': False, 'V_NOTapparent': False, 'V_mayhem': False, 'V_NOTmayhem': False, 'V_vivid': False, 'V_NOTvivid': False, 'V_energetic': False, 'V_NOTenergetic': False, 'V_meandering': False, 'V_NOTmeandering': False, 'V_commentary': False, 'V_NOTcommentary': False, 'V_treat': False, 'V_NOTtreat': False, 'V_check': False, 'V_NOTcheck': False, 'V_stage': False, 'V_NOTstage': False, 'V_fantastic': False, 'V_NOTfantastic': False, 'V_hot': False, 'V_NOThot': False, 'V_relatively': False, 'V_NOTrelatively': False, 'V_god': False, 'V_NOTgod': False, 'V_hearts': False, 'V_NOThearts': False, 'V_raw': False, 'V_NOTraw': False, 'V_perhaps': False, 'V_NOTperhaps': False, 'V_extraordinary': False, 'V_NOTextraordinary': False, 'V_homage': False, 'V_NOThomage': False, 'V_wait': False, 'V_NOTwait': False, 'V_refreshing': False, 'V_NOTrefreshing': False, 'V_mixed': False, 'V_NOTmixed': False, 'V_guns': False, 'V_NOTguns': False, 'V_soon': False, 'V_NOTsoon': False, 'V_whatever': False, 'V_NOTwhatever': False, 'V_length': False, 'V_NOTlength': False, 'V_beneath': False, 'V_NOTbeneath': False, 'V_blue': False, 'V_NOTblue': False, 'V_dvd': False, 'V_NOTdvd': False, 'V_saturday': False, 'V_NOTsaturday': False, 'V_joke': False, 'V_NOTjoke': False, 'V_hopeful': False, 'V_NOThopeful': False, 'V_ice': False, 'V_NOTice': False, 'V_songs': False, 'V_NOTsongs': False, 'V_modest': False, 'V_NOTmodest': False, 'V_humour': False, 'V_NOThumour': False, 'V_street': False, 'V_NOTstreet': False, 'V_largely': False, 'V_NOTlargely': False, 'V_knowing': False, 'V_NOTknowing': False, 'V_unusual': False, 'V_NOTunusual': False, 'V_realistic': False, 'V_NOTrealistic': False, 'V_lets': False, 'V_NOTlets': False, 'V_dreary': False, 'V_NOTdreary': False, 'V_ground': False, 'V_NOTground': False, 'V_poignant': False, 'V_NOTpoignant': False, 'V_faster': False, 'V_NOTfaster': False, 'V_humorous': False, 'V_NOThumorous': False, 'V_record': False, 'V_NOTrecord': False, 'V_shame': False, 'V_NOTshame': False, 'V_wry': False, 'V_NOTwry': False, 'V_shake': False, 'V_NOTshake': False, 'V_finish': False, 'V_NOTfinish': False, 'V_bitter': False, 'V_NOTbitter': False, 'V_inevitable': False, 'V_NOTinevitable': False, 'V_teenage': False, 'V_NOTteenage': False, 'V_tiresome': False, 'V_NOTtiresome': False, 'V_talents': False, 'V_NOTtalents': False, 'V_italian': False, 'V_NOTitalian': False, 'V_heard': False, 'V_NOTheard': False, 'V_originality': False, 'V_NOToriginality': False, 'V_surface': False, 'V_NOTsurface': False, 'V_promising': False, 'V_NOTpromising': False, 'V_totally': False, 'V_NOTtotally': False, 'V_group': False, 'V_NOTgroup': False, 'V_bits': False, 'V_NOTbits': False, 'V_ask': False, 'V_NOTask': False, 'V_mere': False, 'V_NOTmere': False, 'V_father': False, 'V_NOTfather': False, 'V_released': False, 'V_NOTreleased': False, 'V_disaster': False, 'V_NOTdisaster': False, 'V_fight': False, 'V_NOTfight': False, 'V_deadly': False, 'V_NOTdeadly': False, 'V_drive': False, 'V_NOTdrive': False, 'V_values': False, 'V_NOTvalues': False, 'V_produced': False, 'V_NOTproduced': False, 'V_fatal': False, 'V_NOTfatal': False, 'V_farce': False, 'V_NOTfarce': False, 'V_expected': False, 'V_NOTexpected': False, 'V_fashion': False, 'V_NOTfashion': False, 'V_traditional': False, 'V_NOTtraditional': False, 'V_directorial': False, 'V_NOTdirectorial': False, 'V_levels': False, 'V_NOTlevels': False, 'V_moviegoers': False, 'V_NOTmoviegoers': False, 'V_treasure': False, 'V_NOTtreasure': False, 'V_artificial': False, 'V_NOTartificial': False, 'V_filmed': False, 'V_NOTfilmed': False, 'V_low-budget': False, 'V_NOTlow-budget': False, 'V_directing': False, 'V_NOTdirecting': False, 'V_theaters': False, 'V_NOTtheaters': False, 'V_false': False, 'V_NOTfalse': False, 'V_haunting': False, 'V_NOThaunting': False, 'V_quickly': False, 'V_NOTquickly': False, 'V_sadness': False, 'V_NOTsadness': False, 'V_hip': False, 'V_NOThip': False, 'V_musical': False, 'V_NOTmusical': False, 'V_numbers': False, 'V_NOTnumbers': False, 'V_admirable': False, 'V_NOTadmirable': False, 'V_including': False, 'V_NOTincluding': False, 'V_presence': False, 'V_NOTpresence': False, 'V_shoot': False, 'V_NOTshoot': False, 'V_solondz': False, 'V_NOTsolondz': False, 'V_chris': False, 'V_NOTchris': False, 'V_acts': False, 'V_NOTacts': False, 'V_self-conscious': False, 'V_NOTself-conscious': False, 'V_consistently': False, 'V_NOTconsistently': False, 'V_speaking': False, 'V_NOTspeaking': False, 'V_screenwriting': False, 'V_NOTscreenwriting': False, 'V_child': False, 'V_NOTchild': False, 'V_lazy': False, 'V_NOTlazy': False, 'V_imaginative': False, 'V_NOTimaginative': False, 'V_tiny': False, 'V_NOTtiny': False, 'V_bunch': False, 'V_NOTbunch': False, 'V_folks': False, 'V_NOTfolks': False, 'V_provides': False, 'V_NOTprovides': False, 'V_determined': False, 'V_NOTdetermined': False, 'V_nasty': False, 'V_NOTnasty': False, 'V_damage': False, 'V_NOTdamage': False, 'V_structure': False, 'V_NOTstructure': False, 'V_japanese': False, 'V_NOTjapanese': False, 'V_downright': False, 'V_NOTdownright': False, 'V_changing': False, 'V_NOTchanging': False, 'V_retread': False, 'V_NOTretread': False, 'V_open': False, 'V_NOTopen': False, 'V_sitcom': False, 'V_NOTsitcom': False, 'V_chinese': False, 'V_NOTchinese': False, 'V_degree': False, 'V_NOTdegree': False, 'V_endless': False, 'V_NOTendless': False, 'V_appear': False, 'V_NOTappear': False, 'V_team': False, 'V_NOTteam': False, 'V_tender': False, 'V_NOTtender': False, 'V_outrageous': False, 'V_NOToutrageous': False, 'V_appears': False, 'V_NOTappears': False, 'V_territory': False, 'V_NOTterritory': False, 'V_teenagers': False, 'V_NOTteenagers': False, 'V_crimes': False, 'V_NOTcrimes': False, 'V_brought': False, 'V_NOTbrought': False, 'V_sum': False, 'V_NOTsum': False, 'V_superb': False, 'V_NOTsuperb': False, 'V_detail': False, 'V_NOTdetail': False, 'V_fat': False, 'V_NOTfat': False, 'V_adam': False, 'V_NOTadam': False, 'V_ridiculous': False, 'V_NOTridiculous': False, 'V_pack': False, 'V_NOTpack': False, 'V_irritating': False, 'V_NOTirritating': False, 'V_intellectual': False, 'V_NOTintellectual': False, 'V_proceedings': False, 'V_NOTproceedings': False, 'V_happens': False, 'V_NOThappens': False, 'V_opening': False, 'V_NOTopening': False, 'V_science': False, 'V_NOTscience': False, 'V_absorbing': False, 'V_NOTabsorbing': False, 'V_prove': False, 'V_NOTprove': False, 'V_devastating': False, 'V_NOTdevastating': False, 'V_police': False, 'V_NOTpolice': False, 'V_angst': False, 'V_NOTangst': False, 'V_mention': False, 'V_NOTmention': False, 'V_cult': False, 'V_NOTcult': False, 'V_absolutely': False, 'V_NOTabsolutely': False, 'V_well-made': False, 'V_NOTwell-made': False, 'V_blair': False, 'V_NOTblair': False, 'V_necessary': False, 'V_NOTnecessary': False, 'V_bore': False, 'V_NOTbore': False, 'V_fisher': False, 'V_NOTfisher': False, 'V_jack': False, 'V_NOTjack': False, 'V_quick': False, 'V_NOTquick': False, 'V_incredibly': False, 'V_NOTincredibly': False, 'V_computer': False, 'V_NOTcomputer': False, 'V_excuse': False, 'V_NOTexcuse': False, 'V_lee': False, 'V_NOTlee': False, 'V_type': False, 'V_NOTtype': False, 'V_flair': False, 'V_NOTflair': False, 'V_frightening': False, 'V_NOTfrightening': False, 'V_development': False, 'V_NOTdevelopment': False, 'V_rush': False, 'V_NOTrush': False, 'V_unlikely': False, 'V_NOTunlikely': False, 'V_spooky': False, 'V_NOTspooky': False, 'V_horrible': False, 'V_NOThorrible': False, 'V_shocking': False, 'V_NOTshocking': False, 'V_dirty': False, 'V_NOTdirty': False, 'V_husband': False, 'V_NOThusband': False, 'V_violent': False, 'V_NOTviolent': False, 'V_rhythms': False, 'V_NOTrhythms': False, 'V_reach': False, 'V_NOTreach': False, 'V_dazzling': False, 'V_NOTdazzling': False, 'V_amateurish': False, 'V_NOTamateurish': False, 'V_imagery': False, 'V_NOTimagery': False, 'V_maudlin': False, 'V_NOTmaudlin': False, 'V_confusing': False, 'V_NOTconfusing': False, 'V_slice': False, 'V_NOTslice': False, 'V_loses': False, 'V_NOTloses': False, 'V_hip-hop': False, 'V_NOThip-hop': False, 'V_unnecessary': False, 'V_NOTunnecessary': False, 'V_notice': False, 'V_NOTnotice': False, 'V_yarn': False, 'V_NOTyarn': False, 'V_missed': False, 'V_NOTmissed': False, 'V_deliver': False, 'V_NOTdeliver': False, 'V_wacky': False, 'V_NOTwacky': False, 'V_reading': False, 'V_NOTreading': False, 'V_repetitive': False, 'V_NOTrepetitive': False, 'V_path': False, 'V_NOTpath': False, 'V_effect': False, 'V_NOTeffect': False, 'V_leaving': False, 'V_NOTleaving': False, 'V_camp': False, 'V_NOTcamp': False, 'V_weight': False, 'V_NOTweight': False, 'V_trademark': False, 'V_NOTtrademark': False, 'V_literary': False, 'V_NOTliterary': False, 'V_witch': False, 'V_NOTwitch': False, 'V_detailed': False, 'V_NOTdetailed': False, 'V_exquisite': False, 'V_NOTexquisite': False, 'V_wonderfully': False, 'V_NOTwonderfully': False, 'V_tough': False, 'V_NOTtough': False, 'V_horrifying': False, 'V_NOThorrifying': False, 'V_hands': False, 'V_NOThands': False, 'V_digital': False, 'V_NOTdigital': False, 'V_first-rate': False, 'V_NOTfirst-rate': False, 'V_americans': False, 'V_NOTamericans': False, 'V_biting': False, 'V_NOTbiting': False, 'V_weeks': False, 'V_NOTweeks': False, 'V_results': False, 'V_NOTresults': False, 'V_paid': False, 'V_NOTpaid': False, 'V_lady': False, 'V_NOTlady': False, 'V_makers': False, 'V_NOTmakers': False, 'V_wasted': False, 'V_NOTwasted': False, 'V_odds': False, 'V_NOTodds': False, 'V_tear': False, 'V_NOTtear': False, 'V_succeeds': False, 'V_NOTsucceeds': False, 'V_plotting': False, 'V_NOTplotting': False, 'V_thinks': False, 'V_NOTthinks': False, 'V_profound': False, 'V_NOTprofound': False, 'V_happened': False, 'V_NOThappened': False, 'V_rendered': False, 'V_NOTrendered': False, 'V_reno': False, 'V_NOTreno': False, 'V_ahead': False, 'V_NOTahead': False, 'V_creating': False, 'V_NOTcreating': False, 'V_observations': False, 'V_NOTobservations': False, 'V_event': False, 'V_NOTevent': False, 'V_forgive': False, 'V_NOTforgive': False, 'V_designed': False, 'V_NOTdesigned': False, 'V_finale': False, 'V_NOTfinale': False, 'V_cruel': False, 'V_NOTcruel': False, 'V_fate': False, 'V_NOTfate': False, 'V_standards': False, 'V_NOTstandards': False, 'V_friday': False, 'V_NOTfriday': False, 'V_mile': False, 'V_NOTmile': False, 'V_wave': False, 'V_NOTwave': False, 'V_blood': False, 'V_NOTblood': False, 'V_combination': False, 'V_NOTcombination': False, 'V_supporting': False, 'V_NOTsupporting': False, 'V_amazing': False, 'V_NOTamazing': False, 'V_wilde': False, 'V_NOTwilde': False, 'V_mesmerizing': False, 'V_NOTmesmerizing': False, 'V_outside': False, 'V_NOToutside': False, 'V_shock': False, 'V_NOTshock': False, 'V_limited': False, 'V_NOTlimited': False, 'V_color': False, 'V_NOTcolor': False, 'V_suffering': False, 'V_NOTsuffering': False, 'V_jones': False, 'V_NOTjones': False, 'V_comfortable': False, 'V_NOTcomfortable': False, 'V_pat': False, 'V_NOTpat': False, 'V_trick': False, 'V_NOTtrick': False, 'V_villain': False, 'V_NOTvillain': False, 'V_bite': False, 'V_NOTbite': False, 'V_despair': False, 'V_NOTdespair': False, 'V_credible': False, 'V_NOTcredible': False, 'V_lawrence': False, 'V_NOTlawrence': False, 'V_increasingly': False, 'V_NOTincreasingly': False, 'V_overly': False, 'V_NOToverly': False, 'V_cheesy': False, 'V_NOTcheesy': False, 'V_dangerous': False, 'V_NOTdangerous': False, 'V_forgotten': False, 'V_NOTforgotten': False, 'V_realized': False, 'V_NOTrealized': False, 'V_predecessor': False, 'V_NOTpredecessor': False, 'V_landscape': False, 'V_NOTlandscape': False, 'V_straightforward': False, 'V_NOTstraightforward': False, 'V_near': False, 'V_NOTnear': False, 'V_powers': False, 'V_NOTpowers': False, 'V_real-life': False, 'V_NOTreal-life': False, 'V_con': False, 'V_NOTcon': False, 'V_dealing': False, 'V_NOTdealing': False, 'V_pulls': False, 'V_NOTpulls': False, 'V_spend': False, 'V_NOTspend': False, 'V_compassion': False, 'V_NOTcompassion': False, 'V_state': False, 'V_NOTstate': False, 'V_exotic': False, 'V_NOTexotic': False, 'V_choices': False, 'V_NOTchoices': False, 'V_theatrical': False, 'V_NOTtheatrical': False, 'V_earth': False, 'V_NOTearth': False, 'V_terrifying': False, 'V_NOTterrifying': False, 'V_unpleasant': False, 'V_NOTunpleasant': False, 'V_abstract': False, 'V_NOTabstract': False, 'V_paced': False, 'V_NOTpaced': False, 'V_messages': False, 'V_NOTmessages': False, 'V_gradually': False, 'V_NOTgradually': False, 'V_fill': False, 'V_NOTfill': False, 'V_curiosity': False, 'V_NOTcuriosity': False, 'V_hits': False, 'V_NOThits': False, 'V_inept': False, 'V_NOTinept': False, 'V_sign': False, 'V_NOTsign': False, 'V_planet': False, 'V_NOTplanet': False, 'V_charisma': False, 'V_NOTcharisma': False, 'V_pathetic': False, 'V_NOTpathetic': False, 'V_song': False, 'V_NOTsong': False, 'V_undeniably': False, 'V_NOTundeniably': False, 'V_laughing': False, 'V_NOTlaughing': False, 'V_impression': False, 'V_NOTimpression': False, 'V_somber': False, 'V_NOTsomber': False, 'V_subtlety': False, 'V_NOTsubtlety': False, 'V_corner': False, 'V_NOTcorner': False, 'V_evocative': False, 'V_NOTevocative': False, 'V_rip-off': False, 'V_NOTrip-off': False, 'V_madness': False, 'V_NOTmadness': False, 'V_pass': False, 'V_NOTpass': False, 'V_willing': False, 'V_NOTwilling': False, 'V_davis': False, 'V_NOTdavis': False, 'V_ticket': False, 'V_NOTticket': False, 'V_understanding': False, 'V_NOTunderstanding': False, 'V_metaphor': False, 'V_NOTmetaphor': False, 'V_iranian': False, 'V_NOTiranian': False, 'V_drug': False, 'V_NOTdrug': False, 'V_count': False, 'V_NOTcount': False, 'V_darker': False, 'V_NOTdarker': False, 'V_saying': False, 'V_NOTsaying': False, 'V_crisp': False, 'V_NOTcrisp': False, 'V_cynical': False, 'V_NOTcynical': False, 'V_went': False, 'V_NOTwent': False, 'V_crush': False, 'V_NOTcrush': False, 'V_burns': False, 'V_NOTburns': False, 'V_serves': False, 'V_NOTserves': False, 'V_gifted': False, 'V_NOTgifted': False, 'V_nostalgia': False, 'V_NOTnostalgia': False, 'V_eventually': False, 'V_NOTeventually': False, 'V_beginning': False, 'V_NOTbeginning': False, 'V_sympathy': False, 'V_NOTsympathy': False, 'V_bottom': False, 'V_NOTbottom': False, 'V_presents': False, 'V_NOTpresents': False, 'V_kong': False, 'V_NOTkong': False, 'V_paul': False, 'V_NOTpaul': False, 'V_within': False, 'V_NOTwithin': False, \"V_'em\": False, \"V_NOT'em\": False, 'V_belly': False, 'V_NOTbelly': False, 'V_connect': False, 'V_NOTconnect': False, 'V_justify': False, 'V_NOTjustify': False, 'V_started': False, 'V_NOTstarted': False, 'V_logic': False, 'V_NOTlogic': False, 'V_achievement': False, 'V_NOTachievement': False, 'V_holocaust': False, 'V_NOTholocaust': False, 'V_ambition': False, 'V_NOTambition': False, 'V_payoff': False, 'V_NOTpayoff': False, 'V_cross': False, 'V_NOTcross': False, 'V_cliched': False, 'V_NOTcliched': False, 'V_capable': False, 'V_NOTcapable': False, 'V_stereotypes': False, 'V_NOTstereotypes': False, 'V_timely': False, 'V_NOTtimely': False, 'V_dance': False, 'V_NOTdance': False, 'V_creativity': False, 'V_NOTcreativity': False, 'V_realize': False, 'V_NOTrealize': False, 'V_precious': False, 'V_NOTprecious': False, 'V_choose': False, 'V_NOTchoose': False, 'V_benigni': False, 'V_NOTbenigni': False, 'V_washington': False, 'V_NOTwashington': False, 'V_vulgar': False, 'V_NOTvulgar': False, 'V_daring': False, 'V_NOTdaring': False, 'V_dawson': False, 'V_NOTdawson': False, 'V_friends': False, 'V_NOTfriends': False, 'V_schneider': False, 'V_NOTschneider': False, 'V_rhythm': False, 'V_NOTrhythm': False, 'V_poem': False, 'V_NOTpoem': False, 'V_collection': False, 'V_NOTcollection': False, 'V_mild': False, 'V_NOTmild': False, 'V_excess': False, 'V_NOTexcess': False, 'V_manhattan': False, 'V_NOTmanhattan': False, 'V_charms': False, 'V_NOTcharms': False, 'V_offering': False, 'V_NOToffering': False, 'V_adolescent': False, 'V_NOTadolescent': False, 'V_memories': False, 'V_NOTmemories': False, 'V_roger': False, 'V_NOTroger': False, 'V_refreshingly': False, 'V_NOTrefreshingly': False, 'V_flashy': False, 'V_NOTflashy': False, 'V_van': False, 'V_NOTvan': False, 'V_assured': False, 'V_NOTassured': False, 'V_ghost': False, 'V_NOTghost': False, 'V_total': False, 'V_NOTtotal': False, 'V_stuck': False, 'V_NOTstuck': False, 'V_shooting': False, 'V_NOTshooting': False, 'V_britney': False, 'V_NOTbritney': False, 'V_life-affirming': False, 'V_NOTlife-affirming': False, 'V_fake': False, 'V_NOTfake': False, 'V_dysfunctional': False, 'V_NOTdysfunctional': False, 'V_9': False, 'V_NOT9': False, 'V_low-key': False, 'V_NOTlow-key': False, 'V_affecting': False, 'V_NOTaffecting': False, 'V_belt': False, 'V_NOTbelt': False, 'V_bleak': False, 'V_NOTbleak': False, 'V_features': False, 'V_NOTfeatures': False, 'V_admire': False, 'V_NOTadmire': False, 'V_exhilarating': False, 'V_NOTexhilarating': False, 'V_cloying': False, 'V_NOTcloying': False, 'V_fair': False, 'V_NOTfair': False, 'V_yes': False, 'V_NOTyes': False, 'V_actresses': False, 'V_NOTactresses': False, 'V_english': False, 'V_NOTenglish': False, 'V_satirical': False, 'V_NOTsatirical': False, 'V_carries': False, 'V_NOTcarries': False, 'V_moviemaking': False, 'V_NOTmoviemaking': False, 'V_fish': False, 'V_NOTfish': False, 'V_rental': False, 'V_NOTrental': False, 'V_frida': False, 'V_NOTfrida': False, 'V_blend': False, 'V_NOTblend': False, 'V_crude': False, 'V_NOTcrude': False, 'V_killed': False, 'V_NOTkilled': False, 'V_string': False, 'V_NOTstring': False, 'V_appreciate': False, 'V_NOTappreciate': False, 'V_niche': False, 'V_NOTniche': False, 'V_tortured': False, 'V_NOTtortured': False, 'V_deft': False, 'V_NOTdeft': False, 'V_bag': False, 'V_NOTbag': False, 'V_notion': False, 'V_NOTnotion': False, 'V_buy': False, 'V_NOTbuy': False, 'V_awkward': False, 'V_NOTawkward': False, 'V_urge': False, 'V_NOTurge': False, 'V_distance': False, 'V_NOTdistance': False, 'V_heartwarming': False, 'V_NOTheartwarming': False, 'V_delivered': False, 'V_NOTdelivered': False, 'V_brutally': False, 'V_NOTbrutally': False, 'V_thousands': False, 'V_NOTthousands': False, 'V_simultaneously': False, 'V_NOTsimultaneously': False, 'V_week': False, 'V_NOTweek': False, 'V_achieves': False, 'V_NOTachieves': False, 'V_sake': False, 'V_NOTsake': False, 'V_quest': False, 'V_NOTquest': False, 'V_capture': False, 'V_NOTcapture': False, 'V_mature': False, 'V_NOTmature': False, 'V_parts': False, 'V_NOTparts': False, 'V_thought-provoking': False, 'V_NOTthought-provoking': False, 'V_scorsese': False, 'V_NOTscorsese': False, 'V_overwrought': False, 'V_NOToverwrought': False, 'V_indeed': False, 'V_NOTindeed': False, 'V_insights': False, 'V_NOTinsights': False, 'V_somehow': False, 'V_NOTsomehow': False, 'V_larger': False, 'V_NOTlarger': False, 'V_stand-up': False, 'V_NOTstand-up': False, 'V_nightmare': False, 'V_NOTnightmare': False, 'V_suspenseful': False, 'V_NOTsuspenseful': False, 'V_explore': False, 'V_NOTexplore': False, 'V_desperate': False, 'V_NOTdesperate': False, 'V_younger': False, 'V_NOTyounger': False, 'V_tradition': False, 'V_NOTtradition': False, 'V_kaufman': False, 'V_NOTkaufman': False, 'V_harrowing': False, 'V_NOTharrowing': False, 'V_meaningful': False, 'V_NOTmeaningful': False, 'V_example': False, 'V_NOTexample': False, 'V_race': False, 'V_NOTrace': False, \"V_'70s\": False, \"V_NOT'70s\": False, 'V_over-the-top': False, 'V_NOTover-the-top': False, 'V_represents': False, 'V_NOTrepresents': False, 'V_essence': False, 'V_NOTessence': False, 'V_private': False, 'V_NOTprivate': False, 'V_preachy': False, 'V_NOTpreachy': False, 'V_bittersweet': False, 'V_NOTbittersweet': False, 'V_inspiration': False, 'V_NOTinspiration': False, 'V_grandeur': False, 'V_NOTgrandeur': False, 'V_victims': False, 'V_NOTvictims': False, 'V_bother': False, 'V_NOTbother': False, 'V_played': False, 'V_NOTplayed': False, 'V_childhood': False, 'V_NOTchildhood': False, 'V_faithful': False, 'V_NOTfaithful': False, 'V_secrets': False, 'V_NOTsecrets': False, 'V_nowhere': False, 'V_NOTnowhere': False, 'V_woo': False, 'V_NOTwoo': False, 'V_sane': False, 'V_NOTsane': False, 'V_broomfield': False, 'V_NOTbroomfield': False, 'V_sand': False, 'V_NOTsand': False, 'V_deserve': False, 'V_NOTdeserve': False, 'V_looked': False, 'V_NOTlooked': False, 'V_engaged': False, 'V_NOTengaged': False, 'V_stomach': False, 'V_NOTstomach': False, 'V_well-meaning': False, 'V_NOTwell-meaning': False, 'V_happiness': False, 'V_NOThappiness': False, 'V_lyrical': False, 'V_NOTlyrical': False, 'V_roll': False, 'V_NOTroll': False, 'V_resonant': False, 'V_NOTresonant': False, 'V_lousy': False, 'V_NOTlousy': False, 'V_warning': False, 'V_NOTwarning': False, 'V_cliche': False, 'V_NOTcliche': False, 'V_soldiers': False, 'V_NOTsoldiers': False, 'V_charismatic': False, 'V_NOTcharismatic': False, 'V_15': False, 'V_NOT15': False, 'V_poignancy': False, 'V_NOTpoignancy': False, 'V_positive': False, 'V_NOTpositive': False, 'V_technology': False, 'V_NOTtechnology': False, 'V_accessible': False, 'V_NOTaccessible': False, 'V_inner': False, 'V_NOTinner': False, 'V_cleverly': False, 'V_NOTcleverly': False, 'V_discovery': False, 'V_NOTdiscovery': False, 'V_resonance': False, 'V_NOTresonance': False, 'V_thick': False, 'V_NOTthick': False, 'V_pair': False, 'V_NOTpair': False, 'V_dignity': False, 'V_NOTdignity': False, 'V_players': False, 'V_NOTplayers': False, 'V_greek': False, 'V_NOTgreek': False, 'V_irish': False, 'V_NOTirish': False, 'V_strain': False, 'V_NOTstrain': False, 'V_variety': False, 'V_NOTvariety': False, 'V_happening': False, 'V_NOThappening': False, 'V_laughter': False, 'V_NOTlaughter': False, 'V_roots': False, 'V_NOTroots': False, 'V_addition': False, 'V_NOTaddition': False, 'V_roles': False, 'V_NOTroles': False, 'V_pick': False, 'V_NOTpick': False, 'V_miss': False, 'V_NOTmiss': False, 'V_sentiment': False, 'V_NOTsentiment': False, 'V_hong': False, 'V_NOThong': False, 'V_sell': False, 'V_NOTsell': False, 'V_feel-good': False, 'V_NOTfeel-good': False, 'V_resist': False, 'V_NOTresist': False, 'V_reasonably': False, 'V_NOTreasonably': False, 'V_quirks': False, 'V_NOTquirks': False, 'V_equivalent': False, 'V_NOTequivalent': False, 'V_respectable': False, 'V_NOTrespectable': False, 'V_gag': False, 'V_NOTgag': False, 'V_frustration': False, 'V_NOTfrustration': False, 'V_demands': False, 'V_NOTdemands': False, 'V_cell': False, 'V_NOTcell': False, 'V_follow': False, 'V_NOTfollow': False, 'V_eccentric': False, 'V_NOTeccentric': False, 'V_accomplished': False, 'V_NOTaccomplished': False, 'V_creation': False, 'V_NOTcreation': False, 'V_shadows': False, 'V_NOTshadows': False, 'V_banal': False, 'V_NOTbanal': False, 'V_leaden': False, 'V_NOTleaden': False, 'V_trek': False, 'V_NOTtrek': False, 'V_merit': False, 'V_NOTmerit': False, 'V_halfway': False, 'V_NOThalfway': False, 'V_buoyant': False, 'V_NOTbuoyant': False, 'V_marriage': False, 'V_NOTmarriage': False, 'V_afraid': False, 'V_NOTafraid': False, 'V_offbeat': False, 'V_NOToffbeat': False, 'V_spears': False, 'V_NOTspears': False, 'V_carried': False, 'V_NOTcarried': False, 'V_current': False, 'V_NOTcurrent': False, 'V_matinee': False, 'V_NOTmatinee': False, 'V_connection': False, 'V_NOTconnection': False, 'V_reign': False, 'V_NOTreign': False, 'V_tears': False, 'V_NOTtears': False, 'V_center': False, 'V_NOTcenter': False, 'V_utter': False, 'V_NOTutter': False, 'V_cautionary': False, 'V_NOTcautionary': False, 'V_harry': False, 'V_NOTharry': False, 'V_return': False, 'V_NOTreturn': False, 'V_turning': False, 'V_NOTturning': False, 'V_pic': False, 'V_NOTpic': False, 'V_elegant': False, 'V_NOTelegant': False, 'V_mistake': False, 'V_NOTmistake': False, 'V_scenario': False, 'V_NOTscenario': False, 'V_mixture': False, 'V_NOTmixture': False, 'V_content': False, 'V_NOTcontent': False, 'V_showtime': False, 'V_NOTshowtime': False, 'V_midnight': False, 'V_NOTmidnight': False, 'V_grows': False, 'V_NOTgrows': False, 'V_reel': False, 'V_NOTreel': False, 'V_fighting': False, 'V_NOTfighting': False, 'V_substantial': False, 'V_NOTsubstantial': False, 'V_award': False, 'V_NOTaward': False, 'V_walk': False, 'V_NOTwalk': False, 'V_spare': False, 'V_NOTspare': False, 'V_dedication': False, 'V_NOTdedication': False, 'V_cost': False, 'V_NOTcost': False, 'V_similar': False, 'V_NOTsimilar': False, 'V_harmless': False, 'V_NOTharmless': False, 'V_contrivances': False, 'V_NOTcontrivances': False, 'V_books': False, 'V_NOTbooks': False, 'V_entertain': False, 'V_NOTentertain': False, 'V_listless': False, 'V_NOTlistless': False, 'V_handsome': False, 'V_NOThandsome': False, 'V_ya-ya': False, 'V_NOTya-ya': False, 'V_moves': False, 'V_NOTmoves': False, 'V_absurd': False, 'V_NOTabsurd': False, 'V_moore': False, 'V_NOTmoore': False, 'V_relentlessly': False, 'V_NOTrelentlessly': False, 'V_remain': False, 'V_NOTremain': False, 'V_southern': False, 'V_NOTsouthern': False, 'V_phones': False, 'V_NOTphones': False, 'V_movements': False, 'V_NOTmovements': False, 'V_crass': False, 'V_NOTcrass': False, 'V_emerges': False, 'V_NOTemerges': False, 'V_desperation': False, 'V_NOTdesperation': False, 'V_grab': False, 'V_NOTgrab': False, 'V_context': False, 'V_NOTcontext': False, 'V_vital': False, 'V_NOTvital': False, 'V_chilly': False, 'V_NOTchilly': False, 'V_fights': False, 'V_NOTfights': False, 'V_image': False, 'V_NOTimage': False, 'V_result': False, 'V_NOTresult': False, 'V_drugs': False, 'V_NOTdrugs': False, 'V_loved': False, 'V_NOTloved': False, 'V_showing': False, 'V_NOTshowing': False, 'V_handful': False, 'V_NOThandful': False, 'V_land': False, 'V_NOTland': False, 'V_clumsy': False, 'V_NOTclumsy': False, 'V_polanski': False, 'V_NOTpolanski': False, 'V_kiddie': False, 'V_NOTkiddie': False, 'V_extended': False, 'V_NOTextended': False, 'V_plodding': False, 'V_NOTplodding': False, 'V_friend': False, 'V_NOTfriend': False, 'V_innocence': False, 'V_NOTinnocence': False, 'V_plotted': False, 'V_NOTplotted': False, 'V_pleasures': False, 'V_NOTpleasures': False, 'V_seven': False, 'V_NOTseven': False, 'V_relies': False, 'V_NOTrelies': False, 'V_mouth': False, 'V_NOTmouth': False, 'V_daily': False, 'V_NOTdaily': False, 'V_after-school': False, 'V_NOTafter-school': False, 'V_nation': False, 'V_NOTnation': False, 'V_sketch': False, 'V_NOTsketch': False, 'V_focus': False, 'V_NOTfocus': False, 'V_sweeping': False, 'V_NOTsweeping': False, 'V_scratch': False, 'V_NOTscratch': False, 'V_brother': False, 'V_NOTbrother': False, 'V_fly': False, 'V_NOTfly': False, 'V_background': False, 'V_NOTbackground': False, 'V_psychology': False, 'V_NOTpsychology': False, 'V_obnoxious': False, 'V_NOTobnoxious': False, 'V_dramatically': False, 'V_NOTdramatically': False, 'V_mysterious': False, 'V_NOTmysterious': False, 'V_dish': False, 'V_NOTdish': False, 'V_neat': False, 'V_NOTneat': False, 'V_minds': False, 'V_NOTminds': False, 'V_crap': False, 'V_NOTcrap': False, 'V_vincent': False, 'V_NOTvincent': False, 'V_category': False, 'V_NOTcategory': False, 'V_spell': False, 'V_NOTspell': False, 'V_stunts': False, 'V_NOTstunts': False, 'V_locations': False, 'V_NOTlocations': False, 'V_attractive': False, 'V_NOTattractive': False, 'V_depiction': False, 'V_NOTdepiction': False, 'V_figures': False, 'V_NOTfigures': False, 'V_santa': False, 'V_NOTsanta': False, 'V_chaotic': False, 'V_NOTchaotic': False, 'V_learn': False, 'V_NOTlearn': False, 'V_fancy': False, 'V_NOTfancy': False, 'V_eight': False, 'V_NOTeight': False, 'V_term': False, 'V_NOTterm': False, 'V_rob': False, 'V_NOTrob': False, 'V_authentic': False, 'V_NOTauthentic': False, 'V_obsession': False, 'V_NOTobsession': False, 'V_market': False, 'V_NOTmarket': False, 'V_glass': False, 'V_NOTglass': False, 'V_bigger': False, 'V_NOTbigger': False, 'V_endeavor': False, 'V_NOTendeavor': False, 'V_anne': False, 'V_NOTanne': False, 'V_candy': False, 'V_NOTcandy': False, 'V_herzog': False, 'V_NOTherzog': False, 'V_references': False, 'V_NOTreferences': False, 'V_middle-aged': False, 'V_NOTmiddle-aged': False, 'V_ode': False, 'V_NOTode': False, 'V_dying': False, 'V_NOTdying': False, 'V_murky': False, 'V_NOTmurky': False, 'V_sink': False, 'V_NOTsink': False, 'V_sour': False, 'V_NOTsour': False, 'V_nomination': False, 'V_NOTnomination': False, 'V_fluff': False, 'V_NOTfluff': False, 'V_unfolds': False, 'V_NOTunfolds': False, 'V_famous': False, 'V_NOTfamous': False, 'V_urgency': False, 'V_NOTurgency': False, 'V_vintage': False, 'V_NOTvintage': False, 'V_unfaithful': False, 'V_NOTunfaithful': False, 'V_jason': False, 'V_NOTjason': False, 'V_amounts': False, 'V_NOTamounts': False, 'V_flow': False, 'V_NOTflow': False, 'V_lesser': False, 'V_NOTlesser': False, 'V_pearl': False, 'V_harbor': False}, 2)]\n"
     ]
    }
   ],
   "source": [
    "#review the first featureset\n",
    "print(NOT_featuresets[0])"
   ]
  },
  {
   "cell_type": "markdown",
   "id": "a1e0f4bd",
   "metadata": {},
   "source": [
    "From results above, we found out the feature set not only used the top 2000 words, but also extra words \"pearl\" and \"harbor\" that should not have been included. We still ran the nltk naive Bayes classifier to check the results."
   ]
  },
  {
   "cell_type": "code",
   "execution_count": 32,
   "id": "5df53ea0",
   "metadata": {},
   "outputs": [
    {
     "name": "stdout",
     "output_type": "stream",
     "text": [
      "Each fold size: 52020\n",
      "Fold 0\n",
      "Fold 1\n",
      "Fold 2\n",
      "\n",
      "Average Precision\tRecall\t\tF1 \tPer Label\n",
      "0 \t      0.480      0.273      0.348\n",
      "1 \t      0.390      0.471      0.427\n",
      "2 \t      0.758      0.702      0.729\n",
      "3 \t      0.394      0.527      0.451\n",
      "4 \t      0.431      0.379      0.404\n",
      "\n",
      "Mean accuracy 0.5851018838908112\n",
      "\n",
      "Macro Average Precision\tRecall\t\tF1 \tOver All Labels\n",
      "\t      0.491      0.470      0.472\n",
      "\n",
      "Label Counts {0: 7072, 1: 27273, 2: 79582, 3: 32927, 4: 9206}\n",
      "Micro Average Precision\tRecall\t\tF1 \tOver All Labels\n",
      "\t      0.585      0.586      0.581\n"
     ]
    }
   ],
   "source": [
    "#calculate 3-fold CV accuracy, precision, recall and F1-score using nltk naive Bayes classifier\n",
    "num_folds = 3\n",
    "cross_validation_PRF(num_folds, NOT_featuresets, labels)"
   ]
  },
  {
   "cell_type": "code",
   "execution_count": 32,
   "id": "8b91cbeb",
   "metadata": {},
   "outputs": [],
   "source": [
    "# define the feature sets for stemmed phrases\n",
    "NOT_featuresets_stemmed = [(NOT_features(d, stemmed_word_features, negationwords), c) for (d, c) in stemmed_phrasedocs]"
   ]
  },
  {
   "cell_type": "code",
   "execution_count": 33,
   "id": "e6505b95",
   "metadata": {},
   "outputs": [
    {
     "name": "stdout",
     "output_type": "stream",
     "text": [
      "Each fold size: 52020\n",
      "Fold 0\n",
      "Fold 1\n",
      "Fold 2\n",
      "\n",
      "Average Precision\tRecall\t\tF1 \tPer Label\n",
      "0 \t      0.441      0.279      0.341\n",
      "1 \t      0.374      0.469      0.416\n",
      "2 \t      0.782      0.681      0.728\n",
      "3 \t      0.356      0.523      0.424\n",
      "4 \t      0.391      0.389      0.390\n",
      "\n",
      "Mean accuracy 0.5823529411764706\n",
      "\n",
      "Macro Average Precision\tRecall\t\tF1 \tOver All Labels\n",
      "\t      0.469      0.468      0.460\n",
      "\n",
      "Label Counts {0: 7072, 1: 27273, 2: 79582, 3: 32927, 4: 9206}\n",
      "Micro Average Precision\tRecall\t\tF1 \tOver All Labels\n",
      "\t      0.582      0.575      0.572\n"
     ]
    }
   ],
   "source": [
    "#check results\n",
    "num_folds = 3\n",
    "cross_validation_PRF(num_folds, NOT_featuresets_stemmed, labels)"
   ]
  },
  {
   "cell_type": "markdown",
   "id": "880901b0",
   "metadata": {},
   "source": [
    "Per above, accuracy was higher when using original phrases. In addition, the accuracies above were higher than accuracies obtained using all other feature sets. This may have caused by using extra words that outside of the top 2000 words list. Therefore, we adjusted the Negation word feature to only use the top 2000 words."
   ]
  },
  {
   "cell_type": "code",
   "execution_count": 26,
   "id": "0fa0d2be",
   "metadata": {},
   "outputs": [],
   "source": [
    "#### Create the updated Negation words feature ####\n",
    "# Negate the word following the negation word\n",
    "def NOT_features2(document, word_features, negationwords):\n",
    "    features = {}\n",
    "    for word in word_features:\n",
    "        features['V_{}'.format(word)] = False\n",
    "        features['V_NOT{}'.format(word)] = False\n",
    "    # go through document words in order\n",
    "    for i in range(0, len(document)):\n",
    "        word = document[i]\n",
    "        if ((i + 1) < len(document)) and word in word_features and ((word in negationwords) or (word.endswith(\"n't\"))):\n",
    "            i += 1\n",
    "            if document[i] in word_features:\n",
    "                features['V_NOT{}'.format(document[i])] = (document[i] in word_features)\n",
    "        elif word in word_features:\n",
    "            features['V_{}'.format(word)] = (word in word_features)\n",
    "    return features"
   ]
  },
  {
   "cell_type": "code",
   "execution_count": 29,
   "id": "acd00218",
   "metadata": {},
   "outputs": [],
   "source": [
    "# define the new Negation feature sets\n",
    "NOT_featuresets2 = [(NOT_features2(d, word_features, negationwords), c) for (d, c) in phrasedocs]"
   ]
  },
  {
   "cell_type": "code",
   "execution_count": 32,
   "id": "90bb6a74",
   "metadata": {},
   "outputs": [
    {
     "name": "stdout",
     "output_type": "stream",
     "text": [
      "4000\n"
     ]
    }
   ],
   "source": [
    "# number of features for phrase 0\n",
    "print(len(NOT_featuresets2[0][0].keys()))"
   ]
  },
  {
   "cell_type": "code",
   "execution_count": 30,
   "id": "8a10fd45",
   "metadata": {},
   "outputs": [
    {
     "name": "stdout",
     "output_type": "stream",
     "text": [
      "({'V_the': False, 'V_NOTthe': False, 'V_a': False, 'V_NOTa': False, 'V_of': False, 'V_NOTof': False, 'V_and': False, 'V_NOTand': False, 'V_to': False, 'V_NOTto': False, \"V_'s\": False, \"V_NOT's\": False, 'V_in': False, 'V_NOTin': False, 'V_is': False, 'V_NOTis': False, 'V_that': False, 'V_NOTthat': False, 'V_it': False, 'V_NOTit': False, 'V_as': False, 'V_NOTas': False, 'V_with': False, 'V_NOTwith': False, 'V_for': False, 'V_NOTfor': False, 'V_its': False, 'V_NOTits': False, 'V_film': False, 'V_NOTfilm': False, 'V_an': False, 'V_NOTan': False, 'V_movie': False, 'V_NOTmovie': False, 'V_this': False, 'V_NOTthis': False, 'V_but': False, 'V_NOTbut': False, 'V_be': False, 'V_NOTbe': False, 'V_you': False, 'V_NOTyou': False, 'V_on': False, 'V_NOTon': False, \"V_n't\": False, \"V_NOTn't\": False, 'V_by': False, 'V_NOTby': False, 'V_more': False, 'V_NOTmore': False, 'V_his': False, 'V_NOThis': False, 'V_about': False, 'V_NOTabout': False, 'V_one': False, 'V_NOTone': False, 'V_not': False, 'V_NOTnot': False, 'V_at': False, 'V_NOTat': False, 'V_or': False, 'V_NOTor': False, 'V_from': False, 'V_NOTfrom': False, 'V_than': False, 'V_NOTthan': False, 'V_all': False, 'V_NOTall': False, 'V_have': False, 'V_NOThave': False, 'V_like': True, 'V_NOTlike': False, 'V_are': False, 'V_NOTare': False, 'V_has': False, 'V_NOThas': False, 'V_so': False, 'V_NOTso': False, 'V_story': False, 'V_NOTstory': False, 'V_-rrb-': False, 'V_NOT-rrb-': False, 'V_out': False, 'V_NOTout': False, 'V_who': False, 'V_NOTwho': False, 'V_most': False, 'V_NOTmost': False, 'V_into': False, 'V_NOTinto': False, 'V_too': False, 'V_NOTtoo': False, 'V_up': False, 'V_NOTup': False, 'V_-lrb-': False, 'V_NOT-lrb-': False, 'V_good': False, 'V_NOTgood': False, 'V_if': False, 'V_NOTif': False, 'V_what': False, 'V_NOTwhat': False, 'V_their': False, 'V_NOTtheir': False, 'V_characters': False, 'V_NOTcharacters': False, 'V_much': False, 'V_NOTmuch': False, 'V_no': False, 'V_NOTno': False, 'V_can': False, 'V_NOTcan': False, 'V_i': False, 'V_NOTi': False, 'V_your': False, 'V_NOTyour': False, 'V_time': False, 'V_NOTtime': False, 'V_comedy': False, 'V_NOTcomedy': False, 'V_just': False, 'V_NOTjust': False, 'V_some': False, 'V_NOTsome': False, 'V_does': False, 'V_NOTdoes': False, 'V_even': False, 'V_NOTeven': False, 'V_little': False, 'V_NOTlittle': False, 'V_will': False, 'V_NOTwill': False, 'V_funny': False, 'V_NOTfunny': False, 'V_way': False, 'V_NOTway': False, 'V_life': False, 'V_NOTlife': False, 'V_any': False, 'V_NOTany': False, 'V_very': False, 'V_NOTvery': False, 'V_been': False, 'V_NOTbeen': False, 'V_make': False, 'V_NOTmake': False, 'V_only': False, 'V_NOTonly': False, 'V_which': False, 'V_NOTwhich': False, 'V_he': False, 'V_NOThe': False, 'V_movies': False, 'V_NOTmovies': False, 'V_love': False, 'V_NOTlove': False, 'V_do': False, 'V_NOTdo': False, 'V_new': False, 'V_NOTnew': False, 'V_there': False, 'V_NOTthere': False, 'V_enough': False, 'V_NOTenough': False, 'V_work': False, 'V_NOTwork': False, 'V_her': False, 'V_NOTher': False, 'V_was': False, 'V_NOTwas': False, 'V_us': False, 'V_NOTus': False, 'V_bad': False, 'V_NOTbad': False, 'V_own': False, 'V_NOTown': False, 'V_they': False, 'V_NOTthey': False, 'V_other': False, 'V_NOTother': False, 'V_something': False, 'V_NOTsomething': False, 'V_would': False, 'V_NOTwould': False, 'V_never': False, 'V_NOTnever': False, 'V_we': False, 'V_NOTwe': False, 'V_director': False, 'V_NOTdirector': False, 'V_through': False, 'V_NOTthrough': False, 'V_many': False, 'V_NOTmany': False, 'V_people': False, 'V_NOTpeople': False, 'V_when': False, 'V_NOTwhen': False, 'V_made': False, 'V_NOTmade': False, 'V_best': False, 'V_NOTbest': False, 'V_two': False, 'V_NOTtwo': False, 'V_makes': False, 'V_NOTmakes': False, 'V_them': False, 'V_NOTthem': False, 'V_how': False, 'V_NOThow': False, 'V_action': False, 'V_NOTaction': False, 'V_may': False, 'V_NOTmay': False, 'V_plot': False, 'V_NOTplot': False, 'V_films': False, 'V_NOTfilms': False, 'V_could': False, 'V_NOTcould': False, 'V_character': False, 'V_NOTcharacter': False, 'V_see': False, 'V_NOTsee': False, 'V_well': False, 'V_NOTwell': False, 'V_being': False, 'V_NOTbeing': False, 'V_world': False, 'V_NOTworld': False, 'V_better': False, 'V_NOTbetter': False, 'V_audience': False, 'V_NOTaudience': False, 'V_drama': False, 'V_NOTdrama': False, 'V_look': False, 'V_NOTlook': False, 'V_really': False, 'V_NOTreally': False, 'V_those': False, 'V_NOTthose': False, 'V_without': False, 'V_NOTwithout': False, 'V_sense': False, 'V_NOTsense': False, 'V_off': False, 'V_NOToff': False, 'V_every': False, 'V_NOTevery': False, 'V_great': False, 'V_NOTgreat': False, 'V_humor': False, 'V_NOThumor': False, 'V_few': False, 'V_NOTfew': False, 'V_long': False, 'V_NOTlong': False, 'V_first': False, 'V_NOTfirst': False, 'V_another': False, 'V_NOTanother': False, 'V_should': False, 'V_NOTshould': False, 'V_over': False, 'V_NOTover': False, \"V_'re\": False, \"V_NOT're\": False, 'V_feel': False, 'V_NOTfeel': False, 'V_get': False, 'V_NOTget': False, 'V_minutes': False, 'V_NOTminutes': False, 'V_such': False, 'V_NOTsuch': False, 'V_big': False, 'V_NOTbig': False, 'V_both': False, 'V_NOTboth': False, 'V_man': False, 'V_NOTman': False, 'V_performances': False, 'V_NOTperformances': False, 'V_cast': False, 'V_NOTcast': False, 'V_real': False, 'V_NOTreal': False, 'V_ever': False, 'V_NOTever': False, 'V_still': False, 'V_NOTstill': False, 'V_hollywood': False, 'V_NOThollywood': False, 'V_while': False, 'V_NOTwhile': False, 'V_nothing': False, 'V_NOTnothing': False, 'V_human': False, 'V_NOThuman': False, 'V_between': False, 'V_NOTbetween': False, 'V_performance': False, 'V_NOTperformance': False, 'V_fun': False, 'V_NOTfun': False, 'V_might': False, 'V_NOTmight': False, 'V_old': False, 'V_NOTold': False, 'V_less': False, 'V_NOTless': False, 'V_screen': False, 'V_NOTscreen': False, 'V_were': False, 'V_NOTwere': False, 'V_things': False, 'V_NOTthings': False, 'V_often': False, 'V_NOToften': False, 'V_had': False, 'V_NOThad': False, 'V_these': False, 'V_NOTthese': False, 'V_kind': False, 'V_NOTkind': False, 'V_moments': False, 'V_NOTmoments': False, 'V_script': False, 'V_NOTscript': False, 'V_family': False, 'V_NOTfamily': False, 'V_seen': False, 'V_NOTseen': False, 'V_down': False, 'V_NOTdown': False, 'V_also': False, 'V_NOTalso': False, 'V_our': False, 'V_NOTour': False, 'V_before': False, 'V_NOTbefore': False, 'V_american': False, 'V_NOTamerican': False, 'V_interesting': False, 'V_NOTinteresting': False, 'V_far': False, 'V_NOTfar': False, 'V_acting': False, 'V_NOTacting': False, 'V_rather': False, 'V_NOTrather': False, 'V_original': False, 'V_NOToriginal': False, 'V_because': False, 'V_NOTbecause': False, 'V_watch': False, 'V_NOTwatch': False, 'V_heart': False, 'V_NOTheart': False, 'V_almost': False, 'V_NOTalmost': False, 'V_back': False, 'V_NOTback': False, 'V_young': False, 'V_NOTyoung': False, 'V_emotional': False, 'V_NOTemotional': False, 'V_entertaining': False, 'V_NOTentertaining': False, 'V_material': False, 'V_NOTmaterial': False, 'V_end': False, 'V_NOTend': False, 'V_my': False, 'V_NOTmy': False, 'V_thriller': False, 'V_NOTthriller': False, 'V_after': False, 'V_NOTafter': False, 'V_actors': False, 'V_NOTactors': False, 'V_here': False, 'V_NOThere': False, 'V_cinema': False, 'V_NOTcinema': False, 'V_go': False, 'V_NOTgo': False, 'V_right': False, 'V_NOTright': False, 'V_dialogue': False, 'V_NOTdialogue': False, 'V_find': False, 'V_NOTfind': False, 'V_hard': False, 'V_NOThard': False, 'V_picture': False, 'V_NOTpicture': False, 'V_scenes': False, 'V_NOTscenes': False, 'V_take': False, 'V_NOTtake': False, \"V_'ve\": False, \"V_NOT've\": False, 'V_lot': False, 'V_NOTlot': False, 'V_music': False, 'V_NOTmusic': False, 'V_full': False, 'V_NOTfull': False, 'V_yet': False, 'V_NOTyet': False, 'V_tale': False, 'V_NOTtale': False, 'V_times': False, 'V_NOTtimes': False, 'V_quite': False, 'V_NOTquite': False, 'V_come': False, 'V_NOTcome': False, 'V_watching': False, 'V_NOTwatching': False, 'V_itself': False, 'V_NOTitself': False, 'V_romantic': False, 'V_NOTromantic': False, 'V_him': False, 'V_NOThim': False, 'V_me': False, 'V_NOTme': False, 'V_years': False, 'V_NOTyears': False, 'V_thing': False, 'V_NOTthing': False, 'V_same': False, 'V_NOTsame': False, 'V_comes': False, 'V_NOTcomes': False, 'V_documentary': False, 'V_NOTdocumentary': False, 'V_subject': False, 'V_NOTsubject': False, 'V_going': False, 'V_NOTgoing': False, 'V_worth': False, 'V_NOTworth': False, 'V_seems': False, 'V_NOTseems': False, 'V_year': False, 'V_NOTyear': False, 'V_making': False, 'V_NOTmaking': False, 'V_war': False, 'V_NOTwar': False, 'V_ca': False, 'V_NOTca': False, 'V_women': False, 'V_NOTwomen': False, 'V_give': False, 'V_NOTgive': False, 'V_dark': False, 'V_NOTdark': False, 'V_though': False, 'V_NOTthough': False, \"V_'ll\": False, \"V_NOT'll\": False, 'V_history': False, 'V_NOThistory': False, 'V_where': False, 'V_NOTwhere': False, 'V_kids': False, 'V_NOTkids': False, 'V_special': False, 'V_NOTspecial': False, 'V_feels': False, 'V_NOTfeels': False, 'V_seem': False, 'V_NOTseem': False, 'V_comic': False, 'V_NOTcomic': False, 'V_anything': False, 'V_NOTanything': False, 'V_did': False, 'V_NOTdid': False, 'V_keep': False, 'V_NOTkeep': False, 'V_least': False, 'V_NOTleast': False, 'V_works': False, 'V_NOTworks': False, 'V_compelling': False, 'V_NOTcompelling': False, 'V_want': False, 'V_NOTwant': False, 'V_visual': False, 'V_NOTvisual': False, 'V_bit': False, 'V_NOTbit': False, 'V_last': False, 'V_NOTlast': False, 'V_care': False, 'V_NOTcare': False, 'V_ultimately': False, 'V_NOTultimately': False, 'V_style': False, 'V_NOTstyle': False, 'V_star': False, 'V_NOTstar': False, 'V_takes': False, 'V_NOTtakes': False, 'V_point': False, 'V_NOTpoint': False, 'V_think': False, 'V_NOTthink': False, 'V_art': False, 'V_NOTart': False, 'V_sometimes': False, 'V_NOTsometimes': False, 'V_show': False, 'V_NOTshow': False, 'V_around': False, 'V_NOTaround': False, 'V_entertainment': False, 'V_NOTentertainment': False, 'V_actually': False, 'V_NOTactually': False, 'V_say': False, 'V_NOTsay': False, 'V_away': False, 'V_NOTaway': False, 'V_gets': False, 'V_NOTgets': False, 'V_pretty': False, 'V_NOTpretty': False, 'V_again': False, 'V_NOTagain': False, 'V_sweet': False, 'V_NOTsweet': False, 'V_fans': False, 'V_NOTfans': False, 'V_direction': False, 'V_NOTdirection': False, 'V_together': False, 'V_NOTtogether': False, 'V_need': False, 'V_NOTneed': False, 'V_piece': False, 'V_NOTpiece': False, 'V_place': False, 'V_NOTplace': False, 'V_part': False, 'V_NOTpart': False, 'V_know': False, 'V_NOTknow': False, 'V_why': False, 'V_NOTwhy': False, 'V_true': False, 'V_NOTtrue': False, 'V_she': False, 'V_NOTshe': False, 'V_familiar': False, 'V_NOTfamiliar': False, 'V_once': False, 'V_NOTonce': False, 'V_then': False, 'V_NOTthen': False, 'V_moving': False, 'V_NOTmoving': False, 'V_experience': False, 'V_NOTexperience': False, 'V_genre': False, 'V_NOTgenre': False, 'V_three': False, 'V_NOTthree': False, 'V_anyone': False, 'V_NOTanyone': False, 'V_fascinating': False, 'V_NOTfascinating': False, 'V_cinematic': False, 'V_NOTcinematic': False, 'V_under': False, 'V_NOTunder': False, 'V_laughs': False, 'V_NOTlaughs': False, 'V_lives': False, 'V_NOTlives': False, 'V_dull': False, 'V_NOTdull': False, 'V_clever': False, 'V_NOTclever': False, 'V_children': False, 'V_NOTchildren': False, 'V_flick': False, 'V_NOTflick': False, 'V_matter': False, 'V_NOTmatter': False, 'V_nearly': False, 'V_NOTnearly': False, 'V_theater': False, 'V_NOTtheater': False, 'V_short': False, 'V_NOTshort': False, 'V_gives': False, 'V_NOTgives': False, 'V_feature': False, 'V_NOTfeature': False, 'V_idea': False, 'V_NOTidea': False, 'V_face': False, 'V_NOTface': False, 'V_series': False, 'V_NOTseries': False, 'V_set': False, 'V_NOTset': False, 'V_whose': False, 'V_NOTwhose': False, 'V_narrative': False, 'V_NOTnarrative': False, 'V_screenplay': False, 'V_NOTscreenplay': False, 'V_silly': False, 'V_NOTsilly': False, 'V_each': False, 'V_NOTeach': False, 'V_premise': False, 'V_NOTpremise': False, 'V_trying': False, 'V_NOTtrying': False, 'V_culture': False, 'V_NOTculture': False, 'V_looking': False, 'V_NOTlooking': False, 'V_men': False, 'V_NOTmen': False, 'V_since': False, 'V_NOTsince': False, 'V_video': False, 'V_NOTvideo': False, 'V_horror': False, 'V_NOThorror': False, 'V_high': False, 'V_NOThigh': False, 'V_book': False, 'V_NOTbook': False, 'V_whole': False, 'V_NOTwhole': False, 'V_summer': False, 'V_NOTsummer': False, 'V_easy': False, 'V_NOTeasy': False, 'V_enjoyable': False, 'V_NOTenjoyable': False, 'V_done': False, 'V_NOTdone': False, 'V_title': False, 'V_NOTtitle': False, 'V_day': False, 'V_NOTday': False, 'V_level': False, 'V_NOTlevel': False, 'V_simply': False, 'V_NOTsimply': False, 'V_interest': False, 'V_NOTinterest': False, 'V_half': False, 'V_NOThalf': False, 'V_energy': False, 'V_NOTenergy': False, 'V_especially': False, 'V_NOTespecially': False, 'V_tv': False, 'V_NOTtv': False, 'V_study': False, 'V_NOTstudy': False, 'V_dramatic': False, 'V_NOTdramatic': False, 'V_modern': False, 'V_NOTmodern': False, 'V_always': False, 'V_NOTalways': False, 'V_effects': False, 'V_NOTeffects': False, 'V_amusing': False, 'V_NOTamusing': False, 'V_light': False, 'V_NOTlight': False, 'V_everything': False, 'V_NOTeverything': False, 'V_filmmakers': False, 'V_NOTfilmmakers': False, 'V_himself': False, 'V_NOThimself': False, 'V_beautiful': False, 'V_NOTbeautiful': False, 'V_engaging': False, 'V_NOTengaging': False, 'V_powerful': False, 'V_NOTpowerful': False, 'V_next': False, 'V_NOTnext': False, 'V_strong': False, 'V_NOTstrong': False, 'V_power': False, 'V_NOTpower': False, 'V_smart': False, 'V_NOTsmart': False, 'V_woman': False, 'V_NOTwoman': False, 'V_obvious': False, 'V_NOTobvious': False, 'V_worst': False, 'V_NOTworst': False, 'V_stories': False, 'V_NOTstories': False, 'V_goes': False, 'V_NOTgoes': False, 'V_tone': False, 'V_NOTtone': False, 'V_predictable': False, 'V_NOTpredictable': False, 'V_spirit': False, 'V_NOTspirit': False, 'V_political': False, 'V_NOTpolitical': False, 'V_past': False, 'V_NOTpast': False, 'V_social': False, 'V_NOTsocial': False, 'V_effort': False, 'V_NOTeffort': False, 'V_classic': False, 'V_NOTclassic': False, 'V_surprisingly': False, 'V_NOTsurprisingly': False, 'V_filmmaking': False, 'V_NOTfilmmaking': False, 'V_become': False, 'V_NOTbecome': False, 'V_french': False, 'V_NOTfrench': False, 'V_romance': False, 'V_NOTromance': False, 'V_john': False, 'V_NOTjohn': False, 'V_portrait': False, 'V_NOTportrait': False, 'V_wit': False, 'V_NOTwit': False, 'V_instead': False, 'V_NOTinstead': False, 'V_hours': False, 'V_NOThours': False, 'V_probably': False, 'V_NOTprobably': False, \"V_'d\": False, \"V_NOT'd\": False, 'V_intelligence': False, 'V_NOTintelligence': False, 'V_version': False, 'V_NOTversion': False, 'V_hour': False, 'V_NOThour': False, 'V_feeling': False, 'V_NOTfeeling': False, 'V_either': False, 'V_NOTeither': False, 'V_exercise': False, 'V_NOTexercise': False, 'V_camera': False, 'V_NOTcamera': False, 'V_line': False, 'V_NOTline': False, 'V_manages': False, 'V_NOTmanages': False, 'V_intelligent': False, 'V_NOTintelligent': False, 'V_everyone': False, 'V_NOTeveryone': False, 'V_melodrama': False, 'V_NOTmelodrama': False, 'V_black': False, 'V_NOTblack': False, 'V_debut': False, 'V_NOTdebut': False, 'V_mind': False, 'V_NOTmind': False, 'V_turn': False, 'V_NOTturn': False, 'V_recent': False, 'V_NOTrecent': False, 'V_reason': False, 'V_NOTreason': False, 'V_quirky': False, 'V_NOTquirky': False, 'V_mr.': False, 'V_NOTmr.': False, 'V_offers': False, 'V_NOToffers': False, 'V_charming': False, 'V_NOTcharming': False, 'V_ideas': False, 'V_NOTideas': False, 'V_suspense': False, 'V_NOTsuspense': False, 'V_death': False, 'V_NOTdeath': False, 'V_small': False, 'V_NOTsmall': False, 'V_stuff': False, 'V_NOTstuff': False, 'V_truly': False, 'V_NOTtruly': False, 'V_live': False, 'V_NOTlive': False, 'V_charm': False, 'V_NOTcharm': False, 'V_actor': False, 'V_NOTactor': False, 'V_head': False, 'V_NOThead': False, 'V_despite': False, 'V_NOTdespite': False, 'V_leave': False, 'V_NOTleave': False, 'V_sort': False, 'V_NOTsort': False, 'V_project': False, 'V_NOTproject': False, 'V_audiences': False, 'V_NOTaudiences': False, 'V_serious': False, 'V_NOTserious': False, 'V_enjoy': False, 'V_NOTenjoy': False, 'V_believe': False, 'V_NOTbelieve': False, 'V_now': False, 'V_NOTnow': False, 'V_else': False, 'V_NOTelse': False, 'V_opera': False, 'V_NOTopera': False, 'V_rich': False, 'V_NOTrich': False, 'V_home': False, 'V_NOThome': False, 'V_likely': False, 'V_NOTlikely': False, 'V_becomes': False, 'V_NOTbecomes': False, 'V_reality': False, 'V_NOTreality': False, 'V_fresh': False, 'V_NOTfresh': False, 'V_side': False, 'V_NOTside': False, 'V_solid': False, 'V_NOTsolid': False, 'V_filmmaker': False, 'V_NOTfilmmaker': False, 'V_tragedy': False, 'V_NOTtragedy': False, 'V_ways': False, 'V_NOTways': False, 'V_personal': False, 'V_NOTpersonal': False, 'V_wo': False, 'V_NOTwo': False, 'V_de': False, 'V_NOTde': False, 'V_storytelling': False, 'V_NOTstorytelling': False, 'V_beyond': False, 'V_NOTbeyond': False, 'V_fine': False, 'V_NOTfine': False, 'V_left': False, 'V_NOTleft': False, 'V_ending': False, 'V_NOTending': False, 'V_role': False, 'V_NOTrole': False, 'V_deeply': False, 'V_NOTdeeply': False, 'V_message': False, 'V_NOTmessage': False, 'V_plays': False, 'V_NOTplays': False, 'V_lack': False, 'V_NOTlack': False, 'V_turns': False, 'V_NOTturns': False, 'V_already': False, 'V_NOTalready': False, 'V_different': False, 'V_NOTdifferent': False, 'V_girl': False, 'V_NOTgirl': False, 'V_gags': False, 'V_NOTgags': False, 'V_play': False, 'V_NOTplay': False, 'V_jokes': False, 'V_NOTjokes': False, 'V_eyes': False, 'V_NOTeyes': False, 'V_themselves': False, 'V_NOTthemselves': False, 'V_michael': False, 'V_NOTmichael': False, 'V_perfect': False, 'V_NOTperfect': False, 'V_impossible': False, 'V_NOTimpossible': False, 'V_complex': False, 'V_NOTcomplex': False, 'V_rare': False, 'V_NOTrare': False, 'V_cold': False, 'V_NOTcold': False, 'V_otherwise': False, 'V_NOTotherwise': False, 'V_put': False, 'V_NOTput': False, 'V_particularly': False, 'V_NOTparticularly': False, 'V_inside': False, 'V_NOTinside': False, 'V_directed': False, 'V_NOTdirected': False, 'V_scene': False, 'V_NOTscene': False, 'V_images': False, 'V_NOTimages': False, 'V_sad': False, 'V_NOTsad': False, 'V_boring': False, 'V_NOTboring': False, 'V_against': False, 'V_NOTagainst': False, 'V_flat': False, 'V_NOTflat': False, 'V_moral': False, 'V_NOTmoral': False, 'V_boy': False, 'V_NOTboy': False, 'V_ride': False, 'V_NOTride': False, 'V_imagination': False, 'V_NOTimagination': False, 'V_satisfying': False, 'V_NOTsatisfying': False, 'V_sure': False, 'V_NOTsure': False, 'V_animation': False, 'V_NOTanimation': False, 'V_running': False, 'V_NOTrunning': False, 'V_viewer': False, 'V_NOTviewer': False, 'V_shot': False, 'V_NOTshot': False, 'V_adventure': False, 'V_NOTadventure': False, 'V_sex': False, 'V_NOTsex': False, 'V_slow': False, 'V_NOTslow': False, 'V_dumb': False, 'V_NOTdumb': False, 'V_run': False, 'V_NOTrun': False, 'V_talent': False, 'V_NOTtalent': False, 'V_honest': False, 'V_NOThonest': False, 'V_sequences': False, 'V_NOTsequences': False, 'V_act': False, 'V_NOTact': False, 'V_during': False, 'V_NOTduring': False, 'V_viewers': False, 'V_NOTviewers': False, 'V_days': False, 'V_NOTdays': False, 'V_looks': False, 'V_NOTlooks': False, 'V_along': False, 'V_NOTalong': False, 'V_mystery': False, 'V_NOTmystery': False, 'V_violence': False, 'V_NOTviolence': False, 'V_completely': False, 'V_NOTcompletely': False, 'V_seeing': False, 'V_NOTseeing': False, 'V_written': False, 'V_NOTwritten': False, 'V_historical': False, 'V_NOThistorical': False, 'V_beautifully': False, 'V_NOTbeautifully': False, 'V_intriguing': False, 'V_NOTintriguing': False, 'V_laugh': False, 'V_NOTlaugh': False, 'V_wrong': False, 'V_NOTwrong': False, 'V_hilarious': False, 'V_NOThilarious': False, 'V_crime': False, 'V_NOTcrime': False, 'V_strange': False, 'V_NOTstrange': False, 'V_certainly': False, 'V_NOTcertainly': False, 'V_passion': False, 'V_NOTpassion': False, 'V_shows': False, 'V_NOTshows': False, 'V_easily': False, 'V_NOTeasily': False, 'V_beauty': False, 'V_NOTbeauty': False, 'V_formula': False, 'V_NOTformula': False, 'V_comedies': False, 'V_NOTcomedies': False, 'V_contrived': False, 'V_NOTcontrived': False, 'V_pleasure': False, 'V_NOTpleasure': False, 'V_nature': False, 'V_NOTnature': False, 'V_elements': False, 'V_NOTelements': False, 'V_fairly': False, 'V_NOTfairly': False, 'V_memorable': False, 'V_NOTmemorable': False, 'V_thought': False, 'V_NOTthought': False, 'V_game': False, 'V_NOTgame': False, 'V_difficult': False, 'V_NOTdifficult': False, 'V_having': False, 'V_NOThaving': False, 'V_fantasy': False, 'V_NOTfantasy': False, 'V_above': False, 'V_NOTabove': False, 'V_whether': False, 'V_NOTwhether': False, \"V_'m\": False, \"V_NOT'm\": False, 'V_emotionally': False, 'V_NOTemotionally': False, 'V_bland': False, 'V_NOTbland': False, 'V_soap': False, 'V_NOTsoap': False, 'V_attempt': False, 'V_NOTattempt': False, 'V_cliches': False, 'V_NOTcliches': False, 'V_final': False, 'V_NOTfinal': False, 'V_york': False, 'V_NOTyork': False, 'V_hero': False, 'V_NOThero': False, 'V_writing': False, 'V_NOTwriting': False, 'V_moment': False, 'V_NOTmoment': False, 'V_possible': False, 'V_NOTpossible': False, 'V_tell': False, 'V_NOTtell': False, 'V_usual': False, 'V_NOTusual': False, 'V_attention': False, 'V_NOTattention': False, 'V_middle': False, 'V_NOTmiddle': False, 'V_given': False, 'V_NOTgiven': False, 'V_concept': False, 'V_NOTconcept': False, 'V_getting': False, 'V_NOTgetting': False, 'V_working': False, 'V_NOTworking': False, 'V_fact': False, 'V_NOTfact': False, 'V_period': False, 'V_NOTperiod': False, 'V_stand': False, 'V_NOTstand': False, 'V_fails': False, 'V_NOTfails': False, 'V_got': False, 'V_NOTgot': False, 'V_events': False, 'V_NOTevents': False, 'V_found': False, 'V_NOTfound': False, 'V_emotions': False, 'V_NOTemotions': False, 'V_pictures': False, 'V_NOTpictures': False, 'V_mostly': False, 'V_NOTmostly': False, 'V_case': False, 'V_NOTcase': False, 'V_must': False, 'V_NOTmust': False, 'V_novel': False, 'V_NOTnovel': False, 'V_call': False, 'V_NOTcall': False, 'V_production': False, 'V_NOTproduction': False, 'V_entirely': False, 'V_NOTentirely': False, 'V_issues': False, 'V_NOTissues': False, 'V_supposed': False, 'V_NOTsupposed': False, 'V_mood': False, 'V_NOTmood': False, 'V_artist': False, 'V_NOTartist': False, 'V_lacks': False, 'V_NOTlacks': False, 'V_nor': False, 'V_NOTnor': False, 'V_guys': False, 'V_NOTguys': False, 'V_help': False, 'V_NOThelp': False, 'V_lost': False, 'V_NOTlost': False, 'V_teen': False, 'V_NOTteen': False, 'V_ends': False, 'V_NOTends': False, 'V_earnest': False, 'V_NOTearnest': False, 'V_none': False, 'V_NOTnone': False, 'V_touching': False, 'V_NOTtouching': False, 'V_view': False, 'V_NOTview': False, 'V_vision': False, 'V_NOTvision': False, 'V_visually': False, 'V_NOTvisually': False, 'V_house': False, 'V_NOThouse': False, 'V_proves': False, 'V_NOTproves': False, 'V_parents': False, 'V_NOTparents': False, 'V_tired': False, 'V_NOTtired': False, 'V_close': False, 'V_NOTclose': False, 'V_perfectly': False, 'V_NOTperfectly': False, 'V_remarkable': False, 'V_NOTremarkable': False, 'V_plenty': False, 'V_NOTplenty': False, 'V_second': False, 'V_NOTsecond': False, 'V_psychological': False, 'V_NOTpsychological': False, 'V_neither': False, 'V_NOTneither': False, 'V_creepy': False, 'V_NOTcreepy': False, 'V_try': False, 'V_NOTtry': False, 'V_adults': False, 'V_NOTadults': False, 'V_quality': False, 'V_NOTquality': False, 'V_deep': False, 'V_NOTdeep': False, 'V_terrific': False, 'V_NOTterrific': False, 'V_gentle': False, 'V_NOTgentle': False, 'V_barely': False, 'V_NOTbarely': False, 'V_change': False, 'V_NOTchange': False, 'V_remains': False, 'V_NOTremains': False, 'V_relationships': False, 'V_NOTrelationships': False, 'V_four': False, 'V_NOTfour': False, 'V_single': False, 'V_NOTsingle': False, 'V_wonderful': False, 'V_NOTwonderful': False, 'V_tries': False, 'V_NOTtries': False, 'V_ambitious': False, 'V_NOTambitious': False, 'V_mess': False, 'V_NOTmess': False, 'V_simple': False, 'V_NOTsimple': False, 'V_cheap': False, 'V_NOTcheap': False, 'V_america': False, 'V_NOTamerica': False, 'V_taste': False, 'V_NOTtaste': False, 'V_occasionally': False, 'V_NOToccasionally': False, 'V_rock': False, 'V_NOTrock': False, 'V_ii': False, 'V_NOTii': False, 'V_guy': False, 'V_NOTguy': False, 'V_creative': False, 'V_NOTcreative': False, 'V_approach': False, 'V_NOTapproach': False, 'V_dead': False, 'V_NOTdead': False, 'V_career': False, 'V_NOTcareer': False, 'V_sequel': False, 'V_NOTsequel': False, 'V_gorgeous': False, 'V_NOTgorgeous': False, 'V_previous': False, 'V_NOTprevious': False, 'V_gone': False, 'V_NOTgone': False, 'V_cut': False, 'V_NOTcut': False, 'V_sentimental': False, 'V_NOTsentimental': False, 'V_brilliant': False, 'V_NOTbrilliant': False, 'V_talented': False, 'V_NOTtalented': False, 'V_convincing': False, 'V_NOTconvincing': False, 'V_lead': False, 'V_NOTlead': False, 'V_dog': False, 'V_NOTdog': False, 'V_scary': False, 'V_NOTscary': False, 'V_cool': False, 'V_NOTcool': False, 'V_bring': False, 'V_NOTbring': False, 'V_thoughtful': False, 'V_NOTthoughtful': False, 'V_thin': False, 'V_NOTthin': False, 'V_themes': False, 'V_NOTthemes': False, 'V_unsettling': False, 'V_NOTunsettling': False, 'V_disney': False, 'V_NOTdisney': False, 'V_expect': False, 'V_NOTexpect': False, 'V_odd': False, 'V_NOTodd': False, 'V_satire': False, 'V_NOTsatire': False, 'V_sit': False, 'V_NOTsit': False, 'V_certain': False, 'V_NOTcertain': False, 'V_job': False, 'V_NOTjob': False, 'V_problem': False, 'V_NOTproblem': False, 'V_wild': False, 'V_NOTwild': False, 'V_ones': False, 'V_NOTones': False, 'V_pace': False, 'V_NOTpace': False, 'V_date': False, 'V_NOTdate': False, 'V_told': False, 'V_NOTtold': False, 'V_success': False, 'V_NOTsuccess': False, 'V_low': False, 'V_NOTlow': False, 'V_latest': False, 'V_NOTlatest': False, 'V_finally': False, 'V_NOTfinally': False, 'V_surprising': False, 'V_NOTsurprising': False, 'V_straight': False, 'V_NOTstraight': False, 'V_old-fashioned': False, 'V_NOTold-fashioned': False, 'V_appealing': False, 'V_NOTappealing': False, 'V_touch': False, 'V_NOTtouch': False, 'V_city': False, 'V_NOTcity': False, 'V_robert': False, 'V_NOTrobert': False, 'V_air': False, 'V_NOTair': False, 'V_welcome': False, 'V_NOTwelcome': False, 'V_pretentious': False, 'V_NOTpretentious': False, 'V_flawed': False, 'V_NOTflawed': False, 'V_cultural': False, 'V_NOTcultural': False, 'V_somewhat': False, 'V_NOTsomewhat': False, 'V_used': False, 'V_NOTused': False, 'V_road': False, 'V_NOTroad': False, 'V_relationship': False, 'V_NOTrelationship': False, 'V_room': False, 'V_NOTroom': False, 'V_process': False, 'V_NOTprocess': False, 'V_knows': False, 'V_NOTknows': False, 'V_playing': False, 'V_NOTplaying': False, 'V_decent': False, 'V_NOTdecent': False, 'V_school': False, 'V_NOTschool': False, 'V_appeal': False, 'V_NOTappeal': False, 'V_spy': False, 'V_NOTspy': False, 'V_important': False, 'V_NOTimportant': False, 'V_battle': False, 'V_NOTbattle': False, 'V_nice': False, 'V_NOTnice': False, 'V_fully': False, 'V_NOTfully': False, 'V_taking': False, 'V_NOTtaking': False, 'V_hand': False, 'V_NOThand': False, 'V_david': False, 'V_NOTdavid': False, 'V_epic': False, 'V_NOTepic': False, 'V_future': False, 'V_NOTfuture': False, 'V_situation': False, 'V_NOTsituation': False, 'V_class': False, 'V_NOTclass': False, 'V_able': False, 'V_NOTable': False, 'V_thinking': False, 'V_NOTthinking': False, 'V_truth': False, 'V_NOTtruth': False, 'V_use': False, 'V_NOTuse': False, 'V_contemporary': False, 'V_NOTcontemporary': False, 'V_journey': False, 'V_NOTjourney': False, 'V_dry': False, 'V_NOTdry': False, 'V_several': False, 'V_NOTseveral': False, 'V_flicks': False, 'V_NOTflicks': False, 'V_age': False, 'V_NOTage': False, 'V_british': False, 'V_NOTbritish': False, 'V_insight': False, 'V_NOTinsight': False, 'V_sci-fi': False, 'V_NOTsci-fi': False, 'V_saw': False, 'V_NOTsaw': False, 'V_stupid': False, 'V_NOTstupid': False, 'V_adaptation': False, 'V_NOTadaptation': False, 'V_painful': False, 'V_NOTpainful': False, 'V_hold': False, 'V_NOThold': False, 'V_couple': False, 'V_NOTcouple': False, 'V_company': False, 'V_NOTcompany': False, 'V_needs': False, 'V_NOTneeds': False, 'V_potential': False, 'V_NOTpotential': False, 'V_hit': False, 'V_NOThit': False, 'V_entire': False, 'V_NOTentire': False, 'V_words': False, 'V_NOTwords': False, 'V_business': False, 'V_NOTbusiness': False, 'V_urban': False, 'V_NOTurban': False, 'V_doing': False, 'V_NOTdoing': False, 'V_genuine': False, 'V_NOTgenuine': False, 'V_thoroughly': False, 'V_NOTthoroughly': False, 'V_target': False, 'V_NOTtarget': False, 'V_episode': False, 'V_NOTepisode': False, 'V_across': False, 'V_NOTacross': False, 'V_warm': False, 'V_NOTwarm': False, 'V_today': False, 'V_NOTtoday': False, 'V_others': False, 'V_NOTothers': False, 'V_female': False, 'V_NOTfemale': False, 'V_tension': False, 'V_NOTtension': False, 'V_situations': False, 'V_NOTsituations': False, 'V_imagine': False, 'V_NOTimagine': False, 'V_country': False, 'V_NOTcountry': False, 'V_start': False, 'V_NOTstart': False, 'V_keeps': False, 'V_NOTkeeps': False, 'V_flaws': False, 'V_NOTflaws': False, 'V_monster': False, 'V_NOTmonster': False, 'V_throughout': False, 'V_NOTthroughout': False, 'V_behind': False, 'V_NOTbehind': False, 'V_tragic': False, 'V_NOTtragic': False, 'V_excellent': False, 'V_NOTexcellent': False, 'V_quiet': False, 'V_NOTquiet': False, 'V_unexpected': False, 'V_NOTunexpected': False, 'V_manner': False, 'V_NOTmanner': False, 'V_kid': False, 'V_NOTkid': False, 'V_mediocre': False, 'V_NOTmediocre': False, 'V_fire': False, 'V_NOTfire': False, 'V_ugly': False, 'V_NOTugly': False, 'V_sustain': False, 'V_NOTsustain': False, 'V_90': False, 'V_NOT90': False, 'V_felt': False, 'V_NOTfelt': False, 'V_night': False, 'V_NOTnight': False, 'V_understand': False, 'V_NOTunderstand': False, 'V_era': False, 'V_NOTera': False, 'V_stylish': False, 'V_NOTstylish': False, 'V_overall': False, 'V_NOToverall': False, 'V_gay': False, 'V_NOTgay': False, 'V_skin': False, 'V_NOTskin': False, 'V_evil': False, 'V_NOTevil': False, 'V_falls': False, 'V_NOTfalls': False, 'V_college': False, 'V_NOTcollege': False, 'V_execution': False, 'V_NOTexecution': False, 'V_remake': False, 'V_NOTremake': False, 'V_worse': False, 'V_NOTworse': False, 'V_offer': False, 'V_NOToffer': False, 'V_places': False, 'V_NOTplaces': False, 'V_taken': False, 'V_NOTtaken': False, 'V_magic': False, 'V_NOTmagic': False, 'V_problems': False, 'V_NOTproblems': False, 'V_girls': False, 'V_NOTgirls': False, 'V_exactly': False, 'V_NOTexactly': False, 'V_major': False, 'V_NOTmajor': False, 'V_impact': False, 'V_NOTimpact': False, 'V_awful': False, 'V_NOTawful': False, 'V_sexual': False, 'V_NOTsexual': False, 'V_rest': False, 'V_NOTrest': False, 'V_engrossing': False, 'V_NOTengrossing': False, 'V_coming-of-age': False, 'V_NOTcoming-of-age': False, 'V_car': False, 'V_NOTcar': False, 'V_crazy': False, 'V_NOTcrazy': False, 'V_depth': False, 'V_NOTdepth': False, 'V_mean': False, 'V_NOTmean': False, 'V_actress': False, 'V_NOTactress': False, 'V_humanity': False, 'V_NOThumanity': False, 'V_worthy': False, 'V_NOTworthy': False, 'V_word': False, 'V_NOTword': False, 'V_edge': False, 'V_NOTedge': False, 'V_warmth': False, 'V_NOTwarmth': False, 'V_living': False, 'V_NOTliving': False, 'V_money': False, 'V_NOTmoney': False, 'V_spielberg': False, 'V_NOTspielberg': False, 'V_name': False, 'V_NOTname': False, 'V_cartoon': False, 'V_NOTcartoon': False, 'V_coming': False, 'V_NOTcoming': False, 'V_pieces': False, 'V_NOTpieces': False, 'V_conclusion': False, 'V_NOTconclusion': False, 'V_grace': False, 'V_NOTgrace': False, 'V_frame': False, 'V_NOTframe': False, 'V_oscar': False, 'V_NOToscar': False, 'V_goofy': False, 'V_NOTgoofy': False, 'V_plain': False, 'V_NOTplain': False, 'V_master': False, 'V_NOTmaster': False, 'V_mildly': False, 'V_NOTmildly': False, 'V_loud': False, 'V_NOTloud': False, 'V_form': False, 'V_NOTform': False, 'V_someone': False, 'V_NOTsomeone': False, 'V_called': False, 'V_NOTcalled': False, 'V_successful': False, 'V_NOTsuccessful': False, 'V_purpose': False, 'V_NOTpurpose': False, 'V_unique': False, 'V_NOTunique': False, 'V_seat': False, 'V_NOTseat': False, 'V_eye': False, 'V_NOTeye': False, 'V_considerable': False, 'V_NOTconsiderable': False, 'V_justice': False, 'V_NOTjustice': False, 'V_leaves': False, 'V_NOTleaves': False, 'V_merely': False, 'V_NOTmerely': False, 'V_television': False, 'V_NOTtelevision': False, 'V_shots': False, 'V_NOTshots': False, 'V_george': False, 'V_NOTgeorge': False, 'V_writer-director': False, 'V_NOTwriter-director': False, 'V_ultimate': False, 'V_NOTultimate': False, 'V_clear': False, 'V_NOTclear': False, 'V_white': False, 'V_NOTwhite': False, 'V_pure': False, 'V_NOTpure': False, 'V_impressive': False, 'V_NOTimpressive': False, 'V_sharp': False, 'V_NOTsharp': False, 'V_pacing': False, 'V_NOTpacing': False, 'V_delightful': False, 'V_NOTdelightful': False, 'V_core': False, 'V_NOTcore': False, 'V_highly': False, 'V_NOThighly': False, 'V_create': False, 'V_NOTcreate': False, 'V_animated': False, 'V_NOTanimated': False, 'V_delivers': False, 'V_NOTdelivers': False, 'V_points': False, 'V_NOTpoints': False, 'V_uses': False, 'V_NOTuses': False, 'V_starts': False, 'V_NOTstarts': False, 'V_share': False, 'V_NOTshare': False, 'V_memory': False, 'V_NOTmemory': False, 'V_winning': False, 'V_NOTwinning': False, 'V_let': False, 'V_NOTlet': False, 'V_pop': False, 'V_NOTpop': False, 'V_wants': False, 'V_NOTwants': False, 'V_ensemble': False, 'V_NOTensemble': False, 'V_viewing': False, 'V_NOTviewing': False, 'V_wanted': False, 'V_NOTwanted': False, 'V_examination': False, 'V_NOTexamination': False, 'V_red': False, 'V_NOTred': False, 'V_slightly': False, 'V_NOTslightly': False, 'V_pay': False, 'V_NOTpay': False, 'V_perspective': False, 'V_NOTperspective': False, 'V_inventive': False, 'V_NOTinventive': False, 'V_huge': False, 'V_NOThuge': False, 'V_surprises': False, 'V_NOTsurprises': False, 'V_colorful': False, 'V_NOTcolorful': False, 'V_unfunny': False, 'V_NOTunfunny': False, 'V_tom': False, 'V_NOTtom': False, 'V_interested': False, 'V_NOTinterested': False, 'V_maybe': False, 'V_NOTmaybe': False, 'V_questions': False, 'V_NOTquestions': False, 'V_poor': False, 'V_NOTpoor': False, 'V_twists': False, 'V_NOTtwists': False, 'V_friendship': False, 'V_NOTfriendship': False, 'V_subtle': False, 'V_NOTsubtle': False, 'V_wish': False, 'V_NOTwish': False, 'V_equally': False, 'V_NOTequally': False, 'V_intended': False, 'V_NOTintended': False, 'V_sincere': False, 'V_NOTsincere': False, 'V_promise': False, 'V_NOTpromise': False, 'V_loss': False, 'V_NOTloss': False, 'V_ago': False, 'V_NOTago': False, 'V_surprise': False, 'V_NOTsurprise': False, 'V_read': False, 'V_NOTread': False, 'V_force': False, 'V_NOTforce': False, 'V_forget': False, 'V_NOTforget': False, 'V_upon': False, 'V_NOTupon': False, 'V_writer': False, 'V_NOTwriter': False, 'V_dream': False, 'V_NOTdream': False, 'V_bizarre': False, 'V_NOTbizarre': False, 'V_fit': False, 'V_NOTfit': False, 'V_believable': False, 'V_NOTbelievable': False, 'V_substance': False, 'V_NOTsubstance': False, 'V_damned': False, 'V_NOTdamned': False, 'V_sophisticated': False, 'V_NOTsophisticated': False, 'V_five': False, 'V_NOTfive': False, 'V_crowd': False, 'V_NOTcrowd': False, 'V_grant': False, 'V_NOTgrant': False, 'V_slight': False, 'V_NOTslight': False, 'V_deal': False, 'V_NOTdeal': False, 'V_happen': False, 'V_NOThappen': False, 'V_wife': False, 'V_NOTwife': False, 'V_spiritual': False, 'V_NOTspiritual': False, 'V_typical': False, 'V_NOTtypical': False, 'V_slapstick': False, 'V_NOTslapstick': False, 'V_weird': False, 'V_NOTweird': False, 'V_means': False, 'V_NOTmeans': False, 'V_sensitive': False, 'V_NOTsensitive': False, 'V_funnier': False, 'V_NOTfunnier': False, 'V_alone': False, 'V_NOTalone': False, 'V_queen': False, 'V_NOTqueen': False, 'V_franchise': False, 'V_NOTfranchise': False, 'V_among': False, 'V_NOTamong': False, 'V_ability': False, 'V_NOTability': False, 'V_festival': False, 'V_NOTfestival': False, 'V_steven': False, 'V_NOTsteven': False, 'V_treatment': False, 'V_NOTtreatment': False, 'V_utterly': False, 'V_NOTutterly': False, 'V_chan': False, 'V_NOTchan': False, 'V_watchable': False, 'V_NOTwatchable': False, 'V_intrigue': False, 'V_NOTintrigue': False, 'V_average': False, 'V_NOTaverage': False, 'V_stars': False, 'V_NOTstars': False, 'V_brain': False, 'V_NOTbrain': False, 'V_twisted': False, 'V_NOTtwisted': False, 'V_popcorn': False, 'V_NOTpopcorn': False, 'V_murder': False, 'V_NOTmurder': False, 'V_tedious': False, 'V_NOTtedious': False, 'V_meditation': False, 'V_NOTmeditation': False, 'V_provocative': False, 'V_NOTprovocative': False, 'V_waste': False, 'V_NOTwaste': False, 'V_killer': False, 'V_NOTkiller': False, 'V_conventional': False, 'V_NOTconventional': False, 'V_cute': False, 'V_NOTcute': False, 'V_manipulative': False, 'V_NOTmanipulative': False, 'V_cause': False, 'V_NOTcause': False, 'V_hell': False, 'V_NOThell': False, 'V_party': False, 'V_NOTparty': False, 'V_boys': False, 'V_NOTboys': False, 'V_ms.': False, 'V_NOTms.': False, 'V_acted': False, 'V_NOTacted': False, 'V_until': False, 'V_NOTuntil': False, 'V_masterpiece': False, 'V_NOTmasterpiece': False, 'V_south': False, 'V_NOTsouth': False, 'V_effective': False, 'V_NOTeffective': False, 'V_release': False, 'V_NOTrelease': False, 'V_lacking': False, 'V_NOTlacking': False, 'V_figure': False, 'V_NOTfigure': False, 'V_sandler': False, 'V_NOTsandler': False, 'V_endearing': False, 'V_NOTendearing': False, 'V_break': False, 'V_NOTbreak': False, 'V_trouble': False, 'V_NOTtrouble': False, 'V_chemistry': False, 'V_NOTchemistry': False, 'V_usually': False, 'V_NOTusually': False, 'V_deserves': False, 'V_NOTdeserves': False, 'V_soul': False, 'V_NOTsoul': False, 'V_drag': False, 'V_NOTdrag': False, 'V_terms': False, 'V_NOTterms': False, 'V_central': False, 'V_NOTcentral': False, 'V_gross-out': False, 'V_NOTgross-out': False, 'V_society': False, 'V_NOTsociety': False, 'V_trip': False, 'V_NOTtrip': False, 'V_artistic': False, 'V_NOTartistic': False, 'V_amount': False, 'V_NOTamount': False, 'V_heavy': False, 'V_NOTheavy': False, 'V_dreams': False, 'V_NOTdreams': False, 'V_2002': False, 'V_NOT2002': False, 'V_universal': False, 'V_NOTuniversal': False, 'V_shallow': False, 'V_NOTshallow': False, 'V_greatest': False, 'V_NOTgreatest': False, 'V_intimate': False, 'V_NOTintimate': False, 'V_inspired': False, 'V_NOTinspired': False, 'V_telling': False, 'V_NOTtelling': False, 'V_rarely': False, 'V_NOTrarely': False, 'V_happy': False, 'V_NOThappy': False, 'V_lovely': False, 'V_NOTlovely': False, 'V_attempts': False, 'V_NOTattempts': False, 'V_forced': False, 'V_NOTforced': False, 'V_main': False, 'V_NOTmain': False, 'V_green': False, 'V_NOTgreen': False, 'V_allows': False, 'V_NOTallows': False, 'V_routine': False, 'V_NOTroutine': False, 'V_win': False, 'V_NOTwin': False, 'V_challenging': False, 'V_NOTchallenging': False, 'V_mother': False, 'V_NOTmother': False, 'V_delivery': False, 'V_NOTdelivery': False, 'V_hope': False, 'V_NOThope': False, 'V_politics': False, 'V_NOTpolitics': False, 'V_sets': False, 'V_NOTsets': False, 'V_particular': False, 'V_NOTparticular': False, 'V_twice': False, 'V_NOTtwice': False, 'V_conflict': False, 'V_NOTconflict': False, 'V_extreme': False, 'V_NOTextreme': False, 'V_setting': False, 'V_NOTsetting': False, 'V_captures': False, 'V_NOTcaptures': False, 'V_product': False, 'V_NOTproduct': False, 'V_faith': False, 'V_NOTfaith': False, 'V_melodramatic': False, 'V_NOTmelodramatic': False, 'V_intense': False, 'V_NOTintense': False, 'V_standard': False, 'V_NOTstandard': False, 'V_king': False, 'V_NOTking': False, 'V_witty': False, 'V_NOTwitty': False, 'V_martin': False, 'V_NOTmartin': False, 'V_sexy': False, 'V_NOTsexy': False, 'V_exciting': False, 'V_NOTexciting': False, 'V_sound': False, 'V_NOTsound': False, 'V_storyline': False, 'V_NOTstoryline': False, 'V_waiting': False, 'V_NOTwaiting': False, 'V_directors': False, 'V_NOTdirectors': False, 'V_imax': False, 'V_NOTimax': False, 'V_overcome': False, 'V_NOTovercome': False, 'V_score': False, 'V_NOTscore': False, 'V_involved': False, 'V_NOTinvolved': False, 'V_value': False, 'V_NOTvalue': False, 'V_hackneyed': False, 'V_NOThackneyed': False, 'V_apart': False, 'V_NOTapart': False, 'V_poetry': False, 'V_NOTpoetry': False, 'V_except': False, 'V_NOTexcept': False, 'V_depressing': False, 'V_NOTdepressing': False, 'V_generic': False, 'V_NOTgeneric': False, 'V_editing': False, 'V_NOTediting': False, 'V_behavior': False, 'V_NOTbehavior': False, 'V_soundtrack': False, 'V_NOTsoundtrack': False, 'V_allen': False, 'V_NOTallen': False, 'V_brothers': False, 'V_NOTbrothers': False, 'V_mark': False, 'V_NOTmark': False, 'V_puts': False, 'V_NOTputs': False, 'V_mindless': False, 'V_NOTmindless': False, 'V_terrible': False, 'V_NOTterrible': False, 'V_skill': False, 'V_NOTskill': False, 'V_definitely': False, 'V_NOTdefinitely': False, 'V_members': False, 'V_NOTmembers': False, 'V_derivative': False, 'V_NOTderivative': False, 'V_10': False, 'V_NOT10': False, 'V_lots': False, 'V_NOTlots': False, 'V_favor': False, 'V_NOTfavor': False, 'V_based': False, 'V_NOTbased': False, 'V_although': False, 'V_NOTalthough': False, 'V_doubt': False, 'V_NOTdoubt': False, 'V_industry': False, 'V_NOTindustry': False, 'V_complete': False, 'V_NOTcomplete': False, 'V_fiction': False, 'V_NOTfiction': False, 'V_yourself': False, 'V_NOTyourself': False, 'V_giving': False, 'V_NOTgiving': False, 'V_reveals': False, 'V_NOTreveals': False, 'V_brings': False, 'V_NOTbrings': False, 'V_recommend': False, 'V_NOTrecommend': False, 'V_atmosphere': False, 'V_NOTatmosphere': False, 'V_games': False, 'V_NOTgames': False, 'V_motion': False, 'V_NOTmotion': False, 'V_blade': False, 'V_NOTblade': False, 'V_clearly': False, 'V_NOTclearly': False, 'V_james': False, 'V_NOTjames': False, 'V_generation': False, 'V_NOTgeneration': False, 'V_protagonist': False, 'V_NOTprotagonist': False, 'V_extremely': False, 'V_NOTextremely': False, 'V_served': False, 'V_NOTserved': False, 'V_cinematography': False, 'V_NOTcinematography': False, 'V_zone': False, 'V_NOTzone': False, 'V_opportunity': False, 'V_NOTopportunity': False, 'V_remember': False, 'V_NOTremember': False, 'V_sick': False, 'V_NOTsick': False, 'V_match': False, 'V_NOTmatch': False, 'V_seriously': False, 'V_NOTseriously': False, 'V_heaven': False, 'V_NOTheaven': False, 'V_sequence': False, 'V_NOTsequence': False, 'V_peter': False, 'V_NOTpeter': False, 'V_attraction': False, 'V_NOTattraction': False, 'V_casting': False, 'V_NOTcasting': False, 'V_poorly': False, 'V_NOTpoorly': False, 'V_sequels': False, 'V_NOTsequels': False, 'V_foreign': False, 'V_NOTforeign': False, 'V_holiday': False, 'V_NOTholiday': False, 'V_somewhere': False, 'V_NOTsomewhere': False, 'V_step': False, 'V_NOTstep': False, 'V_wildly': False, 'V_NOTwildly': False, 'V_older': False, 'V_NOTolder': False, 'V_balance': False, 'V_NOTbalance': False, 'V_realism': False, 'V_NOTrealism': False, 'V_mainstream': False, 'V_NOTmainstream': False, 'V_budget': False, 'V_NOTbudget': False, 'V_pointless': False, 'V_NOTpointless': False, 'V_bond': False, 'V_NOTbond': False, 'V_brown': False, 'V_NOTbrown': False, 'V_said': False, 'V_NOTsaid': False, 'V_sitting': False, 'V_NOTsitting': False, 'V_ages': False, 'V_NOTages': False, 'V_sea': False, 'V_NOTsea': False, 'V_strength': False, 'V_NOTstrength': False, 'V_begins': False, 'V_NOTbegins': False, 'V_various': False, 'V_NOTvarious': False, 'V_mix': False, 'V_NOTmix': False, 'V_sounds': False, 'V_NOTsounds': False, 'V_finds': False, 'V_NOTfinds': False, 'V_public': False, 'V_NOTpublic': False, 'V_decades': False, 'V_NOTdecades': False, 'V_identity': False, 'V_NOTidentity': False, 'V_20': False, 'V_NOT20': False, 'V_sentimentality': False, 'V_NOTsentimentality': False, 'V_poetic': False, 'V_NOTpoetic': False, 'V_large': False, 'V_NOTlarge': False, 'V_stale': False, 'V_NOTstale': False, 'V_indie': False, 'V_NOTindie': False, 'V_playful': False, 'V_NOTplayful': False, 'V_third': False, 'V_NOTthird': False, 'V_delight': False, 'V_NOTdelight': False, 'V_bullock': False, 'V_NOTbullock': False, 'V_b': False, 'V_NOTb': False, 'V_wonder': False, 'V_NOTwonder': False, 'V_body': False, 'V_NOTbody': False, 'V_details': False, 'V_NOTdetails': False, 'V_empty': False, 'V_NOTempty': False, 'V_fears': False, 'V_NOTfears': False, 'V_simplistic': False, 'V_NOTsimplistic': False, 'V_hardly': False, 'V_NOThardly': False, 'V_question': False, 'V_NOTquestion': False, 'V_fare': False, 'V_NOTfare': False, 'V_voice': False, 'V_NOTvoice': False, 'V_delicate': False, 'V_NOTdelicate': False, 'V_performers': False, 'V_NOTperformers': False, 'V_century': False, 'V_NOTcentury': False, 'V_sight': False, 'V_NOTsight': False, 'V_tribute': False, 'V_NOTtribute': False, 'V_general': False, 'V_NOTgeneral': False, 'V_formulaic': False, 'V_NOTformulaic': False, 'V_quietly': False, 'V_NOTquietly': False, 'V_williams': False, 'V_NOTwilliams': False, 'V_smile': False, 'V_NOTsmile': False, 'V_add': False, 'V_NOTadd': False, 'V_comedic': False, 'V_NOTcomedic': False, 'V_commercial': False, 'V_NOTcommercial': False, 'V_essentially': False, 'V_NOTessentially': False, 'V_growing': False, 'V_NOTgrowing': False, 'V_niro': False, 'V_NOTniro': False, 'V_list': False, 'V_NOTlist': False, 'V_runs': False, 'V_NOTruns': False, 'V_course': False, 'V_NOTcourse': False, 'V_x': False, 'V_NOTx': False, 'V_national': False, 'V_NOTnational': False, 'V_chance': False, 'V_NOTchance': False, 'V_visuals': False, 'V_NOTvisuals': False, 'V_sloppy': False, 'V_NOTsloppy': False, 'V_number': False, 'V_NOTnumber': False, 'V_minor': False, 'V_NOTminor': False, 'V_sides': False, 'V_NOTsides': False, 'V_price': False, 'V_NOTprice': False, 'V_band': False, 'V_NOTband': False, 'V_talking': False, 'V_NOTtalking': False, 'V_deeper': False, 'V_NOTdeeper': False, 'V_fall': False, 'V_NOTfall': False, 'V_footage': False, 'V_NOTfootage': False, 'V_top': False, 'V_NOTtop': False, 'V_liked': False, 'V_NOTliked': False, 'V_2': False, 'V_NOT2': False, 'V_affection': False, 'V_NOTaffection': False, 'V_thrills': False, 'V_NOTthrills': False, 'V_uneven': False, 'V_NOTuneven': False, 'V_murphy': False, 'V_NOTmurphy': False, 'V_sappy': False, 'V_NOTsappy': False, 'V_struggle': False, 'V_NOTstruggle': False, 'V_vehicle': False, 'V_NOTvehicle': False, 'V_creates': False, 'V_NOTcreates': False, 'V_funniest': False, 'V_NOTfunniest': False, 'V_machine': False, 'V_NOTmachine': False, 'V_suffers': False, 'V_NOTsuffers': False, 'V_striking': False, 'V_NOTstriking': False, 'V_virtually': False, 'V_NOTvirtually': False, 'V_philosophical': False, 'V_NOTphilosophical': False, 'V_pleasant': False, 'V_NOTpleasant': False, 'V_personality': False, 'V_NOTpersonality': False, 'V_respect': False, 'V_NOTrespect': False, 'V_jackson': False, 'V_NOTjackson': False, 'V_move': False, 'V_NOTmove': False, 'V_exploration': False, 'V_NOTexploration': False, 'V_frank': False, 'V_NOTfrank': False, 'V_turned': False, 'V_NOTturned': False, 'V_studio': False, 'V_NOTstudio': False, 'V_empathy': False, 'V_NOTempathy': False, 'V_intentions': False, 'V_NOTintentions': False, 'V_worthwhile': False, 'V_NOTworthwhile': False, 'V_sports': False, 'V_NOTsports': False, 'V_forgettable': False, 'V_NOTforgettable': False, 'V_courage': False, 'V_NOTcourage': False, 'V_guilty': False, 'V_NOTguilty': False, 'V_thanks': False, 'V_NOTthanks': False, 'V_onto': False, 'V_NOTonto': False, 'V_emotion': False, 'V_NOTemotion': False, 'V_natural': False, 'V_NOTnatural': False, 'V_person': False, 'V_NOTperson': False, 'V_vampire': False, 'V_NOTvampire': False, 'V_toward': False, 'V_NOTtoward': False, 'V_persona': False, 'V_NOTpersona': False, 'V_badly': False, 'V_NOTbadly': False, 'V_hate': False, 'V_NOThate': False, 'V_fan': False, 'V_NOTfan': False, 'V_beat': False, 'V_NOTbeat': False, 'V_late': False, 'V_NOTlate': False, 'V_grief': False, 'V_NOTgrief': False, 'V_monty': False, 'V_NOTmonty': False, 'V_animal': False, 'V_NOTanimal': False, 'V_glory': False, 'V_NOTglory': False, 'V_excitement': False, 'V_NOTexcitement': False, 'V_wise': False, 'V_NOTwise': False, 'V_strangely': False, 'V_NOTstrangely': False, 'V_escape': False, 'V_NOTescape': False, 'V_failure': False, 'V_NOTfailure': False, 'V_grand': False, 'V_NOTgrand': False, 'V_save': False, 'V_NOTsave': False, 'V_starring': False, 'V_NOTstarring': False, 'V_complicated': False, 'V_NOTcomplicated': False, 'V_offensive': False, 'V_NOToffensive': False, 'V_experiences': False, 'V_NOTexperiences': False, 'V_theme': False, 'V_NOTtheme': False, 'V_subjects': False, 'V_NOTsubjects': False, 'V_heartfelt': False, 'V_NOTheartfelt': False, 'V_stock': False, 'V_NOTstock': False, 'V_answers': False, 'V_NOTanswers': False, 'V_further': False, 'V_NOTfurther': False, 'V_ordinary': False, 'V_NOTordinary': False, 'V_possibly': False, 'V_NOTpossibly': False, 'V_lesson': False, 'V_NOTlesson': False, 'V_noir': False, 'V_NOTnoir': False, 'V_spectacle': False, 'V_NOTspectacle': False, 'V_twist': False, 'V_NOTtwist': False, 'V_avoid': False, 'V_NOTavoid': False, 'V_office': False, 'V_NOToffice': False, 'V_nicely': False, 'V_NOTnicely': False, 'V_however': False, 'V_NOThowever': False, 'V_lines': False, 'V_NOTlines': False, 'V_triumph': False, 'V_NOTtriumph': False, 'V_clarity': False, 'V_NOTclarity': False, 'V_insightful': False, 'V_NOTinsightful': False, 'V_source': False, 'V_NOTsource': False, 'V_news': False, 'V_NOTnews': False, 'V_wedding': False, 'V_NOTwedding': False, 'V_holds': False, 'V_NOTholds': False, 'V_families': False, 'V_NOTfamilies': False, 'V_lived': False, 'V_NOTlived': False, 'V_whom': False, 'V_NOTwhom': False, 'V_giant': False, 'V_NOTgiant': False, 'V_basic': False, 'V_NOTbasic': False, 'V_present': False, 'V_NOTpresent': False, 'V_credits': False, 'V_NOTcredits': False, 'V_lame': False, 'V_NOTlame': False, 'V_fast': False, 'V_NOTfast': False, 'V_water': False, 'V_NOTwater': False, 'V_finding': False, 'V_NOTfinding': False, 'V_ryan': False, 'V_NOTryan': False, 'V_painfully': False, 'V_NOTpainfully': False, 'V_space': False, 'V_NOTspace': False, 'V_bears': False, 'V_NOTbears': False, 'V_free': False, 'V_NOTfree': False, 'V_involving': False, 'V_NOTinvolving': False, 'V_fear': False, 'V_NOTfear': False, 'V_frustrating': False, 'V_NOTfrustrating': False, 'V_joy': False, 'V_NOTjoy': False, 'V_aspects': False, 'V_NOTaspects': False, 'V_front': False, 'V_NOTfront': False, 'V_knowledge': False, 'V_NOTknowledge': False, 'V_leads': False, 'V_NOTleads': False, 'V_credit': False, 'V_NOTcredit': False, 'V_revolution': False, 'V_NOTrevolution': False, 'V_chase': False, 'V_NOTchase': False, 'V_document': False, 'V_NOTdocument': False, 'V_superior': False, 'V_NOTsuperior': False, 'V_community': False, 'V_NOTcommunity': False, 'V_tells': False, 'V_NOTtells': False, 'V_kevin': False, 'V_NOTkevin': False, 'V_conviction': False, 'V_NOTconviction': False, 'V_riveting': False, 'V_NOTriveting': False, 'V_son': False, 'V_NOTson': False, 'V_marks': False, 'V_NOTmarks': False, 'V_theatre': False, 'V_NOTtheatre': False, 'V_diverting': False, 'V_NOTdiverting': False, 'V_gangster': False, 'V_NOTgangster': False, 'V_superficial': False, 'V_NOTsuperficial': False, 'V_annoying': False, 'V_NOTannoying': False, 'V_stay': False, 'V_NOTstay': False, 'V_alive': False, 'V_NOTalive': False, 'V_common': False, 'V_NOTcommon': False, 'V_broken': False, 'V_NOTbroken': False, 'V_concerned': False, 'V_NOTconcerned': False, 'V_hoffman': False, 'V_NOThoffman': False, 'V_channel': False, 'V_NOTchannel': False, 'V_service': False, 'V_NOTservice': False, 'V_wars': False, 'V_NOTwars': False, 'V_b-movie': False, 'V_NOTb-movie': False, 'V_desire': False, 'V_NOTdesire': False, 'V_oddly': False, 'V_NOToddly': False, 'V_crafted': False, 'V_NOTcrafted': False, 'V_seagal': False, 'V_NOTseagal': False, 'V_efforts': False, 'V_NOTefforts': False, 'V_sheer': False, 'V_NOTsheer': False, 'V_pain': False, 'V_NOTpain': False, 'V_missing': False, 'V_NOTmissing': False, 'V_gripping': False, 'V_NOTgripping': False, 'V_condition': False, 'V_NOTcondition': False, 'V_generally': False, 'V_NOTgenerally': False, 'V_adult': False, 'V_NOTadult': False, 'V_ludicrous': False, 'V_NOTludicrous': False, 'V_die': False, 'V_NOTdie': False, 'V_hair': False, 'V_NOThair': False, 'V_devoid': False, 'V_NOTdevoid': False, 'V_longer': False, 'V_NOTlonger': False, 'V_inspiring': False, 'V_NOTinspiring': False, 'V_meaning': False, 'V_NOTmeaning': False, 'V_created': False, 'V_NOTcreated': False, 'V_grow': False, 'V_NOTgrow': False, 'V_bright': False, 'V_NOTbright': False, 'V_revealing': False, 'V_NOTrevealing': False, 'V_worked': False, 'V_NOTworked': False, 'V_holes': False, 'V_NOTholes': False, 'V_pull': False, 'V_NOTpull': False, 'V_season': False, 'V_NOTseason': False, 'V_male': False, 'V_NOTmale': False, 'V_early': False, 'V_NOTearly': False, 'V_potentially': False, 'V_NOTpotentially': False, 'V_provide': False, 'V_NOTprovide': False, 'V_genuinely': False, 'V_NOTgenuinely': False, 'V_affair': False, 'V_NOTaffair': False, 'V_remarkably': False, 'V_NOTremarkably': False, 'V_christmas': False, 'V_NOTchristmas': False, 'V_onscreen': False, 'V_NOTonscreen': False, 'V_frequently': False, 'V_NOTfrequently': False, 'V_signs': False, 'V_NOTsigns': False, 'V_intensity': False, 'V_NOTintensity': False, 'V_please': False, 'V_NOTplease': False, 'V_stunning': False, 'V_NOTstunning': False, 'V_analyze': False, 'V_NOTanalyze': False, 'V_glimpse': False, 'V_NOTglimpse': False, 'V_revenge': False, 'V_NOTrevenge': False, 'V_weak': False, 'V_NOTweak': False, 'V_spark': False, 'V_NOTspark': False, 'V_spent': False, 'V_NOTspent': False, 'V_indian': False, 'V_NOTindian': False, 'V_screenwriter': False, 'V_NOTscreenwriter': False, 'V_chilling': False, 'V_NOTchilling': False, 'V_visceral': False, 'V_NOTvisceral': False, 'V_kissinger': False, 'V_NOTkissinger': False, 'V_snow': False, 'V_NOTsnow': False, 'V_graphic': False, 'V_NOTgraphic': False, 'V_needed': False, 'V_NOTneeded': False, 'V_filled': False, 'V_NOTfilled': False, 'V_park': False, 'V_NOTpark': False, 'V_soderbergh': False, 'V_NOTsoderbergh': False, 'V_apparent': False, 'V_NOTapparent': False, 'V_mayhem': False, 'V_NOTmayhem': False, 'V_vivid': False, 'V_NOTvivid': False, 'V_energetic': False, 'V_NOTenergetic': False, 'V_meandering': False, 'V_NOTmeandering': False, 'V_commentary': False, 'V_NOTcommentary': False, 'V_treat': False, 'V_NOTtreat': False, 'V_check': False, 'V_NOTcheck': False, 'V_stage': False, 'V_NOTstage': False, 'V_fantastic': False, 'V_NOTfantastic': False, 'V_hot': False, 'V_NOThot': False, 'V_relatively': False, 'V_NOTrelatively': False, 'V_god': False, 'V_NOTgod': False, 'V_hearts': False, 'V_NOThearts': False, 'V_raw': False, 'V_NOTraw': False, 'V_perhaps': False, 'V_NOTperhaps': False, 'V_extraordinary': False, 'V_NOTextraordinary': False, 'V_homage': False, 'V_NOThomage': False, 'V_wait': False, 'V_NOTwait': False, 'V_refreshing': False, 'V_NOTrefreshing': False, 'V_mixed': False, 'V_NOTmixed': False, 'V_guns': False, 'V_NOTguns': False, 'V_soon': False, 'V_NOTsoon': False, 'V_whatever': False, 'V_NOTwhatever': False, 'V_length': False, 'V_NOTlength': False, 'V_beneath': False, 'V_NOTbeneath': False, 'V_blue': False, 'V_NOTblue': False, 'V_dvd': False, 'V_NOTdvd': False, 'V_saturday': False, 'V_NOTsaturday': False, 'V_joke': False, 'V_NOTjoke': False, 'V_hopeful': False, 'V_NOThopeful': False, 'V_ice': False, 'V_NOTice': False, 'V_songs': False, 'V_NOTsongs': False, 'V_modest': False, 'V_NOTmodest': False, 'V_humour': False, 'V_NOThumour': False, 'V_street': False, 'V_NOTstreet': False, 'V_largely': False, 'V_NOTlargely': False, 'V_knowing': False, 'V_NOTknowing': False, 'V_unusual': False, 'V_NOTunusual': False, 'V_realistic': False, 'V_NOTrealistic': False, 'V_lets': False, 'V_NOTlets': False, 'V_dreary': False, 'V_NOTdreary': False, 'V_ground': False, 'V_NOTground': False, 'V_poignant': False, 'V_NOTpoignant': False, 'V_faster': False, 'V_NOTfaster': False, 'V_humorous': False, 'V_NOThumorous': False, 'V_record': False, 'V_NOTrecord': False, 'V_shame': False, 'V_NOTshame': False, 'V_wry': False, 'V_NOTwry': False, 'V_shake': False, 'V_NOTshake': False, 'V_finish': False, 'V_NOTfinish': False, 'V_bitter': False, 'V_NOTbitter': False, 'V_inevitable': False, 'V_NOTinevitable': False, 'V_teenage': False, 'V_NOTteenage': False, 'V_tiresome': False, 'V_NOTtiresome': False, 'V_talents': False, 'V_NOTtalents': False, 'V_italian': False, 'V_NOTitalian': False, 'V_heard': False, 'V_NOTheard': False, 'V_originality': False, 'V_NOToriginality': False, 'V_surface': False, 'V_NOTsurface': False, 'V_promising': False, 'V_NOTpromising': False, 'V_totally': False, 'V_NOTtotally': False, 'V_group': False, 'V_NOTgroup': False, 'V_bits': False, 'V_NOTbits': False, 'V_ask': False, 'V_NOTask': False, 'V_mere': False, 'V_NOTmere': False, 'V_father': False, 'V_NOTfather': False, 'V_released': False, 'V_NOTreleased': False, 'V_disaster': False, 'V_NOTdisaster': False, 'V_fight': False, 'V_NOTfight': False, 'V_deadly': False, 'V_NOTdeadly': False, 'V_drive': False, 'V_NOTdrive': False, 'V_values': False, 'V_NOTvalues': False, 'V_produced': False, 'V_NOTproduced': False, 'V_fatal': False, 'V_NOTfatal': False, 'V_farce': False, 'V_NOTfarce': False, 'V_expected': False, 'V_NOTexpected': False, 'V_fashion': False, 'V_NOTfashion': False, 'V_traditional': False, 'V_NOTtraditional': False, 'V_directorial': False, 'V_NOTdirectorial': False, 'V_levels': False, 'V_NOTlevels': False, 'V_moviegoers': False, 'V_NOTmoviegoers': False, 'V_treasure': False, 'V_NOTtreasure': False, 'V_artificial': False, 'V_NOTartificial': False, 'V_filmed': False, 'V_NOTfilmed': False, 'V_low-budget': False, 'V_NOTlow-budget': False, 'V_directing': False, 'V_NOTdirecting': False, 'V_theaters': False, 'V_NOTtheaters': False, 'V_false': False, 'V_NOTfalse': False, 'V_haunting': False, 'V_NOThaunting': False, 'V_quickly': False, 'V_NOTquickly': False, 'V_sadness': False, 'V_NOTsadness': False, 'V_hip': False, 'V_NOThip': False, 'V_musical': False, 'V_NOTmusical': False, 'V_numbers': False, 'V_NOTnumbers': False, 'V_admirable': False, 'V_NOTadmirable': False, 'V_including': False, 'V_NOTincluding': False, 'V_presence': False, 'V_NOTpresence': False, 'V_shoot': False, 'V_NOTshoot': False, 'V_solondz': False, 'V_NOTsolondz': False, 'V_chris': False, 'V_NOTchris': False, 'V_acts': False, 'V_NOTacts': False, 'V_self-conscious': False, 'V_NOTself-conscious': False, 'V_consistently': False, 'V_NOTconsistently': False, 'V_speaking': False, 'V_NOTspeaking': False, 'V_screenwriting': False, 'V_NOTscreenwriting': False, 'V_child': False, 'V_NOTchild': False, 'V_lazy': False, 'V_NOTlazy': False, 'V_imaginative': False, 'V_NOTimaginative': False, 'V_tiny': False, 'V_NOTtiny': False, 'V_bunch': False, 'V_NOTbunch': False, 'V_folks': False, 'V_NOTfolks': False, 'V_provides': False, 'V_NOTprovides': False, 'V_determined': False, 'V_NOTdetermined': False, 'V_nasty': False, 'V_NOTnasty': False, 'V_damage': False, 'V_NOTdamage': False, 'V_structure': False, 'V_NOTstructure': False, 'V_japanese': False, 'V_NOTjapanese': False, 'V_downright': False, 'V_NOTdownright': False, 'V_changing': False, 'V_NOTchanging': False, 'V_retread': False, 'V_NOTretread': False, 'V_open': False, 'V_NOTopen': False, 'V_sitcom': False, 'V_NOTsitcom': False, 'V_chinese': False, 'V_NOTchinese': False, 'V_degree': False, 'V_NOTdegree': False, 'V_endless': False, 'V_NOTendless': False, 'V_appear': False, 'V_NOTappear': False, 'V_team': False, 'V_NOTteam': False, 'V_tender': False, 'V_NOTtender': False, 'V_outrageous': False, 'V_NOToutrageous': False, 'V_appears': False, 'V_NOTappears': False, 'V_territory': False, 'V_NOTterritory': False, 'V_teenagers': False, 'V_NOTteenagers': False, 'V_crimes': False, 'V_NOTcrimes': False, 'V_brought': False, 'V_NOTbrought': False, 'V_sum': False, 'V_NOTsum': False, 'V_superb': False, 'V_NOTsuperb': False, 'V_detail': False, 'V_NOTdetail': False, 'V_fat': False, 'V_NOTfat': False, 'V_adam': False, 'V_NOTadam': False, 'V_ridiculous': False, 'V_NOTridiculous': False, 'V_pack': False, 'V_NOTpack': False, 'V_irritating': False, 'V_NOTirritating': False, 'V_intellectual': False, 'V_NOTintellectual': False, 'V_proceedings': False, 'V_NOTproceedings': False, 'V_happens': False, 'V_NOThappens': False, 'V_opening': False, 'V_NOTopening': False, 'V_science': False, 'V_NOTscience': False, 'V_absorbing': False, 'V_NOTabsorbing': False, 'V_prove': False, 'V_NOTprove': False, 'V_devastating': False, 'V_NOTdevastating': False, 'V_police': False, 'V_NOTpolice': False, 'V_angst': False, 'V_NOTangst': False, 'V_mention': False, 'V_NOTmention': False, 'V_cult': False, 'V_NOTcult': False, 'V_absolutely': False, 'V_NOTabsolutely': False, 'V_well-made': False, 'V_NOTwell-made': False, 'V_blair': False, 'V_NOTblair': False, 'V_necessary': False, 'V_NOTnecessary': False, 'V_bore': False, 'V_NOTbore': False, 'V_fisher': False, 'V_NOTfisher': False, 'V_jack': False, 'V_NOTjack': False, 'V_quick': False, 'V_NOTquick': False, 'V_incredibly': False, 'V_NOTincredibly': False, 'V_computer': False, 'V_NOTcomputer': False, 'V_excuse': False, 'V_NOTexcuse': False, 'V_lee': False, 'V_NOTlee': False, 'V_type': False, 'V_NOTtype': False, 'V_flair': False, 'V_NOTflair': False, 'V_frightening': False, 'V_NOTfrightening': False, 'V_development': False, 'V_NOTdevelopment': False, 'V_rush': False, 'V_NOTrush': False, 'V_unlikely': False, 'V_NOTunlikely': False, 'V_spooky': False, 'V_NOTspooky': False, 'V_horrible': False, 'V_NOThorrible': False, 'V_shocking': False, 'V_NOTshocking': False, 'V_dirty': False, 'V_NOTdirty': False, 'V_husband': False, 'V_NOThusband': False, 'V_violent': False, 'V_NOTviolent': False, 'V_rhythms': False, 'V_NOTrhythms': False, 'V_reach': False, 'V_NOTreach': False, 'V_dazzling': False, 'V_NOTdazzling': False, 'V_amateurish': False, 'V_NOTamateurish': False, 'V_imagery': False, 'V_NOTimagery': False, 'V_maudlin': False, 'V_NOTmaudlin': False, 'V_confusing': False, 'V_NOTconfusing': False, 'V_slice': False, 'V_NOTslice': False, 'V_loses': False, 'V_NOTloses': False, 'V_hip-hop': False, 'V_NOThip-hop': False, 'V_unnecessary': False, 'V_NOTunnecessary': False, 'V_notice': False, 'V_NOTnotice': False, 'V_yarn': False, 'V_NOTyarn': False, 'V_missed': False, 'V_NOTmissed': False, 'V_deliver': False, 'V_NOTdeliver': False, 'V_wacky': False, 'V_NOTwacky': False, 'V_reading': False, 'V_NOTreading': False, 'V_repetitive': False, 'V_NOTrepetitive': False, 'V_path': False, 'V_NOTpath': False, 'V_effect': False, 'V_NOTeffect': False, 'V_leaving': False, 'V_NOTleaving': False, 'V_camp': False, 'V_NOTcamp': False, 'V_weight': False, 'V_NOTweight': False, 'V_trademark': False, 'V_NOTtrademark': False, 'V_literary': False, 'V_NOTliterary': False, 'V_witch': False, 'V_NOTwitch': False, 'V_detailed': False, 'V_NOTdetailed': False, 'V_exquisite': False, 'V_NOTexquisite': False, 'V_wonderfully': False, 'V_NOTwonderfully': False, 'V_tough': False, 'V_NOTtough': False, 'V_horrifying': False, 'V_NOThorrifying': False, 'V_hands': False, 'V_NOThands': False, 'V_digital': False, 'V_NOTdigital': False, 'V_first-rate': False, 'V_NOTfirst-rate': False, 'V_americans': False, 'V_NOTamericans': False, 'V_biting': False, 'V_NOTbiting': False, 'V_weeks': False, 'V_NOTweeks': False, 'V_results': False, 'V_NOTresults': False, 'V_paid': False, 'V_NOTpaid': False, 'V_lady': False, 'V_NOTlady': False, 'V_makers': False, 'V_NOTmakers': False, 'V_wasted': False, 'V_NOTwasted': False, 'V_odds': False, 'V_NOTodds': False, 'V_tear': False, 'V_NOTtear': False, 'V_succeeds': False, 'V_NOTsucceeds': False, 'V_plotting': False, 'V_NOTplotting': False, 'V_thinks': False, 'V_NOTthinks': False, 'V_profound': False, 'V_NOTprofound': False, 'V_happened': False, 'V_NOThappened': False, 'V_rendered': False, 'V_NOTrendered': False, 'V_reno': False, 'V_NOTreno': False, 'V_ahead': False, 'V_NOTahead': False, 'V_creating': False, 'V_NOTcreating': False, 'V_observations': False, 'V_NOTobservations': False, 'V_event': False, 'V_NOTevent': False, 'V_forgive': False, 'V_NOTforgive': False, 'V_designed': False, 'V_NOTdesigned': False, 'V_finale': False, 'V_NOTfinale': False, 'V_cruel': False, 'V_NOTcruel': False, 'V_fate': False, 'V_NOTfate': False, 'V_standards': False, 'V_NOTstandards': False, 'V_friday': False, 'V_NOTfriday': False, 'V_mile': False, 'V_NOTmile': False, 'V_wave': False, 'V_NOTwave': False, 'V_blood': False, 'V_NOTblood': False, 'V_combination': False, 'V_NOTcombination': False, 'V_supporting': False, 'V_NOTsupporting': False, 'V_amazing': False, 'V_NOTamazing': False, 'V_wilde': False, 'V_NOTwilde': False, 'V_mesmerizing': False, 'V_NOTmesmerizing': False, 'V_outside': False, 'V_NOToutside': False, 'V_shock': False, 'V_NOTshock': False, 'V_limited': False, 'V_NOTlimited': False, 'V_color': False, 'V_NOTcolor': False, 'V_suffering': False, 'V_NOTsuffering': False, 'V_jones': False, 'V_NOTjones': False, 'V_comfortable': False, 'V_NOTcomfortable': False, 'V_pat': False, 'V_NOTpat': False, 'V_trick': False, 'V_NOTtrick': False, 'V_villain': False, 'V_NOTvillain': False, 'V_bite': False, 'V_NOTbite': False, 'V_despair': False, 'V_NOTdespair': False, 'V_credible': False, 'V_NOTcredible': False, 'V_lawrence': False, 'V_NOTlawrence': False, 'V_increasingly': False, 'V_NOTincreasingly': False, 'V_overly': False, 'V_NOToverly': False, 'V_cheesy': False, 'V_NOTcheesy': False, 'V_dangerous': False, 'V_NOTdangerous': False, 'V_forgotten': False, 'V_NOTforgotten': False, 'V_realized': False, 'V_NOTrealized': False, 'V_predecessor': False, 'V_NOTpredecessor': False, 'V_landscape': False, 'V_NOTlandscape': False, 'V_straightforward': False, 'V_NOTstraightforward': False, 'V_near': False, 'V_NOTnear': False, 'V_powers': False, 'V_NOTpowers': False, 'V_real-life': False, 'V_NOTreal-life': False, 'V_con': False, 'V_NOTcon': False, 'V_dealing': False, 'V_NOTdealing': False, 'V_pulls': False, 'V_NOTpulls': False, 'V_spend': False, 'V_NOTspend': False, 'V_compassion': False, 'V_NOTcompassion': False, 'V_state': False, 'V_NOTstate': False, 'V_exotic': False, 'V_NOTexotic': False, 'V_choices': False, 'V_NOTchoices': False, 'V_theatrical': False, 'V_NOTtheatrical': False, 'V_earth': False, 'V_NOTearth': False, 'V_terrifying': False, 'V_NOTterrifying': False, 'V_unpleasant': False, 'V_NOTunpleasant': False, 'V_abstract': False, 'V_NOTabstract': False, 'V_paced': False, 'V_NOTpaced': False, 'V_messages': False, 'V_NOTmessages': False, 'V_gradually': False, 'V_NOTgradually': False, 'V_fill': False, 'V_NOTfill': False, 'V_curiosity': False, 'V_NOTcuriosity': False, 'V_hits': False, 'V_NOThits': False, 'V_inept': False, 'V_NOTinept': False, 'V_sign': False, 'V_NOTsign': False, 'V_planet': False, 'V_NOTplanet': False, 'V_charisma': False, 'V_NOTcharisma': False, 'V_pathetic': False, 'V_NOTpathetic': False, 'V_song': False, 'V_NOTsong': False, 'V_undeniably': False, 'V_NOTundeniably': False, 'V_laughing': False, 'V_NOTlaughing': False, 'V_impression': False, 'V_NOTimpression': False, 'V_somber': False, 'V_NOTsomber': False, 'V_subtlety': False, 'V_NOTsubtlety': False, 'V_corner': False, 'V_NOTcorner': False, 'V_evocative': False, 'V_NOTevocative': False, 'V_rip-off': False, 'V_NOTrip-off': False, 'V_madness': False, 'V_NOTmadness': False, 'V_pass': False, 'V_NOTpass': False, 'V_willing': False, 'V_NOTwilling': False, 'V_davis': False, 'V_NOTdavis': False, 'V_ticket': False, 'V_NOTticket': False, 'V_understanding': False, 'V_NOTunderstanding': False, 'V_metaphor': False, 'V_NOTmetaphor': False, 'V_iranian': False, 'V_NOTiranian': False, 'V_drug': False, 'V_NOTdrug': False, 'V_count': False, 'V_NOTcount': False, 'V_darker': False, 'V_NOTdarker': False, 'V_saying': False, 'V_NOTsaying': False, 'V_crisp': False, 'V_NOTcrisp': False, 'V_cynical': False, 'V_NOTcynical': False, 'V_went': False, 'V_NOTwent': False, 'V_crush': False, 'V_NOTcrush': False, 'V_burns': False, 'V_NOTburns': False, 'V_serves': False, 'V_NOTserves': False, 'V_gifted': False, 'V_NOTgifted': False, 'V_nostalgia': False, 'V_NOTnostalgia': False, 'V_eventually': False, 'V_NOTeventually': False, 'V_beginning': False, 'V_NOTbeginning': False, 'V_sympathy': False, 'V_NOTsympathy': False, 'V_bottom': False, 'V_NOTbottom': False, 'V_presents': False, 'V_NOTpresents': False, 'V_kong': False, 'V_NOTkong': False, 'V_paul': False, 'V_NOTpaul': False, 'V_within': False, 'V_NOTwithin': False, \"V_'em\": False, \"V_NOT'em\": False, 'V_belly': False, 'V_NOTbelly': False, 'V_connect': False, 'V_NOTconnect': False, 'V_justify': False, 'V_NOTjustify': False, 'V_started': False, 'V_NOTstarted': False, 'V_logic': False, 'V_NOTlogic': False, 'V_achievement': False, 'V_NOTachievement': False, 'V_holocaust': False, 'V_NOTholocaust': False, 'V_ambition': False, 'V_NOTambition': False, 'V_payoff': False, 'V_NOTpayoff': False, 'V_cross': False, 'V_NOTcross': False, 'V_cliched': False, 'V_NOTcliched': False, 'V_capable': False, 'V_NOTcapable': False, 'V_stereotypes': False, 'V_NOTstereotypes': False, 'V_timely': False, 'V_NOTtimely': False, 'V_dance': False, 'V_NOTdance': False, 'V_creativity': False, 'V_NOTcreativity': False, 'V_realize': False, 'V_NOTrealize': False, 'V_precious': False, 'V_NOTprecious': False, 'V_choose': False, 'V_NOTchoose': False, 'V_benigni': False, 'V_NOTbenigni': False, 'V_washington': False, 'V_NOTwashington': False, 'V_vulgar': False, 'V_NOTvulgar': False, 'V_daring': False, 'V_NOTdaring': False, 'V_dawson': False, 'V_NOTdawson': False, 'V_friends': False, 'V_NOTfriends': False, 'V_schneider': False, 'V_NOTschneider': False, 'V_rhythm': False, 'V_NOTrhythm': False, 'V_poem': False, 'V_NOTpoem': False, 'V_collection': False, 'V_NOTcollection': False, 'V_mild': False, 'V_NOTmild': False, 'V_excess': False, 'V_NOTexcess': False, 'V_manhattan': False, 'V_NOTmanhattan': False, 'V_charms': False, 'V_NOTcharms': False, 'V_offering': False, 'V_NOToffering': False, 'V_adolescent': False, 'V_NOTadolescent': False, 'V_memories': False, 'V_NOTmemories': False, 'V_roger': False, 'V_NOTroger': False, 'V_refreshingly': False, 'V_NOTrefreshingly': False, 'V_flashy': False, 'V_NOTflashy': False, 'V_van': False, 'V_NOTvan': False, 'V_assured': False, 'V_NOTassured': False, 'V_ghost': False, 'V_NOTghost': False, 'V_total': False, 'V_NOTtotal': False, 'V_stuck': False, 'V_NOTstuck': False, 'V_shooting': False, 'V_NOTshooting': False, 'V_britney': False, 'V_NOTbritney': False, 'V_life-affirming': False, 'V_NOTlife-affirming': False, 'V_fake': False, 'V_NOTfake': False, 'V_dysfunctional': False, 'V_NOTdysfunctional': False, 'V_9': False, 'V_NOT9': False, 'V_low-key': False, 'V_NOTlow-key': False, 'V_affecting': False, 'V_NOTaffecting': False, 'V_belt': False, 'V_NOTbelt': False, 'V_bleak': False, 'V_NOTbleak': False, 'V_features': False, 'V_NOTfeatures': False, 'V_admire': False, 'V_NOTadmire': False, 'V_exhilarating': False, 'V_NOTexhilarating': False, 'V_cloying': False, 'V_NOTcloying': False, 'V_fair': False, 'V_NOTfair': False, 'V_yes': False, 'V_NOTyes': False, 'V_actresses': False, 'V_NOTactresses': False, 'V_english': False, 'V_NOTenglish': False, 'V_satirical': False, 'V_NOTsatirical': False, 'V_carries': False, 'V_NOTcarries': False, 'V_moviemaking': False, 'V_NOTmoviemaking': False, 'V_fish': False, 'V_NOTfish': False, 'V_rental': False, 'V_NOTrental': False, 'V_frida': False, 'V_NOTfrida': False, 'V_blend': False, 'V_NOTblend': False, 'V_crude': False, 'V_NOTcrude': False, 'V_killed': False, 'V_NOTkilled': False, 'V_string': False, 'V_NOTstring': False, 'V_appreciate': False, 'V_NOTappreciate': False, 'V_niche': False, 'V_NOTniche': False, 'V_tortured': False, 'V_NOTtortured': False, 'V_deft': False, 'V_NOTdeft': False, 'V_bag': False, 'V_NOTbag': False, 'V_notion': False, 'V_NOTnotion': False, 'V_buy': False, 'V_NOTbuy': False, 'V_awkward': False, 'V_NOTawkward': False, 'V_urge': False, 'V_NOTurge': False, 'V_distance': False, 'V_NOTdistance': False, 'V_heartwarming': False, 'V_NOTheartwarming': False, 'V_delivered': False, 'V_NOTdelivered': False, 'V_brutally': False, 'V_NOTbrutally': False, 'V_thousands': False, 'V_NOTthousands': False, 'V_simultaneously': False, 'V_NOTsimultaneously': False, 'V_week': False, 'V_NOTweek': False, 'V_achieves': False, 'V_NOTachieves': False, 'V_sake': False, 'V_NOTsake': False, 'V_quest': False, 'V_NOTquest': False, 'V_capture': False, 'V_NOTcapture': False, 'V_mature': False, 'V_NOTmature': False, 'V_parts': False, 'V_NOTparts': False, 'V_thought-provoking': False, 'V_NOTthought-provoking': False, 'V_scorsese': False, 'V_NOTscorsese': False, 'V_overwrought': False, 'V_NOToverwrought': False, 'V_indeed': False, 'V_NOTindeed': False, 'V_insights': False, 'V_NOTinsights': False, 'V_somehow': False, 'V_NOTsomehow': False, 'V_larger': False, 'V_NOTlarger': False, 'V_stand-up': False, 'V_NOTstand-up': False, 'V_nightmare': False, 'V_NOTnightmare': False, 'V_suspenseful': False, 'V_NOTsuspenseful': False, 'V_explore': False, 'V_NOTexplore': False, 'V_desperate': False, 'V_NOTdesperate': False, 'V_younger': False, 'V_NOTyounger': False, 'V_tradition': False, 'V_NOTtradition': False, 'V_kaufman': False, 'V_NOTkaufman': False, 'V_harrowing': False, 'V_NOTharrowing': False, 'V_meaningful': False, 'V_NOTmeaningful': False, 'V_example': False, 'V_NOTexample': False, 'V_race': False, 'V_NOTrace': False, \"V_'70s\": False, \"V_NOT'70s\": False, 'V_over-the-top': False, 'V_NOTover-the-top': False, 'V_represents': False, 'V_NOTrepresents': False, 'V_essence': False, 'V_NOTessence': False, 'V_private': False, 'V_NOTprivate': False, 'V_preachy': False, 'V_NOTpreachy': False, 'V_bittersweet': False, 'V_NOTbittersweet': False, 'V_inspiration': False, 'V_NOTinspiration': False, 'V_grandeur': False, 'V_NOTgrandeur': False, 'V_victims': False, 'V_NOTvictims': False, 'V_bother': False, 'V_NOTbother': False, 'V_played': False, 'V_NOTplayed': False, 'V_childhood': False, 'V_NOTchildhood': False, 'V_faithful': False, 'V_NOTfaithful': False, 'V_secrets': False, 'V_NOTsecrets': False, 'V_nowhere': False, 'V_NOTnowhere': False, 'V_woo': False, 'V_NOTwoo': False, 'V_sane': False, 'V_NOTsane': False, 'V_broomfield': False, 'V_NOTbroomfield': False, 'V_sand': False, 'V_NOTsand': False, 'V_deserve': False, 'V_NOTdeserve': False, 'V_looked': False, 'V_NOTlooked': False, 'V_engaged': False, 'V_NOTengaged': False, 'V_stomach': False, 'V_NOTstomach': False, 'V_well-meaning': False, 'V_NOTwell-meaning': False, 'V_happiness': False, 'V_NOThappiness': False, 'V_lyrical': False, 'V_NOTlyrical': False, 'V_roll': False, 'V_NOTroll': False, 'V_resonant': False, 'V_NOTresonant': False, 'V_lousy': False, 'V_NOTlousy': False, 'V_warning': False, 'V_NOTwarning': False, 'V_cliche': False, 'V_NOTcliche': False, 'V_soldiers': False, 'V_NOTsoldiers': False, 'V_charismatic': False, 'V_NOTcharismatic': False, 'V_15': False, 'V_NOT15': False, 'V_poignancy': False, 'V_NOTpoignancy': False, 'V_positive': False, 'V_NOTpositive': False, 'V_technology': False, 'V_NOTtechnology': False, 'V_accessible': False, 'V_NOTaccessible': False, 'V_inner': False, 'V_NOTinner': False, 'V_cleverly': False, 'V_NOTcleverly': False, 'V_discovery': False, 'V_NOTdiscovery': False, 'V_resonance': False, 'V_NOTresonance': False, 'V_thick': False, 'V_NOTthick': False, 'V_pair': False, 'V_NOTpair': False, 'V_dignity': False, 'V_NOTdignity': False, 'V_players': False, 'V_NOTplayers': False, 'V_greek': False, 'V_NOTgreek': False, 'V_irish': False, 'V_NOTirish': False, 'V_strain': False, 'V_NOTstrain': False, 'V_variety': False, 'V_NOTvariety': False, 'V_happening': False, 'V_NOThappening': False, 'V_laughter': False, 'V_NOTlaughter': False, 'V_roots': False, 'V_NOTroots': False, 'V_addition': False, 'V_NOTaddition': False, 'V_roles': False, 'V_NOTroles': False, 'V_pick': False, 'V_NOTpick': False, 'V_miss': False, 'V_NOTmiss': False, 'V_sentiment': False, 'V_NOTsentiment': False, 'V_hong': False, 'V_NOThong': False, 'V_sell': False, 'V_NOTsell': False, 'V_feel-good': False, 'V_NOTfeel-good': False, 'V_resist': False, 'V_NOTresist': False, 'V_reasonably': False, 'V_NOTreasonably': False, 'V_quirks': False, 'V_NOTquirks': False, 'V_equivalent': False, 'V_NOTequivalent': False, 'V_respectable': False, 'V_NOTrespectable': False, 'V_gag': False, 'V_NOTgag': False, 'V_frustration': False, 'V_NOTfrustration': False, 'V_demands': False, 'V_NOTdemands': False, 'V_cell': False, 'V_NOTcell': False, 'V_follow': False, 'V_NOTfollow': False, 'V_eccentric': False, 'V_NOTeccentric': False, 'V_accomplished': False, 'V_NOTaccomplished': False, 'V_creation': False, 'V_NOTcreation': False, 'V_shadows': False, 'V_NOTshadows': False, 'V_banal': False, 'V_NOTbanal': False, 'V_leaden': False, 'V_NOTleaden': False, 'V_trek': False, 'V_NOTtrek': False, 'V_merit': False, 'V_NOTmerit': False, 'V_halfway': False, 'V_NOThalfway': False, 'V_buoyant': False, 'V_NOTbuoyant': False, 'V_marriage': False, 'V_NOTmarriage': False, 'V_afraid': False, 'V_NOTafraid': False, 'V_offbeat': False, 'V_NOToffbeat': False, 'V_spears': False, 'V_NOTspears': False, 'V_carried': False, 'V_NOTcarried': False, 'V_current': False, 'V_NOTcurrent': False, 'V_matinee': False, 'V_NOTmatinee': False, 'V_connection': False, 'V_NOTconnection': False, 'V_reign': False, 'V_NOTreign': False, 'V_tears': False, 'V_NOTtears': False, 'V_center': False, 'V_NOTcenter': False, 'V_utter': False, 'V_NOTutter': False, 'V_cautionary': False, 'V_NOTcautionary': False, 'V_harry': False, 'V_NOTharry': False, 'V_return': False, 'V_NOTreturn': False, 'V_turning': False, 'V_NOTturning': False, 'V_pic': False, 'V_NOTpic': False, 'V_elegant': False, 'V_NOTelegant': False, 'V_mistake': False, 'V_NOTmistake': False, 'V_scenario': False, 'V_NOTscenario': False, 'V_mixture': False, 'V_NOTmixture': False, 'V_content': False, 'V_NOTcontent': False, 'V_showtime': False, 'V_NOTshowtime': False, 'V_midnight': False, 'V_NOTmidnight': False, 'V_grows': False, 'V_NOTgrows': False, 'V_reel': False, 'V_NOTreel': False, 'V_fighting': False, 'V_NOTfighting': False, 'V_substantial': False, 'V_NOTsubstantial': False, 'V_award': False, 'V_NOTaward': False, 'V_walk': False, 'V_NOTwalk': False, 'V_spare': False, 'V_NOTspare': False, 'V_dedication': False, 'V_NOTdedication': False, 'V_cost': False, 'V_NOTcost': False, 'V_similar': False, 'V_NOTsimilar': False, 'V_harmless': False, 'V_NOTharmless': False, 'V_contrivances': False, 'V_NOTcontrivances': False, 'V_books': False, 'V_NOTbooks': False, 'V_entertain': False, 'V_NOTentertain': False, 'V_listless': False, 'V_NOTlistless': False, 'V_handsome': False, 'V_NOThandsome': False, 'V_ya-ya': False, 'V_NOTya-ya': False, 'V_moves': False, 'V_NOTmoves': False, 'V_absurd': False, 'V_NOTabsurd': False, 'V_moore': False, 'V_NOTmoore': False, 'V_relentlessly': False, 'V_NOTrelentlessly': False, 'V_remain': False, 'V_NOTremain': False, 'V_southern': False, 'V_NOTsouthern': False, 'V_phones': False, 'V_NOTphones': False, 'V_movements': False, 'V_NOTmovements': False, 'V_crass': False, 'V_NOTcrass': False, 'V_emerges': False, 'V_NOTemerges': False, 'V_desperation': False, 'V_NOTdesperation': False, 'V_grab': False, 'V_NOTgrab': False, 'V_context': False, 'V_NOTcontext': False, 'V_vital': False, 'V_NOTvital': False, 'V_chilly': False, 'V_NOTchilly': False, 'V_fights': False, 'V_NOTfights': False, 'V_image': False, 'V_NOTimage': False, 'V_result': False, 'V_NOTresult': False, 'V_drugs': False, 'V_NOTdrugs': False, 'V_loved': False, 'V_NOTloved': False, 'V_showing': False, 'V_NOTshowing': False, 'V_handful': False, 'V_NOThandful': False, 'V_land': False, 'V_NOTland': False, 'V_clumsy': False, 'V_NOTclumsy': False, 'V_polanski': False, 'V_NOTpolanski': False, 'V_kiddie': False, 'V_NOTkiddie': False, 'V_extended': False, 'V_NOTextended': False, 'V_plodding': False, 'V_NOTplodding': False, 'V_friend': False, 'V_NOTfriend': False, 'V_innocence': False, 'V_NOTinnocence': False, 'V_plotted': False, 'V_NOTplotted': False, 'V_pleasures': False, 'V_NOTpleasures': False, 'V_seven': False, 'V_NOTseven': False, 'V_relies': False, 'V_NOTrelies': False, 'V_mouth': False, 'V_NOTmouth': False, 'V_daily': False, 'V_NOTdaily': False, 'V_after-school': False, 'V_NOTafter-school': False, 'V_nation': False, 'V_NOTnation': False, 'V_sketch': False, 'V_NOTsketch': False, 'V_focus': False, 'V_NOTfocus': False, 'V_sweeping': False, 'V_NOTsweeping': False, 'V_scratch': False, 'V_NOTscratch': False, 'V_brother': False, 'V_NOTbrother': False, 'V_fly': False, 'V_NOTfly': False, 'V_background': False, 'V_NOTbackground': False, 'V_psychology': False, 'V_NOTpsychology': False, 'V_obnoxious': False, 'V_NOTobnoxious': False, 'V_dramatically': False, 'V_NOTdramatically': False, 'V_mysterious': False, 'V_NOTmysterious': False, 'V_dish': False, 'V_NOTdish': False, 'V_neat': False, 'V_NOTneat': False, 'V_minds': False, 'V_NOTminds': False, 'V_crap': False, 'V_NOTcrap': False, 'V_vincent': False, 'V_NOTvincent': False, 'V_category': False, 'V_NOTcategory': False, 'V_spell': False, 'V_NOTspell': False, 'V_stunts': False, 'V_NOTstunts': False, 'V_locations': False, 'V_NOTlocations': False, 'V_attractive': False, 'V_NOTattractive': False, 'V_depiction': False, 'V_NOTdepiction': False, 'V_figures': False, 'V_NOTfigures': False, 'V_santa': False, 'V_NOTsanta': False, 'V_chaotic': False, 'V_NOTchaotic': False, 'V_learn': False, 'V_NOTlearn': False, 'V_fancy': False, 'V_NOTfancy': False, 'V_eight': False, 'V_NOTeight': False, 'V_term': False, 'V_NOTterm': False, 'V_rob': False, 'V_NOTrob': False, 'V_authentic': False, 'V_NOTauthentic': False, 'V_obsession': False, 'V_NOTobsession': False, 'V_market': False, 'V_NOTmarket': False, 'V_glass': False, 'V_NOTglass': False, 'V_bigger': False, 'V_NOTbigger': False, 'V_endeavor': False, 'V_NOTendeavor': False, 'V_anne': False, 'V_NOTanne': False, 'V_candy': False, 'V_NOTcandy': False, 'V_herzog': False, 'V_NOTherzog': False, 'V_references': False, 'V_NOTreferences': False, 'V_middle-aged': False, 'V_NOTmiddle-aged': False, 'V_ode': False, 'V_NOTode': False, 'V_dying': False, 'V_NOTdying': False, 'V_murky': False, 'V_NOTmurky': False, 'V_sink': False, 'V_NOTsink': False, 'V_sour': False, 'V_NOTsour': False, 'V_nomination': False, 'V_NOTnomination': False, 'V_fluff': False, 'V_NOTfluff': False, 'V_unfolds': False, 'V_NOTunfolds': False, 'V_famous': False, 'V_NOTfamous': False, 'V_urgency': False, 'V_NOTurgency': False, 'V_vintage': False, 'V_NOTvintage': False, 'V_unfaithful': False, 'V_NOTunfaithful': False, 'V_jason': False, 'V_NOTjason': False, 'V_amounts': False, 'V_NOTamounts': False, 'V_flow': False, 'V_NOTflow': False, 'V_lesser': False, 'V_NOTlesser': False}, 2)\n"
     ]
    }
   ],
   "source": [
    "#review the updated Negation feture for the first phrase\n",
    "print(NOT_featuresets2[0])"
   ]
  },
  {
   "cell_type": "code",
   "execution_count": 34,
   "id": "80ace3f6",
   "metadata": {},
   "outputs": [
    {
     "name": "stdout",
     "output_type": "stream",
     "text": [
      "Each fold size: 52020\n",
      "Fold 0\n",
      "Fold 1\n",
      "Fold 2\n",
      "\n",
      "Average Precision\tRecall\t\tF1 \tPer Label\n",
      "0 \t      0.307      0.279      0.292\n",
      "1 \t      0.291      0.427      0.346\n",
      "2 \t      0.825      0.643      0.723\n",
      "3 \t      0.312      0.488      0.380\n",
      "4 \t      0.293      0.412      0.342\n",
      "\n",
      "Mean accuracy 0.5683583237216455\n",
      "\n",
      "Macro Average Precision\tRecall\t\tF1 \tOver All Labels\n",
      "\t      0.405      0.450      0.417\n",
      "\n",
      "Label Counts {0: 7072, 1: 27273, 2: 79582, 3: 32927, 4: 9206}\n",
      "Micro Average Precision\tRecall\t\tF1 \tOver All Labels\n",
      "\t      0.568      0.542      0.543\n"
     ]
    }
   ],
   "source": [
    "#calculate 3-fold CV accuracy, precision, recall and F1-score using nltk naive Bayes classifier\n",
    "num_folds = 3\n",
    "cross_validation_PRF(num_folds, NOT_featuresets2, labels)"
   ]
  },
  {
   "cell_type": "code",
   "execution_count": 28,
   "id": "c0fab9db",
   "metadata": {},
   "outputs": [],
   "source": [
    "# define the feature sets for stemmed phrases\n",
    "NOT_featuresets2_stemmed = [(NOT_features2(d, stemmed_word_features, negationwords), c) for (d, c) in phrasedocs]"
   ]
  },
  {
   "cell_type": "code",
   "execution_count": 30,
   "id": "0b84fa49",
   "metadata": {},
   "outputs": [
    {
     "name": "stdout",
     "output_type": "stream",
     "text": [
      "Each fold size: 52020\n",
      "Fold 0\n",
      "Fold 1\n",
      "Fold 2\n",
      "\n",
      "Average Precision\tRecall\t\tF1 \tPer Label\n",
      "0 \t      0.238      0.240      0.239\n",
      "1 \t      0.248      0.391      0.303\n",
      "2 \t      0.829      0.610      0.703\n",
      "3 \t      0.242      0.434      0.311\n",
      "4 \t      0.197      0.347      0.252\n",
      "\n",
      "Mean accuracy 0.5396642317057542\n",
      "\n",
      "Macro Average Precision\tRecall\t\tF1 \tOver All Labels\n",
      "\t      0.351      0.404      0.362\n",
      "\n",
      "Label Counts {0: 7072, 1: 27273, 2: 79582, 3: 32927, 4: 9206}\n",
      "Micro Average Precision\tRecall\t\tF1 \tOver All Labels\n",
      "\t      0.540      0.502      0.503\n"
     ]
    }
   ],
   "source": [
    "#calculate 3-fold CV accuracy, precision, recall and F1-score using nltk naive Bayes classifier\n",
    "num_folds = 3\n",
    "cross_validation_PRF(num_folds, NOT_featuresets2_stemmed, labels)"
   ]
  },
  {
   "cell_type": "markdown",
   "id": "741a80fc",
   "metadata": {},
   "source": [
    "Per above, accuracy higher when using original phrases. In addition, as expected, the accuracies using the updated Negation feature sets were lower than using the first Negation feature sets."
   ]
  },
  {
   "cell_type": "markdown",
   "id": "7facbdf4",
   "metadata": {},
   "source": [
    "#### LIWC"
   ]
  },
  {
   "cell_type": "code",
   "execution_count": 44,
   "id": "24e81bc7",
   "metadata": {},
   "outputs": [],
   "source": [
    "#### Create features using LIWC lexicon\n",
    "import os\n",
    "import sys\n",
    "\n",
    "# returns two lists:  words in positive emotion class and words in negative emotion class\n",
    "def read_words():\n",
    "  poslist = []\n",
    "  neglist = []\n",
    "\n",
    "  flexicon = open('/Users/zhen/Documents/DS@Syracuse/Q3/IST 664/Project/liwcdic2007.dic', encoding='latin1')\n",
    "  # read all LIWC words from file\n",
    "  wordlines = [line.strip() for line in flexicon]\n",
    "  # each line has a word or a stem followed by * and numbers of the word classes it is in\n",
    "  # word class 126 is positive emotion and 127 is negative emotion\n",
    "  for line in wordlines:\n",
    "    if not line == '':\n",
    "      items = line.split()\n",
    "      word = items[0]\n",
    "      classes = items[1:]\n",
    "      for c in classes:\n",
    "        if c == '126':\n",
    "          poslist.append( word )\n",
    "        if c == '127':\n",
    "          neglist.append( word )\n",
    "  return (poslist, neglist)"
   ]
  },
  {
   "cell_type": "code",
   "execution_count": 45,
   "id": "a15bd70f",
   "metadata": {},
   "outputs": [
    {
     "name": "stdout",
     "output_type": "stream",
     "text": [
      "Positive Words 405 \tNegative Words 499\n"
     ]
    }
   ],
   "source": [
    "#create postive and negative word lists\n",
    "(poslist, neglist) = read_words()\n",
    "print (\"Positive Words\", len(poslist), \"\\tNegative Words\", len(neglist))"
   ]
  },
  {
   "cell_type": "code",
   "execution_count": 46,
   "id": "88669962",
   "metadata": {},
   "outputs": [
    {
     "name": "stdout",
     "output_type": "stream",
     "text": [
      "['accept', 'accepta*', 'accepted', 'accepting', 'accepts']\n",
      "['abandon*', 'abuse*', 'abusi*', 'ache*', 'aching']\n"
     ]
    }
   ],
   "source": [
    "print(poslist[0:5])\n",
    "print(neglist[0:5])"
   ]
  },
  {
   "cell_type": "code",
   "execution_count": 36,
   "id": "ed6f1270",
   "metadata": {},
   "outputs": [],
   "source": [
    "### function to create the LIWC feature ###\n",
    "# it counts the number of positive and negative words in each phrase as features\n",
    "def LIWC_features(document, word_features):\n",
    "    document_words = set(document)\n",
    "    features = {}\n",
    "    for word in word_features:\n",
    "        features['{}'.format(word)] = (word in document_words)\n",
    "    #count words for postive and negative classes\n",
    "    numPos = 0\n",
    "    numNeg = 0\n",
    "    for word in document_words: \n",
    "        if word.lower() in poslist: numPos += 1\n",
    "        if word.lower() in neglist == True: numNeg += 1          \n",
    "        features['Positive'] = numPos\n",
    "        features['Negative'] = numNeg\n",
    "\n",
    "    return features"
   ]
  },
  {
   "cell_type": "code",
   "execution_count": 27,
   "id": "c7ecea5d",
   "metadata": {},
   "outputs": [],
   "source": [
    "# define LIWC feature sets\n",
    "LIWC_featuresets = [(LIWC_features(d, word_features), c) for (d, c) in phrasedocs]"
   ]
  },
  {
   "cell_type": "code",
   "execution_count": 28,
   "id": "cbc52492",
   "metadata": {},
   "outputs": [
    {
     "name": "stdout",
     "output_type": "stream",
     "text": [
      "Each fold size: 52020\n",
      "Fold 0\n",
      "Fold 1\n",
      "Fold 2\n",
      "\n",
      "Average Precision\tRecall\t\tF1 \tPer Label\n",
      "0 \t      0.304      0.278      0.291\n",
      "1 \t      0.285      0.418      0.339\n",
      "2 \t      0.821      0.645      0.723\n",
      "3 \t      0.318      0.484      0.384\n",
      "4 \t      0.299      0.404      0.344\n",
      "\n",
      "Mean accuracy 0.5670383185954121\n",
      "\n",
      "Macro Average Precision\tRecall\t\tF1 \tOver All Labels\n",
      "\t      0.406      0.446      0.416\n",
      "\n",
      "Label Counts {0: 7072, 1: 27273, 2: 79582, 3: 32927, 4: 9206}\n",
      "Micro Average Precision\tRecall\t\tF1 \tOver All Labels\n",
      "\t      0.567      0.541      0.542\n"
     ]
    }
   ],
   "source": [
    "#calculate 3-fold CV accuracy, precision, recall and F1-score using nltk naive Bayes classifier\n",
    "num_folds = 3\n",
    "cross_validation_PRF(num_folds, LIWC_featuresets, labels)"
   ]
  },
  {
   "cell_type": "code",
   "execution_count": 36,
   "id": "fe51fd22",
   "metadata": {},
   "outputs": [],
   "source": [
    "# define feature sets for stemmed phrases\n",
    "LIWC_featuresets_stemmed = [(LIWC_features(d, stemmed_word_features), c) for (d, c) in phrasedocs]"
   ]
  },
  {
   "cell_type": "code",
   "execution_count": 28,
   "id": "3268386c",
   "metadata": {},
   "outputs": [
    {
     "name": "stdout",
     "output_type": "stream",
     "text": [
      "Each fold size: 52020\n",
      "Fold 0\n",
      "Fold 1\n",
      "Fold 2\n",
      "\n",
      "Average Precision\tRecall\t\tF1 \tPer Label\n",
      "0 \t      0.238      0.243      0.240\n",
      "1 \t      0.246      0.383      0.300\n",
      "2 \t      0.824      0.615      0.704\n",
      "3 \t      0.254      0.437      0.321\n",
      "4 \t      0.210      0.337      0.259\n",
      "\n",
      "Mean accuracy 0.5402088940151224\n",
      "\n",
      "Macro Average Precision\tRecall\t\tF1 \tOver All Labels\n",
      "\t      0.355      0.403      0.365\n",
      "\n",
      "Label Counts {0: 7072, 1: 27273, 2: 79582, 3: 32927, 4: 9206}\n",
      "Micro Average Precision\tRecall\t\tF1 \tOver All Labels\n",
      "\t      0.540      0.504      0.506\n"
     ]
    }
   ],
   "source": [
    "#calculate 3-fold CV accuracy, precision, recall and F1-score using nltk naive Bayes classifier for stemmed phrases\n",
    "num_folds = 3\n",
    "cross_validation_PRF(num_folds, LIWC_featuresets_stemmed, labels)"
   ]
  },
  {
   "cell_type": "markdown",
   "id": "8f981cd9",
   "metadata": {},
   "source": [
    "Using LIWC feature set with nltk naive Bayes classifier, accuracy was higher without stemming."
   ]
  },
  {
   "cell_type": "markdown",
   "id": "f9183d87",
   "metadata": {},
   "source": [
    "#### Combined feature"
   ]
  },
  {
   "cell_type": "code",
   "execution_count": 29,
   "id": "3cf2351c",
   "metadata": {},
   "outputs": [],
   "source": [
    "#### Create feature set that combine multiple features ####\n",
    "# combine bigram and POS featuresets\n",
    "def combined_features(document, word_features):\n",
    "    document_words = set(document)\n",
    "    document_bigrams = nltk.bigrams(document)\n",
    "    tagged_words = nltk.pos_tag(document)\n",
    "    \n",
    "    features = {}\n",
    "    #for word in word_features:\n",
    "        #features['V_{}'.format(word)] = (word in document_words)\n",
    "    for bigram in bigram_features:\n",
    "        features['B_{}_{}'.format(bigram[0], bigram[1])] = (bigram in document_bigrams)\n",
    "\n",
    "    for word in word_features:\n",
    "        features['contains({})'.format(word)] = (word in document_words)\n",
    "    numNoun = 0\n",
    "    numVerb = 0\n",
    "    numAdj = 0\n",
    "    numAdverb = 0\n",
    "    for (word, tag) in tagged_words:\n",
    "        if tag.startswith('N'): numNoun += 1\n",
    "        if tag.startswith('V'): numVerb += 1\n",
    "        if tag.startswith('J'): numAdj += 1\n",
    "        if tag.startswith('R'): numAdverb += 1\n",
    "    features['nouns'] = numNoun\n",
    "    features['verbs'] = numVerb\n",
    "    features['adjectives'] = numAdj\n",
    "    features['adverbs'] = numAdverb\n",
    "    return features"
   ]
  },
  {
   "cell_type": "code",
   "execution_count": null,
   "id": "e02f754e",
   "metadata": {},
   "outputs": [],
   "source": [
    "# define the feature sets\n",
    "combined_featuresets = [(combined_features(d, word_features), c) for (d, c) in phrasedocs]\n",
    "print(len(combined_featuresets))"
   ]
  },
  {
   "cell_type": "code",
   "execution_count": 28,
   "id": "cb92b69e",
   "metadata": {},
   "outputs": [
    {
     "data": {
      "text/plain": [
       "({'B_r._nebrida': False,\n",
       "  'B_w._bush': False,\n",
       "  'B_q._archibald': False,\n",
       "  'B_22-year-old_girlfriend': False,\n",
       "  'B_ellen_pompeo': False,\n",
       "  'B_18-year-old_mistress': False,\n",
       "  'B_pearl_harbor': False,\n",
       "  'B_deja_vu': False,\n",
       "  'B_disloyal_satyr': False,\n",
       "  'B_h.g_wells': False,\n",
       "  'B_pootie_tang': False,\n",
       "  'B_dover_kosashvili': False,\n",
       "  'B_cheese-laced_spectacles': False,\n",
       "  'B_smallest_sensitivities': False,\n",
       "  'B_cletis_tout': False,\n",
       "  'B_calculating_fiend': False,\n",
       "  'B_cherry_orchard': False,\n",
       "  'B_probation_officer': False,\n",
       "  'B_toilet-humor_codswallop': False,\n",
       "  'B_septic_tank': False,\n",
       "  'B_smeared_windshield': False,\n",
       "  'B_supermarket_tabloids': False,\n",
       "  'B_swan_dive': False,\n",
       "  'B_hong_kong': False,\n",
       "  'B_d.w._griffith': False,\n",
       "  'B_pencil_sharpener': False,\n",
       "  'B_punny_6': False,\n",
       "  'B_surveillance_technologies': False,\n",
       "  'B_morvern_callar': False,\n",
       "  'B_cogent_defense': False,\n",
       "  'B_fanatical_adherents': False,\n",
       "  'B_legally_blonde': False,\n",
       "  'B_pasty_lumpen': False,\n",
       "  'B_protective_cocoon': False,\n",
       "  'B_sharpie_pen': False,\n",
       "  'B_sideshow_geeks': False,\n",
       "  'B_travis_bickle': False,\n",
       "  'B_10-year_delay': False,\n",
       "  'B_channel-style_anthology': False,\n",
       "  'B_enforced_hiatus': False,\n",
       "  'B_hossein_amini': False,\n",
       "  'B_laurice_guillen': False,\n",
       "  'B_pauly_shore': False,\n",
       "  'B_runyon_crooks': False,\n",
       "  'B_tropic_pageant': False,\n",
       "  'B_violently_gang-raped': False,\n",
       "  'B_acidic_all-male': False,\n",
       "  'B_advises_denlopp': False,\n",
       "  'B_american-russian_armageddon': False,\n",
       "  'B_ash_wednesday': False,\n",
       "  'B_drastic_iconography': False,\n",
       "  'B_light-footed_enchantment': False,\n",
       "  'B_love-struck_somebodies': False,\n",
       "  'B_modus_operandi': False,\n",
       "  'B_mongrel_pep': False,\n",
       "  'B_peep_booths': False,\n",
       "  'B_pokepie_hat': False,\n",
       "  'B_retail_clerk': False,\n",
       "  'B_robotically_italicized': False,\n",
       "  'B_simulate_sustenance': False,\n",
       "  'B_soothing_muzak': False,\n",
       "  'B_sure-fire_prescription': False,\n",
       "  'B_switchblade_sexpot': False,\n",
       "  'B_unimaginatively_foul-mouthed': False,\n",
       "  'B_wasp_matron': False,\n",
       "  'B_wladyslaw_szpilman': False,\n",
       "  'B_world-class_fencer': False,\n",
       "  'B_yasujiro_ozu': False,\n",
       "  'B_shape-shifting_perils': False,\n",
       "  'B_ram_dass': False,\n",
       "  'B_elfriede_jelinek': False,\n",
       "  'B_anarchist_maxim': False,\n",
       "  'B_armchair_tourists': False,\n",
       "  'B_byzantine_incarnations': False,\n",
       "  'B_clarissa_dalloway': False,\n",
       "  'B_combustion_engine': False,\n",
       "  'B_dust-caked_stagnation': False,\n",
       "  'B_fledgling_democracies': False,\n",
       "  'B_impudent_snickers': False,\n",
       "  'B_jagjit_singh': False,\n",
       "  'B_jez_butterworth': False,\n",
       "  'B_malik_abbott': False,\n",
       "  'B_mario_cavaradossi': False,\n",
       "  'B_melanie_carmichael': False,\n",
       "  'B_naval_personnel': False,\n",
       "  'B_one-trick_pony': False,\n",
       "  'B_out-to-change-the-world_aggressiveness': False,\n",
       "  'B_padre_amaro': False,\n",
       "  'B_pubescent_scandalous': False,\n",
       "  \"B_raison_d'etre\": False,\n",
       "  'B_reedy_consigliere': False,\n",
       "  'B_riot-control_projectile': False,\n",
       "  'B_samira_makhmalbaf': False,\n",
       "  'B_socially_encompassing': False,\n",
       "  'B_tequila_bender': False,\n",
       "  'B_testosterone-charged_wizardry': False,\n",
       "  'B_therapy-dependent_flakeball': False,\n",
       "  'B_tinny_self-righteousness': False,\n",
       "  'B_underdone_potato': False,\n",
       "  'B_wonderous_accomplishment': False,\n",
       "  'B_workable_primer': False,\n",
       "  'B_wrestler_chyna': False,\n",
       "  'B_yale_grad': False,\n",
       "  'B_alfred_hitchcock': False,\n",
       "  'B_margaret_thatcher': False,\n",
       "  'B_1959_godzilla': False,\n",
       "  'B_20th-century_footnotes': False,\n",
       "  'B_acting-workshop_exercises': False,\n",
       "  'B_angela_gheorghiu': False,\n",
       "  'B_auschwitz_ii-birkenau': False,\n",
       "  'B_avuncular_chortles': False,\n",
       "  'B_basest_desires': False,\n",
       "  'B_bedside_vigils': False,\n",
       "  'B_blond_honeys': False,\n",
       "  'B_brussels_sprouts': False,\n",
       "  'B_burkina_faso': False,\n",
       "  'B_cannier_doppelganger': False,\n",
       "  'B_das_boot': False,\n",
       "  'B_di_napoli': False,\n",
       "  'B_dot_com': False,\n",
       "  'B_erin_brockovich': False,\n",
       "  'B_faltering_half-step': False,\n",
       "  'B_frothing_ex-girlfriend': False,\n",
       "  'B_high-wattage_brainpower': False,\n",
       "  'B_hilary_birmingham': False,\n",
       "  'B_huckster_lapel': False,\n",
       "  'B_inhalant_blackout': False,\n",
       "  'B_marvin_gaye': False,\n",
       "  'B_mulholland_dr': False,\n",
       "  'B_plastic_knickknacks': False,\n",
       "  'B_pop-influenced_prank': False,\n",
       "  'B_prom_dates': False,\n",
       "  'B_salt-of-the-earth_mommy': False,\n",
       "  'B_striving_solipsism': False,\n",
       "  'B_stud_knockabout': False,\n",
       "  'B_tap-dancing_rhino': False,\n",
       "  'B_thrill-kill_cat-and-mouser': False,\n",
       "  'B_un_inspector': False,\n",
       "  'B_war-weary_marine': False,\n",
       "  'B_wary_natives': False,\n",
       "  'B_doing-it-for_the-cash': False,\n",
       "  'B_indecent_proposal': False,\n",
       "  'B_la_salle': False,\n",
       "  'B_overflowing_septic': False,\n",
       "  'B_speedy_swan': False,\n",
       "  'B_smoking_barrels': False,\n",
       "  'B_crowded_cities': False,\n",
       "  'B_egregious_lip-non-synching': False,\n",
       "  'B_sean_penn': False,\n",
       "  'B_styled_gremlins': False,\n",
       "  'B_actory_concoctions': False,\n",
       "  'B_after-hours_loopiness': False,\n",
       "  'B_anna_mouglalis': False,\n",
       "  'B_artless_sytle': False,\n",
       "  'B_bebe_neuwirth': False,\n",
       "  'B_binary_oppositions': False,\n",
       "  'B_brain-deadening_hangover': False,\n",
       "  'B_civics_classes': False,\n",
       "  'B_colgate_u': False,\n",
       "  'B_comatose_ballerinas': False,\n",
       "  'B_competing_lawyers': False,\n",
       "  'B_confidently_orchestrated': False,\n",
       "  'B_contemptible_imitator': False,\n",
       "  'B_cyndi_lauper': False,\n",
       "  'B_disaffected-indie-film_mode': False,\n",
       "  'B_done-that_sameness': False,\n",
       "  'B_doubling_subtexts': False,\n",
       "  'B_down-and-dirty_laugher': False,\n",
       "  'B_eudora_welty': False,\n",
       "  'B_extremist_name-calling': False,\n",
       "  'B_groan-to-guffaw_ratio': False,\n",
       "  'B_improbably_forbearing': False,\n",
       "  'B_jar-jar_binks': False,\n",
       "  'B_joint_promotion': False,\n",
       "  'B_june_cleaver': False,\n",
       "  'B_normal_divisions': False,\n",
       "  'B_paunchy_midsection': False,\n",
       "  'B_retaliatory_responses': False,\n",
       "  'B_right-hand_goombah': False,\n",
       "  'B_secretly_unhinged': False,\n",
       "  'B_special-effects-laden_extravaganzas': False,\n",
       "  'B_stricken_composer': False,\n",
       "  'B_strong-minded_viewpoint': False,\n",
       "  'B_surgeon_mends': False,\n",
       "  'B_swirling_rapids': False,\n",
       "  'B_victorious_revolutionaries': False,\n",
       "  'B_weathered_countenance': False,\n",
       "  'B_wide-smiling_reception': False,\n",
       "  'B_zhao_benshan': False,\n",
       "  'B_bela_lugosi': False,\n",
       "  'B_johnny_knoxville': False,\n",
       "  'B_kieran_culkin': False,\n",
       "  'B_self-mutilating_sideshow': False,\n",
       "  'B_zucker_brothers\\\\/abrahams': False,\n",
       "  'B_alchemical_transmogrification': False,\n",
       "  'B_ancillary_products': False,\n",
       "  'B_beachcombing_verismo': False,\n",
       "  'B_belgian_waffle': False,\n",
       "  'B_bitterly_forsaken': False,\n",
       "  'B_bon_bons': False,\n",
       "  'B_booking_passage': False,\n",
       "  'B_buckaroo_banzai': False,\n",
       "  'B_civil_disobedience': False,\n",
       "  'B_comeback_curlers': False,\n",
       "  'B_contentious_configurations': False,\n",
       "  'B_culprit_early-on': False,\n",
       "  'B_debating_societies': False,\n",
       "  'B_der_groen': False,\n",
       "  'B_docu-dogma_plainness': False,\n",
       "  'B_dolly_parton': False,\n",
       "  'B_dreamlike_ecstasy': False,\n",
       "  'B_ethnographic_extras': False,\n",
       "  'B_fang-baring_lullaby': False,\n",
       "  'B_flopping_dolphin-gasm': False,\n",
       "  'B_forrest_gump': False,\n",
       "  'B_frazzled_wackiness': False,\n",
       "  'B_genevieve_leplouff': False,\n",
       "  'B_hard-sell_image-mongering': False,\n",
       "  'B_ka_fai': False,\n",
       "  'B_laissez_passer': False,\n",
       "  'B_los_angeles': False,\n",
       "  'B_molto_superficiale': False,\n",
       "  'B_muy_loco': False,\n",
       "  'B_norma_rae': False,\n",
       "  'B_over-amorous_terrier': False,\n",
       "  'B_posthumously_published': False,\n",
       "  'B_rough-trade_homo-eroticism': False,\n",
       "  'B_rusi_vulakoro': False,\n",
       "  'B_ruthlessly_pained': False,\n",
       "  'B_saddam_hussein': False,\n",
       "  'B_sex-in-the-city_misadventures': False,\n",
       "  'B_skin-deep_notions': False,\n",
       "  'B_spirit-crushing_ennui': False,\n",
       "  'B_spry_2001': False,\n",
       "  'B_spy-savvy_siblings': False,\n",
       "  'B_teen-exploitation_playbook': False,\n",
       "  'B_teeth-gnashing_actorliness': False,\n",
       "  'B_toxic_chemicals': False,\n",
       "  'B_wreak_havoc': False,\n",
       "  'B_delinquent_paperbacks': False,\n",
       "  'B_bubba_ho-tep': False,\n",
       "  'B_cor-blimey-luv-a-duck_cockney': False,\n",
       "  'B_gerardo_vera': False,\n",
       "  'B_gutter_romancer': False,\n",
       "  'B_ill-timed_antitrust': False,\n",
       "  'B_post-adolescent_electra': False,\n",
       "  'B_sci_fi': False,\n",
       "  'B_stubbornly_refused': False,\n",
       "  'B_lisping_reptilian': False,\n",
       "  'B_teen-driven_toilet-humor': False,\n",
       "  'B_avant_garde': False,\n",
       "  'B_coughed_fidgeted': False,\n",
       "  'B_disciplined_grade-grubbers': False,\n",
       "  'B_future-world_holographic': False,\n",
       "  'B_post-tarantino_pop-culture': False,\n",
       "  'B_aircraft_carrier': False,\n",
       "  'B_bona_fide': False,\n",
       "  'B_computerized_yoda': False,\n",
       "  'B_existent_anti-virus': False,\n",
       "  'B_farcically_bawdy': False,\n",
       "  'B_flick-knife_diction': False,\n",
       "  'B_foo_yung': False,\n",
       "  'B_fruit_pies': False,\n",
       "  'B_garage_sale': False,\n",
       "  'B_impish_divertissement': False,\n",
       "  'B_laugh-free_lecture': False,\n",
       "  'B_loaf_explodes': False,\n",
       "  'B_message-mongering_moralism': False,\n",
       "  'B_ouija_boards': False,\n",
       "  'B_over-indulgent_tirade': False,\n",
       "  'B_overinflated_mythology': False,\n",
       "  'B_pie-like_irreverence': False,\n",
       "  'B_plasma_conduits': False,\n",
       "  'B_pressure_cooker': False,\n",
       "  'B_screeching-metal_smashups': False,\n",
       "  'B_scummy_ripoff': False,\n",
       "  'B_sergio_leone': False,\n",
       "  'B_sixth-grade_height': False,\n",
       "  'B_subsequent_reinvention': False,\n",
       "  'B_therapeutic_zap': False,\n",
       "  'B_twelve_beers': False,\n",
       "  'B_twentysomething_hotsies': False,\n",
       "  'B_uncertainty_principle': False,\n",
       "  'B_unflattering_comparisons': False,\n",
       "  'B_unimpressively_fussy': False,\n",
       "  'B_virtuoso_throat-singing': False,\n",
       "  'B_wholesale_ineptitude': False,\n",
       "  'B_julia_roberts': False,\n",
       "  'B_douglas_mcgrath': False,\n",
       "  'B_meddles_argues': False,\n",
       "  'B_abdul_malik': False,\n",
       "  'B_all-night_tequila': False,\n",
       "  'B_internal_combustion': False,\n",
       "  'B_leader_fidel': False,\n",
       "  'B_time-switching_myopic': False,\n",
       "  'B_kung_pow': False,\n",
       "  'B_stealing_harvard': False,\n",
       "  'B_dogmatism_manipulativeness': False,\n",
       "  'B_accomodates_practical': False,\n",
       "  'B_actorish_notations': False,\n",
       "  'B_affluent_damsel': False,\n",
       "  'B_agnostic_carnivore': False,\n",
       "  'B_baseball-playing_monkey': False,\n",
       "  'B_cafeteria_goulash': False,\n",
       "  'B_cosa_nostra': False,\n",
       "  'B_deadeningly_drawn-out': False,\n",
       "  'B_deviant_behaviour': False,\n",
       "  'B_elderly_propensity': False,\n",
       "  'B_grouchy_ayatollah': False,\n",
       "  'B_gryffindor_scarf': False,\n",
       "  'B_hippopotamus_ballerina': False,\n",
       "  'B_ill-wrought_hypothesis': False,\n",
       "  'B_imogen_kimmel': False,\n",
       "  'B_institutionalized_slavery': False,\n",
       "  'B_karim_dridi': False,\n",
       "  'B_launching_pad': False,\n",
       "  'B_miscellaneous_bohos': False,\n",
       "  'B_monte_cristo': False,\n",
       "  'B_neo-augustinian_theology': False,\n",
       "  'B_oh-so-hollywood_rejiggering': False,\n",
       "  'B_painless_time-killer': False,\n",
       "  'B_parapsychological_phenomena': False,\n",
       "  'B_riviera_spree': False,\n",
       "  'B_sacre_bleu': False,\n",
       "  'B_soberly_reported': False,\n",
       "  'B_star-making_machinery': False,\n",
       "  'B_stunt-hungry_dimwits': False,\n",
       "  'B_suge_knight': False,\n",
       "  'B_sunny_disposition': False,\n",
       "  'B_tara_reid': False,\n",
       "  'B_thandie_newton': False,\n",
       "  'B_topnotch_foursome': False,\n",
       "  'B_tuba-playing_dwarf': False,\n",
       "  'B_whopping_shootouts': False,\n",
       "  'B_winged_assailants': False,\n",
       "  'B_mothman_prophecies': False,\n",
       "  'B_wire_fu': False,\n",
       "  'B_breckin_meyer': False,\n",
       "  'B_closed-off_nationalist': False,\n",
       "  'B_developmentally_disabled': False,\n",
       "  'B_gabbiest_giant-screen': False,\n",
       "  'B_jiri_menzel': False,\n",
       "  'B_jules_verne': False,\n",
       "  'B_mai_thi': False,\n",
       "  'B_patricio_guzman': False,\n",
       "  'B_peroxide_blond': False,\n",
       "  'B_roller_coaster': False,\n",
       "  'B_tighter_editorial': False,\n",
       "  'B_tori_amos': False,\n",
       "  'B_two-way_time-switching': False,\n",
       "  'B_vanessa_redgrave': False,\n",
       "  'B_crypt_mist': False,\n",
       "  'B_fast-edit_hopped-up': False,\n",
       "  'B_sequel-for-the-sake_of-a-sequel': False,\n",
       "  'B_anonymous_attackers': False,\n",
       "  'B_arms_dealer': False,\n",
       "  'B_bang-bang_shoot-em-up': False,\n",
       "  'B_double-pistoled_ballistic-pyrotechnic': False,\n",
       "  'B_duplicate_bela': False,\n",
       "  'B_long-on-the-shelf_point-and-shoot': False,\n",
       "  'B_wizened_visitor': False,\n",
       "  'B_behind-the-scenes_navel-gazing': False,\n",
       "  'B_danis_tanovic': False,\n",
       "  'B_djeinaba_diop': False,\n",
       "  'B_donna_floria': False,\n",
       "  'B_every-joke-has_been-told-a': False,\n",
       "  'B_harvey_weinstein': False,\n",
       "  'B_heartwarmingly_motivate': False,\n",
       "  'B_independent-community_guiding': False,\n",
       "  'B_late-summer_surfer': False,\n",
       "  'B_plant_smile-button': False,\n",
       "  'B_point-to-point_driving': False,\n",
       "  'B_scattershot_terrorizing': False,\n",
       "  'B_streetwise_mclaughlin': False,\n",
       "  'B_super-wealthy_megalomaniac': False,\n",
       "  'B_tit-for-tat_retaliatory': False,\n",
       "  'B_tumbleweeds_blowing': False,\n",
       "  'B_undergraduate_doubling': False,\n",
       "  'B_water-camera_operating': False,\n",
       "  'B_passe_chopsocky': False,\n",
       "  'B_10-course_banquet': False,\n",
       "  'B_1986_harlem': False,\n",
       "  'B_community-college_advertisement': False,\n",
       "  'B_coos_beseechingly': False,\n",
       "  'B_edged_tome': False,\n",
       "  'B_elysian_fields': False,\n",
       "  'B_esteemed_writer-actor': False,\n",
       "  'B_everlyn_sampi': False,\n",
       "  'B_fangoria_subscriber': False,\n",
       "  'B_giles_nuttgens': False,\n",
       "  'B_gregory_hinton': False,\n",
       "  'B_haute_couture': False,\n",
       "  'B_jazz-playing_exterminator': False,\n",
       "  'B_knitting_needles': False,\n",
       "  'B_late-twenty-somethings_natter': False,\n",
       "  'B_liana_dognini': False,\n",
       "  'B_markedly_inactive': False,\n",
       "  'B_odd-couple_sniping': False,\n",
       "  'B_queasy-stomached_critic': False,\n",
       "  'B_razor-sided_tuning': False,\n",
       "  'B_romance-novel_platitudes': False,\n",
       "  'B_romantic-comedy_duds': False,\n",
       "  'B_royally_screwed': False,\n",
       "  'B_rusted-out_ruin': False,\n",
       "  'B_silly-looking_morlocks': False,\n",
       "  'B_tear-drenched_quicksand': False,\n",
       "  'B_tolstoy_groupies': False,\n",
       "  'B_truth-in-advertising_hounds': False,\n",
       "  'B_uncoordinated_vectors': False,\n",
       "  'B_vicente_aranda': False,\n",
       "  'B_weimar_republic': False,\n",
       "  'B_zoning_ordinances': False,\n",
       "  'B_imperfect_love-hate': False,\n",
       "  'B_et_al': False,\n",
       "  'B_grocery_lists': False,\n",
       "  'B_mattel_executives': False,\n",
       "  'B_well-lensed_gorefest': False,\n",
       "  'B_hardened_indie-heads': False,\n",
       "  'B_a.e.w_mason': False,\n",
       "  'B_achero_manas': False,\n",
       "  'B_ally_mcbeal-style': False,\n",
       "  'B_busby_berkeley': False,\n",
       "  'B_clyde_barrow': False,\n",
       "  'B_constrictive_eisenhower': False,\n",
       "  'B_diver_rusi': False,\n",
       "  'B_freewheeling_trash-cinema': False,\n",
       "  'B_heretofore_unfathomable': False,\n",
       "  'B_hibiscus_grandly': False,\n",
       "  'B_jon_purdy': False,\n",
       "  'B_lingerie_models': False,\n",
       "  'B_natalie_babbitt': False,\n",
       "  'B_prima_donna': False,\n",
       "  'B_rider_mat': False,\n",
       "  'B_song-and-dance-man_pasach': False,\n",
       "  'B_too-hot-for-tv_direct-to-video\\\\/dvd': False,\n",
       "  'B_unexplained_baboon': False,\n",
       "  'B_topless_tutorial': False,\n",
       "  'B_oily_arms': False,\n",
       "  'B_miami_vice': False,\n",
       "  'B_drew_barrymore': False,\n",
       "  'B_lily_chou-chou': False,\n",
       "  'B_20,000_leagues': False,\n",
       "  'B_flashbulbs_blaring': False,\n",
       "  'B_hospitals_courts': False,\n",
       "  'B_not-nearly_as-nasty': False,\n",
       "  'B_reputedly_unfilmable': False,\n",
       "  'B_singularly_cursory': False,\n",
       "  'B_triumphantly_sermonize': False,\n",
       "  'B_lan_yu': False,\n",
       "  'B_rubenesque_physique': False,\n",
       "  'B_antwone_fisher': False,\n",
       "  'B_brent_hanley': False,\n",
       "  'B_closed-door_hanky-panky': False,\n",
       "  'B_copious_hints': False,\n",
       "  'B_doggie_winks': False,\n",
       "  'B_elliptically_loops': False,\n",
       "  'B_formidable_arithmetic': False,\n",
       "  'B_heavy-duty_ropes': False,\n",
       "  'B_initiation_rite': False,\n",
       "  'B_opulent_lushness': False,\n",
       "  'B_pantomimesque_sterotypes': False,\n",
       "  'B_paramount_imprint': False,\n",
       "  'B_self-defeatingly_decorous': False,\n",
       "  'B_sixties-style_slickness': False,\n",
       "  'B_strikingly_devious': False,\n",
       "  'B_threefold_expansion': False,\n",
       "  'B_unpaid_intern': False,\n",
       "  'B_quentin_tarantino': False,\n",
       "  'B_majidi_shoe-loving': False,\n",
       "  'B_consuming_self-absorption': False,\n",
       "  'B_mr_deeds': False,\n",
       "  'B_advanced_prozac': False,\n",
       "  'B_bemused_contempt': False,\n",
       "  'B_bmx_rider': False,\n",
       "  'B_clive_barker': False,\n",
       "  'B_drinking_twelve': False,\n",
       "  'B_family-oriented_non-disney': False,\n",
       "  'B_fide_groaners': False,\n",
       "  'B_fiji_diver': False,\n",
       "  'B_insouciance_embedded': False,\n",
       "  'B_invites_unflattering': False,\n",
       "  'B_lin_chung': False,\n",
       "  'B_otar_iosseliani': False,\n",
       "  'B_pan_nalin': False,\n",
       "  'B_refers_incessantly': False,\n",
       "  'B_skippable_hayseeds-vs': False,\n",
       "  'B_slopped_em': False,\n",
       "  'B_ving_rhames': False,\n",
       "  'B_elizabeth_hurley': False,\n",
       "  'B_anne-sophie_birot': False,\n",
       "  'B_ernest_tron': False,\n",
       "  'B_kraft_macaroni': False,\n",
       "  'B_pasach_ke': False,\n",
       "  'B_walking-dead_cop-flick': False,\n",
       "  'B_welcomed_tens': False,\n",
       "  'B_ba_murdock': False,\n",
       "  'B_yong_kang': False,\n",
       "  'B_kissing_jessica': False,\n",
       "  'B_hairline_weathered': False,\n",
       "  'B_logically_porous': False,\n",
       "  'B_eats_meddles': False,\n",
       "  'B_qatsi_trilogy': False,\n",
       "  'B_ballistic_ecks': False,\n",
       "  'B_otherworldly_energies': False,\n",
       "  'B_hal_hartley': False,\n",
       "  'B_jeremy_renner': False,\n",
       "  'B_adoring_wide-smiling': False,\n",
       "  'B_befuddled_captives': False,\n",
       "  'B_brothers-style_down-and-dirty': False,\n",
       "  'B_cowardly_autocritique': False,\n",
       "  'B_eponymous_1980': False,\n",
       "  'B_jeanette_macdonald': False,\n",
       "  'B_romanced_cyndi': False,\n",
       "  'B_sequins_flashbulbs': False,\n",
       "  'B_shapiro_goldman': False,\n",
       "  'B_longest_yard': False,\n",
       "  'B_26-year-old_reese': False,\n",
       "  'B_activate_girlish': False,\n",
       "  'B_annual_riviera': False,\n",
       "  'B_coral_reef': False,\n",
       "  'B_creepy-crawly_bug': False,\n",
       "  'B_customarily_jovial': False,\n",
       "  'B_disease-of-the-week_small-screen': False,\n",
       "  'B_inextricably_entwined': False,\n",
       "  'B_japanimator_hayao': False,\n",
       "  'B_kirsten_dunst': False,\n",
       "  'B_maggots_crawling': False,\n",
       "  'B_mapquest_emailed': False,\n",
       "  'B_novelist_thulani': False,\n",
       "  'B_overcoming-obstacles_sports-movie': False,\n",
       "  'B_reported_incidents': False,\n",
       "  'B_shortness_disappoints': False,\n",
       "  'B_slather_clearasil': False,\n",
       "  'B_zoe_clarke-williams': False,\n",
       "  'B_s._goyer': False,\n",
       "  'B_first-timer_hilary': False,\n",
       "  'B_75-minute_sample': False,\n",
       "  'B_adrien_brody': False,\n",
       "  'B_bitchy_frolic': False,\n",
       "  'B_decent-enough_nail-biter': False,\n",
       "  'B_densest_distillation': False,\n",
       "  'B_heedless_impetuousness': False,\n",
       "  'B_iben_hjelje': False,\n",
       "  'B_imbecilic_mafia': False,\n",
       "  'B_laura_cahill': False,\n",
       "  'B_life-size_reenactment': False,\n",
       "  'B_petty_thievery': False,\n",
       "  'B_pouty-lipped_poof': False,\n",
       "  'B_preach_exclusively': False,\n",
       "  'B_ryoko_hirosue': False,\n",
       "  'B_seaside_chateaus': False,\n",
       "  'B_sun-splashed_whites': False,\n",
       "  'B_tendentious_intervention': False,\n",
       "  'B_towering_siren': False,\n",
       "  'B_wanton_slipperiness': False,\n",
       "  'B_wordy_wisp': False,\n",
       "  'B_discovered_indulged': False,\n",
       "  'B_limerick_scrawled': False,\n",
       "  'B_patriarchal_debating': False,\n",
       "  'B_wordless_ethnographic': False,\n",
       "  'B_facial_expressions': False,\n",
       "  'B_united_states': False,\n",
       "  'B_gliding_banking': False,\n",
       "  'B_liu_faceoff': False,\n",
       "  'B_refugee_camps': False,\n",
       "  'B_1915_armenia': False,\n",
       "  'B_kids-in-peril_theatrics': False,\n",
       "  'B_majid_majidi': False,\n",
       "  'B_as-nasty_as-it': False,\n",
       "  'B_chen_kaige': False,\n",
       "  'B_extravagantly_redeems': False,\n",
       "  'B_humor-seeking_dollars': False,\n",
       "  'B_out-shock_out-outrage': False,\n",
       "  'B_renaissance_spain': False,\n",
       "  'B_millennial_brusqueness': False,\n",
       "  'B_welfare_centers': False,\n",
       "  'B_abel_ferrara': False,\n",
       "  'B_crossing-over_mumbo': False,\n",
       "  'B_director\\\\/co-writer_jacques': False,\n",
       "  'B_extant_stardom': False,\n",
       "  'B_outright_newness': False,\n",
       "  'B_tax_accountant': False,\n",
       "  'B_teeth-clenching_gusto': False,\n",
       "  'B_brainpower_coupled': False,\n",
       "  'B_bullfighters_comatose': False,\n",
       "  'B_eye-filling_wide-screen': False,\n",
       "  'B_hidebound_movie-making': False,\n",
       "  'B_blasting_stabbing': False,\n",
       "  'B_brazil-like_hyper-real': False,\n",
       "  'B_evanescent_seamless': False,\n",
       "  'B_rick_famuyiwa': False,\n",
       "  'B_scene-chewing_teeth-gnashing': False,\n",
       "  'B_self-critical_behind-the-scenes': False,\n",
       "  'B_show-don_t-tell': False,\n",
       "  'B_too-long_spoofy': False,\n",
       "  'B_wild-and-woolly_wall-to-wall': False,\n",
       "  'B_decibel_volume': False,\n",
       "  'B_hubert_selby': False,\n",
       "  'B_back-stabbing_babes': False,\n",
       "  'B_steaming_cartons': False,\n",
       "  'B_bullet_ballet': False,\n",
       "  'B_carl_franklin': False,\n",
       "  'B_loquacious_videologue': False,\n",
       "  'B_sixties_rockumentary': False,\n",
       "  'B_exploitive_array': False,\n",
       "  'B_fringe_feminist': False,\n",
       "  'B_sharper_cleaner': False,\n",
       "  'B_action-and-popcorn_obsessed': False,\n",
       "  'B_blending_entrepreneurial': False,\n",
       "  'B_character-who-shall_remain-nameless': False,\n",
       "  'B_crematorium_chimney': False,\n",
       "  'B_democratic_weimar': False,\n",
       "  'B_derisive_clunker': False,\n",
       "  'B_director-writer_bille': False,\n",
       "  'B_geographical_displacement': False,\n",
       "  'B_handguns_bmws': False,\n",
       "  'B_joyful_solo': False,\n",
       "  'B_nancy_savoca': False,\n",
       "  'B_omits_needless': False,\n",
       "  'B_sleep-inducingly_slow-paced': False,\n",
       "  'B_softheaded_metaphysical': False,\n",
       "  'B_solemnly_advances': False,\n",
       "  'B_thumpingly_hyperbolic': False,\n",
       "  'B_vexing_handicap': False,\n",
       "  'B_incorporates_rotoscope': False,\n",
       "  'B_nationally_settled': False,\n",
       "  'B_8-year-old_channeling': False,\n",
       "  'B_dani_kouyate': False,\n",
       "  'B_goldie_hawn': False,\n",
       "  'B_vertical_limit': False,\n",
       "  'B_blair_witch': False,\n",
       "  'B_impulsive_niches': False,\n",
       "  'B_spellbinding_serpent': False,\n",
       "  'B_agonizing_catch-22': False,\n",
       "  'B_jerry_bruckheimer': False,\n",
       "  'B_stone_iii': False,\n",
       "  'B_cell_phones': False,\n",
       "  'B_agency_boss': False,\n",
       "  'B_boundary-hopping_formal': False,\n",
       "  'B_harvesting_purposes': False,\n",
       "  'B_traverse_uncharted': False,\n",
       "  'B_arnie_musclefest': False,\n",
       "  'B_banderas-lucy_liu': False,\n",
       "  'B_concoctions_defined': False,\n",
       "  'B_baboon_cameo': False,\n",
       "  'B_dorm_rooms': False,\n",
       "  'B_indoctrinated_prejudice': False,\n",
       "  'B_t-tell_stance': False,\n",
       "  'B_anti-catholic_protestors': False,\n",
       "  'B_extra-large_cotton': False,\n",
       "  'B_snl_has-been': False,\n",
       "  'B_olympia_wash.': False,\n",
       "  'B_athletic_exploits': False,\n",
       "  'B_coltish_neurotic': False,\n",
       "  'B_drawling_slobbering': False,\n",
       "  'B_recalling_sixties': False,\n",
       "  'B_j.k._rowling': False,\n",
       "  'B_breathless_anticipation': False,\n",
       "  'B_turd_squashed': False,\n",
       "  'B_workaday_inertia': False,\n",
       "  'B_disease-of_the-week': False,\n",
       "  'B_harmoniously_joined': False,\n",
       "  'B_numbered_52': False,\n",
       "  'B_orchestrated_aesthetically': False,\n",
       "  'B_historically_significant': False,\n",
       "  'B_costly_analysis': False,\n",
       "  'B_damon_runyon': False,\n",
       "  'B_50-something_lovebirds': False,\n",
       "  'B_armenian_genocide': False,\n",
       "  'B_chop_suey': False,\n",
       "  'B_fabuleux_destin': False,\n",
       "  'B_javier_bardem': False,\n",
       "  'B_kjell_bjarne': False,\n",
       "  'B_mcklusky_c.i': False,\n",
       "  'B_mimetic_approximation': False,\n",
       "  'B_pc_stability': False,\n",
       "  'B_consumerist_studiously': False,\n",
       "  'B_magi_relocated': False,\n",
       "  'B_rambo_meets-john': False,\n",
       "  'B_formal_innovations': False,\n",
       "  'B_ke_burstein': False,\n",
       "  'B_old-hat_province': False,\n",
       "  'B_thi_kim': False,\n",
       "  'B_versatile_stanley': False,\n",
       "  'B_martial_arts': False,\n",
       "  'B_compressed_characterisations': False,\n",
       "  'B_conrad_l.': False,\n",
       "  'B_disarmingly_lived-in': False,\n",
       "  'B_guarantees_karmen': False,\n",
       "  'B_mesmerize_astonish': False,\n",
       "  'B_moldy-oldie_not-nearly': False,\n",
       "  'B_ali_macgraw': False,\n",
       "  'B_thinly_sketched': False,\n",
       "  'B_warner_bros.': False,\n",
       "  'B_scott_kalvert': False,\n",
       "  'B_shoe_diaries': False,\n",
       "  'B_jay_roach': False,\n",
       "  'B_parallel_clone-gag': False,\n",
       "  'B_crummy_wannabe-hip': False,\n",
       "  'B_disobedience_anti-war': False,\n",
       "  'B_lika_da': False,\n",
       "  'B_shiver-inducing_nerve-rattling': False,\n",
       "  'B_crowd-pleasing_goals': False,\n",
       "  'B_freudian_puppet': False,\n",
       "  'B_highway_patrolman': False,\n",
       "  'B_lilo_stitch': False,\n",
       "  'B_nostalgic_twisty': False,\n",
       "  'B_fluent_flatula': False,\n",
       "  'B_still-inestimable_contribution': False,\n",
       "  'B_wesley_snipes': False,\n",
       "  'B_flatula_advises': False,\n",
       "  'B_choreographed_atrocities': False,\n",
       "  'B_clare_peploe': False,\n",
       "  'B_eardrum-dicing_gunplay': False,\n",
       "  'B_fusty_squareness': False,\n",
       "  'B_lower_i.q': False,\n",
       "  'B_mournfully_brittle': False,\n",
       "  'B_narcotized_spiral': False,\n",
       "  'B_jonathan_swift': False,\n",
       "  'B_mandel_holland': False,\n",
       "  'B_northern_ireland': False,\n",
       "  'B_tummy_tops': False,\n",
       "  'B_abderrahmane_sissako': False,\n",
       "  'B_carlos_fresnadillo': False,\n",
       "  'B_deviously_adopts': False,\n",
       "  'B_digitally_altered': False,\n",
       "  'B_fifties_teen-gang': False,\n",
       "  'B_jae-eun_jeong': False,\n",
       "  'B_jerky_hand-held': False,\n",
       "  'B_juliet_stevenon': False,\n",
       "  'B_mass_drug-induced': False,\n",
       "  'B_rated_eee': False,\n",
       "  'B_salacious_telenovela': False,\n",
       "  'B_showboating_wise-cracker': False,\n",
       "  'B_simpler_leaner': False,\n",
       "  'B_spalding_gray': False,\n",
       "  'B_unencouraging_threefold': False,\n",
       "  'B_virtual_roller-coaster': False,\n",
       "  'B_bilked_unsuspecting': False,\n",
       "  'B_camouflaging_grotesque': False,\n",
       "  'B_peanut_butter': False,\n",
       "  'B_pop-up_comments': False,\n",
       "  'B_televised_scooby-doo': False,\n",
       "  'B_pearls_clicking': False,\n",
       "  'B_singles_ward': False,\n",
       "  'B_smiling_madmen': False,\n",
       "  'B_unfilmable_novels': False,\n",
       "  'B_waldo_salt': False,\n",
       "  'B_rope_snaps': False,\n",
       "  'B_ver_weil': False,\n",
       "  'B_budding_amours': False,\n",
       "  'B_campus_depravity': False,\n",
       "  'B_painted_rembrandt': False,\n",
       "  'B_self-hating_self-destructive': False,\n",
       "  'B_self-hatred_instilled': False,\n",
       "  'B_vin_diesel': False,\n",
       "  'B_rose-tinted_glasses': False,\n",
       "  'B_von_trier': False,\n",
       "  'B_cattle_prod': False,\n",
       "  'B_intractable_irreversible': False,\n",
       "  'B_knucklehead_swill': False,\n",
       "  'B_sniffle_respectively': False,\n",
       "  'B_lovable_run-on': False,\n",
       "  'B_broiling_sun': False,\n",
       "  'B_stanley_kwan': False,\n",
       "  'B_rocket_scientist': False,\n",
       "  'B_seater_plane': False,\n",
       "  'B_bone-dry_mournfully': False,\n",
       "  'B_middle-class_arkansas': False,\n",
       "  'B_too-extreme-for-tv_rendition': False,\n",
       "  'B_bewitched_adolescents': False,\n",
       "  'B_terry_gilliam': False,\n",
       "  'B_crocodile_hunter': False,\n",
       "  'B_derek_luke': False,\n",
       "  'B_feeble_examples': False,\n",
       "  'B_stacy_peralta': False,\n",
       "  'B_golden_eagle': False,\n",
       "  'B_arkansas_consists': False,\n",
       "  'B_massacres_erupt': False,\n",
       "  'B_neeson_capably': False,\n",
       "  'B_winces_clutches': False,\n",
       "  'B_adam_sandler': False,\n",
       "  'B_legged_freaks': False,\n",
       "  'B_spring-break_orgy': False,\n",
       "  'B_bubbly_exchange': False,\n",
       "  'B_bruce_willis': False,\n",
       "  'B_blithe_exchanges': False,\n",
       "  'B_crispin_glover': False,\n",
       "  'B_expressionistic_license': False,\n",
       "  'B_rampant_adultery': False,\n",
       "  'B_7th-century_oral': False,\n",
       "  'B_cram_earplugs': False,\n",
       "  'B_danish_cows': False,\n",
       "  'B_jessica_stein': False,\n",
       "  'B_kurt_vonnegut': False,\n",
       "  'B_bean_abhors': False,\n",
       "  'B_coat_shopping': False,\n",
       "  'B_cop-flick_subgenre': False,\n",
       "  'B_gargantuan_leaps': False,\n",
       "  'B_joseph_heller': False,\n",
       "  'B_court_maneuvers': False,\n",
       "  'B_enables_shafer': False,\n",
       "  'B_library_dust': False,\n",
       "  'B_superhero_dystopia': False,\n",
       "  'B_stadium-seat_megaplex': False,\n",
       "  'B_endangered_reefs': False,\n",
       "  'B_word-of-mouth_reviews': False,\n",
       "  'B_adrian_lyne': False,\n",
       "  'B_leaky_freighter': False,\n",
       "  'B_nerds_revisited': False,\n",
       "  'B_mumbo_jumbo': False,\n",
       "  'B_godfrey_reggio': False,\n",
       "  'B_randall_wallace': False,\n",
       "  'B_bump-in_the-night': False,\n",
       "  'B_helms_anti-': False,\n",
       "  'B_metal_fireballs': False,\n",
       "  'B_ivans_xtc': False,\n",
       "  'B_susan_sarandon': False,\n",
       "  'B_flakeball_spouting': False,\n",
       "  'B_painters_confounded': False,\n",
       "  'B_matthew_shepard': False,\n",
       "  'B_el_crimen': False,\n",
       "  'B_reckless_squandering': False,\n",
       "  'B_jungle_needing': False,\n",
       "  'B_thanksgiving_to-do': False,\n",
       "  'B_unassuming_subordinate': False,\n",
       "  'B_jeff_foxworthy': False,\n",
       "  'B_lover_mario': False,\n",
       "  \"B_mid_'90s\": False,\n",
       "  'B_louis_begley': False,\n",
       "  'B_circa_1960': False,\n",
       "  'B_racist_portraits': False,\n",
       "  'B_mick_jagger': False,\n",
       "  'B_tearing_orphans': False,\n",
       "  'B_visualize_schizophrenia': False,\n",
       "  'B_white-on-black_racism': False,\n",
       "  'B_electra_rebellion': False,\n",
       "  'B_satin_rouge': False,\n",
       "  'B_trickster_spider': False,\n",
       "  'B_belly-dancing_clubs': False,\n",
       "  'B_holographic_librarian': False,\n",
       "  'B_hungry-man_portions': False,\n",
       "  'B_lighthearted_glow': False,\n",
       "  'B_ron_clements': False,\n",
       "  'B_soccer_hooliganism': False,\n",
       "  'B_soon-to-be-forgettable_section': False,\n",
       "  'B_blaring_brass': False,\n",
       "  'B_ladies_underwear': False,\n",
       "  'B_sorrowful_lows': False,\n",
       "  'B_sellers_kenneth': False,\n",
       "  'B_babak_payami': False,\n",
       "  'B_distracting_blunder': False,\n",
       "  'B_fahrenheit_451': False,\n",
       "  'B_pseudo-witty_copycat': False,\n",
       "  'B_rapidly_absorbed': False,\n",
       "  'B_numerous_world-renowned': False,\n",
       "  'B_seasoned_veterans': False,\n",
       "  'B_ecks_vs': False,\n",
       "  'B_vs_sever': False,\n",
       "  'B_analgesic_balm': False,\n",
       "  'B_choke_leash': False,\n",
       "  'B_discreet_moan': False,\n",
       "  'B_nba_properties': False,\n",
       "  'B_non-threatening_multi-character': False,\n",
       "  'B_post-modern_contemporaries': False,\n",
       "  'B_rapes_pillages': False,\n",
       "  'B_tortuous_comment': False,\n",
       "  'B_all-star_reunions': False,\n",
       "  'B_fashioned_spooks': False,\n",
       "  'B_looney_tunes': False,\n",
       "  'B_proverbial_paint': False,\n",
       "  'B_sanctimonious_self-righteous': False,\n",
       "  'B_secular_religion': False,\n",
       "  'B_dana_janklowicz-mann': False,\n",
       "  'B_untalented_artistes': False,\n",
       "  'B_australian_counterpart': False,\n",
       "  'B_chillingly_unemotive': False,\n",
       "  'B_heart-string_plucking': False,\n",
       "  'B_high-buffed_gloss': False,\n",
       "  'B_ia_drang': False,\n",
       "  'B_intriguingly_contemplative': False,\n",
       "  'B_provoke_introspection': False,\n",
       "  'B_samurai_sword': False,\n",
       "  'B_schoolboy_memoir': False,\n",
       "  'B_unchanged_dullard': False,\n",
       "  'B_unsuccessful_crudeness': False,\n",
       "  'B_1958_brooklyn': False,\n",
       "  'B_electric_pencil': False,\n",
       "  'B_blank-faced_optimism': False,\n",
       "  'B_ace_ventura': False,\n",
       "  'B_helluva_singer': False,\n",
       "  'B_nicole_holofcenter': False,\n",
       "  'B_purgatory_county': False,\n",
       "  'B_small-screen_melodramas': False,\n",
       "  'B_3d_goggles': False,\n",
       "  'B_overexposed_redolent': False,\n",
       "  'B_dealer_squad': False,\n",
       "  'B_heart-breakingly_extensive': False,\n",
       "  'B_franz_kafka': False,\n",
       "  'B_norwegian_folktales': False,\n",
       "  'B_receding_hairline': False,\n",
       "  'B_hot-button_items': False,\n",
       "  'B_san_francisco': False,\n",
       "  'B_austin_powers': False,\n",
       "  'B_antonio_banderas-lucy': False,\n",
       "  'B_undemanding_armchair': False,\n",
       "  'B_shameless_self-caricature': False,\n",
       "  'B_nature\\\\/nurture_argument': False,\n",
       "  'B_c._walsh': False,\n",
       "  'B_modernizes_a.e.w': False,\n",
       "  'B_triple-crosses_arise': False,\n",
       "  'B_hatred_spews': False,\n",
       "  'B_jesse_raphael': False,\n",
       "  'B_sneaky_butler': False,\n",
       "  'B_dealers_kidnapping': False,\n",
       "  'B_foul_substances': False,\n",
       "  'B_bisexual_sweetheart': False,\n",
       "  'B_ever-watchful_gaze': False,\n",
       "  'B_exiled_aristocracy': False,\n",
       "  'B_gored_bullfighters': False,\n",
       "  'B_housing_options': False,\n",
       "  'B_omniscient_voice-over': False,\n",
       "  'B_operational_mechanics': False,\n",
       "  'B_coupling_disgracefully': False,\n",
       "  'B_film-culture_referential': False,\n",
       "  'B_radiates_star-power': False,\n",
       "  'B_heightened_well-shaped': False,\n",
       "  'B_dime-store_ruminations': False,\n",
       "  'B_diop_gai': False,\n",
       "  'B_leaks_suspension': False,\n",
       "  'B_watched_trains': False,\n",
       "  'B_costumer_jived': False,\n",
       "  'B_leontine_pathetically': False,\n",
       "  'B_lisa_rinzler': False,\n",
       "  'B_schlocky_horror\\\\/action': False,\n",
       "  'B_navigate_spaces': False,\n",
       "  'B_charles_stone': False,\n",
       "  'B_pg-13_rating': False,\n",
       "  'B_performing_ages-old': False,\n",
       "  'B_boobs_unmentionables': False,\n",
       "  'B_junior_scientists': False,\n",
       "  'B_vidgame_pit': False,\n",
       "  'B_alain_choquart': False,\n",
       "  'B_brett_morgen': False,\n",
       "  'B_conceited_pap': False,\n",
       "  'B_doodled_steamboat': False,\n",
       "  'B_flails_limply': False,\n",
       "  'B_italy_beckons': False,\n",
       "  'B_coloured_uni-dimensional': False,\n",
       "  'B_thesps_slumming': False,\n",
       "  'B_wai_ka': False,\n",
       "  'B_flickering_reminders': False,\n",
       "  'B_logical_loopholes': False,\n",
       "  'B_right-thinking_ideology': False,\n",
       "  'B_sally_jesse': False,\n",
       "  'B_sibling_reconciliation': False,\n",
       "  'B_unrelated_shorts': False,\n",
       "  'B_patronizing_masked': False,\n",
       "  'B_soap_opera': False,\n",
       "  'B_ya-ya_sisterhood': False,\n",
       "  'B_gasp_shudder': False,\n",
       "  'B_monotone_narration': False,\n",
       "  'B_jacques_audiard': False,\n",
       "  'B_tune_taught': False,\n",
       "  'B_underrehearsed_arbitrarily': False,\n",
       "  'B_bustling_atop': False,\n",
       "  'B_ian_holm': False,\n",
       "  'B_axel_hellstenius': False,\n",
       "  'B_bluto_blutarsky': False,\n",
       "  'B_dignified_ceo': False,\n",
       "  'B_mariah_carey': False,\n",
       "  'B_punitively_affirmational': False,\n",
       "  'B_sewer_rats': False,\n",
       "  'B_victor_rosa': False,\n",
       "  'B_wanker_goths': False,\n",
       "  'B_too-spectacular_coastal': False,\n",
       "  'B_beasts_stalking': False,\n",
       "  'B_chefs_fussing': False,\n",
       "  'B_balding_50-year-old': False,\n",
       "  'B_buying_tickets': False,\n",
       "  'B_generational_signpost': False,\n",
       "  'B_slobbering_lovable': False,\n",
       "  'B_switches_gears': False,\n",
       "  'B_iceberg_melt': False,\n",
       "  'B_narrow_fearful': False,\n",
       "  'B_dread_encountering': False,\n",
       "  'B_credulous_unassuming': False,\n",
       "  'B_dysfunctionally_privileged': False,\n",
       "  'B_eileen_walsh': False,\n",
       "  'B_chiefly_inspires': False,\n",
       "  'B_self-empowering_schmaltz': False,\n",
       "  'B_99_bargain-basement': False,\n",
       "  'B_catherine_di': False,\n",
       "  'B_kinky_bedside': False,\n",
       "  'B_provocateur_crashing': False,\n",
       "  'B_swank_apartments': False,\n",
       "  'B_claustrophic_suffocating': False,\n",
       "  'B_coldest_environment': False,\n",
       "  'B_crummy-looking_videotape': False,\n",
       "  'B_fun-loving_libertine': False,\n",
       "  ...},\n",
       " 2)"
      ]
     },
     "execution_count": 28,
     "metadata": {},
     "output_type": "execute_result"
    }
   ],
   "source": [
    "combined_featuresets[0]"
   ]
  },
  {
   "cell_type": "code",
   "execution_count": 29,
   "id": "413e506c",
   "metadata": {},
   "outputs": [
    {
     "name": "stdout",
     "output_type": "stream",
     "text": [
      "Each fold size: 52020\n",
      "Fold 0\n",
      "Fold 1\n",
      "Fold 2\n",
      "\n",
      "Average Precision\tRecall\t\tF1 \tPer Label\n",
      "0 \t      0.341      0.230      0.274\n",
      "1 \t      0.287      0.403      0.335\n",
      "2 \t      0.803      0.646      0.716\n",
      "3 \t      0.274      0.471      0.347\n",
      "4 \t      0.321      0.366      0.342\n",
      "\n",
      "Mean accuracy 0.5519800076893503\n",
      "\n",
      "Macro Average Precision\tRecall\t\tF1 \tOver All Labels\n",
      "\t      0.405      0.423      0.403\n",
      "\n",
      "Label Counts {0: 7072, 1: 27273, 2: 79582, 3: 32927, 4: 9206}\n",
      "Micro Average Precision\tRecall\t\tF1 \tOver All Labels\n",
      "\t      0.552      0.531      0.530\n"
     ]
    }
   ],
   "source": [
    "#calculate 3-fold CV accuracy, precision, recall and F1-score using nltk naive Bayes classifier\n",
    "num_folds = 3\n",
    "cross_validation_PRF(num_folds, combined_featuresets, labels)"
   ]
  },
  {
   "cell_type": "code",
   "execution_count": null,
   "id": "6b28679e",
   "metadata": {},
   "outputs": [],
   "source": [
    "# define the feature sets using stemmed phrases\n",
    "combined_featuresets_stemmed = [(combined_features(d, stemmed_word_features), c) for (d, c) in phrasedocs]\n",
    "print(len(combined_featuresets_stemmed))"
   ]
  },
  {
   "cell_type": "code",
   "execution_count": 30,
   "id": "25f53f98",
   "metadata": {},
   "outputs": [
    {
     "name": "stdout",
     "output_type": "stream",
     "text": [
      "Each fold size: 52020\n",
      "Fold 0\n",
      "Fold 1\n",
      "Fold 2\n",
      "\n",
      "Average Precision\tRecall\t\tF1 \tPer Label\n",
      "0 \t      0.300      0.193      0.235\n",
      "1 \t      0.250      0.370      0.298\n",
      "2 \t      0.802      0.624      0.701\n",
      "3 \t      0.216      0.417      0.285\n",
      "4 \t      0.235      0.301      0.264\n",
      "\n",
      "Mean accuracy 0.5255670895809303\n",
      "\n",
      "Macro Average Precision\tRecall\t\tF1 \tOver All Labels\n",
      "\t      0.361      0.381      0.357\n",
      "\n",
      "Label Counts {0: 7072, 1: 27273, 2: 79582, 3: 32927, 4: 9206}\n",
      "Micro Average Precision\tRecall\t\tF1 \tOver All Labels\n",
      "\t      0.526      0.497      0.496\n"
     ]
    }
   ],
   "source": [
    "#calculate 3-fold CV accuracy, precision, recall and F1-score using nltk naive Bayes classifier\n",
    "num_folds = 3\n",
    "cross_validation_PRF(num_folds, combined_featuresets_stemmed, labels)"
   ]
  },
  {
   "cell_type": "markdown",
   "id": "11d53c65",
   "metadata": {},
   "source": [
    "We also tried combining Negation and LIWC feature sets."
   ]
  },
  {
   "cell_type": "code",
   "execution_count": 47,
   "id": "618a4cec",
   "metadata": {},
   "outputs": [],
   "source": [
    "# combine Negation and LIWC featuresets\n",
    "def combined_features2(document, word_features):\n",
    "    document_words = set(document)\n",
    "    features = {}\n",
    "    for word in word_features:\n",
    "        features['{}'.format(word)] = (word in document_words)\n",
    "        features['V_{}'.format(word)] = False\n",
    "        features['V_NOT{}'.format(word)] = False\n",
    "    \n",
    "    #add Negation features\n",
    "    # go through document words in order\n",
    "    for i in range(0, len(document)):\n",
    "        word = document[i]\n",
    "        if ((i + 1) < len(document)) and word in word_features and ((word in negationwords) or (word.endswith(\"n't\"))):\n",
    "            i += 1\n",
    "            if document[i] in word_features:\n",
    "                features['V_NOT{}'.format(document[i])] = (document[i] in word_features)\n",
    "        elif word in word_features:\n",
    "            features['V_{}'.format(word)] = (word in word_features)\n",
    "    \n",
    "    #add LIWC features\n",
    "    #count words for postive and negative classes\n",
    "    numPos = 0\n",
    "    numNeg = 0\n",
    "    for word in document_words: \n",
    "        if word.lower() in poslist: numPos += 1\n",
    "        if word.lower() in neglist == True: numNeg += 1          \n",
    "        features['Positive'] = numPos\n",
    "        features['Negative'] = numNeg\n",
    "            \n",
    "    return features"
   ]
  },
  {
   "cell_type": "code",
   "execution_count": 30,
   "id": "357e2aa1",
   "metadata": {},
   "outputs": [
    {
     "name": "stdout",
     "output_type": "stream",
     "text": [
      "156060\n"
     ]
    }
   ],
   "source": [
    "# define the feature sets using original phrases\n",
    "combined_featuresets2 = [(combined_features2(d, word_features), c) for (d, c) in phrasedocs]\n",
    "print(len(combined_featuresets2))"
   ]
  },
  {
   "cell_type": "code",
   "execution_count": 31,
   "id": "d13def31",
   "metadata": {},
   "outputs": [
    {
     "name": "stdout",
     "output_type": "stream",
     "text": [
      "Each fold size: 52020\n",
      "Fold 0\n",
      "Fold 1\n",
      "Fold 2\n",
      "\n",
      "Average Precision\tRecall\t\tF1 \tPer Label\n",
      "0 \t      0.392      0.241      0.299\n",
      "1 \t      0.293      0.414      0.343\n",
      "2 \t      0.783      0.665      0.719\n",
      "3 \t      0.313      0.485      0.380\n",
      "4 \t      0.399      0.361      0.379\n",
      "\n",
      "Mean accuracy 0.5580161476355249\n",
      "\n",
      "Macro Average Precision\tRecall\t\tF1 \tOver All Labels\n",
      "\t      0.436      0.433      0.424\n",
      "\n",
      "Label Counts {0: 7072, 1: 27273, 2: 79582, 3: 32927, 4: 9206}\n",
      "Micro Average Precision\tRecall\t\tF1 \tOver All Labels\n",
      "\t      0.558      0.546      0.543\n"
     ]
    }
   ],
   "source": [
    "#calculate 3-fold CV accuracy, precision, recall and F1-score using nltk naive Bayes classifier\n",
    "num_folds = 3\n",
    "cross_validation_PRF(num_folds, combined_featuresets2, labels)"
   ]
  },
  {
   "cell_type": "code",
   "execution_count": 48,
   "id": "8bfaa02c",
   "metadata": {},
   "outputs": [
    {
     "name": "stdout",
     "output_type": "stream",
     "text": [
      "156060\n"
     ]
    }
   ],
   "source": [
    "# define the feature sets using stemmed phrases\n",
    "combined_featuresets_stemmed2 = [(combined_features2(d, stemmed_word_features), c) for (d, c) in phrasedocs]\n",
    "print(len(combined_featuresets_stemmed2))"
   ]
  },
  {
   "cell_type": "code",
   "execution_count": 49,
   "id": "95d4b8dd",
   "metadata": {},
   "outputs": [
    {
     "name": "stdout",
     "output_type": "stream",
     "text": [
      "Each fold size: 52020\n",
      "Fold 0\n",
      "Fold 1\n",
      "Fold 2\n",
      "\n",
      "Average Precision\tRecall\t\tF1 \tPer Label\n",
      "0 \t      0.329      0.199      0.248\n",
      "1 \t      0.248      0.377      0.299\n",
      "2 \t      0.776      0.633      0.697\n",
      "3 \t      0.249      0.430      0.315\n",
      "4 \t      0.300      0.282      0.291\n",
      "\n",
      "Mean accuracy 0.523997180571575\n",
      "\n",
      "Macro Average Precision\tRecall\t\tF1 \tOver All Labels\n",
      "\t      0.380      0.384      0.370\n",
      "\n",
      "Label Counts {0: 7072, 1: 27273, 2: 79582, 3: 32927, 4: 9206}\n",
      "Micro Average Precision\tRecall\t\tF1 \tOver All Labels\n",
      "\t      0.524      0.505      0.503\n"
     ]
    }
   ],
   "source": [
    "num_folds = 3\n",
    "cross_validation_PRF(num_folds, combined_featuresets_stemmed2, labels)"
   ]
  },
  {
   "cell_type": "markdown",
   "id": "89175d0d",
   "metadata": {},
   "source": [
    "For both combined feature sets, we obtained better results using original phrases."
   ]
  },
  {
   "cell_type": "markdown",
   "id": "3ea45975",
   "metadata": {},
   "source": [
    "### Use scikit-learn classifier on Nltk feature set"
   ]
  },
  {
   "cell_type": "markdown",
   "id": "2c2187a6",
   "metadata": {},
   "source": [
    "Based on experiments we conducted using different feature sets, the best results were obtained using the Negation feature set and original phrases."
   ]
  },
  {
   "cell_type": "code",
   "execution_count": 32,
   "id": "c68e751e",
   "metadata": {},
   "outputs": [],
   "source": [
    "# write the second Negation original phrase feature set to the csv file\n",
    "writeFeatureSets(NOT_featuresets2, '/Users/zhen/Documents/DS@Syracuse/Q3/IST 664/Project/not_featuresets.csv')"
   ]
  },
  {
   "cell_type": "code",
   "execution_count": 49,
   "id": "146b49a1",
   "metadata": {},
   "outputs": [],
   "source": [
    "#read Negation feature set\n",
    "NOTfeatures_address = '/Users/zhen/Documents/DS@Syracuse/Q3/IST 664/Project/NOT_featuresets.csv'\n",
    "NOTfeatures = pd.read_csv(NOTfeatures_address)"
   ]
  },
  {
   "cell_type": "code",
   "execution_count": 50,
   "id": "95da1e79",
   "metadata": {},
   "outputs": [
    {
     "data": {
      "text/plain": [
       "(156060, 4001)"
      ]
     },
     "execution_count": 50,
     "metadata": {},
     "output_type": "execute_result"
    }
   ],
   "source": [
    "NOTfeatures.shape"
   ]
  },
  {
   "cell_type": "code",
   "execution_count": 57,
   "id": "bed013bb",
   "metadata": {},
   "outputs": [
    {
     "data": {
      "text/html": [
       "<div>\n",
       "<style scoped>\n",
       "    .dataframe tbody tr th:only-of-type {\n",
       "        vertical-align: middle;\n",
       "    }\n",
       "\n",
       "    .dataframe tbody tr th {\n",
       "        vertical-align: top;\n",
       "    }\n",
       "\n",
       "    .dataframe thead th {\n",
       "        text-align: right;\n",
       "    }\n",
       "</style>\n",
       "<table border=\"1\" class=\"dataframe\">\n",
       "  <thead>\n",
       "    <tr style=\"text-align: right;\">\n",
       "      <th></th>\n",
       "      <th>V_the</th>\n",
       "      <th>V_NOTthe</th>\n",
       "      <th>V_a</th>\n",
       "      <th>V_NOTa</th>\n",
       "      <th>V_of</th>\n",
       "      <th>V_NOTof</th>\n",
       "      <th>V_and</th>\n",
       "      <th>V_NOTand</th>\n",
       "      <th>V_to</th>\n",
       "      <th>V_NOTto</th>\n",
       "      <th>...</th>\n",
       "      <th>V_NOTunfaithful</th>\n",
       "      <th>V_jason</th>\n",
       "      <th>V_NOTjason</th>\n",
       "      <th>V_amounts</th>\n",
       "      <th>V_NOTamounts</th>\n",
       "      <th>V_flow</th>\n",
       "      <th>V_NOTflow</th>\n",
       "      <th>V_lesser</th>\n",
       "      <th>V_NOTlesser</th>\n",
       "      <th>class</th>\n",
       "    </tr>\n",
       "  </thead>\n",
       "  <tbody>\n",
       "    <tr>\n",
       "      <th>0</th>\n",
       "      <td>False</td>\n",
       "      <td>False</td>\n",
       "      <td>False</td>\n",
       "      <td>False</td>\n",
       "      <td>False</td>\n",
       "      <td>False</td>\n",
       "      <td>False</td>\n",
       "      <td>False</td>\n",
       "      <td>False</td>\n",
       "      <td>False</td>\n",
       "      <td>...</td>\n",
       "      <td>False</td>\n",
       "      <td>False</td>\n",
       "      <td>False</td>\n",
       "      <td>False</td>\n",
       "      <td>False</td>\n",
       "      <td>False</td>\n",
       "      <td>False</td>\n",
       "      <td>False</td>\n",
       "      <td>False</td>\n",
       "      <td>2</td>\n",
       "    </tr>\n",
       "  </tbody>\n",
       "</table>\n",
       "<p>1 rows × 4001 columns</p>\n",
       "</div>"
      ],
      "text/plain": [
       "   V_the  V_NOTthe    V_a  V_NOTa   V_of  V_NOTof  V_and  V_NOTand   V_to  \\\n",
       "0  False     False  False   False  False    False  False     False  False   \n",
       "\n",
       "   V_NOTto  ...  V_NOTunfaithful  V_jason  V_NOTjason  V_amounts  \\\n",
       "0    False  ...            False    False       False      False   \n",
       "\n",
       "   V_NOTamounts  V_flow  V_NOTflow  V_lesser  V_NOTlesser  class  \n",
       "0         False   False      False     False        False      2  \n",
       "\n",
       "[1 rows x 4001 columns]"
      ]
     },
     "execution_count": 57,
     "metadata": {},
     "output_type": "execute_result"
    }
   ],
   "source": [
    "#review the first row\n",
    "NOTfeatures[0:1]"
   ]
  },
  {
   "cell_type": "code",
   "execution_count": 60,
   "id": "12019878",
   "metadata": {},
   "outputs": [],
   "source": [
    "# convert to a numpy array for sklearn\n",
    "train_array = NOTfeatures.values\n",
    "  \n",
    "# get the last column with the class labels into a vector y\n",
    "train_y = train_array[:,-1]\n",
    "train_y = train_y.astype('int')\n",
    "\n",
    "# get the remaining rows and columns into the feature matrix X\n",
    "train_X = train_array[:,:-1]"
   ]
  },
  {
   "cell_type": "code",
   "execution_count": 73,
   "id": "60076a1b",
   "metadata": {},
   "outputs": [
    {
     "data": {
      "text/plain": [
       "{'C': 0.30000000000000004}"
      ]
     },
     "execution_count": 73,
     "metadata": {},
     "output_type": "execute_result"
    }
   ],
   "source": [
    "#find the best parameters when using LinearSVC classifier\n",
    "kFolds = 3\n",
    "SVM = LinearSVC(penalty='l1', dual=False, class_weight='balanced')\n",
    "distributions = dict(C=list(np.arange(0.1,3.0,0.1)))\n",
    "tfidf_svm = RandomizedSearchCV(SVM, distributions, cv=kFolds)\n",
    "search = tfidf_svm.fit(train_X, train_y)\n",
    "search.best_params_"
   ]
  },
  {
   "cell_type": "code",
   "execution_count": 74,
   "id": "12fbd78d",
   "metadata": {},
   "outputs": [
    {
     "name": "stdout",
     "output_type": "stream",
     "text": [
      "              precision    recall  f1-score   support\n",
      "\n",
      "           0       0.29      0.48      0.36      7072\n",
      "           1       0.48      0.30      0.37     27273\n",
      "           2       0.69      0.80      0.74     79582\n",
      "           3       0.53      0.32      0.40     32927\n",
      "           4       0.35      0.56      0.43      9206\n",
      "\n",
      "    accuracy                           0.58    156060\n",
      "   macro avg       0.47      0.49      0.46    156060\n",
      "weighted avg       0.58      0.58      0.57    156060\n",
      "\n"
     ]
    }
   ],
   "source": [
    "kFolds = 3\n",
    "final_svm = LinearSVC(C=0.30, penalty='l1', dual=False, class_weight='balanced')\n",
    "final_y_pred = cross_val_predict(final_svm, train_X, train_y, cv=kFolds)\n",
    "\n",
    "# classification report compares predictions from the k fold test sets with the gold\n",
    "print(classification_report(train_y, final_y_pred))"
   ]
  },
  {
   "cell_type": "code",
   "execution_count": 75,
   "id": "4da4900f",
   "metadata": {},
   "outputs": [
    {
     "name": "stdout",
     "output_type": "stream",
     "text": [
      "\n",
      "\n",
      "Predicted      0      1      2      3      4     All\n",
      "Actual                                              \n",
      "0           3425   1704   1515    232    196    7072\n",
      "1           4716   8118  12225   1450    764   27273\n",
      "2           2743   5387  64015   5261   2176   79582\n",
      "3            907   1416  13545  10526   6533   32927\n",
      "4            182    163   1381   2340   5140    9206\n",
      "All        11973  16788  92681  19809  14809  156060\n"
     ]
    }
   ],
   "source": [
    "# confusion matrix\n",
    "cm_rf = confusion_matrix(train_y, final_y_pred)\n",
    "#print_cm(cm, labels)\n",
    "print('\\n')\n",
    "print(pd.crosstab(train_y, final_y_pred , rownames=['Actual'], colnames=['Predicted'], margins=True))"
   ]
  },
  {
   "cell_type": "markdown",
   "id": "ce1c1160",
   "metadata": {},
   "source": [
    "Around 11% negative phrases (class 0 and 1) were misclassified as postive (class 3 and 4), and around 9.1% posiitive phrases were misclassified as negative."
   ]
  },
  {
   "cell_type": "code",
   "execution_count": 68,
   "id": "ee4e989f",
   "metadata": {},
   "outputs": [
    {
     "data": {
      "text/plain": [
       "{'alpha': 0.1}"
      ]
     },
     "execution_count": 68,
     "metadata": {},
     "output_type": "execute_result"
    }
   ],
   "source": [
    "#find the best parameters when using MNB classifier\n",
    "kFolds = 3\n",
    "MNB = MultinomialNB()\n",
    "distributions = dict(alpha=list(np.arange(0.05,3.0,0.05)))\n",
    "final_nb = RandomizedSearchCV(MNB, distributions, cv=kFolds)\n",
    "search = final_nb.fit(train_X, train_y)\n",
    "search.best_params_"
   ]
  },
  {
   "cell_type": "code",
   "execution_count": 69,
   "id": "5eab60f7",
   "metadata": {},
   "outputs": [
    {
     "name": "stdout",
     "output_type": "stream",
     "text": [
      "              precision    recall  f1-score   support\n",
      "\n",
      "           0       0.47      0.20      0.28      7072\n",
      "           1       0.50      0.25      0.34     27273\n",
      "           2       0.62      0.89      0.73     79582\n",
      "           3       0.54      0.35      0.42     32927\n",
      "           4       0.54      0.25      0.35      9206\n",
      "\n",
      "    accuracy                           0.60    156060\n",
      "   macro avg       0.53      0.39      0.42    156060\n",
      "weighted avg       0.57      0.60      0.55    156060\n",
      "\n"
     ]
    }
   ],
   "source": [
    "#calculate 3-fold cv evaluation metrics\n",
    "kFolds = 3\n",
    "final_nb = MultinomialNB(alpha=0.1)\n",
    "final_y_pred_nb = cross_val_predict(final_nb, train_X, train_y, cv=kFolds)\n",
    "\n",
    "# classification report compares predictions from the k fold test sets with the gold\n",
    "print(classification_report(train_y, final_y_pred_nb))"
   ]
  },
  {
   "cell_type": "code",
   "execution_count": 71,
   "id": "49245bdd",
   "metadata": {},
   "outputs": [
    {
     "name": "stdout",
     "output_type": "stream",
     "text": [
      "\n",
      "\n",
      "Predicted     0      1       2      3     4     All\n",
      "Actual                                             \n",
      "0          1414   2193    3197    231    37    7072\n",
      "1          1130   6876   17978   1208    81   27273\n",
      "2           336   3576   70928   4487   255   79582\n",
      "3            85    948   18852  11413  1629   32927\n",
      "4            20    168    2794   3884  2340    9206\n",
      "All        2985  13761  113749  21223  4342  156060\n"
     ]
    }
   ],
   "source": [
    "# confusion matrix\n",
    "cm_rf = confusion_matrix(train_y, final_y_pred_nb)\n",
    "#print_cm(cm, labels)\n",
    "print('\\n')\n",
    "print(pd.crosstab(train_y, final_y_pred_nb, rownames=['Actual'], colnames=['Predicted'], margins=True))"
   ]
  },
  {
   "cell_type": "markdown",
   "id": "febba54b",
   "metadata": {},
   "source": [
    "Around 6.5% negative phrases (class 0 and 1) were misclassified as positive (class 3 and 4), and around 4.1% positive phrases were misclassified as negative."
   ]
  },
  {
   "cell_type": "code",
   "execution_count": 87,
   "id": "3cb4cace",
   "metadata": {},
   "outputs": [
    {
     "data": {
      "text/plain": [
       "{'min_samples_leaf': 3, 'n_estimators': 100}"
      ]
     },
     "execution_count": 87,
     "metadata": {},
     "output_type": "execute_result"
    }
   ],
   "source": [
    "# find out the best parameters using Random Forest classifier\n",
    "kFolds = 3\n",
    "rf = RandomForestClassifier()\n",
    "distributions = dict(n_estimators =[10,50,100],min_samples_leaf=[3,5,10])\n",
    "final_rf = GridSearchCV(rf, distributions, cv=kFolds)\n",
    "search = final_rf.fit(train_X, train_y)\n",
    "search.best_params_"
   ]
  },
  {
   "cell_type": "code",
   "execution_count": 88,
   "id": "f143cbdc",
   "metadata": {},
   "outputs": [
    {
     "name": "stdout",
     "output_type": "stream",
     "text": [
      "              precision    recall  f1-score   support\n",
      "\n",
      "           0       0.60      0.09      0.15      7072\n",
      "           1       0.53      0.22      0.31     27273\n",
      "           2       0.61      0.92      0.73     79582\n",
      "           3       0.53      0.36      0.43     32927\n",
      "           4       0.64      0.11      0.18      9206\n",
      "\n",
      "    accuracy                           0.59    156060\n",
      "   macro avg       0.58      0.34      0.36    156060\n",
      "weighted avg       0.58      0.59      0.54    156060\n",
      "\n"
     ]
    }
   ],
   "source": [
    "#creating a RF classifier\n",
    "final_rf = RandomForestClassifier(n_estimators = 100,min_samples_leaf=3) \n",
    "\n",
    "kFolds = 3\n",
    "final_y_pred_rf = cross_val_predict(final_rf, train_X, train_y, cv=kFolds)\n",
    "\n",
    "# classification report compares predictions from the k fold test sets with the gold\n",
    "print(classification_report(train_y, final_y_pred_rf))"
   ]
  },
  {
   "cell_type": "code",
   "execution_count": 89,
   "id": "09bc8056",
   "metadata": {},
   "outputs": [
    {
     "name": "stdout",
     "output_type": "stream",
     "text": [
      "\n",
      "\n",
      "Predicted     0      1       2      3     4     All\n",
      "Actual                                             \n",
      "0           614   2433    3701    319     5    7072\n",
      "1           342   6021   19717   1181    12   27273\n",
      "2            54   2393   73342   3738    55   79582\n",
      "3             8    379   20341  11705   494   32927\n",
      "4             0     57    3204   4950   995    9206\n",
      "All        1018  11283  120305  21893  1561  156060\n"
     ]
    }
   ],
   "source": [
    "# confusion matrix\n",
    "cm_rf = confusion_matrix(train_y, final_y_pred_rf)\n",
    "#print_cm(cm, labels)\n",
    "print('\\n')\n",
    "print(pd.crosstab(train_y, final_y_pred_rf, rownames=['Actual'], colnames=['Predicted'], margins=True))"
   ]
  },
  {
   "cell_type": "markdown",
   "id": "5c7a70bb",
   "metadata": {},
   "source": [
    "Around 4.4% negative phrases (class 0 and 1) were misclassified as positive (class 3 and 4), and around 1.1% positive phrases were misclassified as negative."
   ]
  },
  {
   "cell_type": "markdown",
   "id": "5028eb95",
   "metadata": {},
   "source": [
    "Based on results above, when using scikit-learn classifiers with negation feature set built from original phrases, MNB classifier had the highest 3-fold cv overall accuracy and recall, while LinearSVC produced highest overall precision and f1-score."
   ]
  }
 ],
 "metadata": {
  "kernelspec": {
   "display_name": "Python 3 (ipykernel)",
   "language": "python",
   "name": "python3"
  },
  "language_info": {
   "codemirror_mode": {
    "name": "ipython",
    "version": 3
   },
   "file_extension": ".py",
   "mimetype": "text/x-python",
   "name": "python",
   "nbconvert_exporter": "python",
   "pygments_lexer": "ipython3",
   "version": "3.9.13"
  }
 },
 "nbformat": 4,
 "nbformat_minor": 5
}
